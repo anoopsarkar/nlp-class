{
 "cells": [
  {
   "cell_type": "markdown",
   "id": "bf55feea-7c94-4c5d-8a0c-a0602005f35f",
   "metadata": {},
   "source": [
    "# Transformers"
   ]
  },
  {
   "cell_type": "markdown",
   "id": "99b9318f-39f8-438b-b889-de225f34cd00",
   "metadata": {},
   "source": [
    "This tutorial on Transformers is based on the youtube video by Andrej Karpathy here:\n",
    "\n",
    "https://www.youtube.com/watch?v=kCc8FmEb1nY"
   ]
  },
  {
   "cell_type": "code",
   "execution_count": 3,
   "id": "9c331b81-d655-4a30-ab52-2be5b5f78292",
   "metadata": {},
   "outputs": [],
   "source": [
    "import torch\n",
    "import torch.nn as nn\n",
    "import torch.optim as optim\n",
    "from torch.nn import functional as F\n",
    "from torch.utils.data import Dataset\n",
    "from torch.utils.data.dataloader import DataLoader"
   ]
  },
  {
   "cell_type": "code",
   "execution_count": 4,
   "id": "11aaed4b-1e8f-42cb-b054-6a4d15a4013f",
   "metadata": {},
   "outputs": [],
   "source": [
    "import matplotlib.pyplot as plt\n",
    "%matplotlib inline"
   ]
  },
  {
   "cell_type": "code",
   "execution_count": 5,
   "id": "c0aded15-3378-4bf6-8644-3d7155b85e66",
   "metadata": {},
   "outputs": [
    {
     "data": {
      "text/plain": [
       "<torch._C.Generator at 0x110908210>"
      ]
     },
     "execution_count": 5,
     "metadata": {},
     "output_type": "execute_result"
    }
   ],
   "source": [
    "torch.manual_seed(42)"
   ]
  },
  {
   "cell_type": "markdown",
   "id": "5974049c-999b-4d2c-b1c3-b7db619f922d",
   "metadata": {},
   "source": [
    "## Data"
   ]
  },
  {
   "cell_type": "markdown",
   "id": "c3197314-abad-4a20-baea-54e2d9621490",
   "metadata": {},
   "source": [
    "We are going to use the [wikipron](https://github.com/CUNY-CL/wikipron) dataset `v1.3.0` which contains a database of over 3M word/pronunciation pairs from 251 languages scraped from [Wiktionary](https://en.wiktionary.org/wiki/Wiktionary:Main_Page).\n",
    "\n",
    "The pronunciations are in the [International Phonetic Alphabet](https://en.wikipedia.org/wiki/International_Phonetic_Alphabet) (IPA) format.\n",
    "\n",
    "The dataset is described in detail in the following paper:\n",
    "\n",
    "> Jackson L. Lee, Lucas F.E. Ashby, M. Elizabeth Garza, Yeonju Lee-Sikka, Sean Miller, Alan Wong, Arya D. McCarthy, and Kyle Gorman (2020). [Massively multilingual pronunciation mining with WikiPron](https://www.aclweb.org/anthology/2020.lrec-1.521/). In Proceedings of the 12th Language Resources and Evaluation Conference, pages 4223-4228.\n",
    "\n",
    "The github repo contains more up to date scrape of data from Wiktionary."
   ]
  },
  {
   "cell_type": "code",
   "execution_count": 6,
   "id": "4ee6729e-e978-4def-9ac4-d8b75beab24d",
   "metadata": {},
   "outputs": [
    {
     "name": "stdout",
     "output_type": "stream",
     "text": [
      "afr afr_latn_narrow.tsv\n",
      "ang ang_latn_narrow.tsv\n",
      "apw apw_latn_narrow.tsv\n",
      "ast ast_latn_narrow.tsv\n",
      "aze aze_latn_narrow.tsv\n",
      "aze aze_latn_narrow_filtered.tsv\n",
      "ces ces_latn_narrow.tsv\n",
      "cor cor_latn_narrow.tsv\n",
      "cym cym_latn_nw_narrow.tsv\n",
      "cym cym_latn_sw_narrow.tsv\n",
      "dan dan_latn_narrow.tsv\n",
      "deu deu_latn_narrow.tsv\n",
      "dsb dsb_latn_narrow.tsv\n",
      "eng eng_latn_uk_narrow.tsv\n",
      "eng eng_latn_us_narrow.tsv\n",
      "epo epo_latn_narrow.tsv\n",
      "eus eus_latn_narrow.tsv\n",
      "fao fao_latn_narrow.tsv\n",
      "fin fin_latn_narrow.tsv\n",
      "fra fra_latn_narrow.tsv\n",
      "gle gle_latn_narrow.tsv\n",
      "glg glg_latn_narrow.tsv\n",
      "glv glv_latn_narrow.tsv\n",
      "hau hau_latn_narrow.tsv\n",
      "haw haw_latn_narrow.tsv\n",
      "hun hun_latn_narrow.tsv\n",
      "hun hun_latn_narrow_filtered.tsv\n",
      "huu huu_latn_narrow.tsv\n",
      "iba iba_latn_narrow.tsv\n",
      "ilo ilo_latn_narrow.tsv\n",
      "ind ind_latn_narrow.tsv\n",
      "isl isl_latn_narrow.tsv\n",
      "lat lat_latn_clas_narrow.tsv\n",
      "lat lat_latn_eccl_narrow.tsv\n",
      "lav lav_latn_narrow.tsv\n",
      "lav lav_latn_narrow_filtered.tsv\n",
      "lim lim_latn_narrow.tsv\n",
      "lit lit_latn_narrow.tsv\n",
      "lmo lmo_latn_narrow.tsv\n",
      "lmy lmy_latn_narrow.tsv\n",
      "ltz ltz_latn_narrow.tsv\n",
      "mah mah_latn_narrow.tsv\n",
      "mak mak_latn_narrow.tsv\n",
      "mic mic_latn_narrow.tsv\n",
      "msa msa_latn_narrow.tsv\n",
      "nci nci_latn_narrow.tsv\n",
      "nhg nhg_latn_narrow.tsv\n",
      "nld nld_latn_narrow.tsv\n",
      "nmy nmy_latn_narrow.tsv\n",
      "nno nno_latn_narrow.tsv\n",
      "nob nob_latn_narrow.tsv\n",
      "oci oci_latn_narrow.tsv\n",
      "pjt pjt_latn_narrow.tsv\n",
      "por por_latn_bz_narrow.tsv\n",
      "por por_latn_po_narrow.tsv\n",
      "ron ron_latn_narrow.tsv\n",
      "ron ron_latn_narrow_filtered.tsv\n",
      "rup rup_latn_narrow.tsv\n",
      "scn scn_latn_narrow.tsv\n",
      "sco sco_latn_narrow.tsv\n",
      "sga sga_latn_narrow.tsv\n",
      "slk slk_latn_narrow.tsv\n",
      "spa spa_latn_ca_narrow.tsv\n",
      "spa spa_latn_la_narrow.tsv\n",
      "sqi sqi_latn_narrow.tsv\n",
      "swe swe_latn_narrow.tsv\n",
      "tby tby_latn_narrow.tsv\n",
      "tft tft_latn_narrow.tsv\n",
      "tgl tgl_latn_narrow.tsv\n",
      "tur tur_latn_narrow.tsv\n",
      "tur tur_latn_narrow_filtered.tsv\n",
      "vie vie_latn_hanoi_narrow.tsv\n",
      "vie vie_latn_hanoi_narrow_filtered.tsv\n",
      "vie vie_latn_hcmc_narrow.tsv\n",
      "vie vie_latn_hcmc_narrow_filtered.tsv\n",
      "vie vie_latn_hue_narrow.tsv\n",
      "vie vie_latn_hue_narrow_filtered.tsv\n",
      "vol vol_latn_narrow.tsv\n",
      "xho xho_latn_narrow.tsv\n",
      "ycl ycl_latn_narrow.tsv\n",
      "zza zza_latn_narrow.tsv\n"
     ]
    }
   ],
   "source": [
    "import re\n",
    "import random\n",
    "from zipfile import ZipFile, is_zipfile\n",
    "from collections import defaultdict\n",
    "random.seed(42)\n",
    "\n",
    "datafile = 'wikipron-data-1.3.0.zip'\n",
    "constraints = ['narrow', 'latn']\n",
    "data = defaultdict(list)\n",
    "\n",
    "if is_zipfile(datafile):\n",
    "    with ZipFile(datafile) as wpzip:\n",
    "        for filename in wpzip.namelist():\n",
    "            features = filename.split('_')\n",
    "            lang = features[0]\n",
    "            matches = [ True if re.search(c, filename) else False for c in constraints ]\n",
    "            if all(matches):\n",
    "                print(lang, filename)\n",
    "                with wpzip.open(filename, 'r') as fh:\n",
    "                    data[lang] += [ s.decode('utf8').strip() for s in fh.readlines() ]"
   ]
  },
  {
   "cell_type": "markdown",
   "id": "c1712e7e-09c0-4e14-9a9a-6c03e4330434",
   "metadata": {},
   "source": [
    "Let's check the format of the data for English. Each language is stored as a separate key in the `data` dictionary."
   ]
  },
  {
   "cell_type": "code",
   "execution_count": 7,
   "id": "39e869d8-9695-4b17-8c93-70a4c2413af5",
   "metadata": {},
   "outputs": [
    {
     "name": "stdout",
     "output_type": "stream",
     "text": [
      "'em\tm̩\n",
      "'em\tə m\n",
      "'em\tɛ m\n",
      "'em\tɪ m\n",
      "'ll\tl̩\n",
      "'ll\tə l\n",
      "'ll\tɫ̩\n",
      "'ll\tɯ\n",
      "'ll\tʊ\n",
      "'n'\tn̩\n",
      "'n'\tə n\n",
      "'rales\tɹ ɑː l i z\n",
      "aa\tɑː ʔ ɑː\n",
      "abear\tə b ɛː\n",
      "accend\tæ k s ɛ n d\n",
      "accommodate\tə kʰ ɒ m ə d e ɪ t\n",
      "accommodator\tə k ɒ m ə d e ɪ t ə\n",
      "accreditation\tə k ɹ ɛ d ɪ t e ɪ ʃ ə n\n",
      "acknowledge\tə k n ɒ l ɨ̞ d͡ʒ\n",
      "acknowledge\tə ɡ n ɒ l ɨ̞ d͡ʒ\n"
     ]
    }
   ],
   "source": [
    "print(\"\\n\".join(data['eng'][:20]))"
   ]
  },
  {
   "cell_type": "code",
   "execution_count": 8,
   "id": "ae9daba4-88fe-4c7f-b2c1-47960e367d4d",
   "metadata": {},
   "outputs": [],
   "source": [
    "dataset = []\n",
    "start = '<|starttext|>'\n",
    "to_ipa = '<|to_ipa|>'\n",
    "endoftext = '<|endoftext|>'\n",
    "padtoken = '<|padtoken|>'\n",
    "languages = ['eng']\n",
    "#languages = data.keys()  # data.keys() for all languages\n",
    "\n",
    "for lang in languages:\n",
    "    for i in data[lang]:\n",
    "        (source, target) = i.split('\\t')\n",
    "        dataset.append([start] + list(source) + [to_ipa] + target.split(' ') + [endoftext] + [padtoken])"
   ]
  },
  {
   "cell_type": "code",
   "execution_count": 9,
   "id": "c4d00b47-d9e6-4849-a042-b840b092a3f2",
   "metadata": {},
   "outputs": [
    {
     "name": "stdout",
     "output_type": "stream",
     "text": [
      "[['<|starttext|>', \"'\", 'e', 'm', '<|to_ipa|>', 'm̩', '<|endoftext|>', '<|padtoken|>'], ['<|starttext|>', \"'\", 'e', 'm', '<|to_ipa|>', 'ə', 'm', '<|endoftext|>', '<|padtoken|>'], ['<|starttext|>', \"'\", 'e', 'm', '<|to_ipa|>', 'ɛ', 'm', '<|endoftext|>', '<|padtoken|>'], ['<|starttext|>', \"'\", 'e', 'm', '<|to_ipa|>', 'ɪ', 'm', '<|endoftext|>', '<|padtoken|>'], ['<|starttext|>', \"'\", 'l', 'l', '<|to_ipa|>', 'l̩', '<|endoftext|>', '<|padtoken|>']]\n"
     ]
    }
   ],
   "source": [
    "print(dataset[:5])"
   ]
  },
  {
   "cell_type": "markdown",
   "id": "2d74d560-ddc9-4c4b-9e3a-e77af7e5399b",
   "metadata": {},
   "source": [
    "Let's collect the vocabulary from the dataset. This will be used to encode each example in the dataset to a tensor and when we get output from our model we can decode it back to the vocabulary."
   ]
  },
  {
   "cell_type": "code",
   "execution_count": 10,
   "id": "721a5854-a8ee-4359-bb61-8f26938e1242",
   "metadata": {},
   "outputs": [
    {
     "name": "stdout",
     "output_type": "stream",
     "text": [
      "'<|endoftext|><|padtoken|><|starttext|><|to_ipa|>aaʰaːaːːbbʰbˡb̚b̥b̪cddˀd̚d̠d̠͡ɹ̠d̥d̥̚d̪d͡ɹ̝d͡ʒdⁿeeːe̞e̯e͡əeᵊffʷf̚f͡s̪ghiiːiːʲiˑi̯jjːj̊j̥kkʰkʲkʷk̚k̠ʰk͡sllʷl̥l̥ʰl̩l̪mm̥m̩m̩ːnnʰnːn̠n̥n̩n̪n̪̥ooːo̞o̞ːppʰpʷpʼp̚p̪p͡tʼʰp͡ɸːqrsttʰtˀtːtˤt̚t̠t̠ʰt̠̚t̠͡ɹ̠t̠͡ɹ̠̊t̠͡ʃt̪t̪ʰt̬t̰̚t͡st͡ʃt͡ʃʰtᵊtⁿuuʷuːu̟u̟ːu̠ːu̥u̯vww̥xyyːzz̥~áãääːææˀæːæːːæˑæ̃æ̙æ̝æ̝ːæ̰ˀæ̰ːçéëðõö̞øúüăčĩĩːĭ̥ŋŋ̍ŏœːŭ̥ǀɐɐːɑɑˀɑːɑˑɑ̃ɑ̃ːɑ̃ⁿɑ̟ɒɒˀɒːɒ̃ːɒ̃ⁿɒ͡ɪɔɔːɔ̃ɕɖɘəəːə̃ə̆ə̥ə̯ə̯̃ɚɚːɚːːɚ̯ɛɛːɛˑɛ̃ɛ̈ɛ͡əɜɜːɝɝːɝˑɝ̃ɡɡ̊ɣɣːɤɥɦɨɨ̃ɨ̞ɪɪʰɪːɪˑɪ̃ɪ̃ːɪ̈ɪ̞ɪ̥ɪ̯ɫɫ̥ɫ̩ɯɯ᷈ːɱɱ̊ɱ̩ɲɵɸɸ͡sɸ͡s̪ɹɹʲɹʷɹˠɹ̝̊ɹ̠ɹ̠ʷɹ̠̊ɹ̥ɹ̥ʷɹ̩ɻɻʷɽ̃ɾɾʱɾ̃ɾ̪̊ɾᵊʀ̊ʁʃʉʉːʉ̃͡uʉ̜ːʉ̞ʉ̯ʉ͡uʊʊʷʊːʊ̃ʊ̆ʊ̈ʊ̠ʊ̯ʊ̯ˀʊ̯ːʊ̯̃ʋʌʌˀʌˑʌ̃ʌ̃ːʌ᷈ʍʎʏʒʔʔ̚ʔᵊʙ̥͡ɸːʝʟ̩ˀeː˔˔ʷ˗ʷ˞˥˥˩˦˨˨βθχẽẽːẽˑ\n",
      "vocab_size=312\n"
     ]
    }
   ],
   "source": [
    "vocab = sorted(list({ c for ex in dataset for c in ex }))\n",
    "vocab_size = len(vocab)\n",
    "print(''.join(vocab))\n",
    "print(f'{vocab_size=}')"
   ]
  },
  {
   "cell_type": "markdown",
   "id": "229da522-40b3-4a3c-b521-03f774fae94d",
   "metadata": {},
   "source": [
    "First we create a mapping `stoi` from the vocabulary to integers, and vice versa `itos`."
   ]
  },
  {
   "cell_type": "code",
   "execution_count": 11,
   "id": "caebfec4-3bcf-4bd7-b968-a1b60330147a",
   "metadata": {},
   "outputs": [],
   "source": [
    "stoi = { ch:i for i, ch in enumerate(vocab) }\n",
    "itos = { i:ch for i, ch in enumerate(vocab) }"
   ]
  },
  {
   "cell_type": "markdown",
   "id": "5d1e9af7-b730-4aae-a2bb-b9c0a03fc87c",
   "metadata": {},
   "source": [
    "Then we use this mapping to create `encode` and `decode` functions from raw input to integers and back."
   ]
  },
  {
   "cell_type": "code",
   "execution_count": 12,
   "id": "bca7fce6-caa1-4d6c-ac21-6c9846d6062f",
   "metadata": {},
   "outputs": [],
   "source": [
    "encode = lambda input: [stoi[c] for c in input]\n",
    "decode = lambda ints: [itos[i] for i in ints]"
   ]
  },
  {
   "cell_type": "code",
   "execution_count": 13,
   "id": "9dc7ae44-8fd2-4337-a0eb-e822b652e670",
   "metadata": {},
   "outputs": [
    {
     "name": "stdout",
     "output_type": "stream",
     "text": [
      "[3, 0, 27, 61, 4, 63, 1, 2]\n"
     ]
    }
   ],
   "source": [
    "print(encode(dataset[0]))"
   ]
  },
  {
   "cell_type": "code",
   "execution_count": 14,
   "id": "c1b14a09-56e5-42e1-b8f6-b0d4db40d90a",
   "metadata": {},
   "outputs": [
    {
     "name": "stdout",
     "output_type": "stream",
     "text": [
      "['<|starttext|>', \"'\", 'e', 'm', '<|to_ipa|>', 'm̩', '<|endoftext|>', '<|padtoken|>']\n"
     ]
    }
   ],
   "source": [
    "print(decode(encode(dataset[0])))"
   ]
  },
  {
   "cell_type": "code",
   "execution_count": 15,
   "id": "fef17795-912c-4279-b75f-91718a2fd785",
   "metadata": {},
   "outputs": [],
   "source": [
    "def get_longest(dataset):\n",
    "    max_len = 0\n",
    "    longest = None\n",
    "    idx = None\n",
    "    for i, ex in enumerate(dataset):\n",
    "        if len(ex) > max_len:\n",
    "            idx = i\n",
    "            max_len = len(ex)\n",
    "            longest = ex\n",
    "    return(idx, max_len, longest)\n",
    "\n",
    "(longest_idx, max_len, longest) = get_longest(dataset)"
   ]
  },
  {
   "cell_type": "code",
   "execution_count": 16,
   "id": "f6efd22c-61b1-41b7-ac12-31ffdef5baee",
   "metadata": {},
   "outputs": [
    {
     "name": "stdout",
     "output_type": "stream",
     "text": [
      "380 43 ['<|starttext|>', 'd', 'e', 'a', 'c', 'e', 't', 'y', 'l', 't', 'r', 'a', 'n', 's', 'f', 'e', 'r', 'a', 's', 'e', '<|to_ipa|>', 'd', 'iː', 'ə', 's', 'iː', 't', 'a', 'ɪ', 'ɫ', 't', 'ɹ', 'ɑː', 'n', 's', 'f', 'ə', 'ɹ', 'e', 'ɪ', 'z', '<|endoftext|>', '<|padtoken|>']\n"
     ]
    }
   ],
   "source": [
    "print(longest_idx, max_len, longest)"
   ]
  },
  {
   "cell_type": "markdown",
   "id": "e6621da9-fe64-41ac-926b-41231d74181f",
   "metadata": {},
   "source": [
    "We pad each example in the dataset to be the same as the longest example. This will ensure we can have same length tensors in each batch of training. At the same time we will convert the dataset using the `encode` function to a torch `tensor` object. "
   ]
  },
  {
   "cell_type": "code",
   "execution_count": 17,
   "id": "4fc0148d-27ba-4022-9335-765a26e791db",
   "metadata": {},
   "outputs": [
    {
     "name": "stdout",
     "output_type": "stream",
     "text": [
      "[tensor([ 3,  0, 27, 61,  4, 63,  1,  2,  2,  2,  2,  2,  2,  2,  2,  2,  2,  2,\n",
      "         2,  2,  2,  2,  2,  2,  2,  2,  2,  2,  2,  2,  2,  2,  2,  2,  2,  2,\n",
      "         2,  2,  2,  2,  2,  2,  2]), tensor([  3,   0,  27,  61,   4, 183,  61,   1,   2,   2,   2,   2,   2,   2,\n",
      "          2,   2,   2,   2,   2,   2,   2,   2,   2,   2,   2,   2,   2,   2,\n",
      "          2,   2,   2,   2,   2,   2,   2,   2,   2,   2,   2,   2,   2,   2,\n",
      "          2]), tensor([  3,   0,  27,  61,   4, 194,  61,   1,   2,   2,   2,   2,   2,   2,\n",
      "          2,   2,   2,   2,   2,   2,   2,   2,   2,   2,   2,   2,   2,   2,\n",
      "          2,   2,   2,   2,   2,   2,   2,   2,   2,   2,   2,   2,   2,   2,\n",
      "          2]), tensor([  3,   0,  27,  61,   4, 216,  61,   1,   2,   2,   2,   2,   2,   2,\n",
      "          2,   2,   2,   2,   2,   2,   2,   2,   2,   2,   2,   2,   2,   2,\n",
      "          2,   2,   2,   2,   2,   2,   2,   2,   2,   2,   2,   2,   2,   2,\n",
      "          2]), tensor([ 3,  0, 55, 55,  4, 59,  1,  2,  2,  2,  2,  2,  2,  2,  2,  2,  2,  2,\n",
      "         2,  2,  2,  2,  2,  2,  2,  2,  2,  2,  2,  2,  2,  2,  2,  2,  2,  2,\n",
      "         2,  2,  2,  2,  2,  2,  2]), tensor([  3,   0,  55,  55,   4, 183,  55,   1,   2,   2,   2,   2,   2,   2,\n",
      "          2,   2,   2,   2,   2,   2,   2,   2,   2,   2,   2,   2,   2,   2,\n",
      "          2,   2,   2,   2,   2,   2,   2,   2,   2,   2,   2,   2,   2,   2,\n",
      "          2]), tensor([  3,   0,  55,  55,   4, 228,   1,   2,   2,   2,   2,   2,   2,   2,\n",
      "          2,   2,   2,   2,   2,   2,   2,   2,   2,   2,   2,   2,   2,   2,\n",
      "          2,   2,   2,   2,   2,   2,   2,   2,   2,   2,   2,   2,   2,   2,\n",
      "          2]), tensor([  3,   0,  55,  55,   4, 229,   1,   2,   2,   2,   2,   2,   2,   2,\n",
      "          2,   2,   2,   2,   2,   2,   2,   2,   2,   2,   2,   2,   2,   2,\n",
      "          2,   2,   2,   2,   2,   2,   2,   2,   2,   2,   2,   2,   2,   2,\n",
      "          2]), tensor([  3,   0,  55,  55,   4, 268,   1,   2,   2,   2,   2,   2,   2,   2,\n",
      "          2,   2,   2,   2,   2,   2,   2,   2,   2,   2,   2,   2,   2,   2,\n",
      "          2,   2,   2,   2,   2,   2,   2,   2,   2,   2,   2,   2,   2,   2,\n",
      "          2]), tensor([ 3,  0, 65,  0,  4, 70,  1,  2,  2,  2,  2,  2,  2,  2,  2,  2,  2,  2,\n",
      "         2,  2,  2,  2,  2,  2,  2,  2,  2,  2,  2,  2,  2,  2,  2,  2,  2,  2,\n",
      "         2,  2,  2,  2,  2,  2,  2]), tensor([  3,   0,  65,   0,   4, 183,  65,   1,   2,   2,   2,   2,   2,   2,\n",
      "          2,   2,   2,   2,   2,   2,   2,   2,   2,   2,   2,   2,   2,   2,\n",
      "          2,   2,   2,   2,   2,   2,   2,   2,   2,   2,   2,   2,   2,   2,\n",
      "          2]), tensor([  3,   0,  86,   5,  55,  27,  87,   4, 239, 165,  55,  39, 123,   1,\n",
      "          2,   2,   2,   2,   2,   2,   2,   2,   2,   2,   2,   2,   2,   2,\n",
      "          2,   2,   2,   2,   2,   2,   2,   2,   2,   2,   2,   2,   2,   2,\n",
      "          2]), tensor([  3,   5,   5,   4, 165, 290, 165,   1,   2,   2,   2,   2,   2,   2,\n",
      "          2,   2,   2,   2,   2,   2,   2,   2,   2,   2,   2,   2,   2,   2,\n",
      "          2,   2,   2,   2,   2,   2,   2,   2,   2,   2,   2,   2,   2,   2,\n",
      "          2]), tensor([  3,   5,   9,  27,   5,  86,   4, 183,   9, 195,   1,   2,   2,   2,\n",
      "          2,   2,   2,   2,   2,   2,   2,   2,   2,   2,   2,   2,   2,   2,\n",
      "          2,   2,   2,   2,   2,   2,   2,   2,   2,   2,   2,   2,   2,   2,\n",
      "          2]), tensor([  3,   5,  15,  15,  27,  65,  16,   4, 130,  48,  87, 194,  65,  16,\n",
      "          1,   2,   2,   2,   2,   2,   2,   2,   2,   2,   2,   2,   2,   2,\n",
      "          2,   2,   2,   2,   2,   2,   2,   2,   2,   2,   2,   2,   2,   2,\n",
      "          2]), tensor([  3,   5,  15,  15,  73,  61,  61,  73,  16,   5,  88,  27,   4, 183,\n",
      "         49, 171,  61, 183,  16,  27, 216,  88,   1,   2,   2,   2,   2,   2,\n",
      "          2,   2,   2,   2,   2,   2,   2,   2,   2,   2,   2,   2,   2,   2,\n",
      "          2]), tensor([  3,   5,  15,  15,  73,  61,  61,  73,  16,   5,  88,  73,  86,   4,\n",
      "        183,  48, 171,  61, 183,  16,  27, 216,  88, 183,   1,   2,   2,   2,\n",
      "          2,   2,   2,   2,   2,   2,   2,   2,   2,   2,   2,   2,   2,   2,\n",
      "          2]), tensor([  3,   5,  15,  15,  86,  27,  16,  39,  88,   5,  88,  39,  73,  65,\n",
      "          4, 183,  48, 239, 194,  16, 216,  88,  27, 216, 260, 183,  65,   1,\n",
      "          2,   2,   2,   2,   2,   2,   2,   2,   2,   2,   2,   2,   2,   2,\n",
      "          2]), tensor([  3,   5,  15,  48,  65,  73, 118,  55,  27,  16,  37,  27,   4, 183,\n",
      "         48,  65, 171,  55, 215,  25,   1,   2,   2,   2,   2,   2,   2,   2,\n",
      "          2,   2,   2,   2,   2,   2,   2,   2,   2,   2,   2,   2,   2,   2,\n",
      "          2]), tensor([  3,   5,  15,  48,  65,  73, 118,  55,  27,  16,  37,  27,   4, 183,\n",
      "        206,  65, 171,  55, 215,  25,   1,   2,   2,   2,   2,   2,   2,   2,\n",
      "          2,   2,   2,   2,   2,   2,   2,   2,   2,   2,   2,   2,   2,   2,\n",
      "          2]), tensor([  3,   5,  16,   5,  61,   4, 130, 253,  63,   1,   2,   2,   2,   2,\n",
      "          2,   2,   2,   2,   2,   2,   2,   2,   2,   2,   2,   2,   2,   2,\n",
      "          2,   2,   2,   2,   2,   2,   2,   2,   2,   2,   2,   2,   2,   2,\n",
      "          2]), tensor([  3,   5,  16,   5,  61,   4, 130, 253, 183,  61,   1,   2,   2,   2,\n",
      "          2,   2,   2,   2,   2,   2,   2,   2,   2,   2,   2,   2,   2,   2,\n",
      "          2,   2,   2,   2,   2,   2,   2,   2,   2,   2,   2,   2,   2,   2,\n",
      "          2]), tensor([  3,   5,  16,  16,  27,  16,   4,   5,  16, 183,  16,   1,   2,   2,\n",
      "          2,   2,   2,   2,   2,   2,   2,   2,   2,   2,   2,   2,   2,   2,\n",
      "          2,   2,   2,   2,   2,   2,   2,   2,   2,   2,   2,   2,   2,   2,\n",
      "          2]), tensor([  3,   5,  16,  16,  27,  16,   4,   5,  16, 216,  16,   1,   2,   2,\n",
      "          2,   2,   2,   2,   2,   2,   2,   2,   2,   2,   2,   2,   2,   2,\n",
      "          2,   2,   2,   2,   2,   2,   2,   2,   2,   2,   2,   2,   2,   2,\n",
      "          2]), tensor([  3,   5,  16,  16,  27,  16,   4, 130, 253, 183,  16,   1,   2,   2,\n",
      "          2,   2,   2,   2,   2,   2,   2,   2,   2,   2,   2,   2,   2,   2,\n",
      "          2,   2,   2,   2,   2,   2,   2,   2,   2,   2,   2,   2,   2,   2,\n",
      "          2]), tensor([  3,   5,  16,  16,  27,  16,   4, 130, 253, 216,  16,   1,   2,   2,\n",
      "          2,   2,   2,   2,   2,   2,   2,   2,   2,   2,   2,   2,   2,   2,\n",
      "          2,   2,   2,   2,   2,   2,   2,   2,   2,   2,   2,   2,   2,   2,\n",
      "          2]), tensor([  3,   5,  16,  16,  39,  88,  39,  73,  65,   4, 183,  16, 216, 260,\n",
      "         70,   1,   2,   2,   2,   2,   2,   2,   2,   2,   2,   2,   2,   2,\n",
      "          2,   2,   2,   2,   2,   2,   2,   2,   2,   2,   2,   2,   2,   2,\n",
      "          2]), tensor([  3,   5,  16,  27,  55,   5,  39,  16,  27,   4, 130,  16, 200,  55,\n",
      "        130, 225,  16,   1,   2,   2,   2,   2,   2,   2,   2,   2,   2,   2,\n",
      "          2,   2,   2,   2,   2,   2,   2,   2,   2,   2,   2,   2,   2,   2,\n",
      "          2]), tensor([  3,   5,  16,  61,  39,  65,  39,  87,  88,  86,   5,  88,  39, 117,\n",
      "         27,   4, 183,  16,  61, 216,  65, 216,  87,  94, 246, 299, 183,  89,\n",
      "        216, 117,   1,   2,   2,   2,   2,   2,   2,   2,   2,   2,   2,   2,\n",
      "          2]), tensor([  3,   5,  27,  86,  73,  87,  27,   4,  39, 239, 183, 268, 123,   1,\n",
      "          2,   2,   2,   2,   2,   2,   2,   2,   2,   2,   2,   2,   2,   2,\n",
      "          2,   2,   2,   2,   2,   2,   2,   2,   2,   2,   2,   2,   2,   2,\n",
      "          2]), tensor([  3,   5,  37,  37,  55, 109,  88,  39,  65,  39,  65,   4, 183, 206,\n",
      "         55, 111, 290,  70, 216,  65,   1,   2,   2,   2,   2,   2,   2,   2,\n",
      "          2,   2,   2,   2,   2,   2,   2,   2,   2,   2,   2,   2,   2,   2,\n",
      "          2]), tensor([  3,   5,  39,  37,  38,  88,   4,   5, 225, 290,   1,   2,   2,   2,\n",
      "          2,   2,   2,   2,   2,   2,   2,   2,   2,   2,   2,   2,   2,   2,\n",
      "          2,   2,   2,   2,   2,   2,   2,   2,   2,   2,   2,   2,   2,   2,\n",
      "          2]), tensor([  3,   5,  39,  37,  38,  88,   4, 183, 225, 290,   1,   2,   2,   2,\n",
      "          2,   2,   2,   2,   2,   2,   2,   2,   2,   2,   2,   2,   2,   2,\n",
      "          2,   2,   2,   2,   2,   2,   2,   2,   2,   2,   2,   2,   2,   2,\n",
      "          2]), tensor([  3,   5,  55,   5,  15,  86,  39,  88, 121,   4, 183,  55, 130,  48,\n",
      "        239, 213,  88,  39,   1,   2,   2,   2,   2,   2,   2,   2,   2,   2,\n",
      "          2,   2,   2,   2,   2,   2,   2,   2,   2,   2,   2,   2,   2,   2,\n",
      "          2]), tensor([ 3,  5, 55,  9,  5, 65,  4,  5, 55,  9, 70,  1,  2,  2,  2,  2,  2,  2,\n",
      "         2,  2,  2,  2,  2,  2,  2,  2,  2,  2,  2,  2,  2,  2,  2,  2,  2,  2,\n",
      "         2,  2,  2,  2,  2,  2,  2]), tensor([  3,   5,  55,   9,  39,  15,   5,  65,  88,   4,   5,  55,   9, 216,\n",
      "         48,  70,  88,   1,   2,   2,   2,   2,   2,   2,   2,   2,   2,   2,\n",
      "          2,   2,   2,   2,   2,   2,   2,   2,   2,   2,   2,   2,   2,   2,\n",
      "          2]), tensor([  3,   5,  55,   9, 109,  61,   4,   5, 226,  12,  63,   1,   2,   2,\n",
      "          2,   2,   2,   2,   2,   2,   2,   2,   2,   2,   2,   2,   2,   2,\n",
      "          2,   2,   2,   2,   2,   2,   2,   2,   2,   2,   2,   2,   2,   2,\n",
      "          2]), tensor([  3,   5,  55,  16,  27,  86,   4, 178,  55,  16, 183,   1,   2,   2,\n",
      "          2,   2,   2,   2,   2,   2,   2,   2,   2,   2,   2,   2,   2,   2,\n",
      "          2,   2,   2,   2,   2,   2,   2,   2,   2,   2,   2,   2,   2,   2,\n",
      "          2]), tensor([  3,   5,  55,  16,  27,  86,  87,   4, 178,  55,  16, 183, 123,   1,\n",
      "          2,   2,   2,   2,   2,   2,   2,   2,   2,   2,   2,   2,   2,   2,\n",
      "          2,   2,   2,   2,   2,   2,   2,   2,   2,   2,   2,   2,   2,   2,\n",
      "          2]), tensor([  3,   5,  55,  37,  73,  86,  39,  88,  38,  61,   4, 130, 226, 206,\n",
      "        183, 239, 216, 144,  63,   1,   2,   2,   2,   2,   2,   2,   2,   2,\n",
      "          2,   2,   2,   2,   2,   2,   2,   2,   2,   2,   2,   2,   2,   2,\n",
      "          2]), tensor([  3,   5,  55,  39,  27,  65,   5,  88,  39,  73,  65,   4,  27, 216,\n",
      "         55,  39, 183,  65,  27, 216, 260, 183,  65,   1,   2,   2,   2,   2,\n",
      "          2,   2,   2,   2,   2,   2,   2,   2,   2,   2,   2,   2,   2,   2,\n",
      "          2]), tensor([  3,   5,  55,  39,  37,  65,  61,  27,  65,  88,   4, 183, 226,   5,\n",
      "        216,  65,  61, 183,  65,  88,   1,   2,   2,   2,   2,   2,   2,   2,\n",
      "          2,   2,   2,   2,   2,   2,   2,   2,   2,   2,   2,   2,   2,   2,\n",
      "          2]), tensor([  3,   5,  55,  55,   4, 178, 226,   1,   2,   2,   2,   2,   2,   2,\n",
      "          2,   2,   2,   2,   2,   2,   2,   2,   2,   2,   2,   2,   2,   2,\n",
      "          2,   2,   2,   2,   2,   2,   2,   2,   2,   2,   2,   2,   2,   2,\n",
      "          2]), tensor([  3,   5,  55,  55,  27,  86,  37,  39,  27,  87,   4, 130,  55, 183,\n",
      "         25,  39, 123,   1,   2,   2,   2,   2,   2,   2,   2,   2,   2,   2,\n",
      "          2,   2,   2,   2,   2,   2,   2,   2,   2,   2,   2,   2,   2,   2,\n",
      "          2]), tensor([  3,   5,  55,  55,  27,  86,  37,  39,  27,  87,   4, 130,  55, 190,\n",
      "         25,  39, 123,   1,   2,   2,   2,   2,   2,   2,   2,   2,   2,   2,\n",
      "          2,   2,   2,   2,   2,   2,   2,   2,   2,   2,   2,   2,   2,   2,\n",
      "          2]), tensor([  3,   5,  55,  55,  27,  86,  37, 121,   4, 130,  55, 183,  16, 289,\n",
      "         39,   1,   2,   2,   2,   2,   2,   2,   2,   2,   2,   2,   2,   2,\n",
      "          2,   2,   2,   2,   2,   2,   2,   2,   2,   2,   2,   2,   2,   2,\n",
      "          2]), tensor([  3,   5,  55,  55,  27,  86,  37, 121,   4, 130,  55, 190,  25,  39,\n",
      "          1,   2,   2,   2,   2,   2,   2,   2,   2,   2,   2,   2,   2,   2,\n",
      "          2,   2,   2,   2,   2,   2,   2,   2,   2,   2,   2,   2,   2,   2,\n",
      "          2]), tensor([  3,   5,  55,  61,   5,  65,   5,  15,   4, 178,  55,  61, 183,  65,\n",
      "        130,  48,   1,   2,   2,   2,   2,   2,   2,   2,   2,   2,   2,   2,\n",
      "          2,   2,   2,   2,   2,   2,   2,   2,   2,   2,   2,   2,   2,   2,\n",
      "          2]), tensor([  3,   5,  55,  77,  38,   5,   4, 130, 226,  33, 183,   1,   2,   2,\n",
      "          2,   2,   2,   2,   2,   2,   2,   2,   2,   2,   2,   2,   2,   2,\n",
      "          2,   2,   2,   2,   2,   2,   2,   2,   2,   2,   2,   2,   2,   2,\n",
      "          2]), tensor([  3,   5,  55,  88,  27,  86,  65,   5,  88,  27,  55, 121,   4, 178,\n",
      "         55,  88, 200, 239,  65, 183,  88,  55, 216,   1,   2,   2,   2,   2,\n",
      "          2,   2,   2,   2,   2,   2,   2,   2,   2,   2,   2,   2,   2,   2,\n",
      "          2]), tensor([ 3,  5, 61,  4,  5, 61,  1,  2,  2,  2,  2,  2,  2,  2,  2,  2,  2,  2,\n",
      "         2,  2,  2,  2,  2,  2,  2,  2,  2,  2,  2,  2,  2,  2,  2,  2,  2,  2,\n",
      "         2,  2,  2,  2,  2,  2,  2]), tensor([  3,   5,  61,   4, 130,  61,   1,   2,   2,   2,   2,   2,   2,   2,\n",
      "          2,   2,   2,   2,   2,   2,   2,   2,   2,   2,   2,   2,   2,   2,\n",
      "          2,   2,   2,   2,   2,   2,   2,   2,   2,   2,   2,   2,   2,   2,\n",
      "          2]), tensor([  3,   5,  61,   5,  88,  73,  86, 121,   4, 130,  61, 183,  88, 177,\n",
      "        193,  39,   1,   2,   2,   2,   2,   2,   2,   2,   2,   2,   2,   2,\n",
      "          2,   2,   2,   2,   2,   2,   2,   2,   2,   2,   2,   2,   2,   2,\n",
      "          2]), tensor([  3,   5,  61,   5,  88,  73,  86, 121,   4, 165,  61, 183,  88, 183,\n",
      "        239, 216,   1,   2,   2,   2,   2,   2,   2,   2,   2,   2,   2,   2,\n",
      "          2,   2,   2,   2,   2,   2,   2,   2,   2,   2,   2,   2,   2,   2,\n",
      "          2]), tensor([  3,   5,  61,   5, 123,  39,  65,  37,   4, 183,  61,  27, 225, 123,\n",
      "        216, 155,   1,   2,   2,   2,   2,   2,   2,   2,   2,   2,   2,   2,\n",
      "          2,   2,   2,   2,   2,   2,   2,   2,   2,   2,   2,   2,   2,   2,\n",
      "          2]), tensor([  3,   5,  61,  77,  38,  39,   9,  39,  73, 109,  87,   4, 130,  61,\n",
      "         33, 216,   9,  39, 183,  87,   1,   2,   2,   2,   2,   2,   2,   2,\n",
      "          2,   2,   2,   2,   2,   2,   2,   2,   2,   2,   2,   2,   2,   2,\n",
      "          2]), tensor([  3,   5,  65,   4, 194, 183,  65,   1,   2,   2,   2,   2,   2,   2,\n",
      "          2,   2,   2,   2,   2,   2,   2,   2,   2,   2,   2,   2,   2,   2,\n",
      "          2,   2,   2,   2,   2,   2,   2,   2,   2,   2,   2,   2,   2,   2,\n",
      "          2]), tensor([  3,   5,  65,   5,  55,  27,  15,  88,  87,   4, 130,  65, 183,  55,\n",
      "        194,  48,  88,  87,   1,   2,   2,   2,   2,   2,   2,   2,   2,   2,\n",
      "          2,   2,   2,   2,   2,   2,   2,   2,   2,   2,   2,   2,   2,   2,\n",
      "          2]), tensor([  3,   5,  65,  16,  86,  27, 118,   4,  32,  65,  19, 244, 299, 273,\n",
      "        109,   1,   2,   2,   2,   2,   2,   2,   2,   2,   2,   2,   2,   2,\n",
      "          2,   2,   2,   2,   2,   2,   2,   2,   2,   2,   2,   2,   2,   2,\n",
      "          2]), tensor([  3,   5,  65,  16,  86,  27, 118,   4, 130,  65,  19, 245, 298, 273,\n",
      "        109,   1,   2,   2,   2,   2,   2,   2,   2,   2,   2,   2,   2,   2,\n",
      "          2,   2,   2,   2,   2,   2,   2,   2,   2,   2,   2,   2,   2,   2,\n",
      "          2]), tensor([  3,   5,  65,  37,  87,  88,  87,   4,  27, 216, 155,  48,  87,  88,\n",
      "         87,   1,   2,   2,   2,   2,   2,   2,   2,   2,   2,   2,   2,   2,\n",
      "          2,   2,   2,   2,   2,   2,   2,   2,   2,   2,   2,   2,   2,   2,\n",
      "          2]), tensor([  3,   5,  65,  88,  38,  86,  73,  77,  73,  61,  73,  86,  77,  38,\n",
      "         39,  15,   4, 135,  71, 307, 244, 183,  77, 183,  61, 177, 244,  33,\n",
      "        222,  48,   1,   2,   2,   2,   2,   2,   2,   2,   2,   2,   2,   2,\n",
      "          2]), tensor([  3,   5,  77,  38,  73,  86,  39,  87,  61,   4, 130,  33, 183, 239,\n",
      "        216, 123,  63,   1,   2,   2,   2,   2,   2,   2,   2,   2,   2,   2,\n",
      "          2,   2,   2,   2,   2,   2,   2,   2,   2,   2,   2,   2,   2,   2,\n",
      "          2]), tensor([  3,   5,  77,  77,  55,  27,   4, 130,  77, 228,   1,   2,   2,   2,\n",
      "          2,   2,   2,   2,   2,   2,   2,   2,   2,   2,   2,   2,   2,   2,\n",
      "          2,   2,   2,   2,   2,   2,   2,   2,   2,   2,   2,   2,   2,   2,\n",
      "          2]), tensor([  3,   5,  77,  77,  55,  27,  16,   4, 130,  77, 228,  16,   1,   2,\n",
      "          2,   2,   2,   2,   2,   2,   2,   2,   2,   2,   2,   2,   2,   2,\n",
      "          2,   2,   2,   2,   2,   2,   2,   2,   2,   2,   2,   2,   2,   2,\n",
      "          2]), tensor([  3,   5,  86,   9,  39,  88,  86,   5,  88,  39,  73,  65,   4, 165,\n",
      "          9, 183,  97,  27, 216, 260,  70,   1,   2,   2,   2,   2,   2,   2,\n",
      "          2,   2,   2,   2,   2,   2,   2,   2,   2,   2,   2,   2,   2,   2,\n",
      "          2]), tensor([  3,   5,  86,  37,  38,   4, 163, 209,   1,   2,   2,   2,   2,   2,\n",
      "          2,   2,   2,   2,   2,   2,   2,   2,   2,   2,   2,   2,   2,   2,\n",
      "          2,   2,   2,   2,   2,   2,   2,   2,   2,   2,   2,   2,   2,   2,\n",
      "          2]), tensor([  3,   5,  86,  37,  38,   4, 163, 239, 208,   1,   2,   2,   2,   2,\n",
      "          2,   2,   2,   2,   2,   2,   2,   2,   2,   2,   2,   2,   2,   2,\n",
      "          2,   2,   2,   2,   2,   2,   2,   2,   2,   2,   2,   2,   2,   2,\n",
      "          2]), tensor([  3,   5,  86,  39,  87,  88,  73,  88,  55,  27,   4, 130, 239, 216,\n",
      "         87,  88, 171, 107, 228,   1,   2,   2,   2,   2,   2,   2,   2,   2,\n",
      "          2,   2,   2,   2,   2,   2,   2,   2,   2,   2,   2,   2,   2,   2,\n",
      "          2]), tensor([  3,   5,  86,  55,  73,  65,   4, 163, 239, 226, 178,  65,   1,   2,\n",
      "          2,   2,   2,   2,   2,   2,   2,   2,   2,   2,   2,   2,   2,   2,\n",
      "          2,   2,   2,   2,   2,   2,   2,   2,   2,   2,   2,   2,   2,   2,\n",
      "          2]), tensor([  3,   5,  86,  55,  73,  65,   4, 165, 226, 178,  65,   1,   2,   2,\n",
      "          2,   2,   2,   2,   2,   2,   2,   2,   2,   2,   2,   2,   2,   2,\n",
      "          2,   2,   2,   2,   2,   2,   2,   2,   2,   2,   2,   2,   2,   2,\n",
      "          2]), tensor([  3,   5,  86,  88,   4, 165,  88,   1,   2,   2,   2,   2,   2,   2,\n",
      "          2,   2,   2,   2,   2,   2,   2,   2,   2,   2,   2,   2,   2,   2,\n",
      "          2,   2,   2,   2,   2,   2,   2,   2,   2,   2,   2,   2,   2,   2,\n",
      "          2]), tensor([  3,   5,  86,  88,  39,  15,  55,  27,   4, 165,  89, 216,  49, 183,\n",
      "        226,   1,   2,   2,   2,   2,   2,   2,   2,   2,   2,   2,   2,   2,\n",
      "          2,   2,   2,   2,   2,   2,   2,   2,   2,   2,   2,   2,   2,   2,\n",
      "          2]), tensor([  3,   5,  88,  27,  65,  16,   4, 183,  89, 194,  65,  16,   1,   2,\n",
      "          2,   2,   2,   2,   2,   2,   2,   2,   2,   2,   2,   2,   2,   2,\n",
      "          2,   2,   2,   2,   2,   2,   2,   2,   2,   2,   2,   2,   2,   2,\n",
      "          2]), tensor([  3,   5,  88,  55,   5,  65,  88,   5,   4, 130,  88,  55, 130,  65,\n",
      "        183,   1,   2,   2,   2,   2,   2,   2,   2,   2,   2,   2,   2,   2,\n",
      "          2,   2,   2,   2,   2,   2,   2,   2,   2,   2,   2,   2,   2,   2,\n",
      "          2]), tensor([  3,   5,  88,  55,   5,  65,  88,   5,   4, 130,  88,  55, 130, 255,\n",
      "        183,   1,   2,   2,   2,   2,   2,   2,   2,   2,   2,   2,   2,   2,\n",
      "          2,   2,   2,   2,   2,   2,   2,   2,   2,   2,   2,   2,   2,   2,\n",
      "          2]), tensor([  3,   5,  88,  88,  27,  65,  16,   4, 183,  89, 194,  65,  16,   1,\n",
      "          2,   2,   2,   2,   2,   2,   2,   2,   2,   2,   2,   2,   2,   2,\n",
      "          2,   2,   2,   2,   2,   2,   2,   2,   2,   2,   2,   2,   2,   2,\n",
      "          2]), tensor([  3,   5,  88,  88,  39,  15,   4, 130, 253, 216,  48,   1,   2,   2,\n",
      "          2,   2,   2,   2,   2,   2,   2,   2,   2,   2,   2,   2,   2,   2,\n",
      "          2,   2,   2,   2,   2,   2,   2,   2,   2,   2,   2,   2,   2,   2,\n",
      "          2]), tensor([  3,   5,  88,  88,  86,   5,  15,  88,  39,  73,  65,   4, 183,  88,\n",
      "        239, 130,  48, 260, 222,  65,   1,   2,   2,   2,   2,   2,   2,   2,\n",
      "          2,   2,   2,   2,   2,   2,   2,   2,   2,   2,   2,   2,   2,   2,\n",
      "          2]), tensor([  3,   5,  88,  88,  86,   5,  15,  88,  39,  73,  65,   4, 183, 105,\n",
      "        239, 130,  48, 260, 222,  65,   1,   2,   2,   2,   2,   2,   2,   2,\n",
      "          2,   2,   2,   2,   2,   2,   2,   2,   2,   2,   2,   2,   2,   2,\n",
      "          2]), tensor([  3,   5, 109,  37, 109,  87,  88,   5,  65,   4, 178, 206, 280,  87,\n",
      "         88,  70,   1,   2,   2,   2,   2,   2,   2,   2,   2,   2,   2,   2,\n",
      "          2,   2,   2,   2,   2,   2,   2,   2,   2,   2,   2,   2,   2,   2,\n",
      "          2]), tensor([  3,   5, 109,  55,   5,   4, 178,  55,   5,   1,   2,   2,   2,   2,\n",
      "          2,   2,   2,   2,   2,   2,   2,   2,   2,   2,   2,   2,   2,   2,\n",
      "          2,   2,   2,   2,   2,   2,   2,   2,   2,   2,   2,   2,   2,   2,\n",
      "          2]), tensor([  3,   5, 109,  65,  88,   4,   5,  65,  88,   1,   2,   2,   2,   2,\n",
      "          2,   2,   2,   2,   2,   2,   2,   2,   2,   2,   2,   2,   2,   2,\n",
      "          2,   2,   2,   2,   2,   2,   2,   2,   2,   2,   2,   2,   2,   2,\n",
      "          2]), tensor([  3,   5, 109,  65,  88,   4,   7,  65,  88,   1,   2,   2,   2,   2,\n",
      "          2,   2,   2,   2,   2,   2,   2,   2,   2,   2,   2,   2,   2,   2,\n",
      "          2,   2,   2,   2,   2,   2,   2,   2,   2,   2,   2,   2,   2,   2,\n",
      "          2]), tensor([  3,   5, 109,  65,  88,   4,  27, 183,  65,  88,   1,   2,   2,   2,\n",
      "          2,   2,   2,   2,   2,   2,   2,   2,   2,   2,   2,   2,   2,   2,\n",
      "          2,   2,   2,   2,   2,   2,   2,   2,   2,   2,   2,   2,   2,   2,\n",
      "          2]), tensor([  3,   5, 109,  65,  88,   4, 129,  65,  88,   1,   2,   2,   2,   2,\n",
      "          2,   2,   2,   2,   2,   2,   2,   2,   2,   2,   2,   2,   2,   2,\n",
      "          2,   2,   2,   2,   2,   2,   2,   2,   2,   2,   2,   2,   2,   2,\n",
      "          2]), tensor([  3,   5, 109,  65,  88,   4, 130,  65,  88,   1,   2,   2,   2,   2,\n",
      "          2,   2,   2,   2,   2,   2,   2,   2,   2,   2,   2,   2,   2,   2,\n",
      "          2,   2,   2,   2,   2,   2,   2,   2,   2,   2,   2,   2,   2,   2,\n",
      "          2]), tensor([  3,   5, 109,  65,  88,   4, 162,  65,  88,   1,   2,   2,   2,   2,\n",
      "          2,   2,   2,   2,   2,   2,   2,   2,   2,   2,   2,   2,   2,   2,\n",
      "          2,   2,   2,   2,   2,   2,   2,   2,   2,   2,   2,   2,   2,   2,\n",
      "          2]), tensor([  3,   5, 109,  65,  88,   4, 165,  65,  88,   1,   2,   2,   2,   2,\n",
      "          2,   2,   2,   2,   2,   2,   2,   2,   2,   2,   2,   2,   2,   2,\n",
      "          2,   2,   2,   2,   2,   2,   2,   2,   2,   2,   2,   2,   2,   2,\n",
      "          2]), tensor([  3,   5, 109,  65,  88,   4, 173,  65,  88,   1,   2,   2,   2,   2,\n",
      "          2,   2,   2,   2,   2,   2,   2,   2,   2,   2,   2,   2,   2,   2,\n",
      "          2,   2,   2,   2,   2,   2,   2,   2,   2,   2,   2,   2,   2,   2,\n",
      "          2]), tensor([  3,   5, 109,  65,  88,   4, 194, 183,  65,  88,   1,   2,   2,   2,\n",
      "          2,   2,   2,   2,   2,   2,   2,   2,   2,   2,   2,   2,   2,   2,\n",
      "          2,   2,   2,   2,   2,   2,   2,   2,   2,   2,   2,   2,   2,   2,\n",
      "          2]), tensor([  3,   5, 117,   5,  39,  55,   5,   9,  39,  55,  39,  88, 121,   4,\n",
      "        183, 117,  27, 216,  55, 183,   9, 216,  55, 216,  88, 216,   1,   2,\n",
      "          2,   2,   2,   2,   2,   2,   2,   2,   2,   2,   2,   2,   2,   2,\n",
      "          2]), tensor([  3,   5, 118,   5,  86,   5,   4, 130, 118, 165, 239, 280,   1,   2,\n",
      "          2,   2,   2,   2,   2,   2,   2,   2,   2,   2,   2,   2,   2,   2,\n",
      "          2,   2,   2,   2,   2,   2,   2,   2,   2,   2,   2,   2,   2,   2,\n",
      "          2]), tensor([  3,   5, 118,   5,  86,   5,   4, 171, 118, 280, 239, 280,   1,   2,\n",
      "          2,   2,   2,   2,   2,   2,   2,   2,   2,   2,   2,   2,   2,   2,\n",
      "          2,   2,   2,   2,   2,   2,   2,   2,   2,   2,   2,   2,   2,   2,\n",
      "          2]), tensor([  3,   5, 121, 109,  38,   4, 296, 216, 281,   1,   2,   2,   2,   2,\n",
      "          2,   2,   2,   2,   2,   2,   2,   2,   2,   2,   2,   2,   2,   2,\n",
      "          2,   2,   2,   2,   2,   2,   2,   2,   2,   2,   2,   2,   2,   2,\n",
      "          2]), tensor([  3,   9,   5,   5,   4,   9, 139, 139, 139, 139,   1,   2,   2,   2,\n",
      "          2,   2,   2,   2,   2,   2,   2,   2,   2,   2,   2,   2,   2,   2,\n",
      "          2,   2,   2,   2,   2,   2,   2,   2,   2,   2,   2,   2,   2,   2,\n",
      "          2]), tensor([  3,   9,   5,   5,   4,   9, 140,   1,   2,   2,   2,   2,   2,   2,\n",
      "          2,   2,   2,   2,   2,   2,   2,   2,   2,   2,   2,   2,   2,   2,\n",
      "          2,   2,   2,   2,   2,   2,   2,   2,   2,   2,   2,   2,   2,   2,\n",
      "          2]), tensor([  3,   9,   5,   5,   4,   9, 165,   1,   2,   2,   2,   2,   2,   2,\n",
      "          2,   2,   2,   2,   2,   2,   2,   2,   2,   2,   2,   2,   2,   2,\n",
      "          2,   2,   2,   2,   2,   2,   2,   2,   2,   2,   2,   2,   2,   2,\n",
      "          2]), tensor([  3,   9,   5,   9,   9,  55,  27,  86,   4,   9, 130,   9, 183,  55,\n",
      "        183, 239,   1,   2,   2,   2,   2,   2,   2,   2,   2,   2,   2,   2,\n",
      "          2,   2,   2,   2,   2,   2,   2,   2,   2,   2,   2,   2,   2,   2,\n",
      "          2]), tensor([ 3,  9,  5, 15, 48,  4,  9,  5, 48,  1,  2,  2,  2,  2,  2,  2,  2,  2,\n",
      "         2,  2,  2,  2,  2,  2,  2,  2,  2,  2,  2,  2,  2,  2,  2,  2,  2,  2,\n",
      "         2,  2,  2,  2,  2,  2,  2])]\n"
     ]
    }
   ],
   "source": [
    "data = []\n",
    "for ex in dataset:\n",
    "    pad_ex = ex + ([padtoken] * (max_len - len(ex)))\n",
    "    data.append(torch.tensor(encode(pad_ex), dtype=torch.long))\n",
    "print(data[:100])"
   ]
  },
  {
   "cell_type": "code",
   "execution_count": 18,
   "id": "56d43bb2-61ed-49e1-a8d7-d589ffe5c99f",
   "metadata": {},
   "outputs": [
    {
     "name": "stdout",
     "output_type": "stream",
     "text": [
      "tensor([  3,  16,  27,   5,  15,  27,  88, 121,  55,  88,  86,   5,  65,  87,\n",
      "         33,  27,  86,   5,  87,  27,   4,  16,  40, 183,  87,  40,  88,   5,\n",
      "        216, 226,  88, 239, 165,  65,  87,  33, 183, 239,  27, 216, 123,   1,\n",
      "          2])\n"
     ]
    }
   ],
   "source": [
    "print(data[380])"
   ]
  },
  {
   "cell_type": "markdown",
   "id": "ea65cb55-3e1a-46ec-9f93-0f77472dea65",
   "metadata": {},
   "source": [
    "The number of training examples is:"
   ]
  },
  {
   "cell_type": "code",
   "execution_count": 19,
   "id": "ab907625-86a4-4467-9e27-df4267126340",
   "metadata": {},
   "outputs": [
    {
     "name": "stdout",
     "output_type": "stream",
     "text": [
      "3633\n"
     ]
    }
   ],
   "source": [
    "print(len(data))"
   ]
  },
  {
   "cell_type": "markdown",
   "id": "ee577833-20ba-4db4-8f50-02164de12e94",
   "metadata": {},
   "source": [
    "Next step is to split up the dataset into a training set and validation set."
   ]
  },
  {
   "cell_type": "code",
   "execution_count": 20,
   "id": "c3ae05aa-a4ef-4f42-a06d-a897b6a08feb",
   "metadata": {},
   "outputs": [],
   "source": [
    "n = int(0.9*len(data))\n",
    "train_data = data[:n]\n",
    "val_data = data[n:]"
   ]
  },
  {
   "cell_type": "markdown",
   "id": "08d718e3-63be-476f-993c-bbcfb2f57d1b",
   "metadata": {},
   "source": [
    "We set the `block_size` to `max_len-2` because we have added a endoftext and pad token to each example."
   ]
  },
  {
   "cell_type": "code",
   "execution_count": 21,
   "id": "a1e5d8ab-439d-4175-901e-4bfcf6e2a712",
   "metadata": {},
   "outputs": [],
   "source": [
    "block_size = max_len-2"
   ]
  },
  {
   "cell_type": "markdown",
   "id": "28056078-b827-44ed-9135-b282500ba3d1",
   "metadata": {},
   "source": [
    "Check that the input and output tensor lengths are correct by checking on the longest example in the dataset. `x` is the input tensor and `y` is the tensor with the output for each prefix of the input."
   ]
  },
  {
   "cell_type": "code",
   "execution_count": 22,
   "id": "a72afbf1-530f-4372-bd0c-7335df590c9d",
   "metadata": {},
   "outputs": [
    {
     "name": "stdout",
     "output_type": "stream",
     "text": [
      "tensor([[  3,  16,  27,   5,  15,  27,  88, 121,  55,  88,  86,   5,  65,  87,\n",
      "          33,  27,  86,   5,  87,  27,   4,  16,  40, 183,  87,  40,  88,   5,\n",
      "         216, 226,  88, 239, 165,  65,  87,  33, 183, 239,  27, 216, 123]]) torch.Size([1, 41])\n",
      "tensor([[ 16,  27,   5,  15,  27,  88, 121,  55,  88,  86,   5,  65,  87,  33,\n",
      "          27,  86,   5,  87,  27,   4,  16,  40, 183,  87,  40,  88,   5, 216,\n",
      "         226,  88, 239, 165,  65,  87,  33, 183, 239,  27, 216, 123,   1]]) torch.Size([1, 41])\n"
     ]
    }
   ],
   "source": [
    "x = torch.stack([data[longest_idx][0:block_size]])\n",
    "y = torch.stack([data[longest_idx][1:block_size+1]])\n",
    "print(x, x.size())\n",
    "print(y, y.size())"
   ]
  },
  {
   "cell_type": "code",
   "execution_count": 23,
   "id": "7374aa95-3f28-4da4-9c43-1afc3613d750",
   "metadata": {},
   "outputs": [
    {
     "name": "stdout",
     "output_type": "stream",
     "text": [
      "tensor([[  3,  15,   5,  55,  55,  27,  16,   4,  49, 177,  55,  16,   1,   2,\n",
      "           2,   2,   2,   2,   2,   2,   2,   2,   2,   2,   2,   2,   2,   2,\n",
      "           2,   2,   2,   2,   2,   2,   2,   2,   2,   2,   2,   2,   2],\n",
      "        [  3,  87,  27,  65,  77,   5,  39,   4,  87, 194,  65,  77,   5, 225,\n",
      "           1,   2,   2,   2,   2,   2,   2,   2,   2,   2,   2,   2,   2,   2,\n",
      "           2,   2,   2,   2,   2,   2,   2,   2,   2,   2,   2,   2,   2],\n",
      "        [  3,  15,   5,  15,   5,  73,   4,  48, 183,  49,  27, 225,  73, 275,\n",
      "           1,   2,   2,   2,   2,   2,   2,   2,   2,   2,   2,   2,   2,   2,\n",
      "           2,   2,   2,   2,   2,   2,   2,   2,   2,   2,   2,   2,   2],\n",
      "        [  3,  77,   5,  88,  38,   4,  78, 165, 307,   1,   2,   2,   2,   2,\n",
      "           2,   2,   2,   2,   2,   2,   2,   2,   2,   2,   2,   2,   2,   2,\n",
      "           2,   2,   2,   2,   2,   2,   2,   2,   2,   2,   2,   2,   2]]) torch.Size([4, 41])\n",
      "tensor([[ 15,   5,  55,  55,  27,  16,   4,  49, 177,  55,  16,   1,   2,   2,\n",
      "           2,   2,   2,   2,   2,   2,   2,   2,   2,   2,   2,   2,   2,   2,\n",
      "           2,   2,   2,   2,   2,   2,   2,   2,   2,   2,   2,   2,   2],\n",
      "        [ 87,  27,  65,  77,   5,  39,   4,  87, 194,  65,  77,   5, 225,   1,\n",
      "           2,   2,   2,   2,   2,   2,   2,   2,   2,   2,   2,   2,   2,   2,\n",
      "           2,   2,   2,   2,   2,   2,   2,   2,   2,   2,   2,   2,   2],\n",
      "        [ 15,   5,  15,   5,  73,   4,  48, 183,  49,  27, 225,  73, 275,   1,\n",
      "           2,   2,   2,   2,   2,   2,   2,   2,   2,   2,   2,   2,   2,   2,\n",
      "           2,   2,   2,   2,   2,   2,   2,   2,   2,   2,   2,   2,   2],\n",
      "        [ 77,   5,  88,  38,   4,  78, 165, 307,   1,   2,   2,   2,   2,   2,\n",
      "           2,   2,   2,   2,   2,   2,   2,   2,   2,   2,   2,   2,   2,   2,\n",
      "           2,   2,   2,   2,   2,   2,   2,   2,   2,   2,   2,   2,   2]]) torch.Size([4, 41])\n"
     ]
    }
   ],
   "source": [
    "def get_batch(split, block_size, batch_size):\n",
    "    data = train_data if split == 'train' else val_data\n",
    "    ix = torch.randint(len(data), (batch_size,))\n",
    "    x = torch.stack([data[i][0:block_size] for i in ix])\n",
    "    y = torch.stack([data[i][1:block_size+1] for i in ix])\n",
    "    return x, y\n",
    "\n",
    "block_size = max_len-2\n",
    "batch_size = 4\n",
    "xb, yb = get_batch('train', block_size, batch_size)\n",
    "print(xb, xb.size())\n",
    "print(yb, yb.size())"
   ]
  },
  {
   "cell_type": "code",
   "execution_count": 24,
   "id": "efe1e721-c775-4bb9-b1e2-781ee6b4508f",
   "metadata": {},
   "outputs": [
    {
     "name": "stdout",
     "output_type": "stream",
     "text": [
      "when input is [3] the target is: 15\n",
      "when input is [3, 15] the target is: 5\n",
      "when input is [3, 15, 5] the target is: 55\n",
      "when input is [3, 15, 5, 55] the target is: 55\n",
      "when input is [3, 15, 5, 55, 55] the target is: 27\n",
      "when input is [3, 15, 5, 55, 55, 27] the target is: 16\n",
      "when input is [3, 15, 5, 55, 55, 27, 16] the target is: 4\n",
      "when input is [3, 15, 5, 55, 55, 27, 16, 4] the target is: 49\n",
      "when input is [3, 15, 5, 55, 55, 27, 16, 4, 49] the target is: 177\n",
      "when input is [3, 15, 5, 55, 55, 27, 16, 4, 49, 177] the target is: 55\n",
      "when input is [3, 15, 5, 55, 55, 27, 16, 4, 49, 177, 55] the target is: 16\n",
      "when input is [3, 15, 5, 55, 55, 27, 16, 4, 49, 177, 55, 16] the target is: 1\n",
      "when input is [3, 15, 5, 55, 55, 27, 16, 4, 49, 177, 55, 16, 1] the target is: 2\n",
      "when input is [3, 15, 5, 55, 55, 27, 16, 4, 49, 177, 55, 16, 1, 2] the target is: 2\n",
      "when input is [3, 15, 5, 55, 55, 27, 16, 4, 49, 177, 55, 16, 1, 2, 2] the target is: 2\n",
      "when input is [3, 15, 5, 55, 55, 27, 16, 4, 49, 177, 55, 16, 1, 2, 2, 2] the target is: 2\n",
      "when input is [3, 15, 5, 55, 55, 27, 16, 4, 49, 177, 55, 16, 1, 2, 2, 2, 2] the target is: 2\n",
      "when input is [3, 15, 5, 55, 55, 27, 16, 4, 49, 177, 55, 16, 1, 2, 2, 2, 2, 2] the target is: 2\n",
      "when input is [3, 15, 5, 55, 55, 27, 16, 4, 49, 177, 55, 16, 1, 2, 2, 2, 2, 2, 2] the target is: 2\n",
      "when input is [3, 15, 5, 55, 55, 27, 16, 4, 49, 177, 55, 16, 1, 2, 2, 2, 2, 2, 2, 2] the target is: 2\n",
      "when input is [3, 15, 5, 55, 55, 27, 16, 4, 49, 177, 55, 16, 1, 2, 2, 2, 2, 2, 2, 2, 2] the target is: 2\n",
      "when input is [3, 15, 5, 55, 55, 27, 16, 4, 49, 177, 55, 16, 1, 2, 2, 2, 2, 2, 2, 2, 2, 2] the target is: 2\n",
      "when input is [3, 15, 5, 55, 55, 27, 16, 4, 49, 177, 55, 16, 1, 2, 2, 2, 2, 2, 2, 2, 2, 2, 2] the target is: 2\n",
      "when input is [3, 15, 5, 55, 55, 27, 16, 4, 49, 177, 55, 16, 1, 2, 2, 2, 2, 2, 2, 2, 2, 2, 2, 2] the target is: 2\n",
      "when input is [3, 15, 5, 55, 55, 27, 16, 4, 49, 177, 55, 16, 1, 2, 2, 2, 2, 2, 2, 2, 2, 2, 2, 2, 2] the target is: 2\n",
      "when input is [3, 15, 5, 55, 55, 27, 16, 4, 49, 177, 55, 16, 1, 2, 2, 2, 2, 2, 2, 2, 2, 2, 2, 2, 2, 2] the target is: 2\n",
      "when input is [3, 15, 5, 55, 55, 27, 16, 4, 49, 177, 55, 16, 1, 2, 2, 2, 2, 2, 2, 2, 2, 2, 2, 2, 2, 2, 2] the target is: 2\n",
      "when input is [3, 15, 5, 55, 55, 27, 16, 4, 49, 177, 55, 16, 1, 2, 2, 2, 2, 2, 2, 2, 2, 2, 2, 2, 2, 2, 2, 2] the target is: 2\n",
      "when input is [3, 15, 5, 55, 55, 27, 16, 4, 49, 177, 55, 16, 1, 2, 2, 2, 2, 2, 2, 2, 2, 2, 2, 2, 2, 2, 2, 2, 2] the target is: 2\n",
      "when input is [3, 15, 5, 55, 55, 27, 16, 4, 49, 177, 55, 16, 1, 2, 2, 2, 2, 2, 2, 2, 2, 2, 2, 2, 2, 2, 2, 2, 2, 2] the target is: 2\n",
      "when input is [3, 15, 5, 55, 55, 27, 16, 4, 49, 177, 55, 16, 1, 2, 2, 2, 2, 2, 2, 2, 2, 2, 2, 2, 2, 2, 2, 2, 2, 2, 2] the target is: 2\n",
      "when input is [3, 15, 5, 55, 55, 27, 16, 4, 49, 177, 55, 16, 1, 2, 2, 2, 2, 2, 2, 2, 2, 2, 2, 2, 2, 2, 2, 2, 2, 2, 2, 2] the target is: 2\n",
      "when input is [3, 15, 5, 55, 55, 27, 16, 4, 49, 177, 55, 16, 1, 2, 2, 2, 2, 2, 2, 2, 2, 2, 2, 2, 2, 2, 2, 2, 2, 2, 2, 2, 2] the target is: 2\n",
      "when input is [3, 15, 5, 55, 55, 27, 16, 4, 49, 177, 55, 16, 1, 2, 2, 2, 2, 2, 2, 2, 2, 2, 2, 2, 2, 2, 2, 2, 2, 2, 2, 2, 2, 2] the target is: 2\n",
      "when input is [3, 15, 5, 55, 55, 27, 16, 4, 49, 177, 55, 16, 1, 2, 2, 2, 2, 2, 2, 2, 2, 2, 2, 2, 2, 2, 2, 2, 2, 2, 2, 2, 2, 2, 2] the target is: 2\n",
      "when input is [3, 15, 5, 55, 55, 27, 16, 4, 49, 177, 55, 16, 1, 2, 2, 2, 2, 2, 2, 2, 2, 2, 2, 2, 2, 2, 2, 2, 2, 2, 2, 2, 2, 2, 2, 2] the target is: 2\n",
      "when input is [3, 15, 5, 55, 55, 27, 16, 4, 49, 177, 55, 16, 1, 2, 2, 2, 2, 2, 2, 2, 2, 2, 2, 2, 2, 2, 2, 2, 2, 2, 2, 2, 2, 2, 2, 2, 2] the target is: 2\n",
      "when input is [3, 15, 5, 55, 55, 27, 16, 4, 49, 177, 55, 16, 1, 2, 2, 2, 2, 2, 2, 2, 2, 2, 2, 2, 2, 2, 2, 2, 2, 2, 2, 2, 2, 2, 2, 2, 2, 2] the target is: 2\n",
      "when input is [3, 15, 5, 55, 55, 27, 16, 4, 49, 177, 55, 16, 1, 2, 2, 2, 2, 2, 2, 2, 2, 2, 2, 2, 2, 2, 2, 2, 2, 2, 2, 2, 2, 2, 2, 2, 2, 2, 2] the target is: 2\n",
      "when input is [3, 15, 5, 55, 55, 27, 16, 4, 49, 177, 55, 16, 1, 2, 2, 2, 2, 2, 2, 2, 2, 2, 2, 2, 2, 2, 2, 2, 2, 2, 2, 2, 2, 2, 2, 2, 2, 2, 2, 2] the target is: 2\n",
      "when input is [3, 15, 5, 55, 55, 27, 16, 4, 49, 177, 55, 16, 1, 2, 2, 2, 2, 2, 2, 2, 2, 2, 2, 2, 2, 2, 2, 2, 2, 2, 2, 2, 2, 2, 2, 2, 2, 2, 2, 2, 2] the target is: 2\n",
      "when input is [3] the target is: 87\n",
      "when input is [3, 87] the target is: 27\n",
      "when input is [3, 87, 27] the target is: 65\n",
      "when input is [3, 87, 27, 65] the target is: 77\n",
      "when input is [3, 87, 27, 65, 77] the target is: 5\n",
      "when input is [3, 87, 27, 65, 77, 5] the target is: 39\n",
      "when input is [3, 87, 27, 65, 77, 5, 39] the target is: 4\n",
      "when input is [3, 87, 27, 65, 77, 5, 39, 4] the target is: 87\n",
      "when input is [3, 87, 27, 65, 77, 5, 39, 4, 87] the target is: 194\n",
      "when input is [3, 87, 27, 65, 77, 5, 39, 4, 87, 194] the target is: 65\n",
      "when input is [3, 87, 27, 65, 77, 5, 39, 4, 87, 194, 65] the target is: 77\n",
      "when input is [3, 87, 27, 65, 77, 5, 39, 4, 87, 194, 65, 77] the target is: 5\n",
      "when input is [3, 87, 27, 65, 77, 5, 39, 4, 87, 194, 65, 77, 5] the target is: 225\n",
      "when input is [3, 87, 27, 65, 77, 5, 39, 4, 87, 194, 65, 77, 5, 225] the target is: 1\n",
      "when input is [3, 87, 27, 65, 77, 5, 39, 4, 87, 194, 65, 77, 5, 225, 1] the target is: 2\n",
      "when input is [3, 87, 27, 65, 77, 5, 39, 4, 87, 194, 65, 77, 5, 225, 1, 2] the target is: 2\n",
      "when input is [3, 87, 27, 65, 77, 5, 39, 4, 87, 194, 65, 77, 5, 225, 1, 2, 2] the target is: 2\n",
      "when input is [3, 87, 27, 65, 77, 5, 39, 4, 87, 194, 65, 77, 5, 225, 1, 2, 2, 2] the target is: 2\n",
      "when input is [3, 87, 27, 65, 77, 5, 39, 4, 87, 194, 65, 77, 5, 225, 1, 2, 2, 2, 2] the target is: 2\n",
      "when input is [3, 87, 27, 65, 77, 5, 39, 4, 87, 194, 65, 77, 5, 225, 1, 2, 2, 2, 2, 2] the target is: 2\n",
      "when input is [3, 87, 27, 65, 77, 5, 39, 4, 87, 194, 65, 77, 5, 225, 1, 2, 2, 2, 2, 2, 2] the target is: 2\n",
      "when input is [3, 87, 27, 65, 77, 5, 39, 4, 87, 194, 65, 77, 5, 225, 1, 2, 2, 2, 2, 2, 2, 2] the target is: 2\n",
      "when input is [3, 87, 27, 65, 77, 5, 39, 4, 87, 194, 65, 77, 5, 225, 1, 2, 2, 2, 2, 2, 2, 2, 2] the target is: 2\n",
      "when input is [3, 87, 27, 65, 77, 5, 39, 4, 87, 194, 65, 77, 5, 225, 1, 2, 2, 2, 2, 2, 2, 2, 2, 2] the target is: 2\n",
      "when input is [3, 87, 27, 65, 77, 5, 39, 4, 87, 194, 65, 77, 5, 225, 1, 2, 2, 2, 2, 2, 2, 2, 2, 2, 2] the target is: 2\n",
      "when input is [3, 87, 27, 65, 77, 5, 39, 4, 87, 194, 65, 77, 5, 225, 1, 2, 2, 2, 2, 2, 2, 2, 2, 2, 2, 2] the target is: 2\n",
      "when input is [3, 87, 27, 65, 77, 5, 39, 4, 87, 194, 65, 77, 5, 225, 1, 2, 2, 2, 2, 2, 2, 2, 2, 2, 2, 2, 2] the target is: 2\n",
      "when input is [3, 87, 27, 65, 77, 5, 39, 4, 87, 194, 65, 77, 5, 225, 1, 2, 2, 2, 2, 2, 2, 2, 2, 2, 2, 2, 2, 2] the target is: 2\n",
      "when input is [3, 87, 27, 65, 77, 5, 39, 4, 87, 194, 65, 77, 5, 225, 1, 2, 2, 2, 2, 2, 2, 2, 2, 2, 2, 2, 2, 2, 2] the target is: 2\n",
      "when input is [3, 87, 27, 65, 77, 5, 39, 4, 87, 194, 65, 77, 5, 225, 1, 2, 2, 2, 2, 2, 2, 2, 2, 2, 2, 2, 2, 2, 2, 2] the target is: 2\n",
      "when input is [3, 87, 27, 65, 77, 5, 39, 4, 87, 194, 65, 77, 5, 225, 1, 2, 2, 2, 2, 2, 2, 2, 2, 2, 2, 2, 2, 2, 2, 2, 2] the target is: 2\n",
      "when input is [3, 87, 27, 65, 77, 5, 39, 4, 87, 194, 65, 77, 5, 225, 1, 2, 2, 2, 2, 2, 2, 2, 2, 2, 2, 2, 2, 2, 2, 2, 2, 2] the target is: 2\n",
      "when input is [3, 87, 27, 65, 77, 5, 39, 4, 87, 194, 65, 77, 5, 225, 1, 2, 2, 2, 2, 2, 2, 2, 2, 2, 2, 2, 2, 2, 2, 2, 2, 2, 2] the target is: 2\n",
      "when input is [3, 87, 27, 65, 77, 5, 39, 4, 87, 194, 65, 77, 5, 225, 1, 2, 2, 2, 2, 2, 2, 2, 2, 2, 2, 2, 2, 2, 2, 2, 2, 2, 2, 2] the target is: 2\n",
      "when input is [3, 87, 27, 65, 77, 5, 39, 4, 87, 194, 65, 77, 5, 225, 1, 2, 2, 2, 2, 2, 2, 2, 2, 2, 2, 2, 2, 2, 2, 2, 2, 2, 2, 2, 2] the target is: 2\n",
      "when input is [3, 87, 27, 65, 77, 5, 39, 4, 87, 194, 65, 77, 5, 225, 1, 2, 2, 2, 2, 2, 2, 2, 2, 2, 2, 2, 2, 2, 2, 2, 2, 2, 2, 2, 2, 2] the target is: 2\n",
      "when input is [3, 87, 27, 65, 77, 5, 39, 4, 87, 194, 65, 77, 5, 225, 1, 2, 2, 2, 2, 2, 2, 2, 2, 2, 2, 2, 2, 2, 2, 2, 2, 2, 2, 2, 2, 2, 2] the target is: 2\n",
      "when input is [3, 87, 27, 65, 77, 5, 39, 4, 87, 194, 65, 77, 5, 225, 1, 2, 2, 2, 2, 2, 2, 2, 2, 2, 2, 2, 2, 2, 2, 2, 2, 2, 2, 2, 2, 2, 2, 2] the target is: 2\n",
      "when input is [3, 87, 27, 65, 77, 5, 39, 4, 87, 194, 65, 77, 5, 225, 1, 2, 2, 2, 2, 2, 2, 2, 2, 2, 2, 2, 2, 2, 2, 2, 2, 2, 2, 2, 2, 2, 2, 2, 2] the target is: 2\n",
      "when input is [3, 87, 27, 65, 77, 5, 39, 4, 87, 194, 65, 77, 5, 225, 1, 2, 2, 2, 2, 2, 2, 2, 2, 2, 2, 2, 2, 2, 2, 2, 2, 2, 2, 2, 2, 2, 2, 2, 2, 2] the target is: 2\n",
      "when input is [3, 87, 27, 65, 77, 5, 39, 4, 87, 194, 65, 77, 5, 225, 1, 2, 2, 2, 2, 2, 2, 2, 2, 2, 2, 2, 2, 2, 2, 2, 2, 2, 2, 2, 2, 2, 2, 2, 2, 2, 2] the target is: 2\n",
      "when input is [3] the target is: 15\n",
      "when input is [3, 15] the target is: 5\n",
      "when input is [3, 15, 5] the target is: 15\n",
      "when input is [3, 15, 5, 15] the target is: 5\n",
      "when input is [3, 15, 5, 15, 5] the target is: 73\n",
      "when input is [3, 15, 5, 15, 5, 73] the target is: 4\n",
      "when input is [3, 15, 5, 15, 5, 73, 4] the target is: 48\n",
      "when input is [3, 15, 5, 15, 5, 73, 4, 48] the target is: 183\n",
      "when input is [3, 15, 5, 15, 5, 73, 4, 48, 183] the target is: 49\n",
      "when input is [3, 15, 5, 15, 5, 73, 4, 48, 183, 49] the target is: 27\n",
      "when input is [3, 15, 5, 15, 5, 73, 4, 48, 183, 49, 27] the target is: 225\n",
      "when input is [3, 15, 5, 15, 5, 73, 4, 48, 183, 49, 27, 225] the target is: 73\n",
      "when input is [3, 15, 5, 15, 5, 73, 4, 48, 183, 49, 27, 225, 73] the target is: 275\n",
      "when input is [3, 15, 5, 15, 5, 73, 4, 48, 183, 49, 27, 225, 73, 275] the target is: 1\n",
      "when input is [3, 15, 5, 15, 5, 73, 4, 48, 183, 49, 27, 225, 73, 275, 1] the target is: 2\n",
      "when input is [3, 15, 5, 15, 5, 73, 4, 48, 183, 49, 27, 225, 73, 275, 1, 2] the target is: 2\n",
      "when input is [3, 15, 5, 15, 5, 73, 4, 48, 183, 49, 27, 225, 73, 275, 1, 2, 2] the target is: 2\n",
      "when input is [3, 15, 5, 15, 5, 73, 4, 48, 183, 49, 27, 225, 73, 275, 1, 2, 2, 2] the target is: 2\n",
      "when input is [3, 15, 5, 15, 5, 73, 4, 48, 183, 49, 27, 225, 73, 275, 1, 2, 2, 2, 2] the target is: 2\n",
      "when input is [3, 15, 5, 15, 5, 73, 4, 48, 183, 49, 27, 225, 73, 275, 1, 2, 2, 2, 2, 2] the target is: 2\n",
      "when input is [3, 15, 5, 15, 5, 73, 4, 48, 183, 49, 27, 225, 73, 275, 1, 2, 2, 2, 2, 2, 2] the target is: 2\n",
      "when input is [3, 15, 5, 15, 5, 73, 4, 48, 183, 49, 27, 225, 73, 275, 1, 2, 2, 2, 2, 2, 2, 2] the target is: 2\n",
      "when input is [3, 15, 5, 15, 5, 73, 4, 48, 183, 49, 27, 225, 73, 275, 1, 2, 2, 2, 2, 2, 2, 2, 2] the target is: 2\n",
      "when input is [3, 15, 5, 15, 5, 73, 4, 48, 183, 49, 27, 225, 73, 275, 1, 2, 2, 2, 2, 2, 2, 2, 2, 2] the target is: 2\n",
      "when input is [3, 15, 5, 15, 5, 73, 4, 48, 183, 49, 27, 225, 73, 275, 1, 2, 2, 2, 2, 2, 2, 2, 2, 2, 2] the target is: 2\n",
      "when input is [3, 15, 5, 15, 5, 73, 4, 48, 183, 49, 27, 225, 73, 275, 1, 2, 2, 2, 2, 2, 2, 2, 2, 2, 2, 2] the target is: 2\n",
      "when input is [3, 15, 5, 15, 5, 73, 4, 48, 183, 49, 27, 225, 73, 275, 1, 2, 2, 2, 2, 2, 2, 2, 2, 2, 2, 2, 2] the target is: 2\n",
      "when input is [3, 15, 5, 15, 5, 73, 4, 48, 183, 49, 27, 225, 73, 275, 1, 2, 2, 2, 2, 2, 2, 2, 2, 2, 2, 2, 2, 2] the target is: 2\n",
      "when input is [3, 15, 5, 15, 5, 73, 4, 48, 183, 49, 27, 225, 73, 275, 1, 2, 2, 2, 2, 2, 2, 2, 2, 2, 2, 2, 2, 2, 2] the target is: 2\n",
      "when input is [3, 15, 5, 15, 5, 73, 4, 48, 183, 49, 27, 225, 73, 275, 1, 2, 2, 2, 2, 2, 2, 2, 2, 2, 2, 2, 2, 2, 2, 2] the target is: 2\n",
      "when input is [3, 15, 5, 15, 5, 73, 4, 48, 183, 49, 27, 225, 73, 275, 1, 2, 2, 2, 2, 2, 2, 2, 2, 2, 2, 2, 2, 2, 2, 2, 2] the target is: 2\n",
      "when input is [3, 15, 5, 15, 5, 73, 4, 48, 183, 49, 27, 225, 73, 275, 1, 2, 2, 2, 2, 2, 2, 2, 2, 2, 2, 2, 2, 2, 2, 2, 2, 2] the target is: 2\n",
      "when input is [3, 15, 5, 15, 5, 73, 4, 48, 183, 49, 27, 225, 73, 275, 1, 2, 2, 2, 2, 2, 2, 2, 2, 2, 2, 2, 2, 2, 2, 2, 2, 2, 2] the target is: 2\n",
      "when input is [3, 15, 5, 15, 5, 73, 4, 48, 183, 49, 27, 225, 73, 275, 1, 2, 2, 2, 2, 2, 2, 2, 2, 2, 2, 2, 2, 2, 2, 2, 2, 2, 2, 2] the target is: 2\n",
      "when input is [3, 15, 5, 15, 5, 73, 4, 48, 183, 49, 27, 225, 73, 275, 1, 2, 2, 2, 2, 2, 2, 2, 2, 2, 2, 2, 2, 2, 2, 2, 2, 2, 2, 2, 2] the target is: 2\n",
      "when input is [3, 15, 5, 15, 5, 73, 4, 48, 183, 49, 27, 225, 73, 275, 1, 2, 2, 2, 2, 2, 2, 2, 2, 2, 2, 2, 2, 2, 2, 2, 2, 2, 2, 2, 2, 2] the target is: 2\n",
      "when input is [3, 15, 5, 15, 5, 73, 4, 48, 183, 49, 27, 225, 73, 275, 1, 2, 2, 2, 2, 2, 2, 2, 2, 2, 2, 2, 2, 2, 2, 2, 2, 2, 2, 2, 2, 2, 2] the target is: 2\n",
      "when input is [3, 15, 5, 15, 5, 73, 4, 48, 183, 49, 27, 225, 73, 275, 1, 2, 2, 2, 2, 2, 2, 2, 2, 2, 2, 2, 2, 2, 2, 2, 2, 2, 2, 2, 2, 2, 2, 2] the target is: 2\n",
      "when input is [3, 15, 5, 15, 5, 73, 4, 48, 183, 49, 27, 225, 73, 275, 1, 2, 2, 2, 2, 2, 2, 2, 2, 2, 2, 2, 2, 2, 2, 2, 2, 2, 2, 2, 2, 2, 2, 2, 2] the target is: 2\n",
      "when input is [3, 15, 5, 15, 5, 73, 4, 48, 183, 49, 27, 225, 73, 275, 1, 2, 2, 2, 2, 2, 2, 2, 2, 2, 2, 2, 2, 2, 2, 2, 2, 2, 2, 2, 2, 2, 2, 2, 2, 2] the target is: 2\n",
      "when input is [3, 15, 5, 15, 5, 73, 4, 48, 183, 49, 27, 225, 73, 275, 1, 2, 2, 2, 2, 2, 2, 2, 2, 2, 2, 2, 2, 2, 2, 2, 2, 2, 2, 2, 2, 2, 2, 2, 2, 2, 2] the target is: 2\n",
      "when input is [3] the target is: 77\n",
      "when input is [3, 77] the target is: 5\n",
      "when input is [3, 77, 5] the target is: 88\n",
      "when input is [3, 77, 5, 88] the target is: 38\n",
      "when input is [3, 77, 5, 88, 38] the target is: 4\n",
      "when input is [3, 77, 5, 88, 38, 4] the target is: 78\n",
      "when input is [3, 77, 5, 88, 38, 4, 78] the target is: 165\n",
      "when input is [3, 77, 5, 88, 38, 4, 78, 165] the target is: 307\n",
      "when input is [3, 77, 5, 88, 38, 4, 78, 165, 307] the target is: 1\n",
      "when input is [3, 77, 5, 88, 38, 4, 78, 165, 307, 1] the target is: 2\n",
      "when input is [3, 77, 5, 88, 38, 4, 78, 165, 307, 1, 2] the target is: 2\n",
      "when input is [3, 77, 5, 88, 38, 4, 78, 165, 307, 1, 2, 2] the target is: 2\n",
      "when input is [3, 77, 5, 88, 38, 4, 78, 165, 307, 1, 2, 2, 2] the target is: 2\n",
      "when input is [3, 77, 5, 88, 38, 4, 78, 165, 307, 1, 2, 2, 2, 2] the target is: 2\n",
      "when input is [3, 77, 5, 88, 38, 4, 78, 165, 307, 1, 2, 2, 2, 2, 2] the target is: 2\n",
      "when input is [3, 77, 5, 88, 38, 4, 78, 165, 307, 1, 2, 2, 2, 2, 2, 2] the target is: 2\n",
      "when input is [3, 77, 5, 88, 38, 4, 78, 165, 307, 1, 2, 2, 2, 2, 2, 2, 2] the target is: 2\n",
      "when input is [3, 77, 5, 88, 38, 4, 78, 165, 307, 1, 2, 2, 2, 2, 2, 2, 2, 2] the target is: 2\n",
      "when input is [3, 77, 5, 88, 38, 4, 78, 165, 307, 1, 2, 2, 2, 2, 2, 2, 2, 2, 2] the target is: 2\n",
      "when input is [3, 77, 5, 88, 38, 4, 78, 165, 307, 1, 2, 2, 2, 2, 2, 2, 2, 2, 2, 2] the target is: 2\n",
      "when input is [3, 77, 5, 88, 38, 4, 78, 165, 307, 1, 2, 2, 2, 2, 2, 2, 2, 2, 2, 2, 2] the target is: 2\n",
      "when input is [3, 77, 5, 88, 38, 4, 78, 165, 307, 1, 2, 2, 2, 2, 2, 2, 2, 2, 2, 2, 2, 2] the target is: 2\n",
      "when input is [3, 77, 5, 88, 38, 4, 78, 165, 307, 1, 2, 2, 2, 2, 2, 2, 2, 2, 2, 2, 2, 2, 2] the target is: 2\n",
      "when input is [3, 77, 5, 88, 38, 4, 78, 165, 307, 1, 2, 2, 2, 2, 2, 2, 2, 2, 2, 2, 2, 2, 2, 2] the target is: 2\n",
      "when input is [3, 77, 5, 88, 38, 4, 78, 165, 307, 1, 2, 2, 2, 2, 2, 2, 2, 2, 2, 2, 2, 2, 2, 2, 2] the target is: 2\n",
      "when input is [3, 77, 5, 88, 38, 4, 78, 165, 307, 1, 2, 2, 2, 2, 2, 2, 2, 2, 2, 2, 2, 2, 2, 2, 2, 2] the target is: 2\n",
      "when input is [3, 77, 5, 88, 38, 4, 78, 165, 307, 1, 2, 2, 2, 2, 2, 2, 2, 2, 2, 2, 2, 2, 2, 2, 2, 2, 2] the target is: 2\n",
      "when input is [3, 77, 5, 88, 38, 4, 78, 165, 307, 1, 2, 2, 2, 2, 2, 2, 2, 2, 2, 2, 2, 2, 2, 2, 2, 2, 2, 2] the target is: 2\n",
      "when input is [3, 77, 5, 88, 38, 4, 78, 165, 307, 1, 2, 2, 2, 2, 2, 2, 2, 2, 2, 2, 2, 2, 2, 2, 2, 2, 2, 2, 2] the target is: 2\n",
      "when input is [3, 77, 5, 88, 38, 4, 78, 165, 307, 1, 2, 2, 2, 2, 2, 2, 2, 2, 2, 2, 2, 2, 2, 2, 2, 2, 2, 2, 2, 2] the target is: 2\n",
      "when input is [3, 77, 5, 88, 38, 4, 78, 165, 307, 1, 2, 2, 2, 2, 2, 2, 2, 2, 2, 2, 2, 2, 2, 2, 2, 2, 2, 2, 2, 2, 2] the target is: 2\n",
      "when input is [3, 77, 5, 88, 38, 4, 78, 165, 307, 1, 2, 2, 2, 2, 2, 2, 2, 2, 2, 2, 2, 2, 2, 2, 2, 2, 2, 2, 2, 2, 2, 2] the target is: 2\n",
      "when input is [3, 77, 5, 88, 38, 4, 78, 165, 307, 1, 2, 2, 2, 2, 2, 2, 2, 2, 2, 2, 2, 2, 2, 2, 2, 2, 2, 2, 2, 2, 2, 2, 2] the target is: 2\n",
      "when input is [3, 77, 5, 88, 38, 4, 78, 165, 307, 1, 2, 2, 2, 2, 2, 2, 2, 2, 2, 2, 2, 2, 2, 2, 2, 2, 2, 2, 2, 2, 2, 2, 2, 2] the target is: 2\n",
      "when input is [3, 77, 5, 88, 38, 4, 78, 165, 307, 1, 2, 2, 2, 2, 2, 2, 2, 2, 2, 2, 2, 2, 2, 2, 2, 2, 2, 2, 2, 2, 2, 2, 2, 2, 2] the target is: 2\n",
      "when input is [3, 77, 5, 88, 38, 4, 78, 165, 307, 1, 2, 2, 2, 2, 2, 2, 2, 2, 2, 2, 2, 2, 2, 2, 2, 2, 2, 2, 2, 2, 2, 2, 2, 2, 2, 2] the target is: 2\n",
      "when input is [3, 77, 5, 88, 38, 4, 78, 165, 307, 1, 2, 2, 2, 2, 2, 2, 2, 2, 2, 2, 2, 2, 2, 2, 2, 2, 2, 2, 2, 2, 2, 2, 2, 2, 2, 2, 2] the target is: 2\n",
      "when input is [3, 77, 5, 88, 38, 4, 78, 165, 307, 1, 2, 2, 2, 2, 2, 2, 2, 2, 2, 2, 2, 2, 2, 2, 2, 2, 2, 2, 2, 2, 2, 2, 2, 2, 2, 2, 2, 2] the target is: 2\n",
      "when input is [3, 77, 5, 88, 38, 4, 78, 165, 307, 1, 2, 2, 2, 2, 2, 2, 2, 2, 2, 2, 2, 2, 2, 2, 2, 2, 2, 2, 2, 2, 2, 2, 2, 2, 2, 2, 2, 2, 2] the target is: 2\n",
      "when input is [3, 77, 5, 88, 38, 4, 78, 165, 307, 1, 2, 2, 2, 2, 2, 2, 2, 2, 2, 2, 2, 2, 2, 2, 2, 2, 2, 2, 2, 2, 2, 2, 2, 2, 2, 2, 2, 2, 2, 2] the target is: 2\n",
      "when input is [3, 77, 5, 88, 38, 4, 78, 165, 307, 1, 2, 2, 2, 2, 2, 2, 2, 2, 2, 2, 2, 2, 2, 2, 2, 2, 2, 2, 2, 2, 2, 2, 2, 2, 2, 2, 2, 2, 2, 2, 2] the target is: 2\n"
     ]
    }
   ],
   "source": [
    "for b in range(batch_size): # batch dimension\n",
    "    for t in range(block_size): # time dimension\n",
    "        context = xb[b, :t+1]\n",
    "        target = yb[b, t]\n",
    "        print(f'when input is {context.tolist()} the target is: {target}')"
   ]
  },
  {
   "cell_type": "markdown",
   "id": "f74bca45-73a7-4fd2-80f7-d56b0e1b475a",
   "metadata": {},
   "source": [
    "## Bigram Language Model"
   ]
  },
  {
   "cell_type": "markdown",
   "id": "6b30fe70-731e-44bc-b87b-c3d613bf137b",
   "metadata": {},
   "source": [
    "Let us define $B$ as the `batch_size`, $T$ is the time dimension aka the length of the input sequence, and $C$ is the so-called channel size which is defined to be the `vocab_size` (the output dimension).\n",
    "\n",
    "The bigram language model (LM) is defined here to be a very simple LM where we use an embedding for the current token which is define to be size `vocab_size` to predict the next token."
   ]
  },
  {
   "cell_type": "code",
   "execution_count": 25,
   "id": "58347111-e5e1-4811-b981-84cabb87bd3b",
   "metadata": {},
   "outputs": [],
   "source": [
    "class BigramLM(nn.Module):\n",
    "\n",
    "    def __init__(self, vocab_size):\n",
    "        super().__init__()\n",
    "        # each token has an embedding which predicts the next token\n",
    "        self.vocab_size = vocab_size\n",
    "        self.bigram = nn.Embedding(vocab_size, vocab_size)\n",
    "\n",
    "    def forward(self, idx, targets):\n",
    "        # B: batch_size\n",
    "        # T: time\n",
    "        # C: channel_size aka vocab_size\n",
    "        # idx and targets are (B,T) size tensors\n",
    "        logits = self.bigram(idx) # returns (B,T,C) tensor\n",
    "        B, T, C = logits.shape\n",
    "        logits = logits.view(B*T, self.vocab_size)\n",
    "        loss = F.cross_entropy(logits, targets.view(B*T))\n",
    "        #print(logits.view(B*T, self.vocab_size).shape)\n",
    "        #print(targets.view(B*T).shape)\n",
    "        # note that this is the same as the following using Pytorch type coercion:\n",
    "        # loss = F.cross_entropy(logits.view(-1, self.vocab_size), targets.view(-1))\n",
    "        return logits, loss"
   ]
  },
  {
   "cell_type": "code",
   "execution_count": 26,
   "id": "311922d4-ca8f-4b04-bffd-515fd52446b7",
   "metadata": {},
   "outputs": [
    {
     "name": "stdout",
     "output_type": "stream",
     "text": [
      "vocab_size=312\n"
     ]
    }
   ],
   "source": [
    "print(f'{vocab_size=}')"
   ]
  },
  {
   "cell_type": "code",
   "execution_count": 27,
   "id": "e6359b95-80fb-4859-bc5f-c459ae1191dc",
   "metadata": {},
   "outputs": [
    {
     "name": "stdout",
     "output_type": "stream",
     "text": [
      "tensor([[ 0.3573,  0.5893,  0.9188,  ..., -0.3446,  0.4790,  0.0242],\n",
      "        [-0.4638,  1.3843, -0.6844,  ..., -2.4209, -1.3016, -0.0493],\n",
      "        [ 0.2193,  0.4134,  0.0062,  ..., -0.9761,  0.4865, -0.6963],\n",
      "        ...,\n",
      "        [ 0.1415,  0.0711,  0.5634,  ..., -1.2130,  0.8917,  0.7002],\n",
      "        [ 0.1415,  0.0711,  0.5634,  ..., -1.2130,  0.8917,  0.7002],\n",
      "        [ 0.1415,  0.0711,  0.5634,  ..., -1.2130,  0.8917,  0.7002]],\n",
      "       grad_fn=<ViewBackward0>) torch.Size([164, 312])\n",
      "tensor(5.8885, grad_fn=<NllLossBackward0>)\n"
     ]
    }
   ],
   "source": [
    "model1 = BigramLM(vocab_size)\n",
    "out, loss = model1(xb, yb)\n",
    "print(out, out.shape)\n",
    "print(loss)"
   ]
  },
  {
   "cell_type": "markdown",
   "id": "3813c222-8b08-4718-b95e-cd42cc2f2234",
   "metadata": {},
   "source": [
    "### Loss function"
   ]
  },
  {
   "cell_type": "markdown",
   "id": "fc81fc39-c0f1-409b-80a2-c02bb172879b",
   "metadata": {},
   "source": [
    "We expect loss to be $\\log_e(\\frac{1}{vocabsize})$"
   ]
  },
  {
   "cell_type": "code",
   "execution_count": 28,
   "id": "245f03af-8d2e-4445-80cb-b2ab82f3ec68",
   "metadata": {},
   "outputs": [
    {
     "name": "stdout",
     "output_type": "stream",
     "text": [
      "tensor(-5.7430)\n"
     ]
    }
   ],
   "source": [
    "print(torch.log(torch.tensor(1/vocab_size)))"
   ]
  },
  {
   "cell_type": "markdown",
   "id": "d07d255a-d621-4c15-82c2-ddd5388ecabf",
   "metadata": {},
   "source": [
    "### Add a generator function"
   ]
  },
  {
   "cell_type": "code",
   "execution_count": 29,
   "id": "73a03bdd-cdc2-4417-b673-7c9ef7395599",
   "metadata": {},
   "outputs": [],
   "source": [
    "class BigramLM(nn.Module):\n",
    "\n",
    "    def __init__(self, vocab_size):\n",
    "        super().__init__()\n",
    "        # each token has an embedding which predicts the next token\n",
    "        self.vocab_size = vocab_size\n",
    "        self.bigram = nn.Embedding(vocab_size, vocab_size)\n",
    "\n",
    "    def forward(self, idx):\n",
    "        # B: batch_size\n",
    "        # T: time\n",
    "        # C: channel_size aka vocab_size\n",
    "        # idx is a (B,T) size tensor\n",
    "        return self.bigram(idx) # returns (B,T,C) tensor\n",
    "\n",
    "    def loss(self, logits, targets):\n",
    "        # logits is a (B, T, C) tensor\n",
    "        # target is a (B, T) size tensor\n",
    "        return F.cross_entropy(\n",
    "                logits.view(-1, self.vocab_size), # convert to (B*T, C) tensor\n",
    "                targets.view(-1) # convert to (B*T) tensor\n",
    "                )\n",
    "\n",
    "    def generate(self, idx, max_new_tokens):\n",
    "        # idx is a (B, T) size tensor of indices\n",
    "        for _ in range(max_new_tokens):\n",
    "            logits = self(idx) # ignore loss\n",
    "            # use the last time step\n",
    "            logits = logits[:, -1, :] # which is size (B, C)\n",
    "            # apply softmax to get probabilities\n",
    "            probs = F.softmax(logits, dim=-1) # size (B, C)\n",
    "            # sample from this probability distribution\n",
    "            idx_next = torch.multinomial(probs, num_samples=1) # size (B, 1)\n",
    "            # append sampled token to sequence\n",
    "            idx = torch.cat((idx, idx_next), dim=1) # size (B, T+1)\n",
    "            decoded = decode(idx[-1].tolist())\n",
    "            if decoded[-1] == '<|endoftext|>':\n",
    "                break\n",
    "        return idx"
   ]
  },
  {
   "cell_type": "code",
   "execution_count": 30,
   "id": "a51ea710-4018-4832-8fe6-48eefad22400",
   "metadata": {},
   "outputs": [
    {
     "name": "stdout",
     "output_type": "stream",
     "text": [
      "logits=tensor([[[ 9.5204e-03,  5.1870e-02, -1.7242e-01,  ...,  1.3640e+00,\n",
      "           9.0415e-02,  7.2398e-01],\n",
      "         [ 4.8482e-01, -1.4324e+00,  1.4087e+00,  ...,  1.7855e+00,\n",
      "           7.3310e-01, -1.8132e-01],\n",
      "         [-4.4863e-01,  1.3055e+00,  5.0607e-02,  ..., -1.4297e-03,\n",
      "          -1.8858e-01,  1.1461e+00],\n",
      "         ...,\n",
      "         [-3.6391e-01, -2.5428e-01, -4.2104e-01,  ..., -7.2709e-01,\n",
      "          -2.3193e+00, -8.4105e-01],\n",
      "         [-3.6391e-01, -2.5428e-01, -4.2104e-01,  ..., -7.2709e-01,\n",
      "          -2.3193e+00, -8.4105e-01],\n",
      "         [-3.6391e-01, -2.5428e-01, -4.2104e-01,  ..., -7.2709e-01,\n",
      "          -2.3193e+00, -8.4105e-01]],\n",
      "\n",
      "        [[ 9.5204e-03,  5.1870e-02, -1.7242e-01,  ...,  1.3640e+00,\n",
      "           9.0415e-02,  7.2398e-01],\n",
      "         [ 3.8213e-02, -1.1391e+00, -5.7005e-02,  ..., -1.1830e+00,\n",
      "          -1.7931e-01,  5.3025e-01],\n",
      "         [-7.1839e-01, -2.5148e+00, -1.9598e+00,  ...,  1.2767e+00,\n",
      "          -1.0840e+00, -7.0375e-01],\n",
      "         ...,\n",
      "         [-3.6391e-01, -2.5428e-01, -4.2104e-01,  ..., -7.2709e-01,\n",
      "          -2.3193e+00, -8.4105e-01],\n",
      "         [-3.6391e-01, -2.5428e-01, -4.2104e-01,  ..., -7.2709e-01,\n",
      "          -2.3193e+00, -8.4105e-01],\n",
      "         [-3.6391e-01, -2.5428e-01, -4.2104e-01,  ..., -7.2709e-01,\n",
      "          -2.3193e+00, -8.4105e-01]],\n",
      "\n",
      "        [[ 9.5204e-03,  5.1870e-02, -1.7242e-01,  ...,  1.3640e+00,\n",
      "           9.0415e-02,  7.2398e-01],\n",
      "         [ 4.8482e-01, -1.4324e+00,  1.4087e+00,  ...,  1.7855e+00,\n",
      "           7.3310e-01, -1.8132e-01],\n",
      "         [-4.4863e-01,  1.3055e+00,  5.0607e-02,  ..., -1.4297e-03,\n",
      "          -1.8858e-01,  1.1461e+00],\n",
      "         ...,\n",
      "         [-3.6391e-01, -2.5428e-01, -4.2104e-01,  ..., -7.2709e-01,\n",
      "          -2.3193e+00, -8.4105e-01],\n",
      "         [-3.6391e-01, -2.5428e-01, -4.2104e-01,  ..., -7.2709e-01,\n",
      "          -2.3193e+00, -8.4105e-01],\n",
      "         [-3.6391e-01, -2.5428e-01, -4.2104e-01,  ..., -7.2709e-01,\n",
      "          -2.3193e+00, -8.4105e-01]],\n",
      "\n",
      "        [[ 9.5204e-03,  5.1870e-02, -1.7242e-01,  ...,  1.3640e+00,\n",
      "           9.0415e-02,  7.2398e-01],\n",
      "         [-6.1025e-01,  9.7230e-01,  8.7451e-01,  ...,  5.9193e-01,\n",
      "          -1.0246e-01,  2.4042e-01],\n",
      "         [-4.4863e-01,  1.3055e+00,  5.0607e-02,  ..., -1.4297e-03,\n",
      "          -1.8858e-01,  1.1461e+00],\n",
      "         ...,\n",
      "         [-3.6391e-01, -2.5428e-01, -4.2104e-01,  ..., -7.2709e-01,\n",
      "          -2.3193e+00, -8.4105e-01],\n",
      "         [-3.6391e-01, -2.5428e-01, -4.2104e-01,  ..., -7.2709e-01,\n",
      "          -2.3193e+00, -8.4105e-01],\n",
      "         [-3.6391e-01, -2.5428e-01, -4.2104e-01,  ..., -7.2709e-01,\n",
      "          -2.3193e+00, -8.4105e-01]]], grad_fn=<EmbeddingBackward0>)\n",
      "logits.shape=torch.Size([4, 41, 312])\n",
      "loss=tensor(6.3746, grad_fn=<NllLossBackward0>)\n"
     ]
    }
   ],
   "source": [
    "model1 = BigramLM(vocab_size)\n",
    "logits = model1(xb)\n",
    "loss = model1.loss(logits, yb)\n",
    "print(f'{logits=}')\n",
    "print(f'{logits.shape=}')\n",
    "print(f'{loss=}')"
   ]
  },
  {
   "cell_type": "code",
   "execution_count": 31,
   "id": "ad3407f5-38b2-4514-8598-e4cae83c0f5f",
   "metadata": {},
   "outputs": [
    {
     "data": {
      "text/plain": [
       "tensor([3])"
      ]
     },
     "execution_count": 31,
     "metadata": {},
     "output_type": "execute_result"
    }
   ],
   "source": [
    "torch.tensor(encode(['<|starttext|>']), dtype=torch.long)"
   ]
  },
  {
   "cell_type": "markdown",
   "id": "f14ad70b-f9ae-4f41-8c84-e27175d6a503",
   "metadata": {},
   "source": [
    "We need a batch dimension even if the batch size for generation is just one."
   ]
  },
  {
   "cell_type": "code",
   "execution_count": 32,
   "id": "c8b71f10-449d-4dcc-9c49-b00e46700445",
   "metadata": {},
   "outputs": [
    {
     "data": {
      "text/plain": [
       "tensor([[1]])"
      ]
     },
     "execution_count": 32,
     "metadata": {},
     "output_type": "execute_result"
    }
   ],
   "source": [
    "torch.eye(1, dtype=torch.long)"
   ]
  },
  {
   "cell_type": "code",
   "execution_count": 33,
   "id": "7497632b-c433-44ed-9e87-2dbd5119612c",
   "metadata": {},
   "outputs": [
    {
     "data": {
      "text/plain": [
       "tensor([[3]])"
      ]
     },
     "execution_count": 33,
     "metadata": {},
     "output_type": "execute_result"
    }
   ],
   "source": [
    "idx = torch.eye(1, dtype=torch.long)*torch.tensor(encode(['<|starttext|>']), dtype=torch.long)\n",
    "idx"
   ]
  },
  {
   "cell_type": "code",
   "execution_count": 34,
   "id": "50823bec-f569-490c-a5b9-5124b1c34126",
   "metadata": {},
   "outputs": [
    {
     "data": {
      "text/plain": [
       "tensor([[  3, 182, 298, 226, 224, 118, 253, 216,   0, 220, 291, 220,  13, 137,\n",
       "         117, 208, 285, 252, 220, 171, 286, 186,  89,  18, 200, 161,  49, 215,\n",
       "         307, 219,  68, 242,  61,   1]])"
      ]
     },
     "execution_count": 34,
     "metadata": {},
     "output_type": "execute_result"
    }
   ],
   "source": [
    "model1.generate(idx, max_new_tokens=100)"
   ]
  },
  {
   "cell_type": "markdown",
   "id": "1229882b-c001-416c-94d8-cd361837ae29",
   "metadata": {},
   "source": [
    "To extract the single element in this batch of size one we take the first element and convert it to a list before we decode it "
   ]
  },
  {
   "cell_type": "code",
   "execution_count": 35,
   "id": "3d915fcd-2b28-43fe-964d-73272a203efd",
   "metadata": {},
   "outputs": [
    {
     "name": "stdout",
     "output_type": "stream",
     "text": [
      "['<|starttext|>', 'ɚ', 'jː', 'ʉ', 'ɹˠ', 'ɪ̞', \"'\", 'd̠͡ɹ̠', 'ˀe', 'ʉ̯', 'tˀ', 'l̥ʰ', 'aː', '˥', 'ʃ', 'ʊ̆', 'j̊', 'ʊ̆', 'j̥', 'e͡ə', 'i̯', 't̠͡ʃ', 'fʷ', 'ɑ̃', 'z̥', 'ɹ̥ʷ', 'ʔ', 'p̚', 'ŏ', 'u̟ː', 'ŋ', 'ʌˑ', 'ɨ̃', 'k', 'œː', 'iː', 'á', 'ɜ', 'd͡ɹ̝', 'ø', 'ä', 'ä', 'ɹ̠ʷ', 'tⁿ', 'f͡s̪', 'ɹ̥ʷ', 't̠̚', 'ʔ̚', 'ɒ̃ː', 'a', 'ʔ̚', 'ɹ̠', 'o', 'l̩', 't', 'ɪː', 'æ̰ˀ', 'ɑː', 'n̥', 'pʰ', 'ɻ', 'u̯', 'tⁿ', 'b', '<|to_ipa|>', 'e̞', 'f͡s̪', 'ʌ̃ː', 't̠͡ɹ̠̊', 'nː', 'ɝ', 'ɝ̃', 'ɐː', 'ɹʲ', 'o', 'p', 'ɑ̃', 'ĭ̥', 'dˀ', 'ʊ̈', 'oː', 'e͡ə', 'r', 'ɑ', 'p', 'æˀ', 'ʌˑ', 'ɪ̞', 'n̩', 'tˀ', 'l̥ʰ', 'ə̥', 'β', 'y', 'ʙ̥͡ɸː', 'ʌ̃ː', '˞', 'i̯', 'e', 'ə', 'm̥']\n"
     ]
    }
   ],
   "source": [
    "print(decode(model1.generate(idx, max_new_tokens=100)[0].tolist()))"
   ]
  },
  {
   "cell_type": "markdown",
   "id": "ef82ed59-3f17-4c08-afcd-08fe637a174c",
   "metadata": {},
   "source": [
    "### Training loop"
   ]
  },
  {
   "cell_type": "code",
   "execution_count": 36,
   "id": "54d584da-0d5c-440d-8036-98179d736f26",
   "metadata": {},
   "outputs": [
    {
     "name": "stdout",
     "output_type": "stream",
     "text": [
      "BigramLM(\n",
      "  (bigram): Embedding(312, 312)\n",
      ")\n"
     ]
    }
   ],
   "source": [
    "model1 = BigramLM(vocab_size=vocab_size)\n",
    "optimizer1 = optim.Adam(model1.parameters(), lr=1e-3)\n",
    "batch_size = 32\n",
    "losses = []\n",
    "validation_losses = []\n",
    "print(model1)"
   ]
  },
  {
   "cell_type": "code",
   "execution_count": 37,
   "id": "ea0309d3-8fc1-42b5-8333-e4c9990edbf2",
   "metadata": {},
   "outputs": [],
   "source": [
    "n_updates = 10000"
   ]
  },
  {
   "cell_type": "code",
   "execution_count": 38,
   "id": "22a6403a-a9a4-4ae4-9b10-0252b3eb041f",
   "metadata": {},
   "outputs": [
    {
     "name": "stdout",
     "output_type": "stream",
     "text": [
      "loss=0.8880351781845093\n"
     ]
    }
   ],
   "source": [
    "for _ in range(n_updates):\n",
    "    xb, yb = get_batch('train', block_size, batch_size)\n",
    "    logits = model1(xb)\n",
    "    loss = model1.loss(logits, yb)\n",
    "    losses.append(loss.log10().item())\n",
    "    #print(f'{loss=}')\n",
    "    optimizer1.zero_grad()\n",
    "    loss.backward()\n",
    "    optimizer1.step()\n",
    "\n",
    "print(f'loss={loss.item()}')"
   ]
  },
  {
   "cell_type": "markdown",
   "id": "81dfe433-63c7-4c47-9384-dc448b4b5fcb",
   "metadata": {},
   "source": [
    "### Calculate validation loss"
   ]
  },
  {
   "cell_type": "code",
   "execution_count": 39,
   "id": "b84655c0-6a01-45b1-a7fa-12a136043981",
   "metadata": {},
   "outputs": [
    {
     "name": "stdout",
     "output_type": "stream",
     "text": [
      "tensor(0.9412, grad_fn=<NllLossBackward0>)\n"
     ]
    }
   ],
   "source": [
    "xb, yb = get_batch('val', block_size, batch_size)\n",
    "logits = model1(xb)\n",
    "val_loss = model1.loss(logits, yb)\n",
    "print(val_loss)"
   ]
  },
  {
   "cell_type": "markdown",
   "id": "8f9b058c-7676-48a9-9c10-fa565350dc5c",
   "metadata": {},
   "source": [
    "### Plot the average loss"
   ]
  },
  {
   "cell_type": "code",
   "execution_count": 40,
   "id": "b04ebc8e-5373-4545-b6ac-f809743b47a3",
   "metadata": {},
   "outputs": [
    {
     "data": {
      "text/plain": [
       "[<matplotlib.lines.Line2D at 0x1414a3d00>]"
      ]
     },
     "execution_count": 40,
     "metadata": {},
     "output_type": "execute_result"
    },
    {
     "data": {
      "image/png": "[encoded data removed]",
      "text/plain": [
       "<Figure size 640x480 with 1 Axes>"
      ]
     },
     "metadata": {},
     "output_type": "display_data"
    }
   ],
   "source": [
    "avg_loss = torch.tensor(losses).view(-1, 100).mean(1)\n",
    "plt.plot(avg_loss)"
   ]
  },
  {
   "cell_type": "markdown",
   "id": "0f894f77-4cde-45db-b400-a2a3c8c5e017",
   "metadata": {},
   "source": [
    "### Generate some output from the model"
   ]
  },
  {
   "cell_type": "code",
   "execution_count": 45,
   "id": "607b996d-13c3-4612-a14e-b524a3183377",
   "metadata": {},
   "outputs": [
    {
     "name": "stdout",
     "output_type": "stream",
     "text": [
      "['<|starttext|>', 's', 'a', '<|to_ipa|>', 'ɪ̈', 'm', 'ɜː', 'k', 'i', '<|endoftext|>']\n"
     ]
    }
   ],
   "source": [
    "print(decode(model1.generate(idx, max_new_tokens=100)[0].tolist()))"
   ]
  },
  {
   "cell_type": "markdown",
   "id": "c783e931-d076-439a-b47f-1b99fa7039e9",
   "metadata": {},
   "source": [
    "## Weighted Aggregation"
   ]
  },
  {
   "cell_type": "markdown",
   "id": "5061af6c-fbbc-424b-bdbe-c7dc2e8ce0c9",
   "metadata": {},
   "source": [
    "First let's just use the mean/average of the first `t` tokens to predict the `t+1` token. What is important is that the `t+1` token only uses the previous tokens to take an average. It should not use any future tokens since we are proceeding strictly left to right in the time dimension. "
   ]
  },
  {
   "cell_type": "code",
   "execution_count": 46,
   "id": "c1662862-0d0f-4b24-a0ca-26bdf343d656",
   "metadata": {},
   "outputs": [
    {
     "name": "stdout",
     "output_type": "stream",
     "text": [
      "312\n"
     ]
    }
   ],
   "source": [
    "batch_size = 4\n",
    "block_size = max_len-2\n",
    "print(vocab_size)"
   ]
  },
  {
   "cell_type": "code",
   "execution_count": 47,
   "id": "41f0ac1a-4f11-42be-b548-db129f4d9330",
   "metadata": {},
   "outputs": [
    {
     "data": {
      "text/plain": [
       "torch.Size([4, 41, 312])"
      ]
     },
     "execution_count": 47,
     "metadata": {},
     "output_type": "execute_result"
    }
   ],
   "source": [
    "x = torch.randn(batch_size, block_size, vocab_size)\n",
    "x.shape"
   ]
  },
  {
   "cell_type": "code",
   "execution_count": 48,
   "id": "71aea7e3-4012-4417-8b6b-86f5aeb76069",
   "metadata": {},
   "outputs": [
    {
     "data": {
      "text/plain": [
       "tensor([[-0.8318,  0.2171, -0.7572,  ..., -1.0192, -2.1582, -0.6273],\n",
       "        [ 1.0368, -0.5139, -0.2434,  ..., -0.6907,  1.1509, -0.1062],\n",
       "        [-0.3103, -0.4471, -1.2713,  ..., -1.6630, -2.5249,  0.7658],\n",
       "        ...,\n",
       "        [ 0.4454, -0.5134, -0.9200,  ..., -0.0762,  0.2454, -0.9425],\n",
       "        [ 0.1257,  2.7282, -0.1269,  ...,  0.2837,  0.9199,  1.3458],\n",
       "        [-0.6742, -1.1535,  0.3577,  ...,  0.7711, -0.8003,  1.4776]])"
      ]
     },
     "execution_count": 48,
     "metadata": {},
     "output_type": "execute_result"
    }
   ],
   "source": [
    "x[1]"
   ]
  },
  {
   "cell_type": "markdown",
   "id": "330938b1-6a56-4b0c-885e-d0c5f6e4d25a",
   "metadata": {},
   "source": [
    "### Weighted Average: Approach 1"
   ]
  },
  {
   "cell_type": "code",
   "execution_count": 49,
   "id": "26290da6-292a-47c5-8fed-6d8ff49117be",
   "metadata": {},
   "outputs": [],
   "source": [
    "x_mean = torch.zeros((batch_size, block_size, vocab_size))\n",
    "for b in range(batch_size):\n",
    "    for t in range(block_size):\n",
    "        x_mean[b, t] = torch.mean(x[b,:t+1], 0)"
   ]
  },
  {
   "cell_type": "code",
   "execution_count": 50,
   "id": "98e08e46-f960-427f-a6c8-53d12fe393dc",
   "metadata": {},
   "outputs": [
    {
     "data": {
      "text/plain": [
       "tensor([[-3.3724e-01,  8.5071e-01,  1.4017e+00,  ..., -1.5412e+00,\n",
       "         -1.6795e-01,  1.3852e-01],\n",
       "        [-1.1678e-03,  7.3587e-01,  1.0797e+00,  ..., -8.7209e-01,\n",
       "         -1.9506e-02,  1.8728e-02],\n",
       "        [-1.6989e-01,  1.6168e+00,  6.4836e-01,  ..., -8.9479e-01,\n",
       "          1.6015e-01,  3.9291e-01],\n",
       "        ...,\n",
       "        [-4.2719e-02, -2.2332e-02,  1.0194e-01,  ...,  1.5666e-01,\n",
       "          1.9676e-02,  8.7227e-03],\n",
       "        [-7.0500e-02, -3.7854e-02,  8.0814e-02,  ...,  1.4647e-01,\n",
       "          3.1399e-02, -8.9009e-03],\n",
       "        [-6.5637e-02, -4.1837e-02,  6.2296e-02,  ...,  1.7006e-01,\n",
       "          5.9277e-02,  1.3914e-02]])"
      ]
     },
     "execution_count": 50,
     "metadata": {},
     "output_type": "execute_result"
    }
   ],
   "source": [
    "x_mean[0]"
   ]
  },
  {
   "cell_type": "markdown",
   "id": "fd8acee9-1d83-456c-a1b4-60b42b88bd43",
   "metadata": {},
   "source": [
    "Now we can see how to compute `x_mean` using more efficient means, namely using a lower triangular matrix which can be created using the `tril` method from PyTorch. The trick is to use matrix multiplication instead of `for` loops to replace `x[b,:t+1]` with a zero mask for the time steps in the future which we do not want to use in our `mean` calculation."
   ]
  },
  {
   "cell_type": "markdown",
   "id": "fe8f6554-08f9-4d25-bf3b-b144011a50ca",
   "metadata": {},
   "source": [
    "### Weighted Average: Approach 2"
   ]
  },
  {
   "cell_type": "code",
   "execution_count": 51,
   "id": "2701d901-0a44-4613-8a30-4544ca36f452",
   "metadata": {},
   "outputs": [
    {
     "name": "stdout",
     "output_type": "stream",
     "text": [
      "a=tensor([[1., 1., 1.],\n",
      "        [1., 1., 1.],\n",
      "        [1., 1., 1.]])\n",
      "b=tensor([[1., 3.],\n",
      "        [1., 9.],\n",
      "        [4., 5.]])\n",
      "c=tensor([[ 6., 17.],\n",
      "        [ 6., 17.],\n",
      "        [ 6., 17.]])\n"
     ]
    }
   ],
   "source": [
    "a = torch.ones(3,3)\n",
    "b = torch.randint(0,10,(3,2)).float()\n",
    "c = a @ b\n",
    "print(f'{a=}')\n",
    "print(f'{b=}')\n",
    "print(f'{c=}')"
   ]
  },
  {
   "cell_type": "markdown",
   "id": "6c9bab80-3f4b-4d27-ba7b-fc72c8d0cad7",
   "metadata": {},
   "source": [
    "To iterate through the time index `t` masking everything in the future from `t+1` onwards we can use a [lower triangular matrix](https://en.wikipedia.org/wiki/Triangular_matrix) using the `torch.tril` function. `tril` is short for lower triangular."
   ]
  },
  {
   "cell_type": "code",
   "execution_count": 52,
   "id": "a29c5b13-eb9b-4aa2-955c-67bd8b34b627",
   "metadata": {},
   "outputs": [
    {
     "data": {
      "text/plain": [
       "tensor([[1., 0., 0.],\n",
       "        [1., 1., 0.],\n",
       "        [1., 1., 1.]])"
      ]
     },
     "execution_count": 52,
     "metadata": {},
     "output_type": "execute_result"
    }
   ],
   "source": [
    "torch.tril(a)"
   ]
  },
  {
   "cell_type": "code",
   "execution_count": 53,
   "id": "89cd9e92-67b5-4a8e-91b6-dfb68fa43ddc",
   "metadata": {},
   "outputs": [
    {
     "name": "stdout",
     "output_type": "stream",
     "text": [
      "a=tensor([[1., 0., 0.],\n",
      "        [1., 1., 0.],\n",
      "        [1., 1., 1.]])\n",
      "b=tensor([[7., 9.],\n",
      "        [1., 2.],\n",
      "        [9., 6.]])\n",
      "c=tensor([[ 7.,  9.],\n",
      "        [ 8., 11.],\n",
      "        [17., 17.]])\n"
     ]
    }
   ],
   "source": [
    "a = torch.tril(torch.ones(3,3))\n",
    "b = torch.randint(0,10,(3,2)).float()\n",
    "c = a @ b\n",
    "print(f'{a=}')\n",
    "print(f'{b=}')\n",
    "print(f'{c=}')"
   ]
  },
  {
   "cell_type": "markdown",
   "id": "8b56a02f-1553-47cc-894b-01f366360b4d",
   "metadata": {},
   "source": [
    "We can take the mean over each previous time step by taking an (equally) weighted average using the lower triangular matrix as the weights instead of using $1.0$."
   ]
  },
  {
   "cell_type": "code",
   "execution_count": 54,
   "id": "5b7a1808-dc6f-484f-8a59-de5d06528fcd",
   "metadata": {},
   "outputs": [
    {
     "name": "stdout",
     "output_type": "stream",
     "text": [
      "a=tensor([[1.0000, 0.0000, 0.0000],\n",
      "        [0.5000, 0.5000, 0.0000],\n",
      "        [0.3333, 0.3333, 0.3333]])\n",
      "b=tensor([[9., 1.],\n",
      "        [0., 8.],\n",
      "        [6., 1.]])\n",
      "c=tensor([[9.0000, 1.0000],\n",
      "        [4.5000, 4.5000],\n",
      "        [5.0000, 3.3333]])\n"
     ]
    }
   ],
   "source": [
    "a = torch.tril(torch.ones(3,3))\n",
    "a = a / torch.sum(a, 1, keepdim=True)\n",
    "b = torch.randint(0,10,(3,2)).float()\n",
    "c = a @ b\n",
    "print(f'{a=}')\n",
    "print(f'{b=}')\n",
    "print(f'{c=}')"
   ]
  },
  {
   "cell_type": "code",
   "execution_count": 55,
   "id": "0010bb19-8aef-4df2-9b83-5b90a6fc6296",
   "metadata": {},
   "outputs": [
    {
     "name": "stdout",
     "output_type": "stream",
     "text": [
      "tensor([[1.0000, 0.0000, 0.0000,  ..., 0.0000, 0.0000, 0.0000],\n",
      "        [0.5000, 0.5000, 0.0000,  ..., 0.0000, 0.0000, 0.0000],\n",
      "        [0.3333, 0.3333, 0.3333,  ..., 0.0000, 0.0000, 0.0000],\n",
      "        ...,\n",
      "        [0.0256, 0.0256, 0.0256,  ..., 0.0256, 0.0000, 0.0000],\n",
      "        [0.0250, 0.0250, 0.0250,  ..., 0.0250, 0.0250, 0.0000],\n",
      "        [0.0244, 0.0244, 0.0244,  ..., 0.0244, 0.0244, 0.0244]]) torch.Size([41, 41])\n"
     ]
    }
   ],
   "source": [
    "wavg = torch.tril(torch.ones(block_size, block_size))\n",
    "wavg = wavg / wavg.sum(1, keepdim=True)\n",
    "print(wavg, wavg.shape)"
   ]
  },
  {
   "cell_type": "code",
   "execution_count": 56,
   "id": "d72fe87f-6d8c-4f15-82cc-ca1968ea57d7",
   "metadata": {},
   "outputs": [
    {
     "name": "stdout",
     "output_type": "stream",
     "text": [
      "tensor([[[-0.3372,  0.8507,  1.4017,  ..., -1.5412, -0.1680,  0.1385],\n",
      "         [ 0.3349,  0.6210,  0.7578,  ..., -0.2030,  0.1289, -0.1011],\n",
      "         [-0.5073,  3.3785, -0.2144,  ..., -0.9402,  0.5195,  1.1413],\n",
      "         ...,\n",
      "         [-1.6172,  0.9033,  0.9320,  ..., -0.8044, -0.7415,  0.7950],\n",
      "         [-1.1540, -0.6432, -0.7432,  ..., -0.2511,  0.4886, -0.6962],\n",
      "         [ 0.1289, -0.2012, -0.6784,  ...,  1.1140,  1.1744,  0.9265]],\n",
      "\n",
      "        [[-0.8318,  0.2171, -0.7572,  ..., -1.0192, -2.1582, -0.6273],\n",
      "         [ 1.0368, -0.5139, -0.2434,  ..., -0.6907,  1.1509, -0.1062],\n",
      "         [-0.3103, -0.4471, -1.2713,  ..., -1.6630, -2.5249,  0.7658],\n",
      "         ...,\n",
      "         [ 0.4454, -0.5134, -0.9200,  ..., -0.0762,  0.2454, -0.9425],\n",
      "         [ 0.1257,  2.7282, -0.1269,  ...,  0.2837,  0.9199,  1.3458],\n",
      "         [-0.6742, -1.1535,  0.3577,  ...,  0.7711, -0.8003,  1.4776]],\n",
      "\n",
      "        [[-1.7729,  0.0500,  0.7440,  ..., -0.6227,  0.2694,  0.2186],\n",
      "         [ 1.4889,  0.7274,  1.0261,  ...,  0.9866, -0.4498, -0.4012],\n",
      "         [ 0.3192,  0.6388,  0.9587,  ...,  0.7181,  1.0500, -0.7398],\n",
      "         ...,\n",
      "         [ 1.1772, -0.6956,  0.8846,  ...,  0.2986,  0.5042,  0.2012],\n",
      "         [-0.6429, -0.6686,  1.3059,  ...,  1.8706, -0.4882,  0.2150],\n",
      "         [-0.7879, -1.5714, -0.5074,  ..., -0.9673,  0.8122, -0.2612]],\n",
      "\n",
      "        [[-0.1869,  1.4466, -0.2860,  ...,  0.5246,  1.8153, -0.7051],\n",
      "         [-0.5165,  0.7307, -0.8688,  ...,  1.6650, -0.3612, -0.8548],\n",
      "         [ 0.4306,  0.5175, -0.4741,  ..., -0.5343,  0.6208,  0.8513],\n",
      "         ...,\n",
      "         [ 0.9753,  0.7932, -1.3946,  ..., -0.8272, -1.2651,  0.9546],\n",
      "         [ 1.8965, -0.2184, -0.4141,  ..., -1.1605,  1.8567, -0.0388],\n",
      "         [-0.6958,  0.2318, -0.2488,  ..., -1.1055,  0.8297, -0.5825]]]) torch.Size([4, 41, 312])\n"
     ]
    }
   ],
   "source": [
    "print(x, x.shape)"
   ]
  },
  {
   "cell_type": "markdown",
   "id": "ce6875ff-e0fc-4169-adec-bc0e57e558fd",
   "metadata": {},
   "source": [
    "Take advantage of Pytorch broadcasting to create a batch dimension implicitly for `wavg` so that it can be multiplied with `x`.\n",
    "\n",
    "`wavg` of shape (T, T) becomes (B, T, T) which is multiplied by `x` of shape (B, T, C) to produce a (B, T, C) tensor."
   ]
  },
  {
   "cell_type": "code",
   "execution_count": 57,
   "id": "2cad18ff-1064-4f11-9641-e0907a421fb0",
   "metadata": {},
   "outputs": [
    {
     "data": {
      "text/plain": [
       "torch.Size([4, 41, 312])"
      ]
     },
     "execution_count": 57,
     "metadata": {},
     "output_type": "execute_result"
    }
   ],
   "source": [
    "x_mean2 = wavg @ x\n",
    "x_mean2.shape"
   ]
  },
  {
   "cell_type": "code",
   "execution_count": 58,
   "id": "50a6568d-ad5a-411c-b24d-355317ab9a3a",
   "metadata": {},
   "outputs": [
    {
     "data": {
      "text/plain": [
       "(tensor([[-3.3724e-01,  8.5071e-01,  1.4017e+00,  ..., -1.5412e+00,\n",
       "          -1.6795e-01,  1.3852e-01],\n",
       "         [-1.1678e-03,  7.3587e-01,  1.0797e+00,  ..., -8.7209e-01,\n",
       "          -1.9506e-02,  1.8728e-02],\n",
       "         [-1.6989e-01,  1.6168e+00,  6.4836e-01,  ..., -8.9479e-01,\n",
       "           1.6015e-01,  3.9291e-01],\n",
       "         ...,\n",
       "         [-4.2719e-02, -2.2332e-02,  1.0194e-01,  ...,  1.5666e-01,\n",
       "           1.9676e-02,  8.7227e-03],\n",
       "         [-7.0500e-02, -3.7854e-02,  8.0814e-02,  ...,  1.4647e-01,\n",
       "           3.1399e-02, -8.9009e-03],\n",
       "         [-6.5637e-02, -4.1837e-02,  6.2296e-02,  ...,  1.7006e-01,\n",
       "           5.9277e-02,  1.3914e-02]]),\n",
       " tensor([[-3.3724e-01,  8.5071e-01,  1.4017e+00,  ..., -1.5412e+00,\n",
       "          -1.6795e-01,  1.3852e-01],\n",
       "         [-1.1678e-03,  7.3587e-01,  1.0797e+00,  ..., -8.7209e-01,\n",
       "          -1.9506e-02,  1.8728e-02],\n",
       "         [-1.6989e-01,  1.6168e+00,  6.4836e-01,  ..., -8.9479e-01,\n",
       "           1.6015e-01,  3.9291e-01],\n",
       "         ...,\n",
       "         [-4.2719e-02, -2.2332e-02,  1.0194e-01,  ...,  1.5666e-01,\n",
       "           1.9676e-02,  8.7227e-03],\n",
       "         [-7.0500e-02, -3.7854e-02,  8.0814e-02,  ...,  1.4647e-01,\n",
       "           3.1399e-02, -8.9009e-03],\n",
       "         [-6.5637e-02, -4.1837e-02,  6.2296e-02,  ...,  1.7006e-01,\n",
       "           5.9277e-02,  1.3914e-02]]))"
      ]
     },
     "execution_count": 58,
     "metadata": {},
     "output_type": "execute_result"
    }
   ],
   "source": [
    "x_mean[0], x_mean2[0]"
   ]
  },
  {
   "cell_type": "code",
   "execution_count": 60,
   "id": "728e187a-4a98-4f9f-9ae1-db0eac327246",
   "metadata": {},
   "outputs": [
    {
     "name": "stdout",
     "output_type": "stream",
     "text": [
      "torch.Size([4, 41, 312]) torch.Size([4, 41, 312])\n"
     ]
    }
   ],
   "source": [
    "print(x_mean.shape, x_mean2.shape)"
   ]
  },
  {
   "cell_type": "markdown",
   "id": "855fde6c-2202-4ae3-b33b-d49672bbd193",
   "metadata": {},
   "source": [
    "Check if the compute efficient `x_mean2` is the same as the `for` loop based `x_mean` (from above)"
   ]
  },
  {
   "cell_type": "code",
   "execution_count": 61,
   "id": "a5fbdf52-d00a-466d-9551-ee9a49cfb0aa",
   "metadata": {},
   "outputs": [
    {
     "data": {
      "text/plain": [
       "True"
      ]
     },
     "execution_count": 61,
     "metadata": {},
     "output_type": "execute_result"
    }
   ],
   "source": [
    "torch.allclose(x_mean, x_mean2, rtol=1e-02)"
   ]
  },
  {
   "cell_type": "markdown",
   "id": "5fe805a9-582b-4a21-b542-0981bd984529",
   "metadata": {},
   "source": [
    "### Weighted Average: Approach 3"
   ]
  },
  {
   "cell_type": "code",
   "execution_count": 62,
   "id": "5ea05873-5e7d-4c22-bd9b-612c0e65af16",
   "metadata": {},
   "outputs": [
    {
     "data": {
      "text/plain": [
       "tensor([[0., -inf, -inf,  ..., -inf, -inf, -inf],\n",
       "        [0., 0., -inf,  ..., -inf, -inf, -inf],\n",
       "        [0., 0., 0.,  ..., -inf, -inf, -inf],\n",
       "        ...,\n",
       "        [0., 0., 0.,  ..., 0., -inf, -inf],\n",
       "        [0., 0., 0.,  ..., 0., 0., -inf],\n",
       "        [0., 0., 0.,  ..., 0., 0., 0.]])"
      ]
     },
     "execution_count": 62,
     "metadata": {},
     "output_type": "execute_result"
    }
   ],
   "source": [
    "tril = torch.tril(torch.ones(block_size, block_size))\n",
    "wavg = torch.zeros((block_size, block_size))\n",
    "wavg = wavg.masked_fill(tril == 0, float('-inf'))\n",
    "wavg"
   ]
  },
  {
   "cell_type": "code",
   "execution_count": 63,
   "id": "f87911a2-6b09-48bb-9386-9bf94258f7f3",
   "metadata": {},
   "outputs": [
    {
     "data": {
      "text/plain": [
       "tensor([[1.0000, 0.0000, 0.0000,  ..., 0.0000, 0.0000, 0.0000],\n",
       "        [0.5000, 0.5000, 0.0000,  ..., 0.0000, 0.0000, 0.0000],\n",
       "        [0.3333, 0.3333, 0.3333,  ..., 0.0000, 0.0000, 0.0000],\n",
       "        ...,\n",
       "        [0.0256, 0.0256, 0.0256,  ..., 0.0256, 0.0000, 0.0000],\n",
       "        [0.0250, 0.0250, 0.0250,  ..., 0.0250, 0.0250, 0.0000],\n",
       "        [0.0244, 0.0244, 0.0244,  ..., 0.0244, 0.0244, 0.0244]])"
      ]
     },
     "execution_count": 63,
     "metadata": {},
     "output_type": "execute_result"
    }
   ],
   "source": [
    "wavg = F.softmax(wavg, dim=-1)\n",
    "wavg"
   ]
  },
  {
   "cell_type": "code",
   "execution_count": 64,
   "id": "16f53415-1c32-4781-86de-bbd855378510",
   "metadata": {},
   "outputs": [
    {
     "data": {
      "text/plain": [
       "tensor([[-3.3724e-01,  8.5071e-01,  1.4017e+00,  ..., -1.5412e+00,\n",
       "         -1.6795e-01,  1.3852e-01],\n",
       "        [-1.1678e-03,  7.3587e-01,  1.0797e+00,  ..., -8.7209e-01,\n",
       "         -1.9506e-02,  1.8728e-02],\n",
       "        [-1.6989e-01,  1.6168e+00,  6.4836e-01,  ..., -8.9479e-01,\n",
       "          1.6015e-01,  3.9291e-01],\n",
       "        ...,\n",
       "        [-4.2719e-02, -2.2332e-02,  1.0194e-01,  ...,  1.5666e-01,\n",
       "          1.9676e-02,  8.7227e-03],\n",
       "        [-7.0500e-02, -3.7854e-02,  8.0814e-02,  ...,  1.4647e-01,\n",
       "          3.1399e-02, -8.9009e-03],\n",
       "        [-6.5637e-02, -4.1837e-02,  6.2296e-02,  ...,  1.7006e-01,\n",
       "          5.9277e-02,  1.3914e-02]])"
      ]
     },
     "execution_count": 64,
     "metadata": {},
     "output_type": "execute_result"
    }
   ],
   "source": [
    "x_mean3 = wavg @ x\n",
    "x_mean3[0]"
   ]
  },
  {
   "cell_type": "code",
   "execution_count": 65,
   "id": "62add4fa-5c67-44eb-85ff-587adbb7a367",
   "metadata": {},
   "outputs": [
    {
     "data": {
      "text/plain": [
       "True"
      ]
     },
     "execution_count": 65,
     "metadata": {},
     "output_type": "execute_result"
    }
   ],
   "source": [
    "torch.allclose(x_mean, x_mean3, rtol=1e-02)"
   ]
  },
  {
   "cell_type": "markdown",
   "id": "654ebe8a-1218-4f11-b81d-a587ab18e592",
   "metadata": {},
   "source": [
    "## Self-Attention"
   ]
  },
  {
   "cell_type": "code",
   "execution_count": 66,
   "id": "337e0c48-1e0a-427c-9832-ea163680828b",
   "metadata": {},
   "outputs": [
    {
     "data": {
      "text/plain": [
       "torch.Size([4, 8, 32])"
      ]
     },
     "execution_count": 66,
     "metadata": {},
     "output_type": "execute_result"
    }
   ],
   "source": [
    "batch_size = 4 # the batch size, B\n",
    "block_size = 8 # the time dimension, T\n",
    "vocab_size = 32 # also called the channel size, C\n",
    "\n",
    "x = torch.randn(batch_size, block_size, vocab_size)\n",
    "x.shape"
   ]
  },
  {
   "cell_type": "code",
   "execution_count": 68,
   "id": "7111a1af-69e1-4906-a318-34b4231f6038",
   "metadata": {},
   "outputs": [
    {
     "data": {
      "text/plain": [
       "torch.Size([4, 8, 32])"
      ]
     },
     "execution_count": 68,
     "metadata": {},
     "output_type": "execute_result"
    }
   ],
   "source": [
    "tril = torch.tril(torch.ones(block_size, block_size))\n",
    "wavg = torch.zeros((block_size, block_size))\n",
    "wavg = wavg.masked_fill(tril == 0, float('-inf'))\n",
    "wavg = F.softmax(wavg, dim=-1)\n",
    "x_mean3 = wavg @ x\n",
    "x_mean3.shape"
   ]
  },
  {
   "cell_type": "code",
   "execution_count": 69,
   "id": "2fa6b1ba-a989-4185-98b0-c17fa42b073e",
   "metadata": {},
   "outputs": [
    {
     "data": {
      "text/plain": [
       "tensor([[1., 0., 0., 0., 0., 0., 0., 0.],\n",
       "        [1., 1., 0., 0., 0., 0., 0., 0.],\n",
       "        [1., 1., 1., 0., 0., 0., 0., 0.],\n",
       "        [1., 1., 1., 1., 0., 0., 0., 0.],\n",
       "        [1., 1., 1., 1., 1., 0., 0., 0.],\n",
       "        [1., 1., 1., 1., 1., 1., 0., 0.],\n",
       "        [1., 1., 1., 1., 1., 1., 1., 0.],\n",
       "        [1., 1., 1., 1., 1., 1., 1., 1.]])"
      ]
     },
     "execution_count": 69,
     "metadata": {},
     "output_type": "execute_result"
    }
   ],
   "source": [
    "tril"
   ]
  },
  {
   "cell_type": "code",
   "execution_count": 70,
   "id": "8ed97c56-1461-4cc8-ad20-5270c76454b5",
   "metadata": {},
   "outputs": [
    {
     "data": {
      "text/plain": [
       "tensor([[1.0000, 0.0000, 0.0000, 0.0000, 0.0000, 0.0000, 0.0000, 0.0000],\n",
       "        [0.5000, 0.5000, 0.0000, 0.0000, 0.0000, 0.0000, 0.0000, 0.0000],\n",
       "        [0.3333, 0.3333, 0.3333, 0.0000, 0.0000, 0.0000, 0.0000, 0.0000],\n",
       "        [0.2500, 0.2500, 0.2500, 0.2500, 0.0000, 0.0000, 0.0000, 0.0000],\n",
       "        [0.2000, 0.2000, 0.2000, 0.2000, 0.2000, 0.0000, 0.0000, 0.0000],\n",
       "        [0.1667, 0.1667, 0.1667, 0.1667, 0.1667, 0.1667, 0.0000, 0.0000],\n",
       "        [0.1429, 0.1429, 0.1429, 0.1429, 0.1429, 0.1429, 0.1429, 0.0000],\n",
       "        [0.1250, 0.1250, 0.1250, 0.1250, 0.1250, 0.1250, 0.1250, 0.1250]])"
      ]
     },
     "execution_count": 70,
     "metadata": {},
     "output_type": "execute_result"
    }
   ],
   "source": [
    "wavg # weighted average over the input"
   ]
  },
  {
   "cell_type": "markdown",
   "id": "2b46d50e-f5af-4c6d-8a29-30088d298164",
   "metadata": {},
   "source": [
    "### Single head self-attention"
   ]
  },
  {
   "cell_type": "markdown",
   "id": "ddaa0535-2638-41b8-8f77-dccd75c367f8",
   "metadata": {},
   "source": [
    "We define a representation over the input `x` in terms of keys $K$, queries $Q$ and values $V$\n",
    "\n",
    "$$\n",
    "  \\text{Attention}(Q, K, V) = \\text{softmax}(\\frac{Q K^T}{\\sqrt{d_k}}) V\n",
    "$$\n",
    "\n",
    "$\\sqrt{d_k}$ is a scaling factor which uses the dimensionality $d_k$ of the queries and keys."
   ]
  },
  {
   "cell_type": "code",
   "execution_count": 71,
   "id": "fa305141-122a-4d2f-8def-b2c9198642fa",
   "metadata": {},
   "outputs": [],
   "source": [
    "head_size = 16\n",
    "key = nn.Linear(vocab_size, head_size, bias=False)\n",
    "query = nn.Linear(vocab_size, head_size, bias=False)"
   ]
  },
  {
   "cell_type": "code",
   "execution_count": 72,
   "id": "4ba0ef35-5503-49df-983e-389eb13810a5",
   "metadata": {},
   "outputs": [
    {
     "data": {
      "text/plain": [
       "torch.Size([4, 8, 16])"
      ]
     },
     "execution_count": 72,
     "metadata": {},
     "output_type": "execute_result"
    }
   ],
   "source": [
    "k = key(x) # (vocab_size, head_size, 16)\n",
    "k.shape"
   ]
  },
  {
   "cell_type": "code",
   "execution_count": 73,
   "id": "d796341a-9098-4d32-a27a-f2a9cd291da2",
   "metadata": {},
   "outputs": [
    {
     "data": {
      "text/plain": [
       "torch.Size([4, 16, 8])"
      ]
     },
     "execution_count": 73,
     "metadata": {},
     "output_type": "execute_result"
    }
   ],
   "source": [
    "tmp = k.transpose(-2, -1)\n",
    "tmp.shape"
   ]
  },
  {
   "cell_type": "code",
   "execution_count": 74,
   "id": "6313a38b-c08f-4dc6-902e-1e7e5be5b32a",
   "metadata": {},
   "outputs": [
    {
     "data": {
      "text/plain": [
       "torch.Size([4, 8, 16])"
      ]
     },
     "execution_count": 74,
     "metadata": {},
     "output_type": "execute_result"
    }
   ],
   "source": [
    "q = query(x) # (vocab_size, head_size, 16)\n",
    "q.shape"
   ]
  },
  {
   "cell_type": "code",
   "execution_count": 75,
   "id": "1e03eb26-28a3-418a-9e5e-ef0688081793",
   "metadata": {},
   "outputs": [
    {
     "data": {
      "text/plain": [
       "torch.Size([4, 8, 8])"
      ]
     },
     "execution_count": 75,
     "metadata": {},
     "output_type": "execute_result"
    }
   ],
   "source": [
    "wavg = q @ k.transpose(-2, -1)\n",
    "# [4,8,16] @ [4,16,8] = [4,8,8]\n",
    "wavg.shape"
   ]
  },
  {
   "cell_type": "code",
   "execution_count": 76,
   "id": "c8270978-435b-4d97-83ac-1fe71a0ee0b1",
   "metadata": {},
   "outputs": [
    {
     "data": {
      "text/plain": [
       "torch.Size([4, 8, 32])"
      ]
     },
     "execution_count": 76,
     "metadata": {},
     "output_type": "execute_result"
    }
   ],
   "source": [
    "# ignore the future tokens for each token (as before)\n",
    "tril = torch.tril(torch.ones(block_size, block_size))\n",
    "wavg = wavg.masked_fill(tril == 0, float('-inf'))\n",
    "# renormalize and produce a probability\n",
    "wavg = F.softmax(wavg, dim=-1)\n",
    "x_mean4 = wavg @ x\n",
    "x_mean4.shape"
   ]
  },
  {
   "cell_type": "code",
   "execution_count": 77,
   "id": "a772014a-8733-43f0-aa1e-a4cc4a17169c",
   "metadata": {},
   "outputs": [
    {
     "data": {
      "text/plain": [
       "tensor([[1.0000, 0.0000, 0.0000, 0.0000, 0.0000, 0.0000, 0.0000, 0.0000],\n",
       "        [0.3095, 0.6905, 0.0000, 0.0000, 0.0000, 0.0000, 0.0000, 0.0000],\n",
       "        [0.1561, 0.2649, 0.5790, 0.0000, 0.0000, 0.0000, 0.0000, 0.0000],\n",
       "        [0.0569, 0.0479, 0.8555, 0.0398, 0.0000, 0.0000, 0.0000, 0.0000],\n",
       "        [0.0588, 0.0215, 0.4821, 0.3872, 0.0504, 0.0000, 0.0000, 0.0000],\n",
       "        [0.3439, 0.0182, 0.1581, 0.2577, 0.1109, 0.1112, 0.0000, 0.0000],\n",
       "        [0.2341, 0.0985, 0.0142, 0.5249, 0.0090, 0.0548, 0.0646, 0.0000],\n",
       "        [0.1281, 0.1455, 0.0710, 0.0706, 0.1708, 0.1348, 0.2545, 0.0247]],\n",
       "       grad_fn=<SelectBackward0>)"
      ]
     },
     "execution_count": 77,
     "metadata": {},
     "output_type": "execute_result"
    }
   ],
   "source": [
    "wavg[0]"
   ]
  },
  {
   "cell_type": "code",
   "execution_count": 78,
   "id": "cff85aa9-0595-4b33-b2a1-0493d7ade561",
   "metadata": {},
   "outputs": [
    {
     "name": "stdout",
     "output_type": "stream",
     "text": [
      "torch.Size([8, 32])\n"
     ]
    },
    {
     "data": {
      "text/plain": [
       "tensor([[ 0.3405, -0.6402, -0.0548,  1.1846,  1.2330, -1.2874,  0.4598,  0.0719,\n",
       "          1.0122,  1.0857, -0.2305,  1.0125,  0.6645,  0.5130,  0.1741,  0.1232,\n",
       "         -2.1727, -0.8218, -1.7383,  1.2042, -1.3418,  0.1461,  0.1446, -1.4757,\n",
       "          2.0816,  1.1982, -0.0466, -1.4653,  2.0270,  0.8284, -1.4669,  1.1197],\n",
       "        [-0.6437,  0.4549, -0.0486, -0.3499, -1.0541, -0.9607,  0.3470,  0.1325,\n",
       "          0.9736,  0.4319, -0.5288,  0.0283, -0.1954,  0.3770,  0.2944, -0.4053,\n",
       "         -1.2813,  0.7022,  0.1657,  0.2494, -1.4948,  0.4366, -0.1805, -1.1028,\n",
       "          0.0412, -0.2164,  0.4200, -0.0281,  0.5543, -0.1241, -1.0047,  1.2284],\n",
       "        [-0.9617,  1.1024, -0.0583, -0.0170, -0.3305,  0.5233, -0.0042,  0.3106,\n",
       "          0.6332,  0.5178,  0.4887, -1.5210,  0.0685,  0.8750,  0.0438,  0.6239,\n",
       "         -0.2191,  0.4731,  0.3746,  0.4904, -0.2545,  0.3522, -0.1932, -0.3332,\n",
       "         -0.1687,  0.8935, -0.0707, -0.4845,  0.2395,  0.8535, -0.9235,  0.3523],\n",
       "        [-1.0249,  1.4420, -0.0109,  0.0917,  0.0035,  1.2274, -0.2272,  0.3405,\n",
       "          0.4187,  0.5855,  1.0909, -2.2438,  0.2061,  1.0810, -0.0501,  1.1694,\n",
       "          0.4300,  0.3391,  0.4885,  0.5891,  0.3959,  0.3611, -0.2181,  0.1249,\n",
       "         -0.3141,  1.4155, -0.3476, -0.7452,  0.0092,  1.3207, -0.8269, -0.0822],\n",
       "        [ 0.1915,  1.0923,  0.4171, -0.2122,  0.0260,  0.2393, -0.4773, -0.3203,\n",
       "          0.1040,  0.8761,  1.6041, -0.8928,  0.3478,  0.5686,  0.3106,  1.0424,\n",
       "          0.8728, -0.1679,  0.0288,  0.4908,  0.2115,  0.7097, -0.3457,  0.3990,\n",
       "         -0.2190,  0.9665, -0.4853, -1.1144, -0.1399,  0.9439, -0.4887,  0.2772],\n",
       "        [ 0.4552,  0.3589,  0.3482,  0.3083,  0.2160, -0.4680, -0.1597, -0.3019,\n",
       "          0.1199,  0.8117,  0.8026,  0.0874,  0.3283,  0.3673,  0.1916,  0.3349,\n",
       "         -0.1360, -0.6063, -0.6455,  0.6532, -0.3444,  0.4904, -0.2440, -0.3140,\n",
       "          0.5215,  0.8599, -0.0478, -1.3178,  0.9232,  0.9133, -0.6481,  0.6098],\n",
       "        [ 0.9984,  0.3318,  0.6165, -0.2010, -0.1803, -1.0981, -0.3378, -0.7386,\n",
       "          0.1096,  1.0150,  1.1754,  0.6251,  0.3165, -0.1101,  0.4508,  0.6709,\n",
       "          0.2757, -0.3295, -0.4500,  0.4475, -0.4382,  0.8733, -0.2453,  0.0220,\n",
       "          0.2647,  0.3483, -0.3142, -1.2840,  0.2290,  0.5208, -0.2838,  0.8141],\n",
       "        [-0.2889,  0.3809, -0.2359,  0.1667, -0.4239, -0.5083,  0.2489, -0.5989,\n",
       "          0.0450,  0.2477,  0.1389, -0.1191, -0.0285,  0.0803, -0.1161,  0.1751,\n",
       "         -0.6135,  0.1812,  0.1036,  0.2675, -0.3966, -0.0078, -0.1334, -0.3865,\n",
       "         -0.5269,  0.0898,  0.3589, -0.2217,  0.7529,  0.7926, -0.4903,  0.5203]],\n",
       "       grad_fn=<SelectBackward0>)"
      ]
     },
     "execution_count": 78,
     "metadata": {},
     "output_type": "execute_result"
    }
   ],
   "source": [
    "print(x_mean4[0].shape)\n",
    "x_mean4[0]"
   ]
  },
  {
   "cell_type": "code",
   "execution_count": 79,
   "id": "35f0b14d-640a-4fc8-b57a-f4202cb4abd4",
   "metadata": {},
   "outputs": [],
   "source": [
    "value = nn.Linear(vocab_size, head_size, bias=False)"
   ]
  },
  {
   "cell_type": "code",
   "execution_count": 80,
   "id": "f2892ace-96ee-490d-98e3-bdc2eabeb8f2",
   "metadata": {},
   "outputs": [
    {
     "data": {
      "text/plain": [
       "torch.Size([4, 8, 16])"
      ]
     },
     "execution_count": 80,
     "metadata": {},
     "output_type": "execute_result"
    }
   ],
   "source": [
    "v = value(x)\n",
    "v.shape"
   ]
  },
  {
   "cell_type": "code",
   "execution_count": 81,
   "id": "42bdfe87-706b-40ed-b826-370a81f5373f",
   "metadata": {},
   "outputs": [
    {
     "data": {
      "text/plain": [
       "torch.Size([4, 8, 16])"
      ]
     },
     "execution_count": 81,
     "metadata": {},
     "output_type": "execute_result"
    }
   ],
   "source": [
    "x_mean5 = wavg @ v\n",
    "x_mean5.shape"
   ]
  },
  {
   "cell_type": "markdown",
   "id": "cafd9eae-f350-44c6-b3ec-6b5aa8c0ede2",
   "metadata": {},
   "source": [
    "In the above, the attention mechanism is similar to a weighted average over a bag of words. To know about the structure of language, we have to add positional information to each token so that the representation of `it` in position 2 will be different from the representation of `it` in postion 24."
   ]
  },
  {
   "cell_type": "markdown",
   "id": "34b0a518-b4c4-484c-ab07-8f5203fccdb7",
   "metadata": {},
   "source": [
    "The keys, queries and values all come from input `x`. If we have queries coming from `x` but the keys and values come from a different sequence then the attention is called **cross-attention**."
   ]
  },
  {
   "cell_type": "markdown",
   "id": "10247084-638a-437e-9082-bc096b8f84c4",
   "metadata": {},
   "source": [
    "### Scaled attention"
   ]
  },
  {
   "cell_type": "markdown",
   "id": "3497203a-971e-41fa-bdd0-2ad08ca9798b",
   "metadata": {},
   "source": [
    "A naive dot product of keys and queries will lead to a variance that is proportional to the value of `head_size`."
   ]
  },
  {
   "cell_type": "code",
   "execution_count": 90,
   "id": "d55fb66f-99b6-4e64-8af4-ea597afe97ad",
   "metadata": {},
   "outputs": [
    {
     "name": "stdout",
     "output_type": "stream",
     "text": [
      "key variance=1.0031834840774536\n",
      "query variance=1.0031834840774536\n",
      "wavg variance=15.086750030517578\n",
      "head_size=16\n"
     ]
    }
   ],
   "source": [
    "k = torch.randn(batch_size, block_size, head_size)\n",
    "q = torch.randn(batch_size, block_size, head_size)\n",
    "wavg_noscale = q @ k.transpose(-2, -1)\n",
    "print(f'key variance={k.var()}')\n",
    "print(f'query variance={k.var()}')\n",
    "print(f'wavg variance={wavg_noscale.var()}')\n",
    "print(f'{head_size=}')"
   ]
  },
  {
   "cell_type": "markdown",
   "id": "ec3724e6-7bf1-454b-90ee-447b90a76fa5",
   "metadata": {},
   "source": [
    "Scaling down the dot product by the square root of the head size gives us a variance that is similar to the key and query variance. This means that when we take the softmax over the dot product we don't get highly scaled values that can lead to very confident probability distributions soon after initialization. To make the parameter updates more conservative especially in the early stages of training, scaled dot-products perform much better by reducing the variance of the weighted average."
   ]
  },
  {
   "cell_type": "code",
   "execution_count": 91,
   "id": "2ec21a17-50f0-49b9-9052-7281c0244515",
   "metadata": {},
   "outputs": [
    {
     "name": "stdout",
     "output_type": "stream",
     "text": [
      "key variance=0.9322683215141296\n",
      "query variance=0.9322683215141296\n",
      "wavg variance=0.822385847568512\n"
     ]
    }
   ],
   "source": [
    "k = torch.randn(batch_size, block_size, head_size)\n",
    "q = torch.randn(batch_size, block_size, head_size)\n",
    "wavg = q @ k.transpose(-2, -1) * head_size**(-0.5)\n",
    "print(f'key variance={k.var()}')\n",
    "print(f'query variance={k.var()}')\n",
    "print(f'wavg variance={wavg.var()}')"
   ]
  },
  {
   "cell_type": "code",
   "execution_count": 92,
   "id": "3a2ca5b2-5e74-4dff-a8e1-0fe21b6ff1de",
   "metadata": {},
   "outputs": [
    {
     "data": {
      "text/plain": [
       "tensor(0.0959, grad_fn=<VarBackward0>)"
      ]
     },
     "execution_count": 92,
     "metadata": {},
     "output_type": "execute_result"
    }
   ],
   "source": [
    "k = key(x) # (vocab_size, head_size, 16)\n",
    "q = query(x) # (vocab_size, head_size, 16)\n",
    "wavg = q @ k.transpose(-2, -1) * head_size**(-0.5)\n",
    "wavg.var()"
   ]
  },
  {
   "cell_type": "code",
   "execution_count": 93,
   "id": "f0fcadf0-3442-4a07-bc28-c9622607cf41",
   "metadata": {},
   "outputs": [
    {
     "data": {
      "text/plain": [
       "torch.Size([4, 8, 32])"
      ]
     },
     "execution_count": 93,
     "metadata": {},
     "output_type": "execute_result"
    }
   ],
   "source": [
    "# ignore the future tokens for each token (as before)\n",
    "tril = torch.tril(torch.ones(block_size, block_size))\n",
    "wavg = wavg.masked_fill(tril == 0, float('-inf'))\n",
    "# renormalize and produce a probability\n",
    "wavg = F.softmax(wavg, dim=-1)\n",
    "v = value(x)\n",
    "x_mean6 = wavg @ x\n",
    "x_mean6.shape"
   ]
  },
  {
   "cell_type": "markdown",
   "id": "cd2aa5a7-a0db-48de-bc37-42d50fde2675",
   "metadata": {},
   "source": [
    "## Transformer language model"
   ]
  },
  {
   "cell_type": "code",
   "execution_count": 94,
   "id": "6ecf4a53-2cc4-458a-bcfd-b15cf78c5cdf",
   "metadata": {},
   "outputs": [],
   "source": [
    "class Head(nn.Module):\n",
    "    \"\"\" single head of self attention \"\"\"\n",
    "\n",
    "    def __init__(self, n_embed, block_size, head_size):\n",
    "        super().__init__()\n",
    "        self.n_embed = n_embed\n",
    "        self.block_size = block_size\n",
    "        self.head_size = head_size\n",
    "        self.key = nn.Linear(n_embed, head_size, bias=False)\n",
    "        self.query = nn.Linear(n_embed, head_size, bias=False)\n",
    "        self.value = nn.Linear(n_embed, head_size, bias=False)\n",
    "        self.register_buffer('tril', torch.tril(torch.ones(block_size, block_size)))\n",
    "\n",
    "    def forward(self, x):\n",
    "        batch_size, block_size, head_size = x.shape\n",
    "        k = self.key(x)   # (batch_size, block_size, head_size)\n",
    "        q = self.query(x) # (batch_size, block_size, head_size)\n",
    "        # compute weighted average using scaled attention\n",
    "        wavg = q @ k.transpose(-2, -1) * head_size**(-0.5)\n",
    "        # wavg.shape = (batch_size, block_size, head_size) @ (batch_size, head_size, block_size)\n",
    "        # wavg.shape = (batch_size, block_size, block_size)\n",
    "        wavg = wavg.masked_fill(self.tril[:block_size, :block_size] == 0, float('-inf'))\n",
    "        # wavg.shape = (batch_size, block_size, block_size)\n",
    "        wavg = F.softmax(wavg, dim=-1)\n",
    "        # wavg.shape = (batch_size, block_size, block_size)\n",
    "        v = self.value(x) # (batch_size, block_size, head_size)\n",
    "        # wavg @ v : (batch_size, block_size, block_size) @ (batch_size, block_size, head_size)\n",
    "        # wavg @ v : (batch_size, block_size, head_size)\n",
    "        return wavg @ v"
   ]
  },
  {
   "cell_type": "code",
   "execution_count": 95,
   "id": "cca9ccc9-edd1-4690-9ffe-e15b2a20f89c",
   "metadata": {},
   "outputs": [],
   "source": [
    "class SimpleTransformerLM(nn.Module):\n",
    "\n",
    "    def __init__(self, n_embed, vocab_size, block_size, head_size):\n",
    "        super().__init__()\n",
    "        self.n_embed = n_embed\n",
    "        self.vocab_size = vocab_size\n",
    "        self.head_size = head_size\n",
    "        self.block_size = block_size\n",
    "        self.token_embed = nn.Embedding(vocab_size, n_embed) # (C, D)\n",
    "        self.position_embed = nn.Embedding(block_size, n_embed) # (T, D)\n",
    "        self.self_attn_head = Head(n_embed, block_size, head_size) # (D, T, D)\n",
    "        self.predict = nn.Linear(n_embed, vocab_size)\n",
    "\n",
    "    def forward(self, idx):\n",
    "        # B: batch_size\n",
    "        # T: block_size aka time\n",
    "        # C: channel_size aka vocab_size\n",
    "        # D: size of embedding\n",
    "        # idx is a (B,T) size tensor\n",
    "        batch_size, block_size = idx.shape\n",
    "        token_embed = self.token_embed(idx) # (B, T, D)\n",
    "        position_embed = self.position_embed(torch.arange(block_size)) # (T, D)\n",
    "        x = token_embed + position_embed # (B, T, D)\n",
    "        x = self.self_attn_head(x) # apply one head of self attention: (B, T, D)\n",
    "        return self.predict(x) # return logits (B, T, vocab_size)\n",
    "\n",
    "    def loss(self, logits, targets):\n",
    "        # logits is a (B, T, C) tensor\n",
    "        # target is a (B, T) size tensor\n",
    "        return F.cross_entropy(\n",
    "                logits.view(-1, self.vocab_size), # convert to (B*T, C) tensor\n",
    "                targets.view(-1) # convert to (B*T) tensor\n",
    "                )\n",
    "\n",
    "    def generate(self, idx, max_new_tokens):\n",
    "        # idx is a (B, T) size tensor of indices\n",
    "        for _ in range(max_new_tokens):\n",
    "            # crop idx to the last block_size tokens\n",
    "            idx_cond = idx[:, -self.block_size:]\n",
    "            # get the predictions\n",
    "            logits = self(idx_cond) # ignore loss\n",
    "            # use the last time step\n",
    "            logits = logits[:, -1, :] # which is size (B, C)\n",
    "            # apply softmax to get probabilities\n",
    "            probs = F.softmax(logits, dim=-1) # size (B, C)\n",
    "            # sample from this probability distribution\n",
    "            idx_next = torch.multinomial(probs, num_samples=1) # size (B, 1)\n",
    "            # append sampled token to sequence\n",
    "            idx = torch.cat((idx, idx_next), dim=1) # size (B, T+1)\n",
    "            decoded = decode(idx[-1].tolist())\n",
    "            if decoded[-1] == '<|endoftext|>':\n",
    "                break\n",
    "        return idx"
   ]
  },
  {
   "cell_type": "markdown",
   "id": "860c045a-6f8a-4b66-9723-f475d4d22a7e",
   "metadata": {},
   "source": [
    "## Training the Transformer LM"
   ]
  },
  {
   "cell_type": "code",
   "execution_count": 106,
   "id": "0cef4a13-0820-4c09-9ce8-2a7f5c1ef4fb",
   "metadata": {},
   "outputs": [
    {
     "name": "stdout",
     "output_type": "stream",
     "text": [
      "'<|endoftext|><|padtoken|><|starttext|><|to_ipa|>aaʰaːaːːbbʰbˡb̚b̥b̪cddˀd̚d̠d̠͡ɹ̠d̥d̥̚d̪d͡ɹ̝d͡ʒdⁿeeːe̞e̯e͡əeᵊffʷf̚f͡s̪ghiiːiːʲiˑi̯jjːj̊j̥kkʰkʲkʷk̚k̠ʰk͡sllʷl̥l̥ʰl̩l̪mm̥m̩m̩ːnnʰnːn̠n̥n̩n̪n̪̥ooːo̞o̞ːppʰpʷpʼp̚p̪p͡tʼʰp͡ɸːqrsttʰtˀtːtˤt̚t̠t̠ʰt̠̚t̠͡ɹ̠t̠͡ɹ̠̊t̠͡ʃt̪t̪ʰt̬t̰̚t͡st͡ʃt͡ʃʰtᵊtⁿuuʷuːu̟u̟ːu̠ːu̥u̯vww̥xyyːzz̥~áãääːææˀæːæːːæˑæ̃æ̙æ̝æ̝ːæ̰ˀæ̰ːçéëðõö̞øúüăčĩĩːĭ̥ŋŋ̍ŏœːŭ̥ǀɐɐːɑɑˀɑːɑˑɑ̃ɑ̃ːɑ̃ⁿɑ̟ɒɒˀɒːɒ̃ːɒ̃ⁿɒ͡ɪɔɔːɔ̃ɕɖɘəəːə̃ə̆ə̥ə̯ə̯̃ɚɚːɚːːɚ̯ɛɛːɛˑɛ̃ɛ̈ɛ͡əɜɜːɝɝːɝˑɝ̃ɡɡ̊ɣɣːɤɥɦɨɨ̃ɨ̞ɪɪʰɪːɪˑɪ̃ɪ̃ːɪ̈ɪ̞ɪ̥ɪ̯ɫɫ̥ɫ̩ɯɯ᷈ːɱɱ̊ɱ̩ɲɵɸɸ͡sɸ͡s̪ɹɹʲɹʷɹˠɹ̝̊ɹ̠ɹ̠ʷɹ̠̊ɹ̥ɹ̥ʷɹ̩ɻɻʷɽ̃ɾɾʱɾ̃ɾ̪̊ɾᵊʀ̊ʁʃʉʉːʉ̃͡uʉ̜ːʉ̞ʉ̯ʉ͡uʊʊʷʊːʊ̃ʊ̆ʊ̈ʊ̠ʊ̯ʊ̯ˀʊ̯ːʊ̯̃ʋʌʌˀʌˑʌ̃ʌ̃ːʌ᷈ʍʎʏʒʔʔ̚ʔᵊʙ̥͡ɸːʝʟ̩ˀeː˔˔ʷ˗ʷ˞˥˥˩˦˨˨βθχẽẽːẽˑ\n",
      "vocab_size=312\n",
      "head_size=32\n"
     ]
    }
   ],
   "source": [
    "vocab = sorted(list({ c for ex in dataset for c in ex }))\n",
    "vocab_size = len(vocab)\n",
    "print(''.join(vocab))\n",
    "print(f'{vocab_size=}')\n",
    "\n",
    "batch_size = 4\n",
    "n_embed = 32\n",
    "n_heads = 1\n",
    "block_size = max_len-2\n",
    "head_size = n_embed // n_heads\n",
    "print(f'{head_size=}')"
   ]
  },
  {
   "cell_type": "code",
   "execution_count": 107,
   "id": "fbb9634d-3d7d-485b-9ebc-eab4d01a3221",
   "metadata": {},
   "outputs": [
    {
     "name": "stdout",
     "output_type": "stream",
     "text": [
      "tensor([[  3,  73,  86,  16,  27,  86,   4, 177, 239, 253, 190,   1,   2,   2,\n",
      "           2,   2,   2,   2,   2,   2,   2,   2,   2,   2,   2,   2,   2,   2,\n",
      "           2,   2,   2,   2,   2,   2,   2,   2,   2,   2,   2,   2,   2],\n",
      "        [  3,  48,  39,  15,  48,   4,  49, 216,  48,   1,   2,   2,   2,   2,\n",
      "           2,   2,   2,   2,   2,   2,   2,   2,   2,   2,   2,   2,   2,   2,\n",
      "           2,   2,   2,   2,   2,   2,   2,   2,   2,   2,   2,   2,   2],\n",
      "        [  3,  77,   5,  88,  38,   4,  78,  27, 183, 307,   1,   2,   2,   2,\n",
      "           2,   2,   2,   2,   2,   2,   2,   2,   2,   2,   2,   2,   2,   2,\n",
      "           2,   2,   2,   2,   2,   2,   2,   2,   2,   2,   2,   2,   2],\n",
      "        [  3,  77,  86,  73,  65,  88,  73,   4,  78, 239, 163,  65,  89,  73,\n",
      "         275,   1,   2,   2,   2,   2,   2,   2,   2,   2,   2,   2,   2,   2,\n",
      "           2,   2,   2,   2,   2,   2,   2,   2,   2,   2,   2,   2,   2]])\n"
     ]
    },
    {
     "data": {
      "text/plain": [
       "tensor([[[-0.4998, -0.3331,  0.0036,  ..., -0.0353, -1.2349, -1.2412],\n",
       "         [-1.6534,  0.3693,  0.5543,  ...,  1.6822,  1.0071,  0.3372],\n",
       "         [-1.5057,  0.2557, -0.1337,  ..., -0.9513, -1.1000,  0.5957],\n",
       "         ...,\n",
       "         [ 0.5460, -0.1088, -0.0042,  ..., -0.0677,  1.7567, -0.1075],\n",
       "         [ 0.5460, -0.1088, -0.0042,  ..., -0.0677,  1.7567, -0.1075],\n",
       "         [ 0.5460, -0.1088, -0.0042,  ..., -0.0677,  1.7567, -0.1075]],\n",
       "\n",
       "        [[-0.4998, -0.3331,  0.0036,  ..., -0.0353, -1.2349, -1.2412],\n",
       "         [-0.2692,  2.4080,  0.0988,  ...,  0.7194,  0.8393, -0.3193],\n",
       "         [ 0.3096,  0.4450,  2.4960,  ...,  2.3678, -1.1713, -0.6105],\n",
       "         ...,\n",
       "         [ 0.5460, -0.1088, -0.0042,  ..., -0.0677,  1.7567, -0.1075],\n",
       "         [ 0.5460, -0.1088, -0.0042,  ..., -0.0677,  1.7567, -0.1075],\n",
       "         [ 0.5460, -0.1088, -0.0042,  ..., -0.0677,  1.7567, -0.1075]],\n",
       "\n",
       "        [[-0.4998, -0.3331,  0.0036,  ..., -0.0353, -1.2349, -1.2412],\n",
       "         [ 0.4217,  0.0148,  0.0324,  ...,  1.5282,  0.6919, -0.5011],\n",
       "         [-0.0664,  1.4303, -0.8422,  ...,  1.3312,  0.8280,  0.8500],\n",
       "         ...,\n",
       "         [ 0.5460, -0.1088, -0.0042,  ..., -0.0677,  1.7567, -0.1075],\n",
       "         [ 0.5460, -0.1088, -0.0042,  ..., -0.0677,  1.7567, -0.1075],\n",
       "         [ 0.5460, -0.1088, -0.0042,  ..., -0.0677,  1.7567, -0.1075]],\n",
       "\n",
       "        [[-0.4998, -0.3331,  0.0036,  ..., -0.0353, -1.2349, -1.2412],\n",
       "         [ 0.4217,  0.0148,  0.0324,  ...,  1.5282,  0.6919, -0.5011],\n",
       "         [-1.5057,  0.2557, -0.1337,  ..., -0.9513, -1.1000,  0.5957],\n",
       "         ...,\n",
       "         [ 0.5460, -0.1088, -0.0042,  ..., -0.0677,  1.7567, -0.1075],\n",
       "         [ 0.5460, -0.1088, -0.0042,  ..., -0.0677,  1.7567, -0.1075],\n",
       "         [ 0.5460, -0.1088, -0.0042,  ..., -0.0677,  1.7567, -0.1075]]],\n",
       "       grad_fn=<EmbeddingBackward0>)"
      ]
     },
     "execution_count": 107,
     "metadata": {},
     "output_type": "execute_result"
    }
   ],
   "source": [
    "embed = nn.Embedding(vocab_size, n_embed)\n",
    "xb, yb = get_batch('train', block_size, batch_size)\n",
    "print(xb)\n",
    "embed(xb)"
   ]
  },
  {
   "cell_type": "code",
   "execution_count": 108,
   "id": "48ffd726-6fea-45c0-a0c1-ec957468d558",
   "metadata": {},
   "outputs": [
    {
     "name": "stdout",
     "output_type": "stream",
     "text": [
      "SimpleTransformerLM(\n",
      "  (token_embed): Embedding(312, 32)\n",
      "  (position_embed): Embedding(41, 32)\n",
      "  (self_attn_head): Head(\n",
      "    (key): Linear(in_features=32, out_features=32, bias=False)\n",
      "    (query): Linear(in_features=32, out_features=32, bias=False)\n",
      "    (value): Linear(in_features=32, out_features=32, bias=False)\n",
      "  )\n",
      "  (predict): Linear(in_features=32, out_features=312, bias=True)\n",
      ")\n"
     ]
    }
   ],
   "source": [
    "model2 = SimpleTransformerLM(n_embed, vocab_size, block_size, head_size)\n",
    "optimizer2 = optim.Adam(model2.parameters(), lr=1e-4)\n",
    "losses = []\n",
    "validation_losses = []\n",
    "print(model2)"
   ]
  },
  {
   "cell_type": "markdown",
   "id": "3f3a501c-bb40-4d9f-b47c-264680c3e570",
   "metadata": {},
   "source": [
    "### Training Loop"
   ]
  },
  {
   "cell_type": "code",
   "execution_count": 109,
   "id": "d98ac647-d234-48da-a4b2-b769bac3ac90",
   "metadata": {},
   "outputs": [
    {
     "name": "stdout",
     "output_type": "stream",
     "text": [
      "loss=1.1000257730484009\n"
     ]
    }
   ],
   "source": [
    "for _ in range(n_updates):\n",
    "    xb, yb = get_batch('train', block_size, batch_size)\n",
    "    logits = model2(xb)\n",
    "    loss = model2.loss(logits, yb)\n",
    "    losses.append(loss.log10().item())\n",
    "    #print(f'{loss=}')\n",
    "    optimizer2.zero_grad()\n",
    "    loss.backward()\n",
    "    optimizer2.step()\n",
    "\n",
    "print(f'loss={loss.item()}')"
   ]
  },
  {
   "cell_type": "markdown",
   "id": "e2fd5d9e-1778-4431-b9bc-f8806a041114",
   "metadata": {},
   "source": [
    "### Calculate validation loss"
   ]
  },
  {
   "cell_type": "code",
   "execution_count": 110,
   "id": "164f8bc2-a8da-4916-bb81-2756e9dd3bd7",
   "metadata": {},
   "outputs": [
    {
     "name": "stdout",
     "output_type": "stream",
     "text": [
      "tensor(0.9020, grad_fn=<NllLossBackward0>)\n"
     ]
    }
   ],
   "source": [
    "xb, yb = get_batch('val', block_size, batch_size)\n",
    "logits = model2(xb)\n",
    "val_loss = model2.loss(logits, yb)\n",
    "print(val_loss)"
   ]
  },
  {
   "cell_type": "markdown",
   "id": "01e09124-d9ef-41f0-bf8c-0d438935c5e6",
   "metadata": {},
   "source": [
    "### Plot the average loss"
   ]
  },
  {
   "cell_type": "code",
   "execution_count": 111,
   "id": "6540d34e-76b9-4d1c-983a-b975035359aa",
   "metadata": {},
   "outputs": [
    {
     "data": {
      "text/plain": [
       "[<matplotlib.lines.Line2D at 0x1465c5030>]"
      ]
     },
     "execution_count": 111,
     "metadata": {},
     "output_type": "execute_result"
    },
    {
     "data": {
      "image/png": "[encoded data removed]",
      "text/plain": [
       "<Figure size 640x480 with 1 Axes>"
      ]
     },
     "metadata": {},
     "output_type": "display_data"
    }
   ],
   "source": [
    "avg_loss = torch.tensor(losses).view(-1, 100).mean(1)\n",
    "plt.plot(avg_loss)"
   ]
  },
  {
   "cell_type": "markdown",
   "id": "c4d47898-19f9-4718-a1d9-8232b1034c6d",
   "metadata": {},
   "source": [
    "### Generate some output from the model"
   ]
  },
  {
   "cell_type": "code",
   "execution_count": 112,
   "id": "09dd86d4-4832-4354-8bcd-62075af81cce",
   "metadata": {},
   "outputs": [
    {
     "name": "stdout",
     "output_type": "stream",
     "text": [
      "['<|starttext|>', 'c', 'u', 't', 't', 'i', 'p', 'd', '<|to_ipa|>', 'a', '<|endoftext|>']\n"
     ]
    }
   ],
   "source": [
    "print(decode(model2.generate(idx, max_new_tokens=100)[0].tolist()))"
   ]
  },
  {
   "cell_type": "markdown",
   "id": "a0a1c163-0ad5-4421-9ea1-9b7b98bbd617",
   "metadata": {},
   "source": [
    "### Multihead Attention"
   ]
  },
  {
   "cell_type": "code",
   "execution_count": 113,
   "id": "df1d0539-52bc-4ec6-a019-a8e1768f449f",
   "metadata": {},
   "outputs": [],
   "source": [
    "class MultiHeadAttention(nn.Module):\n",
    "    \"\"\" multiple heads of self-attention in parallel \"\"\"\n",
    "\n",
    "    def __init__(self, n_embed, block_size, n_heads, head_size):\n",
    "        super().__init__()\n",
    "        self.heads = nn.ModuleList([Head(n_embed, block_size, head_size) for _ in range(n_heads)])\n",
    "\n",
    "    def forward(self, x):\n",
    "        return torch.cat([h(x) for h in self.heads], dim=-1)"
   ]
  },
  {
   "cell_type": "code",
   "execution_count": 114,
   "id": "9950d1ef-2bc2-47c2-8540-528b96d983b1",
   "metadata": {},
   "outputs": [],
   "source": [
    "class MultiHeadTransformerLM(nn.Module):\n",
    "\n",
    "    def __init__(self, n_embed, vocab_size, block_size, n_heads):\n",
    "        super().__init__()\n",
    "        self.n_embed = n_embed\n",
    "        self.vocab_size = vocab_size\n",
    "        self.head_size = head_size\n",
    "        self.block_size = block_size\n",
    "        self.token_embed = nn.Embedding(vocab_size, n_embed) # (C, D)\n",
    "        self.position_embed = nn.Embedding(block_size, n_embed) # (T, D)\n",
    "        self.self_attn_head = MultiHeadAttention(n_embed, block_size, n_heads, n_embed//n_heads) # (D, T, C)\n",
    "        self.predict = nn.Linear(n_embed, vocab_size)\n",
    "\n",
    "    def forward(self, idx):\n",
    "        # B: batch_size\n",
    "        # T: block_size aka time\n",
    "        # C: channel_size aka vocab_size\n",
    "        # idx is a (B,T) size tensor\n",
    "        batch_size, block_size = idx.shape\n",
    "        token_embed = self.token_embed(idx) # (B, T, C)\n",
    "        position_embed = self.position_embed(torch.arange(block_size)) # (T, C)\n",
    "        x = token_embed + position_embed # (B, T, C)\n",
    "        x = self.self_attn_head(x) # apply one head of self attention: (B, T, C)\n",
    "        return self.predict(x) # return logits (B, T, vocab_size)\n",
    "\n",
    "    def loss(self, logits, targets):\n",
    "        # logits is a (B, T, C) tensor\n",
    "        # target is a (B, T) size tensor\n",
    "        return F.cross_entropy(\n",
    "                logits.view(-1, self.vocab_size), # convert to (B*T, C) tensor\n",
    "                targets.view(-1) # convert to (B*T) tensor\n",
    "                )\n",
    "\n",
    "    def generate(self, idx, max_new_tokens):\n",
    "        # idx is a (B, T) size tensor of indices\n",
    "        for _ in range(max_new_tokens):\n",
    "            # crop idx to the last block_size tokens\n",
    "            idx_cond = idx[:, -block_size:]\n",
    "            # get the predictions\n",
    "            logits = self(idx_cond) # ignore loss\n",
    "            # use the last time step\n",
    "            logits = logits[:, -1, :] # which is size (B, C)\n",
    "            # apply softmax to get probabilities\n",
    "            probs = F.softmax(logits, dim=-1) # size (B, C)\n",
    "            # sample from this probability distribution\n",
    "            idx_next = torch.multinomial(probs, num_samples=1) # size (B, 1)\n",
    "            # append sampled token to sequence\n",
    "            idx = torch.cat((idx, idx_next), dim=1) # size (B, T+1)\n",
    "            decoded = decode(idx[-1].tolist())\n",
    "            if decoded[-1] == '<|endoftext|>':\n",
    "                break\n",
    "        return idx"
   ]
  },
  {
   "cell_type": "code",
   "execution_count": 115,
   "id": "a80d4d06-f529-458c-8d91-43257ccb0d02",
   "metadata": {},
   "outputs": [
    {
     "name": "stdout",
     "output_type": "stream",
     "text": [
      "MultiHeadTransformerLM(\n",
      "  (token_embed): Embedding(312, 32)\n",
      "  (position_embed): Embedding(41, 32)\n",
      "  (self_attn_head): MultiHeadAttention(\n",
      "    (heads): ModuleList(\n",
      "      (0-3): 4 x Head(\n",
      "        (key): Linear(in_features=32, out_features=8, bias=False)\n",
      "        (query): Linear(in_features=32, out_features=8, bias=False)\n",
      "        (value): Linear(in_features=32, out_features=8, bias=False)\n",
      "      )\n",
      "    )\n",
      "  )\n",
      "  (predict): Linear(in_features=32, out_features=312, bias=True)\n",
      ")\n"
     ]
    }
   ],
   "source": [
    "n_heads = 4\n",
    "model3 = MultiHeadTransformerLM(n_embed, vocab_size, block_size, n_heads)\n",
    "optimizer3 = optim.Adam(model3.parameters(), lr=1e-4)\n",
    "losses = []\n",
    "validation_losses = []\n",
    "print(model3)"
   ]
  },
  {
   "cell_type": "markdown",
   "id": "fc524dd1-b8ff-4b37-a1c1-bd90c011a0d3",
   "metadata": {},
   "source": [
    "### Training Loop"
   ]
  },
  {
   "cell_type": "code",
   "execution_count": 116,
   "id": "1c11d6e8-82b8-49b4-a5f4-f398e61e72b6",
   "metadata": {},
   "outputs": [
    {
     "name": "stdout",
     "output_type": "stream",
     "text": [
      "loss=0.8334080576896667\n"
     ]
    }
   ],
   "source": [
    "for _ in range(n_updates):\n",
    "    xb, yb = get_batch('train', block_size, batch_size)\n",
    "    logits = model3(xb)\n",
    "    loss = model3.loss(logits, yb)\n",
    "    losses.append(loss.log10().item())\n",
    "    #print(f'{loss=}')\n",
    "    optimizer3.zero_grad()\n",
    "    loss.backward()\n",
    "    optimizer3.step()\n",
    "\n",
    "print(f'loss={loss.item()}')"
   ]
  },
  {
   "cell_type": "markdown",
   "id": "b48b8efc-faeb-4cfa-814f-23cbb8cf7098",
   "metadata": {},
   "source": [
    "### Calculate validation loss"
   ]
  },
  {
   "cell_type": "code",
   "execution_count": 117,
   "id": "c92613fb-aa4c-4d37-a036-f1864b6a0500",
   "metadata": {},
   "outputs": [
    {
     "name": "stdout",
     "output_type": "stream",
     "text": [
      "tensor(1.1028, grad_fn=<NllLossBackward0>)\n"
     ]
    }
   ],
   "source": [
    "xb, yb = get_batch('val', block_size, batch_size)\n",
    "logits = model3(xb)\n",
    "val_loss = model3.loss(logits, yb)\n",
    "print(val_loss)"
   ]
  },
  {
   "cell_type": "markdown",
   "id": "98535865-0c5b-45a2-b01e-5d38adbb274e",
   "metadata": {},
   "source": [
    "### Plot the average loss"
   ]
  },
  {
   "cell_type": "code",
   "execution_count": 118,
   "id": "bf22b24a-3b65-479a-bd11-c8f6654aad59",
   "metadata": {},
   "outputs": [
    {
     "data": {
      "text/plain": [
       "[<matplotlib.lines.Line2D at 0x1401077f0>]"
      ]
     },
     "execution_count": 118,
     "metadata": {},
     "output_type": "execute_result"
    },
    {
     "data": {
      "image/png": "[encoded data removed]",
      "text/plain": [
       "<Figure size 640x480 with 1 Axes>"
      ]
     },
     "metadata": {},
     "output_type": "display_data"
    }
   ],
   "source": [
    "avg_loss = torch.tensor(losses).view(-1, 100).mean(1)\n",
    "plt.plot(avg_loss)"
   ]
  },
  {
   "cell_type": "markdown",
   "id": "f4e9b356-422b-41ac-9319-1f8f85fbd0da",
   "metadata": {},
   "source": [
    "### Generate some output from the model"
   ]
  },
  {
   "cell_type": "code",
   "execution_count": 119,
   "id": "8c77c182-60b4-474c-a9b1-f7f0899dff67",
   "metadata": {
    "scrolled": true
   },
   "outputs": [
    {
     "name": "stdout",
     "output_type": "stream",
     "text": [
      "['<|starttext|>', 'u', 'r', 'i', 's', 't', 'l', 'u', 'm', 'e', 'i', 'e', 't', 't', '<|to_ipa|>', 'ɡ', 'z', '<|endoftext|>']\n"
     ]
    }
   ],
   "source": [
    "print(decode(model3.generate(idx, max_new_tokens=100)[0].tolist()))"
   ]
  },
  {
   "cell_type": "markdown",
   "id": "cd412702-4fa8-4128-9b6c-8fa8575566de",
   "metadata": {},
   "source": [
    "## Adding Feedforward Layer to the Transformer"
   ]
  },
  {
   "cell_type": "code",
   "execution_count": 120,
   "id": "c8a71f79-c05d-435f-b989-b6ad69ebb96e",
   "metadata": {},
   "outputs": [],
   "source": [
    "class FeedForward(nn.Module):\n",
    "    \"\"\" simple linear layer followed by non-linear transfer function \"\"\"\n",
    "\n",
    "    def __init__(self, n_embed):\n",
    "        super().__init__()\n",
    "        self.ff = nn.Sequential(\n",
    "            nn.Linear(n_embed, n_embed),\n",
    "            nn.GELU(),\n",
    "        )\n",
    "\n",
    "    def forward(self, x):\n",
    "        return self.ff(x)"
   ]
  },
  {
   "cell_type": "code",
   "execution_count": 121,
   "id": "08c7b6c0-c66e-4183-8925-0921c7e858e9",
   "metadata": {},
   "outputs": [],
   "source": [
    "class MultiHeadTransformerFFLM(nn.Module):\n",
    "\n",
    "    def __init__(self, n_embed, vocab_size, block_size, n_heads):\n",
    "        super().__init__()\n",
    "        self.n_embed = n_embed\n",
    "        self.vocab_size = vocab_size\n",
    "        self.head_size = head_size\n",
    "        self.block_size = block_size\n",
    "        self.token_embed = nn.Embedding(vocab_size, n_embed) # (C, D)\n",
    "        self.position_embed = nn.Embedding(block_size, n_embed) # (T, D)\n",
    "        self.self_attn_head = MultiHeadAttention(n_embed, block_size, n_heads, n_embed//n_heads) # (D, T, C)\n",
    "        self.ffwd = FeedForward(n_embed)\n",
    "        self.predict = nn.Linear(n_embed, vocab_size)\n",
    "\n",
    "    def forward(self, idx):\n",
    "        # B: batch_size\n",
    "        # T: block_size aka time\n",
    "        # C: channel_size aka vocab_size\n",
    "        # idx is a (B,T) size tensor\n",
    "        batch_size, block_size = idx.shape\n",
    "        token_embed = self.token_embed(idx) # (B, T, C)\n",
    "        position_embed = self.position_embed(torch.arange(block_size)) # (T, C)\n",
    "        x = token_embed + position_embed # (B, T, C)\n",
    "        x = self.self_attn_head(x) # apply one head of self attention: (B, T, C)\n",
    "        x = self.ffwd(x) # (B, T, C)\n",
    "        return self.predict(x) # return logits (B, T, vocab_size)\n",
    "\n",
    "    def loss(self, logits, targets):\n",
    "        # logits is a (B, T, C) tensor\n",
    "        # target is a (B, T) size tensor\n",
    "        return F.cross_entropy(\n",
    "                logits.view(-1, self.vocab_size), # convert to (B*T, C) tensor\n",
    "                targets.view(-1) # convert to (B*T) tensor\n",
    "                )\n",
    "\n",
    "    def generate(self, idx, max_new_tokens):\n",
    "        # idx is a (B, T) size tensor of indices\n",
    "        for _ in range(max_new_tokens):\n",
    "            # crop idx to the last block_size tokens\n",
    "            idx_cond = idx[:, -block_size:]\n",
    "            # get the predictions\n",
    "            logits = self(idx_cond) # ignore loss\n",
    "            # use the last time step\n",
    "            logits = logits[:, -1, :] # which is size (B, C)\n",
    "            # apply softmax to get probabilities\n",
    "            probs = F.softmax(logits, dim=-1) # size (B, C)\n",
    "            # sample from this probability distribution\n",
    "            idx_next = torch.multinomial(probs, num_samples=1) # size (B, 1)\n",
    "            # append sampled token to sequence\n",
    "            idx = torch.cat((idx, idx_next), dim=1) # size (B, T+1)\n",
    "            decoded = decode(idx[-1].tolist())\n",
    "            if decoded[-1] == '<|endoftext|>':\n",
    "                break\n",
    "        return idx"
   ]
  },
  {
   "cell_type": "code",
   "execution_count": 122,
   "id": "7ea03156-c881-40c7-9f5c-2731b460d778",
   "metadata": {},
   "outputs": [
    {
     "name": "stdout",
     "output_type": "stream",
     "text": [
      "MultiHeadTransformerFFLM(\n",
      "  (token_embed): Embedding(312, 32)\n",
      "  (position_embed): Embedding(41, 32)\n",
      "  (self_attn_head): MultiHeadAttention(\n",
      "    (heads): ModuleList(\n",
      "      (0-3): 4 x Head(\n",
      "        (key): Linear(in_features=32, out_features=8, bias=False)\n",
      "        (query): Linear(in_features=32, out_features=8, bias=False)\n",
      "        (value): Linear(in_features=32, out_features=8, bias=False)\n",
      "      )\n",
      "    )\n",
      "  )\n",
      "  (ffwd): FeedForward(\n",
      "    (ff): Sequential(\n",
      "      (0): Linear(in_features=32, out_features=32, bias=True)\n",
      "      (1): GELU(approximate='none')\n",
      "    )\n",
      "  )\n",
      "  (predict): Linear(in_features=32, out_features=312, bias=True)\n",
      ")\n"
     ]
    }
   ],
   "source": [
    "n_heads = 4\n",
    "model4 = MultiHeadTransformerFFLM(n_embed, vocab_size, block_size, n_heads)\n",
    "optimizer4 = optim.Adam(model4.parameters(), lr=1e-4)\n",
    "losses = []\n",
    "validation_losses = []\n",
    "print(model4)"
   ]
  },
  {
   "cell_type": "markdown",
   "id": "9edac1cc-3244-4ee9-8186-6aca46b55b3b",
   "metadata": {},
   "source": [
    "### Training Loop"
   ]
  },
  {
   "cell_type": "code",
   "execution_count": 123,
   "id": "e29d9d3f-cd1b-4bc1-a817-b572b442e3db",
   "metadata": {},
   "outputs": [
    {
     "name": "stdout",
     "output_type": "stream",
     "text": [
      "loss=0.9884184002876282\n"
     ]
    }
   ],
   "source": [
    "for _ in range(n_updates):\n",
    "    xb, yb = get_batch('train', block_size, batch_size)\n",
    "    logits = model4(xb)\n",
    "    loss = model4.loss(logits, yb)\n",
    "    losses.append(loss.log10().item())\n",
    "    #print(f'{loss=}')\n",
    "    optimizer4.zero_grad()\n",
    "    loss.backward()\n",
    "    optimizer4.step()\n",
    "\n",
    "print(f'loss={loss.item()}')"
   ]
  },
  {
   "cell_type": "markdown",
   "id": "e9b4de04-9108-44d5-8265-8b553374a704",
   "metadata": {},
   "source": [
    "### Calculate validation loss"
   ]
  },
  {
   "cell_type": "code",
   "execution_count": 124,
   "id": "9107a7fa-d551-4528-9933-93b070511f8f",
   "metadata": {},
   "outputs": [
    {
     "name": "stdout",
     "output_type": "stream",
     "text": [
      "tensor(0.9869, grad_fn=<NllLossBackward0>)\n"
     ]
    }
   ],
   "source": [
    "xb, yb = get_batch('val', block_size, batch_size)\n",
    "logits = model3(xb)\n",
    "val_loss = model3.loss(logits, yb)\n",
    "print(val_loss)"
   ]
  },
  {
   "cell_type": "markdown",
   "id": "6b9ae7f1-df9c-4f3c-bdba-0e1f01f7324a",
   "metadata": {},
   "source": [
    "### Plot the average loss"
   ]
  },
  {
   "cell_type": "code",
   "execution_count": 125,
   "id": "405b2ac0-fd2e-4826-aabe-69c319cace18",
   "metadata": {},
   "outputs": [
    {
     "data": {
      "text/plain": [
       "[<matplotlib.lines.Line2D at 0x146523610>]"
      ]
     },
     "execution_count": 125,
     "metadata": {},
     "output_type": "execute_result"
    },
    {
     "data": {
      "image/png": "[encoded data removed]",
      "text/plain": [
       "<Figure size 640x480 with 1 Axes>"
      ]
     },
     "metadata": {},
     "output_type": "display_data"
    }
   ],
   "source": [
    "avg_loss = torch.tensor(losses).view(-1, 100).mean(1)\n",
    "plt.plot(avg_loss)"
   ]
  },
  {
   "cell_type": "markdown",
   "id": "3cfa8f30-4ead-43b3-b08c-b294b368726c",
   "metadata": {},
   "source": [
    "### Generate some output from the model"
   ]
  },
  {
   "cell_type": "code",
   "execution_count": 126,
   "id": "543d438d-6156-4dc7-afae-afc726a76b05",
   "metadata": {
    "scrolled": true
   },
   "outputs": [
    {
     "name": "stdout",
     "output_type": "stream",
     "text": [
      "['<|starttext|>', 'f', 'e', 'd', 'r', 'e', '<|to_ipa|>', 'b', 'p', 'ɜː', 'ɪ', '<|endoftext|>']\n"
     ]
    }
   ],
   "source": [
    "print(decode(model4.generate(idx, max_new_tokens=100)[0].tolist()))"
   ]
  },
  {
   "cell_type": "code",
   "execution_count": 128,
   "id": "3fc57bbc-6e37-4334-af50-6200fa16c609",
   "metadata": {},
   "outputs": [
    {
     "name": "stdout",
     "output_type": "stream",
     "text": [
      "MultiHeadTransformerFFLM(\n",
      "  (token_embed): Embedding(312, 32)\n",
      "  (position_embed): Embedding(41, 32)\n",
      "  (self_attn_head): MultiHeadAttention(\n",
      "    (heads): ModuleList(\n",
      "      (0-3): 4 x Head(\n",
      "        (key): Linear(in_features=32, out_features=8, bias=False)\n",
      "        (query): Linear(in_features=32, out_features=8, bias=False)\n",
      "        (value): Linear(in_features=32, out_features=8, bias=False)\n",
      "      )\n",
      "    )\n",
      "  )\n",
      "  (ffwd): FeedForward(\n",
      "    (ff): Sequential(\n",
      "      (0): Linear(in_features=32, out_features=32, bias=True)\n",
      "      (1): GELU(approximate='none')\n",
      "    )\n",
      "  )\n",
      "  (predict): Linear(in_features=32, out_features=312, bias=True)\n",
      ")\n"
     ]
    }
   ],
   "source": [
    "n_heads = 4\n",
    "model4 = MultiHeadTransformerFFLM(n_embed, vocab_size, block_size, n_heads)\n",
    "optimizer4 = optim.Adam(model4.parameters(), lr=1e-4)\n",
    "losses = []\n",
    "validation_losses = []\n",
    "print(model4)"
   ]
  },
  {
   "cell_type": "markdown",
   "id": "b6b20c7b-ed58-4029-8a84-c854b90c37cd",
   "metadata": {},
   "source": [
    "### Training Loop"
   ]
  },
  {
   "cell_type": "code",
   "execution_count": 129,
   "id": "d45aaf16-da7e-4400-8f66-abca786a7a6d",
   "metadata": {},
   "outputs": [
    {
     "name": "stdout",
     "output_type": "stream",
     "text": [
      "loss=0.828616738319397\n"
     ]
    }
   ],
   "source": [
    "for _ in range(n_updates):\n",
    "    xb, yb = get_batch('train', block_size, batch_size)\n",
    "    logits = model4(xb)\n",
    "    loss = model4.loss(logits, yb)\n",
    "    losses.append(loss.log10().item())\n",
    "    #print(f'{loss=}')\n",
    "    optimizer4.zero_grad()\n",
    "    loss.backward()\n",
    "    optimizer4.step()\n",
    "\n",
    "print(f'loss={loss.item()}')"
   ]
  },
  {
   "cell_type": "markdown",
   "id": "bb287c78-7229-4901-b9f1-3ba12e47dd87",
   "metadata": {},
   "source": [
    "### Calculate validation loss"
   ]
  },
  {
   "cell_type": "code",
   "execution_count": 130,
   "id": "ad4580a6-dd5d-4c9c-b67d-8500e5b3807d",
   "metadata": {},
   "outputs": [
    {
     "name": "stdout",
     "output_type": "stream",
     "text": [
      "tensor(1.1528, grad_fn=<NllLossBackward0>)\n"
     ]
    }
   ],
   "source": [
    "xb, yb = get_batch('val', block_size, batch_size)\n",
    "logits = model4(xb)\n",
    "val_loss = model4.loss(logits, yb)\n",
    "print(val_loss)"
   ]
  },
  {
   "cell_type": "markdown",
   "id": "eacfa6ca-573d-4380-a6eb-7a12e8243bb2",
   "metadata": {},
   "source": [
    "### Plot the average loss"
   ]
  },
  {
   "cell_type": "code",
   "execution_count": 131,
   "id": "b07a7d7c-d14b-49be-8bba-fcd25e208c75",
   "metadata": {},
   "outputs": [
    {
     "data": {
      "text/plain": [
       "[<matplotlib.lines.Line2D at 0x1401cc910>]"
      ]
     },
     "execution_count": 131,
     "metadata": {},
     "output_type": "execute_result"
    },
    {
     "data": {
      "image/png": "[encoded data removed]",
      "text/plain": [
       "<Figure size 640x480 with 1 Axes>"
      ]
     },
     "metadata": {},
     "output_type": "display_data"
    }
   ],
   "source": [
    "avg_loss = torch.tensor(losses).view(-1, 100).mean(1)\n",
    "plt.plot(avg_loss)"
   ]
  },
  {
   "cell_type": "markdown",
   "id": "35187763-c142-424d-82d6-86941909f598",
   "metadata": {},
   "source": [
    "### Generate some output from the model"
   ]
  },
  {
   "cell_type": "code",
   "execution_count": 132,
   "id": "eaf56ea0-5ba6-4a9c-a456-381f124f4133",
   "metadata": {
    "scrolled": true
   },
   "outputs": [
    {
     "name": "stdout",
     "output_type": "stream",
     "text": [
      "['<|starttext|>', 'w', 'u', 't', 'u', 'n', 'e', '<|to_ipa|>', 'ɹ', 'æ', 'v', 'i', 'n̩', '<|endoftext|>']\n"
     ]
    }
   ],
   "source": [
    "print(decode(model4.generate(idx, max_new_tokens=100)[0].tolist()))"
   ]
  },
  {
   "cell_type": "markdown",
   "id": "123882eb-46fa-41c5-884d-7315d3c91c97",
   "metadata": {},
   "source": [
    "## Adding a Transformer Block for Multiple Layers"
   ]
  },
  {
   "cell_type": "code",
   "execution_count": 133,
   "id": "f70494f8-dba0-4c0a-ba67-c6907e800a66",
   "metadata": {},
   "outputs": [],
   "source": [
    "class TransformerBlock(nn.Module):\n",
    "\n",
    "    def __init__(self, n_embed, block_size, n_heads):\n",
    "        super().__init__()\n",
    "        self.head_size = n_embed // n_heads\n",
    "        self.self_attn_head = MultiHeadAttention(n_embed, block_size, n_heads, self.head_size) # (D, T, C)\n",
    "        self.ffwd = FeedForward(n_embed)\n",
    "\n",
    "    def forward(self, x):\n",
    "        x = self.self_attn_head(x)\n",
    "        x = self.ffwd(x)\n",
    "        return x"
   ]
  },
  {
   "cell_type": "code",
   "execution_count": 134,
   "id": "ecf57e7f-ad5d-40c0-8b78-5d99553b60c4",
   "metadata": {},
   "outputs": [],
   "source": [
    "class MultiHeadTransformerBlockLM(nn.Module):\n",
    "\n",
    "    def __init__(self, n_embed, vocab_size, block_size, n_heads):\n",
    "        super().__init__()\n",
    "        self.n_embed = n_embed\n",
    "        self.vocab_size = vocab_size\n",
    "        self.head_size = head_size\n",
    "        self.block_size = block_size\n",
    "        self.token_embed = nn.Embedding(vocab_size, n_embed) # (C, D)\n",
    "        self.position_embed = nn.Embedding(block_size, n_embed) # (T, D)\n",
    "        self.blocks = nn.Sequential(\n",
    "            TransformerBlock(n_embed, block_size, n_heads),\n",
    "            TransformerBlock(n_embed, block_size, n_heads),\n",
    "        )            \n",
    "        self.predict = nn.Linear(n_embed, vocab_size)\n",
    "\n",
    "    def forward(self, idx):\n",
    "        # B: batch_size\n",
    "        # T: block_size aka time\n",
    "        # C: channel_size aka vocab_size\n",
    "        # idx is a (B,T) size tensor\n",
    "        batch_size, block_size = idx.shape\n",
    "        token_embed = self.token_embed(idx) # (B, T, C)\n",
    "        position_embed = self.position_embed(torch.arange(block_size)) # (T, C)\n",
    "        x = token_embed + position_embed # (B, T, C)\n",
    "        x = self.blocks(x)\n",
    "        return self.predict(x) # return logits (B, T, vocab_size)\n",
    "\n",
    "    def loss(self, logits, targets):\n",
    "        # logits is a (B, T, C) tensor\n",
    "        # target is a (B, T) size tensor\n",
    "        return F.cross_entropy(\n",
    "                logits.view(-1, self.vocab_size), # convert to (B*T, C) tensor\n",
    "                targets.view(-1) # convert to (B*T) tensor\n",
    "                )\n",
    "\n",
    "    def generate(self, idx, max_new_tokens):\n",
    "        # idx is a (B, T) size tensor of indices\n",
    "        for _ in range(max_new_tokens):\n",
    "            # crop idx to the last block_size tokens\n",
    "            idx_cond = idx[:, -block_size:]\n",
    "            # get the predictions\n",
    "            logits = self(idx_cond) # ignore loss\n",
    "            # use the last time step\n",
    "            logits = logits[:, -1, :] # which is size (B, C)\n",
    "            # apply softmax to get probabilities\n",
    "            probs = F.softmax(logits, dim=-1) # size (B, C)\n",
    "            # sample from this probability distribution\n",
    "            idx_next = torch.multinomial(probs, num_samples=1) # size (B, 1)\n",
    "            # append sampled token to sequence\n",
    "            idx = torch.cat((idx, idx_next), dim=1) # size (B, T+1)\n",
    "            decoded = decode(idx[-1].tolist())\n",
    "            if decoded[-1] == '<|endoftext|>':\n",
    "                break\n",
    "        return idx"
   ]
  },
  {
   "cell_type": "code",
   "execution_count": 135,
   "id": "5068d0b8-eb7d-443a-9f00-27e272c1b476",
   "metadata": {},
   "outputs": [
    {
     "name": "stdout",
     "output_type": "stream",
     "text": [
      "MultiHeadTransformerBlockLM(\n",
      "  (token_embed): Embedding(312, 32)\n",
      "  (position_embed): Embedding(41, 32)\n",
      "  (blocks): Sequential(\n",
      "    (0): TransformerBlock(\n",
      "      (self_attn_head): MultiHeadAttention(\n",
      "        (heads): ModuleList(\n",
      "          (0-3): 4 x Head(\n",
      "            (key): Linear(in_features=32, out_features=8, bias=False)\n",
      "            (query): Linear(in_features=32, out_features=8, bias=False)\n",
      "            (value): Linear(in_features=32, out_features=8, bias=False)\n",
      "          )\n",
      "        )\n",
      "      )\n",
      "      (ffwd): FeedForward(\n",
      "        (ff): Sequential(\n",
      "          (0): Linear(in_features=32, out_features=32, bias=True)\n",
      "          (1): GELU(approximate='none')\n",
      "        )\n",
      "      )\n",
      "    )\n",
      "    (1): TransformerBlock(\n",
      "      (self_attn_head): MultiHeadAttention(\n",
      "        (heads): ModuleList(\n",
      "          (0-3): 4 x Head(\n",
      "            (key): Linear(in_features=32, out_features=8, bias=False)\n",
      "            (query): Linear(in_features=32, out_features=8, bias=False)\n",
      "            (value): Linear(in_features=32, out_features=8, bias=False)\n",
      "          )\n",
      "        )\n",
      "      )\n",
      "      (ffwd): FeedForward(\n",
      "        (ff): Sequential(\n",
      "          (0): Linear(in_features=32, out_features=32, bias=True)\n",
      "          (1): GELU(approximate='none')\n",
      "        )\n",
      "      )\n",
      "    )\n",
      "  )\n",
      "  (predict): Linear(in_features=32, out_features=312, bias=True)\n",
      ")\n"
     ]
    }
   ],
   "source": [
    "n_heads = 4\n",
    "model5 = MultiHeadTransformerBlockLM(n_embed, vocab_size, block_size, n_heads)\n",
    "optimizer5 = optim.Adam(model5.parameters(), lr=1e-4)\n",
    "losses = []\n",
    "validation_losses = []\n",
    "print(model5)"
   ]
  },
  {
   "cell_type": "markdown",
   "id": "82809279-115d-4944-91d7-d9d73ecb30f3",
   "metadata": {},
   "source": [
    "### Training Loop"
   ]
  },
  {
   "cell_type": "code",
   "execution_count": 136,
   "id": "037a38a6-c7b3-4d92-be77-abae07c53d34",
   "metadata": {},
   "outputs": [
    {
     "name": "stdout",
     "output_type": "stream",
     "text": [
      "loss=0.742405116558075\n"
     ]
    }
   ],
   "source": [
    "for _ in range(n_updates):\n",
    "    xb, yb = get_batch('train', block_size, batch_size)\n",
    "    logits = model5(xb)\n",
    "    loss = model5.loss(logits, yb)\n",
    "    losses.append(loss.log10().item())\n",
    "    #print(f'{loss=}')\n",
    "    optimizer5.zero_grad()\n",
    "    loss.backward()\n",
    "    optimizer5.step()\n",
    "\n",
    "print(f'loss={loss.item()}')"
   ]
  },
  {
   "cell_type": "markdown",
   "id": "435193d5-61cb-4a2f-9a98-80e75b27a316",
   "metadata": {},
   "source": [
    "### Calculate validation loss"
   ]
  },
  {
   "cell_type": "code",
   "execution_count": 137,
   "id": "40bd765a-85f6-4e84-b181-9a311de8566d",
   "metadata": {},
   "outputs": [
    {
     "name": "stdout",
     "output_type": "stream",
     "text": [
      "tensor(0.9238, grad_fn=<NllLossBackward0>)\n"
     ]
    }
   ],
   "source": [
    "xb, yb = get_batch('val', block_size, batch_size)\n",
    "logits = model5(xb)\n",
    "val_loss = model5.loss(logits, yb)\n",
    "print(val_loss)"
   ]
  },
  {
   "cell_type": "markdown",
   "id": "92c97ac1-869a-4153-a84f-c626c7b56f63",
   "metadata": {},
   "source": [
    "### Plot the average loss"
   ]
  },
  {
   "cell_type": "code",
   "execution_count": 138,
   "id": "bd7945c0-df19-4ef0-8b27-912fbb14f520",
   "metadata": {},
   "outputs": [
    {
     "data": {
      "text/plain": [
       "[<matplotlib.lines.Line2D at 0x137f008e0>]"
      ]
     },
     "execution_count": 138,
     "metadata": {},
     "output_type": "execute_result"
    },
    {
     "data": {
      "image/png": "[encoded data removed]",
      "text/plain": [
       "<Figure size 640x480 with 1 Axes>"
      ]
     },
     "metadata": {},
     "output_type": "display_data"
    }
   ],
   "source": [
    "avg_loss = torch.tensor(losses).view(-1, 100).mean(1)\n",
    "plt.plot(avg_loss)"
   ]
  },
  {
   "cell_type": "markdown",
   "id": "7cc770ff-d389-4072-8a28-ef740ffc68e7",
   "metadata": {},
   "source": [
    "### Generate some output from the model"
   ]
  },
  {
   "cell_type": "code",
   "execution_count": 139,
   "id": "05e2253e-b391-406b-be81-5432a209213d",
   "metadata": {
    "scrolled": true
   },
   "outputs": [
    {
     "name": "stdout",
     "output_type": "stream",
     "text": [
      "['<|starttext|>', 's', 'r', 's', 'e', 'u', 'n', 't', 'æ', 'f', 'ə', 'k', 'ʔ', 's', '<|endoftext|>']\n"
     ]
    }
   ],
   "source": [
    "print(decode(model5.generate(idx, max_new_tokens=100)[0].tolist()))"
   ]
  },
  {
   "cell_type": "markdown",
   "id": "654814be-12bf-4ece-a6a6-13aa34924027",
   "metadata": {},
   "source": [
    "## Adding Residual Connections"
   ]
  },
  {
   "cell_type": "code",
   "execution_count": 140,
   "id": "678e487d-b079-484f-b92e-8427c66edb39",
   "metadata": {},
   "outputs": [],
   "source": [
    "class MultiHeadAttentionResiduals(nn.Module):\n",
    "    \"\"\" multiple heads of self-attention in parallel \"\"\"\n",
    "\n",
    "    def __init__(self, n_embed, block_size, n_heads, head_size):\n",
    "        super().__init__()\n",
    "        self.heads = nn.ModuleList([Head(n_embed, block_size, head_size) for _ in range(n_heads)])\n",
    "        self.proj = nn.Linear(n_embed, n_embed)\n",
    "\n",
    "    def forward(self, x):\n",
    "        out = torch.cat([h(x) for h in self.heads], dim=-1)\n",
    "        return self.proj(out)"
   ]
  },
  {
   "cell_type": "code",
   "execution_count": 141,
   "id": "b8688db0-a868-4408-a956-8b48645d1a73",
   "metadata": {},
   "outputs": [],
   "source": [
    "class FeedForwardResiduals(nn.Module):\n",
    "    \"\"\" simple linear layer followed by non-linear transfer function \"\"\"\n",
    "\n",
    "    def __init__(self, n_embed):\n",
    "        super().__init__()\n",
    "        self.ff = nn.Sequential(\n",
    "            nn.Linear(n_embed, 4 * n_embed), # grow the feedforward layer internally\n",
    "            nn.GELU(),\n",
    "            nn.Linear(4 * n_embed, n_embed),\n",
    "        )\n",
    "\n",
    "    def forward(self, x):\n",
    "        return self.ff(x)"
   ]
  },
  {
   "cell_type": "code",
   "execution_count": 142,
   "id": "aa26adf7-b279-4d86-849e-f1ecac087a64",
   "metadata": {},
   "outputs": [],
   "source": [
    "class TransformerBlockResiduals(nn.Module):\n",
    "\n",
    "    def __init__(self, n_embed, block_size, n_heads):\n",
    "        super().__init__()\n",
    "        self.head_size = n_embed // n_heads\n",
    "        self.self_attn_head = MultiHeadAttentionResiduals(n_embed, block_size, n_heads, self.head_size) # (D, T, C)\n",
    "        self.ffwd = FeedForwardResiduals(n_embed)\n",
    "\n",
    "    def forward(self, x):\n",
    "        x = x + self.self_attn_head(x) # add residual connections\n",
    "        x = x + self.ffwd(x)           # add residual connections\n",
    "        return x"
   ]
  },
  {
   "cell_type": "code",
   "execution_count": 143,
   "id": "d56d9a3b-d853-412d-8ab2-2956e0e9bca0",
   "metadata": {},
   "outputs": [],
   "source": [
    "class MultiHeadTransformerBlockResidualsLM(nn.Module):\n",
    "\n",
    "    def __init__(self, n_embed, vocab_size, block_size, n_heads):\n",
    "        super().__init__()\n",
    "        self.n_embed = n_embed\n",
    "        self.vocab_size = vocab_size\n",
    "        self.head_size = head_size\n",
    "        self.block_size = block_size\n",
    "        self.token_embed = nn.Embedding(vocab_size, n_embed) # (C, D)\n",
    "        self.position_embed = nn.Embedding(block_size, n_embed) # (T, D)\n",
    "        self.blocks = nn.Sequential(\n",
    "            TransformerBlockResiduals(n_embed, block_size, n_heads),\n",
    "            TransformerBlockResiduals(n_embed, block_size, n_heads),\n",
    "        )            \n",
    "        self.predict = nn.Linear(n_embed, vocab_size)\n",
    "\n",
    "    def forward(self, idx):\n",
    "        # B: batch_size\n",
    "        # T: block_size aka time\n",
    "        # C: channel_size aka vocab_size\n",
    "        # idx is a (B,T) size tensor\n",
    "        batch_size, block_size = idx.shape\n",
    "        token_embed = self.token_embed(idx) # (B, T, C)\n",
    "        position_embed = self.position_embed(torch.arange(block_size)) # (T, C)\n",
    "        x = token_embed + position_embed # (B, T, C)\n",
    "        x = self.blocks(x)\n",
    "        return self.predict(x) # return logits (B, T, vocab_size)\n",
    "\n",
    "    def loss(self, logits, targets):\n",
    "        # logits is a (B, T, C) tensor\n",
    "        # target is a (B, T) size tensor\n",
    "        return F.cross_entropy(\n",
    "                logits.view(-1, self.vocab_size), # convert to (B*T, C) tensor\n",
    "                targets.view(-1) # convert to (B*T) tensor\n",
    "                )\n",
    "\n",
    "    def generate(self, idx, max_new_tokens):\n",
    "        # idx is a (B, T) size tensor of indices\n",
    "        for _ in range(max_new_tokens):\n",
    "            # crop idx to the last block_size tokens\n",
    "            idx_cond = idx[:, -block_size:]\n",
    "            # get the predictions\n",
    "            logits = self(idx_cond) # ignore loss\n",
    "            # use the last time step\n",
    "            logits = logits[:, -1, :] # which is size (B, C)\n",
    "            # apply softmax to get probabilities\n",
    "            probs = F.softmax(logits, dim=-1) # size (B, C)\n",
    "            # sample from this probability distribution\n",
    "            idx_next = torch.multinomial(probs, num_samples=1) # size (B, 1)\n",
    "            # append sampled token to sequence\n",
    "            idx = torch.cat((idx, idx_next), dim=1) # size (B, T+1)\n",
    "            decoded = decode(idx[-1].tolist())\n",
    "            if decoded[-1] == '<|endoftext|>':\n",
    "                break\n",
    "        return idx"
   ]
  },
  {
   "cell_type": "code",
   "execution_count": 144,
   "id": "ac922a69-4ed6-4257-89cc-8ade17b6000c",
   "metadata": {},
   "outputs": [
    {
     "name": "stdout",
     "output_type": "stream",
     "text": [
      "MultiHeadTransformerBlockResidualsLM(\n",
      "  (token_embed): Embedding(312, 32)\n",
      "  (position_embed): Embedding(41, 32)\n",
      "  (blocks): Sequential(\n",
      "    (0): TransformerBlockResiduals(\n",
      "      (self_attn_head): MultiHeadAttentionResiduals(\n",
      "        (heads): ModuleList(\n",
      "          (0-3): 4 x Head(\n",
      "            (key): Linear(in_features=32, out_features=8, bias=False)\n",
      "            (query): Linear(in_features=32, out_features=8, bias=False)\n",
      "            (value): Linear(in_features=32, out_features=8, bias=False)\n",
      "          )\n",
      "        )\n",
      "        (proj): Linear(in_features=32, out_features=32, bias=True)\n",
      "      )\n",
      "      (ffwd): FeedForwardResiduals(\n",
      "        (ff): Sequential(\n",
      "          (0): Linear(in_features=32, out_features=128, bias=True)\n",
      "          (1): GELU(approximate='none')\n",
      "          (2): Linear(in_features=128, out_features=32, bias=True)\n",
      "        )\n",
      "      )\n",
      "    )\n",
      "    (1): TransformerBlockResiduals(\n",
      "      (self_attn_head): MultiHeadAttentionResiduals(\n",
      "        (heads): ModuleList(\n",
      "          (0-3): 4 x Head(\n",
      "            (key): Linear(in_features=32, out_features=8, bias=False)\n",
      "            (query): Linear(in_features=32, out_features=8, bias=False)\n",
      "            (value): Linear(in_features=32, out_features=8, bias=False)\n",
      "          )\n",
      "        )\n",
      "        (proj): Linear(in_features=32, out_features=32, bias=True)\n",
      "      )\n",
      "      (ffwd): FeedForwardResiduals(\n",
      "        (ff): Sequential(\n",
      "          (0): Linear(in_features=32, out_features=128, bias=True)\n",
      "          (1): GELU(approximate='none')\n",
      "          (2): Linear(in_features=128, out_features=32, bias=True)\n",
      "        )\n",
      "      )\n",
      "    )\n",
      "  )\n",
      "  (predict): Linear(in_features=32, out_features=312, bias=True)\n",
      ")\n"
     ]
    }
   ],
   "source": [
    "n_heads = 4\n",
    "model6 = MultiHeadTransformerBlockResidualsLM(n_embed, vocab_size, block_size, n_heads)\n",
    "optimizer6 = optim.Adam(model6.parameters(), lr=1e-4)\n",
    "losses = []\n",
    "validation_losses = []\n",
    "print(model6)"
   ]
  },
  {
   "cell_type": "markdown",
   "id": "c1167308-4d4c-48c8-aef6-d750f0b45dbe",
   "metadata": {},
   "source": [
    "### Training Loop"
   ]
  },
  {
   "cell_type": "code",
   "execution_count": 145,
   "id": "ca7cb7f7-3465-42cc-acbc-bc827f16c459",
   "metadata": {},
   "outputs": [
    {
     "name": "stdout",
     "output_type": "stream",
     "text": [
      "loss=0.5786112546920776\n"
     ]
    }
   ],
   "source": [
    "for _ in range(n_updates):\n",
    "    xb, yb = get_batch('train', block_size, batch_size)\n",
    "    logits = model6(xb)\n",
    "    loss = model6.loss(logits, yb)\n",
    "    losses.append(loss.log10().item())\n",
    "    #print(f'{loss=}')\n",
    "    optimizer6.zero_grad()\n",
    "    loss.backward()\n",
    "    optimizer6.step()\n",
    "\n",
    "print(f'loss={loss.item()}')"
   ]
  },
  {
   "cell_type": "markdown",
   "id": "95ae27e5-4b59-44eb-822b-ac08df85fbae",
   "metadata": {},
   "source": [
    "### Calculate validation loss"
   ]
  },
  {
   "cell_type": "code",
   "execution_count": 146,
   "id": "493f7805-88a4-43d5-92ab-801b5e4d8de6",
   "metadata": {},
   "outputs": [
    {
     "name": "stdout",
     "output_type": "stream",
     "text": [
      "tensor(0.7058, grad_fn=<NllLossBackward0>)\n"
     ]
    }
   ],
   "source": [
    "xb, yb = get_batch('val', block_size, batch_size)\n",
    "logits = model6(xb)\n",
    "val_loss = model6.loss(logits, yb)\n",
    "print(val_loss)"
   ]
  },
  {
   "cell_type": "markdown",
   "id": "c71ee49b-d800-44d4-baf6-41b7b5326151",
   "metadata": {},
   "source": [
    "### Plot the average loss"
   ]
  },
  {
   "cell_type": "code",
   "execution_count": 147,
   "id": "d1084b94-9877-44aa-a25f-b37ab0d7c721",
   "metadata": {},
   "outputs": [
    {
     "data": {
      "text/plain": [
       "[<matplotlib.lines.Line2D at 0x14106d540>]"
      ]
     },
     "execution_count": 147,
     "metadata": {},
     "output_type": "execute_result"
    },
    {
     "data": {
      "image/png": "[encoded data removed]",
      "text/plain": [
       "<Figure size 640x480 with 1 Axes>"
      ]
     },
     "metadata": {},
     "output_type": "display_data"
    }
   ],
   "source": [
    "avg_loss = torch.tensor(losses).view(-1, 100).mean(1)\n",
    "plt.plot(avg_loss)"
   ]
  },
  {
   "cell_type": "markdown",
   "id": "e56fd557-593c-4e1f-b9c2-86f0ed0336d0",
   "metadata": {},
   "source": [
    "### Generate some output from the model"
   ]
  },
  {
   "cell_type": "code",
   "execution_count": 148,
   "id": "e097a08a-9662-4759-9ba3-c672c1864296",
   "metadata": {
    "scrolled": true
   },
   "outputs": [
    {
     "name": "stdout",
     "output_type": "stream",
     "text": [
      "['<|starttext|>', 'd', 'e', 'n', \"'\", 'e', 'r', 'a', 'b', 'l', 'e', '<|to_ipa|>', 'd', 'æ', 'n', 'ɜ', 'ɪ', 't', '<|endoftext|>']\n"
     ]
    }
   ],
   "source": [
    "print(decode(model6.generate(idx, max_new_tokens=100)[0].tolist()))"
   ]
  },
  {
   "cell_type": "markdown",
   "id": "21748994-acbf-4cab-b932-1ba04d661aef",
   "metadata": {},
   "source": [
    "## Add LayerNorm"
   ]
  },
  {
   "cell_type": "code",
   "execution_count": 149,
   "id": "4ff228d5-6120-4e04-8aa6-a0e1de4de4be",
   "metadata": {},
   "outputs": [],
   "source": [
    "class TransformerBlockResidualsLayerNorm(nn.Module):\n",
    "\n",
    "    def __init__(self, n_embed, block_size, n_heads):\n",
    "        super().__init__()\n",
    "        self.head_size = n_embed // n_heads\n",
    "        self.self_attn_head = MultiHeadAttentionResiduals(n_embed, block_size, n_heads, self.head_size) # (D, T, C)\n",
    "        self.ffwd = FeedForwardResiduals(n_embed)\n",
    "        self.ln1 = nn.LayerNorm(n_embed)\n",
    "        self.ln2 = nn.LayerNorm(n_embed)\n",
    "\n",
    "    def forward(self, x):\n",
    "        x = x + self.self_attn_head(self.ln1(x)) # add LayerNorm inside (pre-norm)\n",
    "        x = x + self.ffwd(self.ln2(x))           # add LayerNorm inside (pre-norm)\n",
    "        return x"
   ]
  },
  {
   "cell_type": "code",
   "execution_count": 150,
   "id": "5efc088e-de72-4421-bd59-8a64bf94b6be",
   "metadata": {},
   "outputs": [],
   "source": [
    "class MultiHeadTransformerBlockResidualsLayerNormLM(nn.Module):\n",
    "\n",
    "    def __init__(self, n_embed, vocab_size, block_size, n_heads):\n",
    "        super().__init__()\n",
    "        self.n_embed = n_embed\n",
    "        self.vocab_size = vocab_size\n",
    "        self.head_size = head_size\n",
    "        self.block_size = block_size\n",
    "        self.token_embed = nn.Embedding(vocab_size, n_embed) # (C, D)\n",
    "        self.position_embed = nn.Embedding(block_size, n_embed) # (T, D)\n",
    "        self.blocks = nn.Sequential(\n",
    "            TransformerBlockResidualsLayerNorm(n_embed, block_size, n_heads),\n",
    "            TransformerBlockResidualsLayerNorm(n_embed, block_size, n_heads),\n",
    "            nn.LayerNorm(n_embed)\n",
    "        )            \n",
    "        self.predict = nn.Linear(n_embed, vocab_size)\n",
    "\n",
    "    def forward(self, idx):\n",
    "        # B: batch_size\n",
    "        # T: block_size aka time\n",
    "        # C: channel_size aka vocab_size\n",
    "        # idx is a (B,T) size tensor\n",
    "        batch_size, block_size = idx.shape\n",
    "        token_embed = self.token_embed(idx) # (B, T, C)\n",
    "        position_embed = self.position_embed(torch.arange(block_size)) # (T, C)\n",
    "        x = token_embed + position_embed # (B, T, C)\n",
    "        x = self.blocks(x)\n",
    "        return self.predict(x) # return logits (B, T, vocab_size)\n",
    "\n",
    "    def loss(self, logits, targets):\n",
    "        # logits is a (B, T, C) tensor\n",
    "        # target is a (B, T) size tensor\n",
    "        return F.cross_entropy(\n",
    "                logits.view(-1, self.vocab_size), # convert to (B*T, C) tensor\n",
    "                targets.view(-1) # convert to (B*T) tensor\n",
    "                )\n",
    "\n",
    "    def generate(self, idx, max_new_tokens):\n",
    "        # idx is a (B, T) size tensor of indices\n",
    "        for _ in range(max_new_tokens):\n",
    "            # crop idx to the last block_size tokens\n",
    "            idx_cond = idx[:, -block_size:]\n",
    "            # get the predictions\n",
    "            logits = self(idx_cond) # ignore loss\n",
    "            # use the last time step\n",
    "            logits = logits[:, -1, :] # which is size (B, C)\n",
    "            # apply softmax to get probabilities\n",
    "            probs = F.softmax(logits, dim=-1) # size (B, C)\n",
    "            # sample from this probability distribution\n",
    "            idx_next = torch.multinomial(probs, num_samples=1) # size (B, 1)\n",
    "            # append sampled token to sequence\n",
    "            idx = torch.cat((idx, idx_next), dim=1) # size (B, T+1)\n",
    "            decoded = decode(idx[-1].tolist())\n",
    "            if decoded[-1] == '<|endoftext|>':\n",
    "                break\n",
    "        return idx"
   ]
  },
  {
   "cell_type": "code",
   "execution_count": 151,
   "id": "866ae611-e092-446e-b264-3ef50d1e966e",
   "metadata": {},
   "outputs": [
    {
     "name": "stdout",
     "output_type": "stream",
     "text": [
      "MultiHeadTransformerBlockResidualsLM(\n",
      "  (token_embed): Embedding(312, 32)\n",
      "  (position_embed): Embedding(41, 32)\n",
      "  (blocks): Sequential(\n",
      "    (0): TransformerBlockResiduals(\n",
      "      (self_attn_head): MultiHeadAttentionResiduals(\n",
      "        (heads): ModuleList(\n",
      "          (0-3): 4 x Head(\n",
      "            (key): Linear(in_features=32, out_features=8, bias=False)\n",
      "            (query): Linear(in_features=32, out_features=8, bias=False)\n",
      "            (value): Linear(in_features=32, out_features=8, bias=False)\n",
      "          )\n",
      "        )\n",
      "        (proj): Linear(in_features=32, out_features=32, bias=True)\n",
      "      )\n",
      "      (ffwd): FeedForwardResiduals(\n",
      "        (ff): Sequential(\n",
      "          (0): Linear(in_features=32, out_features=128, bias=True)\n",
      "          (1): GELU(approximate='none')\n",
      "          (2): Linear(in_features=128, out_features=32, bias=True)\n",
      "        )\n",
      "      )\n",
      "    )\n",
      "    (1): TransformerBlockResiduals(\n",
      "      (self_attn_head): MultiHeadAttentionResiduals(\n",
      "        (heads): ModuleList(\n",
      "          (0-3): 4 x Head(\n",
      "            (key): Linear(in_features=32, out_features=8, bias=False)\n",
      "            (query): Linear(in_features=32, out_features=8, bias=False)\n",
      "            (value): Linear(in_features=32, out_features=8, bias=False)\n",
      "          )\n",
      "        )\n",
      "        (proj): Linear(in_features=32, out_features=32, bias=True)\n",
      "      )\n",
      "      (ffwd): FeedForwardResiduals(\n",
      "        (ff): Sequential(\n",
      "          (0): Linear(in_features=32, out_features=128, bias=True)\n",
      "          (1): GELU(approximate='none')\n",
      "          (2): Linear(in_features=128, out_features=32, bias=True)\n",
      "        )\n",
      "      )\n",
      "    )\n",
      "  )\n",
      "  (predict): Linear(in_features=32, out_features=312, bias=True)\n",
      ")\n"
     ]
    }
   ],
   "source": [
    "n_heads = 4\n",
    "model7 = MultiHeadTransformerBlockResidualsLM(n_embed, vocab_size, block_size, n_heads)\n",
    "optimizer7 = optim.Adam(model7.parameters(), lr=1e-4)\n",
    "losses = []\n",
    "validation_losses = []\n",
    "print(model7)"
   ]
  },
  {
   "cell_type": "markdown",
   "id": "c6d0cc3a-5e8b-4e58-a5fa-cfa8ca2a42cf",
   "metadata": {},
   "source": [
    "### Training Loop"
   ]
  },
  {
   "cell_type": "code",
   "execution_count": 152,
   "id": "37e2e0ff-319f-4a39-ab6e-36cd43c55aac",
   "metadata": {},
   "outputs": [
    {
     "name": "stdout",
     "output_type": "stream",
     "text": [
      "loss=0.7530964016914368\n"
     ]
    }
   ],
   "source": [
    "for _ in range(n_updates):\n",
    "    xb, yb = get_batch('train', block_size, batch_size)\n",
    "    logits = model7(xb)\n",
    "    loss = model7.loss(logits, yb)\n",
    "    losses.append(loss.log10().item())\n",
    "    #print(f'{loss=}')\n",
    "    optimizer7.zero_grad()\n",
    "    loss.backward()\n",
    "    optimizer7.step()\n",
    "\n",
    "print(f'loss={loss.item()}')"
   ]
  },
  {
   "cell_type": "markdown",
   "id": "171edf5c-d196-44db-b84a-8349918cd8d8",
   "metadata": {},
   "source": [
    "### Calculate validation loss"
   ]
  },
  {
   "cell_type": "code",
   "execution_count": 153,
   "id": "3473ba16-c03d-4168-9c0a-6bbb2e6a7e3e",
   "metadata": {},
   "outputs": [
    {
     "name": "stdout",
     "output_type": "stream",
     "text": [
      "tensor(0.8669, grad_fn=<NllLossBackward0>)\n"
     ]
    }
   ],
   "source": [
    "xb, yb = get_batch('val', block_size, batch_size)\n",
    "logits = model7(xb)\n",
    "val_loss = model7.loss(logits, yb)\n",
    "print(val_loss)"
   ]
  },
  {
   "cell_type": "markdown",
   "id": "9c81f8f9-bd98-461c-a9db-bc3ef7e11912",
   "metadata": {},
   "source": [
    "### Plot the average loss"
   ]
  },
  {
   "cell_type": "code",
   "execution_count": 154,
   "id": "74f5b8ee-5936-4f63-ad5c-d510c1759b54",
   "metadata": {},
   "outputs": [
    {
     "data": {
      "text/plain": [
       "[<matplotlib.lines.Line2D at 0x126f7e7d0>]"
      ]
     },
     "execution_count": 154,
     "metadata": {},
     "output_type": "execute_result"
    },
    {
     "data": {
      "image/png": "[encoded data removed]",
      "text/plain": [
       "<Figure size 640x480 with 1 Axes>"
      ]
     },
     "metadata": {},
     "output_type": "display_data"
    }
   ],
   "source": [
    "avg_loss = torch.tensor(losses).view(-1, 100).mean(1)\n",
    "plt.plot(avg_loss)"
   ]
  },
  {
   "cell_type": "markdown",
   "id": "9bd0a991-76f3-4412-b226-4d51f1d12598",
   "metadata": {},
   "source": [
    "### Generate some output from the model"
   ]
  },
  {
   "cell_type": "code",
   "execution_count": 155,
   "id": "db1e2e5d-ff15-4260-b17e-0de0087244d9",
   "metadata": {
    "scrolled": true
   },
   "outputs": [
    {
     "name": "stdout",
     "output_type": "stream",
     "text": [
      "['<|starttext|>', 'l', 'i', 'g', 'o', 'k', '<|to_ipa|>', 'l', 'a', '<|endoftext|>']\n"
     ]
    }
   ],
   "source": [
    "print(decode(model7.generate(idx, max_new_tokens=100)[0].tolist()))"
   ]
  },
  {
   "cell_type": "markdown",
   "id": "f2e3687e-0968-4be9-959f-b5e80b19271d",
   "metadata": {},
   "source": [
    "## Final Transformer Model"
   ]
  },
  {
   "cell_type": "markdown",
   "id": "a4e431b3-54cc-4053-adef-79ae16604ac7",
   "metadata": {},
   "source": [
    "Clean up the code and add a new initialization variable called `n_layers` to control the number of Transformer blocks. Also introduce `dropout` to add some regularization to the learning."
   ]
  },
  {
   "cell_type": "code",
   "execution_count": 156,
   "id": "9b595554-aa81-4314-a170-042c89118fac",
   "metadata": {},
   "outputs": [],
   "source": [
    "class HeadDropout(nn.Module):\n",
    "    \"\"\" single head of self attention \"\"\"\n",
    "\n",
    "    def __init__(self, n_embed, block_size, head_size):\n",
    "        super().__init__()\n",
    "        self.n_embed = n_embed\n",
    "        self.block_size = block_size\n",
    "        self.head_size = head_size\n",
    "        self.key = nn.Linear(n_embed, head_size, bias=False)\n",
    "        self.query = nn.Linear(n_embed, head_size, bias=False)\n",
    "        self.value = nn.Linear(n_embed, head_size, bias=False)\n",
    "        self.register_buffer('tril', torch.tril(torch.ones(block_size, block_size)))\n",
    "        # add dropout after softmax\n",
    "        self.dropout = nn.Dropout(dropout)\n",
    "\n",
    "    def forward(self, x):\n",
    "        batch_size, block_size, head_size = x.shape\n",
    "        k = self.key(x)   # (batch_size, block_size, head_size)\n",
    "        q = self.query(x) # (batch_size, block_size, head_size)\n",
    "        # compute weighted average using scaled attention\n",
    "        wavg = q @ k.transpose(-2, -1) * head_size**(-0.5)\n",
    "        # wavg.shape = (batch_size, block_size, head_size) @ (batch_size, head_size, block_size)\n",
    "        # wavg.shape = (batch_size, block_size, block_size)\n",
    "        wavg = wavg.masked_fill(self.tril[:block_size, :block_size] == 0, float('-inf'))\n",
    "        # wavg.shape = (batch_size, block_size, block_size)\n",
    "        wavg = F.softmax(wavg, dim=-1)\n",
    "        wavg = self.dropout(wavg)\n",
    "        # wavg.shape = (batch_size, block_size, block_size)\n",
    "        v = self.value(x) # (batch_size, block_size, head_size)\n",
    "        # wavg @ v : (batch_size, block_size, block_size) @ (batch_size, block_size, head_size)\n",
    "        # wavg @ v : (batch_size, block_size, head_size)\n",
    "        return wavg @ v"
   ]
  },
  {
   "cell_type": "code",
   "execution_count": 157,
   "id": "c024b320-2b93-446f-acfb-bb6ee367ece8",
   "metadata": {},
   "outputs": [],
   "source": [
    "class MultiHeadAttentionResidualsDropout(nn.Module):\n",
    "    \"\"\" multiple heads of self-attention in parallel \"\"\"\n",
    "\n",
    "    def __init__(self, n_embed, block_size, n_heads, head_size):\n",
    "        super().__init__()\n",
    "        self.heads = nn.ModuleList([HeadDropout(n_embed, block_size, head_size) for _ in range(n_heads)])\n",
    "        self.proj = nn.Linear(n_embed, n_embed)\n",
    "        self.dropout = nn.Dropout(dropout)\n",
    "\n",
    "    def forward(self, x):\n",
    "        out = torch.cat([h(x) for h in self.heads], dim=-1)\n",
    "        return self.dropout(self.proj(out))"
   ]
  },
  {
   "cell_type": "code",
   "execution_count": 158,
   "id": "0e5ad969-55ce-45b2-be83-0de4e14e05b2",
   "metadata": {},
   "outputs": [],
   "source": [
    "class FeedForwardResidualsDropout(nn.Module):\n",
    "    \"\"\" simple linear layer followed by non-linear transfer function \"\"\"\n",
    "\n",
    "    def __init__(self, n_embed):\n",
    "        super().__init__()\n",
    "        self.ff = nn.Sequential(\n",
    "            nn.Linear(n_embed, 4 * n_embed), # grow the feedforward layer internally\n",
    "            nn.GELU(),\n",
    "            nn.Linear(4 * n_embed, n_embed),\n",
    "            nn.Dropout(dropout)\n",
    "        )\n",
    "\n",
    "    def forward(self, x):\n",
    "        return self.ff(x)"
   ]
  },
  {
   "cell_type": "code",
   "execution_count": 159,
   "id": "75fc2488-fd07-4cce-873e-16fdc390e0a4",
   "metadata": {},
   "outputs": [],
   "source": [
    "class TransformerBlockResidualsLayerNormDropout(nn.Module):\n",
    "\n",
    "    def __init__(self, n_embed, block_size, n_heads):\n",
    "        super().__init__()\n",
    "        self.head_size = n_embed // n_heads\n",
    "        self.self_attn_head = MultiHeadAttentionResidualsDropout(n_embed, block_size, n_heads, self.head_size) # (D, T, C)\n",
    "        self.ffwd = FeedForwardResidualsDropout(n_embed)\n",
    "        self.ln1 = nn.LayerNorm(n_embed)\n",
    "        self.ln2 = nn.LayerNorm(n_embed)\n",
    "\n",
    "    def forward(self, x):\n",
    "        x = x + self.self_attn_head(self.ln1(x)) # add LayerNorm inside (pre-norm)\n",
    "        x = x + self.ffwd(self.ln2(x))           # add LayerNorm inside (pre-norm)\n",
    "        return x"
   ]
  },
  {
   "cell_type": "code",
   "execution_count": 161,
   "id": "4fa2fd1b-22cd-41e9-85d9-3feb962e5848",
   "metadata": {},
   "outputs": [],
   "source": [
    "class TransformerLM(nn.Module):\n",
    "\n",
    "    def __init__(self, n_embed, vocab_size, block_size=8, n_heads=4, n_layers=2):\n",
    "        super().__init__()\n",
    "        self.n_embed = n_embed\n",
    "        self.vocab_size = vocab_size\n",
    "        self.head_size = head_size\n",
    "        self.block_size = block_size\n",
    "        self.token_embed = nn.Embedding(vocab_size, n_embed) # (C, D)\n",
    "        self.position_embed = nn.Embedding(block_size, n_embed) # (T, D)\n",
    "        self.blocks = nn.Sequential(\n",
    "            *[\n",
    "                TransformerBlockResidualsLayerNormDropout(n_embed, block_size, n_heads) \n",
    "                  for _ in range(n_layers)\n",
    "            ]\n",
    "        )\n",
    "        self.ln_final = nn.LayerNorm(n_embed)\n",
    "        self.predict = nn.Linear(n_embed, vocab_size)\n",
    "\n",
    "    def forward(self, idx):\n",
    "        # B: batch_size\n",
    "        # T: block_size aka time\n",
    "        # C: channel_size aka vocab_size\n",
    "        # D: hidden layer dimension\n",
    "        # idx is a (B,T) size tensor\n",
    "        batch_size, block_size = idx.shape\n",
    "        token_embed = self.token_embed(idx) # (B, T, D)\n",
    "        position_embed = self.position_embed(torch.arange(block_size)) # (T, D)\n",
    "        x = token_embed + position_embed # (B, T, D)\n",
    "        x = self.blocks(x)\n",
    "        x = self.ln_final(x)\n",
    "        return self.predict(x) # return logits (B, T, vocab_size)\n",
    "\n",
    "    def loss(self, logits, targets):\n",
    "        # logits is a (B, T, C) tensor\n",
    "        # target is a (B, T) size tensor\n",
    "        return F.cross_entropy(\n",
    "                logits.view(-1, self.vocab_size), # convert to (B*T, C) tensor\n",
    "                targets.view(-1) # convert to (B*T) tensor\n",
    "                )\n",
    "\n",
    "    def generate(self, idx, max_new_tokens):\n",
    "        # idx is a (B, T) size tensor of indices\n",
    "        for _ in range(max_new_tokens):\n",
    "            # crop idx to the last block_size tokens\n",
    "            idx_cond = idx[:, -block_size:]\n",
    "            # get the predictions\n",
    "            logits = self(idx_cond) # ignore loss\n",
    "            # use the last time step\n",
    "            logits = logits[:, -1, :] # which is size (B, C)\n",
    "            # apply softmax to get probabilities\n",
    "            probs = F.softmax(logits, dim=-1) # size (B, C)\n",
    "            # sample from this probability distribution\n",
    "            idx_next = torch.multinomial(probs, num_samples=1) # size (B, 1)\n",
    "            # append sampled token to sequence\n",
    "            idx = torch.cat((idx, idx_next), dim=1) # size (B, T+1)\n",
    "            decoded = decode(idx[-1].tolist())\n",
    "            if decoded[-1] == '<|endoftext|>':\n",
    "                break\n",
    "        return idx"
   ]
  },
  {
   "cell_type": "code",
   "execution_count": 162,
   "id": "791919bb-4c0f-4823-9a21-00a08a4812bd",
   "metadata": {},
   "outputs": [
    {
     "name": "stdout",
     "output_type": "stream",
     "text": [
      "TransformerLM(\n",
      "  (token_embed): Embedding(312, 32)\n",
      "  (position_embed): Embedding(41, 32)\n",
      "  (blocks): Sequential(\n",
      "    (0): TransformerBlockResidualsLayerNormDropout(\n",
      "      (self_attn_head): MultiHeadAttentionResidualsDropout(\n",
      "        (heads): ModuleList(\n",
      "          (0-3): 4 x HeadDropout(\n",
      "            (key): Linear(in_features=32, out_features=8, bias=False)\n",
      "            (query): Linear(in_features=32, out_features=8, bias=False)\n",
      "            (value): Linear(in_features=32, out_features=8, bias=False)\n",
      "            (dropout): Dropout(p=0.2, inplace=False)\n",
      "          )\n",
      "        )\n",
      "        (proj): Linear(in_features=32, out_features=32, bias=True)\n",
      "        (dropout): Dropout(p=0.2, inplace=False)\n",
      "      )\n",
      "      (ffwd): FeedForwardResidualsDropout(\n",
      "        (ff): Sequential(\n",
      "          (0): Linear(in_features=32, out_features=128, bias=True)\n",
      "          (1): GELU(approximate='none')\n",
      "          (2): Linear(in_features=128, out_features=32, bias=True)\n",
      "          (3): Dropout(p=0.2, inplace=False)\n",
      "        )\n",
      "      )\n",
      "      (ln1): LayerNorm((32,), eps=1e-05, elementwise_affine=True)\n",
      "      (ln2): LayerNorm((32,), eps=1e-05, elementwise_affine=True)\n",
      "    )\n",
      "    (1): TransformerBlockResidualsLayerNormDropout(\n",
      "      (self_attn_head): MultiHeadAttentionResidualsDropout(\n",
      "        (heads): ModuleList(\n",
      "          (0-3): 4 x HeadDropout(\n",
      "            (key): Linear(in_features=32, out_features=8, bias=False)\n",
      "            (query): Linear(in_features=32, out_features=8, bias=False)\n",
      "            (value): Linear(in_features=32, out_features=8, bias=False)\n",
      "            (dropout): Dropout(p=0.2, inplace=False)\n",
      "          )\n",
      "        )\n",
      "        (proj): Linear(in_features=32, out_features=32, bias=True)\n",
      "        (dropout): Dropout(p=0.2, inplace=False)\n",
      "      )\n",
      "      (ffwd): FeedForwardResidualsDropout(\n",
      "        (ff): Sequential(\n",
      "          (0): Linear(in_features=32, out_features=128, bias=True)\n",
      "          (1): GELU(approximate='none')\n",
      "          (2): Linear(in_features=128, out_features=32, bias=True)\n",
      "          (3): Dropout(p=0.2, inplace=False)\n",
      "        )\n",
      "      )\n",
      "      (ln1): LayerNorm((32,), eps=1e-05, elementwise_affine=True)\n",
      "      (ln2): LayerNorm((32,), eps=1e-05, elementwise_affine=True)\n",
      "    )\n",
      "    (2): TransformerBlockResidualsLayerNormDropout(\n",
      "      (self_attn_head): MultiHeadAttentionResidualsDropout(\n",
      "        (heads): ModuleList(\n",
      "          (0-3): 4 x HeadDropout(\n",
      "            (key): Linear(in_features=32, out_features=8, bias=False)\n",
      "            (query): Linear(in_features=32, out_features=8, bias=False)\n",
      "            (value): Linear(in_features=32, out_features=8, bias=False)\n",
      "            (dropout): Dropout(p=0.2, inplace=False)\n",
      "          )\n",
      "        )\n",
      "        (proj): Linear(in_features=32, out_features=32, bias=True)\n",
      "        (dropout): Dropout(p=0.2, inplace=False)\n",
      "      )\n",
      "      (ffwd): FeedForwardResidualsDropout(\n",
      "        (ff): Sequential(\n",
      "          (0): Linear(in_features=32, out_features=128, bias=True)\n",
      "          (1): GELU(approximate='none')\n",
      "          (2): Linear(in_features=128, out_features=32, bias=True)\n",
      "          (3): Dropout(p=0.2, inplace=False)\n",
      "        )\n",
      "      )\n",
      "      (ln1): LayerNorm((32,), eps=1e-05, elementwise_affine=True)\n",
      "      (ln2): LayerNorm((32,), eps=1e-05, elementwise_affine=True)\n",
      "    )\n",
      "    (3): TransformerBlockResidualsLayerNormDropout(\n",
      "      (self_attn_head): MultiHeadAttentionResidualsDropout(\n",
      "        (heads): ModuleList(\n",
      "          (0-3): 4 x HeadDropout(\n",
      "            (key): Linear(in_features=32, out_features=8, bias=False)\n",
      "            (query): Linear(in_features=32, out_features=8, bias=False)\n",
      "            (value): Linear(in_features=32, out_features=8, bias=False)\n",
      "            (dropout): Dropout(p=0.2, inplace=False)\n",
      "          )\n",
      "        )\n",
      "        (proj): Linear(in_features=32, out_features=32, bias=True)\n",
      "        (dropout): Dropout(p=0.2, inplace=False)\n",
      "      )\n",
      "      (ffwd): FeedForwardResidualsDropout(\n",
      "        (ff): Sequential(\n",
      "          (0): Linear(in_features=32, out_features=128, bias=True)\n",
      "          (1): GELU(approximate='none')\n",
      "          (2): Linear(in_features=128, out_features=32, bias=True)\n",
      "          (3): Dropout(p=0.2, inplace=False)\n",
      "        )\n",
      "      )\n",
      "      (ln1): LayerNorm((32,), eps=1e-05, elementwise_affine=True)\n",
      "      (ln2): LayerNorm((32,), eps=1e-05, elementwise_affine=True)\n",
      "    )\n",
      "  )\n",
      "  (ln_final): LayerNorm((32,), eps=1e-05, elementwise_affine=True)\n",
      "  (predict): Linear(in_features=32, out_features=312, bias=True)\n",
      ")\n"
     ]
    }
   ],
   "source": [
    "n_heads = 4\n",
    "n_layers = 4\n",
    "dropout = 0.2\n",
    "batch_size = 4\n",
    "block_size = max_len-2\n",
    "model8 = TransformerLM(n_embed, vocab_size, block_size=block_size, n_heads=n_heads, n_layers=n_layers)\n",
    "optimizer8 = optim.Adam(model8.parameters(), lr=1e-4)\n",
    "losses = []\n",
    "validation_losses = []\n",
    "print(model8)"
   ]
  },
  {
   "cell_type": "markdown",
   "id": "6512fc2c-e69b-47a1-a485-0a81e8f17f28",
   "metadata": {},
   "source": [
    "### Training Loop"
   ]
  },
  {
   "cell_type": "code",
   "execution_count": 163,
   "id": "d15e81a0-8789-4d28-bc18-9c74e098c8df",
   "metadata": {},
   "outputs": [
    {
     "name": "stdout",
     "output_type": "stream",
     "text": [
      "loss=1.0472785234451294\n"
     ]
    }
   ],
   "source": [
    "for _ in range(n_updates):\n",
    "    xb, yb = get_batch('train', block_size, batch_size)\n",
    "    logits = model8(xb)\n",
    "    loss = model8.loss(logits, yb)\n",
    "    losses.append(loss.log10().item())\n",
    "    #print(f'{loss=}')\n",
    "    optimizer8.zero_grad()\n",
    "    loss.backward()\n",
    "    optimizer8.step()\n",
    "\n",
    "print(f'loss={loss.item()}')"
   ]
  },
  {
   "cell_type": "markdown",
   "id": "1a47c083-0500-4e25-a1c8-f0ae17e9ce19",
   "metadata": {},
   "source": [
    "### Calculate validation loss"
   ]
  },
  {
   "cell_type": "code",
   "execution_count": 164,
   "id": "23b4bd52-734d-4e48-bb29-a3a820d37d5d",
   "metadata": {},
   "outputs": [
    {
     "name": "stdout",
     "output_type": "stream",
     "text": [
      "tensor(1.2895, grad_fn=<NllLossBackward0>)\n"
     ]
    }
   ],
   "source": [
    "xb, yb = get_batch('val', block_size, batch_size)\n",
    "logits = model8(xb)\n",
    "val_loss = model8.loss(logits, yb)\n",
    "print(val_loss)"
   ]
  },
  {
   "cell_type": "markdown",
   "id": "d182d132-4496-498f-aa1c-8d13f563f764",
   "metadata": {},
   "source": [
    "### Plot the average loss"
   ]
  },
  {
   "cell_type": "code",
   "execution_count": 165,
   "id": "0dad29e3-7f2d-4547-9406-fe3ebcb0c2ff",
   "metadata": {},
   "outputs": [
    {
     "data": {
      "text/plain": [
       "[<matplotlib.lines.Line2D at 0x126fdabf0>]"
      ]
     },
     "execution_count": 165,
     "metadata": {},
     "output_type": "execute_result"
    },
    {
     "data": {
      "image/png": "[encoded data removed]",
      "text/plain": [
       "<Figure size 640x480 with 1 Axes>"
      ]
     },
     "metadata": {},
     "output_type": "display_data"
    }
   ],
   "source": [
    "avg_loss = torch.tensor(losses).view(-1, 100).mean(1)\n",
    "plt.plot(avg_loss)"
   ]
  },
  {
   "cell_type": "markdown",
   "id": "8b251a49-8b69-443c-91de-b41a5f8c50db",
   "metadata": {},
   "source": [
    "### Generate some output from the model"
   ]
  },
  {
   "cell_type": "code",
   "execution_count": 167,
   "id": "b6fef2ec-596b-4d34-afd1-e94cdaddd99c",
   "metadata": {
    "scrolled": true
   },
   "outputs": [
    {
     "name": "stdout",
     "output_type": "stream",
     "text": [
      "['<|starttext|>', 'm', 'e', 'm', 'a', 'n', 'd', 'a', 'e', '<|to_ipa|>', 'm', '˔ʷ', 'ɪ', 'w', 'ɪ', 'l', 'a', 't', 'ɪ', 'ɸ͡s̪', 'ə', 'θ', '<|endoftext|>']\n"
     ]
    }
   ],
   "source": [
    "print(decode(model8.generate(idx, max_new_tokens=100)[0].tolist()))"
   ]
  },
  {
   "cell_type": "code",
   "execution_count": 168,
   "id": "760241fc-de85-4740-98df-f1144445a046",
   "metadata": {},
   "outputs": [
    {
     "data": {
      "text/html": [
       "<style>\n",
       "    @font-face {\n",
       "        font-family: \"Computer Modern\";\n",
       "        src: url('http://9dbb143991406a7c655e-aa5fcb0a5a4ec34cff238a2d56ca4144.r56.cf5.rackcdn.com/cmunss.otf');\n",
       "    }\n",
       "    @font-face {\n",
       "        font-family: \"Computer Modern\";\n",
       "        font-weight: bold;\n",
       "        src: url('http://9dbb143991406a7c655e-aa5fcb0a5a4ec34cff238a2d56ca4144.r56.cf5.rackcdn.com/cmunsx.otf');\n",
       "    }\n",
       "    @font-face {\n",
       "        font-family: \"Computer Modern\";\n",
       "        font-style: oblique;\n",
       "        src: url('http://9dbb143991406a7c655e-aa5fcb0a5a4ec34cff238a2d56ca4144.r56.cf5.rackcdn.com/cmunsi.otf');\n",
       "    }\n",
       "    @font-face {\n",
       "        font-family: \"Computer Modern\";\n",
       "        font-weight: bold;\n",
       "        font-style: oblique;\n",
       "        src: url('http://9dbb143991406a7c655e-aa5fcb0a5a4ec34cff238a2d56ca4144.r56.cf5.rackcdn.com/cmunso.otf');\n",
       "    }\n",
       "    div.cell{\n",
       "        width:800px;\n",
       "        font-size: 110%;\n",
       "        margin-left:5% !important;\n",
       "        margin-right:auto;\n",
       "    }\n",
       "    h1 {\n",
       "        font-family: Helvetica, serif;\n",
       "    }\n",
       "    h4{\n",
       "        margin-top:12px;\n",
       "        margin-bottom: 3px;\n",
       "       }\n",
       "    div.text_cell_render{\n",
       "        font-family: Computer Modern, \"Helvetica Neue\", Arial, Helvetica, Geneva, sans-serif;\n",
       "        line-height: 145%;\n",
       "        font-size: 110%;\n",
       "        width:800px;\n",
       "        margin-left:auto;\n",
       "        margin-right:auto;\n",
       "    }\n",
       "    .CodeMirror{\n",
       "            font-family: \"Source Code Pro\", source-code-pro,Consolas, monospace;\n",
       "            font-size: 110%;\n",
       "    }\n",
       "    .prompt{\n",
       "        display: None;\n",
       "    }\n",
       "    .text_cell_render h5 {\n",
       "        font-weight: 300;\n",
       "        font-size: 22pt;\n",
       "        color: #4057A1;\n",
       "        font-style: italic;\n",
       "        margin-bottom: .5em;\n",
       "        margin-top: 0.5em;\n",
       "        display: block;\n",
       "    }\n",
       "    \n",
       "    .warning{\n",
       "        color: rgb( 240, 20, 20 )\n",
       "        }  \n",
       "\n",
       "</style>\n",
       "<script>\n",
       "    MathJax.Hub.Config({\n",
       "                        TeX: {\n",
       "                           extensions: [\"AMSmath.js\"]\n",
       "                           },\n",
       "                tex2jax: {\n",
       "                    inlineMath: [ ['$','$'], [\"\\\\(\",\"\\\\)\"] ],\n",
       "                    displayMath: [ ['$$','$$'], [\"\\\\[\",\"\\\\]\"] ]\n",
       "                },\n",
       "                displayAlign: 'center', // Change this to 'center' to center equations.\n",
       "                \"HTML-CSS\": {\n",
       "                    styles: {'.MathJax_Display': {\"margin\": 4}}\n",
       "                }\n",
       "        });\n",
       "</script>\n"
      ],
      "text/plain": [
       "<IPython.core.display.HTML object>"
      ]
     },
     "execution_count": 168,
     "metadata": {},
     "output_type": "execute_result"
    }
   ],
   "source": [
    "from IPython.core.display import HTML\n",
    "\n",
    "def css_styling():\n",
    "    styles = open(\"../css/notebook.css\", \"r\").read()\n",
    "    return HTML(styles)\n",
    "css_styling()"
   ]
  }
 ],
 "metadata": {
  "kernelspec": {
   "display_name": "Python 3 (ipykernel)",
   "language": "python",
   "name": "python3"
  },
  "language_info": {
   "codemirror_mode": {
    "name": "ipython",
    "version": 3
   },
   "file_extension": ".py",
   "mimetype": "text/x-python",
   "name": "python",
   "nbconvert_exporter": "python",
   "pygments_lexer": "ipython3",
   "version": "3.10.13"
  }
 },
 "nbformat": 4,
 "nbformat_minor": 5
}
