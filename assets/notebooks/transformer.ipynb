{
 "cells": [
  {
   "cell_type": "markdown",
   "id": "bf55feea-7c94-4c5d-8a0c-a0602005f35f",
   "metadata": {},
   "source": [
    "# Transformers"
   ]
  },
  {
   "cell_type": "markdown",
   "id": "99b9318f-39f8-438b-b889-de225f34cd00",
   "metadata": {},
   "source": [
    "This tutorial on Transformers is based on the youtube video by Andrej Karpathy here:\n",
    "\n",
    "https://www.youtube.com/watch?v=kCc8FmEb1nY"
   ]
  },
  {
   "cell_type": "code",
   "execution_count": 268,
   "id": "9c331b81-d655-4a30-ab52-2be5b5f78292",
   "metadata": {},
   "outputs": [],
   "source": [
    "import torch\n",
    "import torch.nn as nn\n",
    "import torch.optim as optim\n",
    "from torch.nn import functional as F\n",
    "from torch.utils.data import Dataset\n",
    "from torch.utils.data.dataloader import DataLoader"
   ]
  },
  {
   "cell_type": "code",
   "execution_count": 269,
   "id": "11aaed4b-1e8f-42cb-b054-6a4d15a4013f",
   "metadata": {},
   "outputs": [],
   "source": [
    "import matplotlib.pyplot as plt\n",
    "%matplotlib inline"
   ]
  },
  {
   "cell_type": "code",
   "execution_count": 270,
   "id": "c0aded15-3378-4bf6-8644-3d7155b85e66",
   "metadata": {},
   "outputs": [
    {
     "data": {
      "text/plain": [
       "<torch._C.Generator at 0x105498c50>"
      ]
     },
     "execution_count": 270,
     "metadata": {},
     "output_type": "execute_result"
    }
   ],
   "source": [
    "torch.manual_seed(42)"
   ]
  },
  {
   "cell_type": "markdown",
   "id": "5974049c-999b-4d2c-b1c3-b7db619f922d",
   "metadata": {},
   "source": [
    "## Dataset 1"
   ]
  },
  {
   "cell_type": "markdown",
   "id": "c3197314-abad-4a20-baea-54e2d9621490",
   "metadata": {},
   "source": [
    "We are going to use the [wikipron](https://github.com/CUNY-CL/wikipron) dataset `v1.3.0` which contains a database of over 3M word/pronunciation pairs from 251 languages scraped from [Wiktionary](https://en.wiktionary.org/wiki/Wiktionary:Main_Page).\n",
    "\n",
    "The pronunciations are in the [International Phonetic Alphabet](https://en.wikipedia.org/wiki/International_Phonetic_Alphabet) (IPA) format.\n",
    "\n",
    "The dataset is described in detail in the following paper:\n",
    "\n",
    "> Jackson L. Lee, Lucas F.E. Ashby, M. Elizabeth Garza, Yeonju Lee-Sikka, Sean Miller, Alan Wong, Arya D. McCarthy, and Kyle Gorman (2020). [Massively multilingual pronunciation mining with WikiPron](https://www.aclweb.org/anthology/2020.lrec-1.521/). In Proceedings of the 12th Language Resources and Evaluation Conference, pages 4223-4228.\n",
    "\n",
    "The github repo contains more up to date scrape of data from Wiktionary."
   ]
  },
  {
   "cell_type": "code",
   "execution_count": 271,
   "id": "4ee6729e-e978-4def-9ac4-d8b75beab24d",
   "metadata": {},
   "outputs": [
    {
     "name": "stdout",
     "output_type": "stream",
     "text": [
      "afr afr_latn_narrow.tsv\n",
      "ang ang_latn_narrow.tsv\n",
      "apw apw_latn_narrow.tsv\n",
      "ast ast_latn_narrow.tsv\n",
      "aze aze_latn_narrow.tsv\n",
      "aze aze_latn_narrow_filtered.tsv\n",
      "ces ces_latn_narrow.tsv\n",
      "cor cor_latn_narrow.tsv\n",
      "cym cym_latn_nw_narrow.tsv\n",
      "cym cym_latn_sw_narrow.tsv\n",
      "dan dan_latn_narrow.tsv\n",
      "deu deu_latn_narrow.tsv\n",
      "dsb dsb_latn_narrow.tsv\n",
      "eng eng_latn_uk_narrow.tsv\n",
      "eng eng_latn_us_narrow.tsv\n",
      "epo epo_latn_narrow.tsv\n",
      "eus eus_latn_narrow.tsv\n",
      "fao fao_latn_narrow.tsv\n",
      "fin fin_latn_narrow.tsv\n",
      "fra fra_latn_narrow.tsv\n",
      "gle gle_latn_narrow.tsv\n",
      "glg glg_latn_narrow.tsv\n",
      "glv glv_latn_narrow.tsv\n",
      "hau hau_latn_narrow.tsv\n",
      "haw haw_latn_narrow.tsv\n",
      "hun hun_latn_narrow.tsv\n",
      "hun hun_latn_narrow_filtered.tsv\n",
      "huu huu_latn_narrow.tsv\n",
      "iba iba_latn_narrow.tsv\n",
      "ilo ilo_latn_narrow.tsv\n",
      "ind ind_latn_narrow.tsv\n",
      "isl isl_latn_narrow.tsv\n",
      "lat lat_latn_clas_narrow.tsv\n",
      "lat lat_latn_eccl_narrow.tsv\n",
      "lav lav_latn_narrow.tsv\n",
      "lav lav_latn_narrow_filtered.tsv\n",
      "lim lim_latn_narrow.tsv\n",
      "lit lit_latn_narrow.tsv\n",
      "lmo lmo_latn_narrow.tsv\n",
      "lmy lmy_latn_narrow.tsv\n",
      "ltz ltz_latn_narrow.tsv\n",
      "mah mah_latn_narrow.tsv\n",
      "mak mak_latn_narrow.tsv\n",
      "mic mic_latn_narrow.tsv\n",
      "msa msa_latn_narrow.tsv\n",
      "nci nci_latn_narrow.tsv\n",
      "nhg nhg_latn_narrow.tsv\n",
      "nld nld_latn_narrow.tsv\n",
      "nmy nmy_latn_narrow.tsv\n",
      "nno nno_latn_narrow.tsv\n",
      "nob nob_latn_narrow.tsv\n",
      "oci oci_latn_narrow.tsv\n",
      "pjt pjt_latn_narrow.tsv\n",
      "por por_latn_bz_narrow.tsv\n",
      "por por_latn_po_narrow.tsv\n",
      "ron ron_latn_narrow.tsv\n",
      "ron ron_latn_narrow_filtered.tsv\n",
      "rup rup_latn_narrow.tsv\n",
      "scn scn_latn_narrow.tsv\n",
      "sco sco_latn_narrow.tsv\n",
      "sga sga_latn_narrow.tsv\n",
      "slk slk_latn_narrow.tsv\n",
      "spa spa_latn_ca_narrow.tsv\n",
      "spa spa_latn_la_narrow.tsv\n",
      "sqi sqi_latn_narrow.tsv\n",
      "swe swe_latn_narrow.tsv\n",
      "tby tby_latn_narrow.tsv\n",
      "tft tft_latn_narrow.tsv\n",
      "tgl tgl_latn_narrow.tsv\n",
      "tur tur_latn_narrow.tsv\n",
      "tur tur_latn_narrow_filtered.tsv\n",
      "vie vie_latn_hanoi_narrow.tsv\n",
      "vie vie_latn_hanoi_narrow_filtered.tsv\n",
      "vie vie_latn_hcmc_narrow.tsv\n",
      "vie vie_latn_hcmc_narrow_filtered.tsv\n",
      "vie vie_latn_hue_narrow.tsv\n",
      "vie vie_latn_hue_narrow_filtered.tsv\n",
      "vol vol_latn_narrow.tsv\n",
      "xho xho_latn_narrow.tsv\n",
      "ycl ycl_latn_narrow.tsv\n",
      "zza zza_latn_narrow.tsv\n"
     ]
    }
   ],
   "source": [
    "import re\n",
    "import random\n",
    "from zipfile import ZipFile, is_zipfile\n",
    "from collections import defaultdict\n",
    "random.seed(42)\n",
    "\n",
    "datafile = 'wikipron-data-1.3.0.zip'\n",
    "constraints = ['narrow', 'latn']\n",
    "data = defaultdict(list)\n",
    "\n",
    "if is_zipfile(datafile):\n",
    "    with ZipFile(datafile) as wpzip:\n",
    "        for filename in wpzip.namelist():\n",
    "            features = filename.split('_')\n",
    "            lang = features[0]\n",
    "            matches = [ True if re.search(c, filename) else False for c in constraints ]\n",
    "            if all(matches):\n",
    "                print(lang, filename)\n",
    "                with wpzip.open(filename, 'r') as fh:\n",
    "                    data[lang] += [ s.decode('utf8').strip() for s in fh.readlines() ]"
   ]
  },
  {
   "cell_type": "markdown",
   "id": "c1712e7e-09c0-4e14-9a9a-6c03e4330434",
   "metadata": {},
   "source": [
    "Let's check the format of the data for English. Each language is stored as a separate key in the `data` dictionary."
   ]
  },
  {
   "cell_type": "code",
   "execution_count": 272,
   "id": "39e869d8-9695-4b17-8c93-70a4c2413af5",
   "metadata": {},
   "outputs": [
    {
     "name": "stdout",
     "output_type": "stream",
     "text": [
      "'em\tm̩\n",
      "'em\tə m\n",
      "'em\tɛ m\n",
      "'em\tɪ m\n",
      "'ll\tl̩\n",
      "'ll\tə l\n",
      "'ll\tɫ̩\n",
      "'ll\tɯ\n",
      "'ll\tʊ\n",
      "'n'\tn̩\n",
      "'n'\tə n\n",
      "'rales\tɹ ɑː l i z\n",
      "aa\tɑː ʔ ɑː\n",
      "abear\tə b ɛː\n",
      "accend\tæ k s ɛ n d\n",
      "accommodate\tə kʰ ɒ m ə d e ɪ t\n",
      "accommodator\tə k ɒ m ə d e ɪ t ə\n",
      "accreditation\tə k ɹ ɛ d ɪ t e ɪ ʃ ə n\n",
      "acknowledge\tə k n ɒ l ɨ̞ d͡ʒ\n",
      "acknowledge\tə ɡ n ɒ l ɨ̞ d͡ʒ\n"
     ]
    }
   ],
   "source": [
    "print(\"\\n\".join(data['eng'][:20]))"
   ]
  },
  {
   "cell_type": "code",
   "execution_count": 273,
   "id": "ae9daba4-88fe-4c7f-b2c1-47960e367d4d",
   "metadata": {},
   "outputs": [],
   "source": [
    "dataset = []\n",
    "start = '<|starttext|>'\n",
    "to_ipa = '<|to_ipa|>'\n",
    "endoftext = '<|endoftext|>'\n",
    "padtoken = '<|padtoken|>'\n",
    "languages = ['eng']\n",
    "#languages = data.keys()  # data.keys() for all languages\n",
    "\n",
    "for lang in languages:\n",
    "    for i in data[lang]:\n",
    "        (source, target) = i.split('\\t')\n",
    "        dataset.append([start] + list(source) + [to_ipa] + target.split(' ') + [endoftext])"
   ]
  },
  {
   "cell_type": "code",
   "execution_count": 274,
   "id": "c4d00b47-d9e6-4849-a042-b840b092a3f2",
   "metadata": {},
   "outputs": [
    {
     "name": "stdout",
     "output_type": "stream",
     "text": [
      "[['<|starttext|>', \"'\", 'e', 'm', '<|to_ipa|>', 'm̩', '<|endoftext|>'], ['<|starttext|>', \"'\", 'e', 'm', '<|to_ipa|>', 'ə', 'm', '<|endoftext|>'], ['<|starttext|>', \"'\", 'e', 'm', '<|to_ipa|>', 'ɛ', 'm', '<|endoftext|>'], ['<|starttext|>', \"'\", 'e', 'm', '<|to_ipa|>', 'ɪ', 'm', '<|endoftext|>'], ['<|starttext|>', \"'\", 'l', 'l', '<|to_ipa|>', 'l̩', '<|endoftext|>']]\n"
     ]
    }
   ],
   "source": [
    "print(dataset[:5])"
   ]
  },
  {
   "cell_type": "markdown",
   "id": "830b2310-55b5-4470-9237-8ec782c38261",
   "metadata": {},
   "source": [
    "## Dataset 2"
   ]
  },
  {
   "cell_type": "markdown",
   "id": "b4b216da-f0d1-4040-b75a-38bb68acc83b",
   "metadata": {},
   "source": [
    "The second dataset is the names corpus we used before to train an n-gram language model and n-gram MLP model"
   ]
  },
  {
   "cell_type": "code",
   "execution_count": 275,
   "id": "05ecd783-efce-40b6-92e1-3f71f02ec643",
   "metadata": {},
   "outputs": [],
   "source": [
    "words = open('names.txt', 'r').read().splitlines()\n",
    "words = [w.strip() for w in words] # remove any space chars\n",
    "words = [w for w in words if w] # remove any empty strings"
   ]
  },
  {
   "cell_type": "markdown",
   "id": "2d74d560-ddc9-4c4b-9e3a-e77af7e5399b",
   "metadata": {},
   "source": [
    "Let's collect the vocabulary from the dataset. This will be used to encode each example in the dataset to a tensor and when we get output from our model we can decode it back to the vocabulary."
   ]
  },
  {
   "cell_type": "code",
   "execution_count": 276,
   "id": "721a5854-a8ee-4359-bb61-8f26938e1242",
   "metadata": {},
   "outputs": [
    {
     "name": "stdout",
     "output_type": "stream",
     "text": [
      "<|starttext|><|endoftext|><|padtoken|>abcdefghijklmnopqrstuvwxyz\n",
      "vocab_size=29\n"
     ]
    }
   ],
   "source": [
    "start = '<|starttext|>'\n",
    "endoftext = '<|endoftext|>'\n",
    "padtoken = '<|padtoken|>'\n",
    "\n",
    "vocab = [start] + [endoftext] + [padtoken] + sorted(list({ c for ex in words for c in ex }))\n",
    "vocab_size = len(vocab)\n",
    "print(''.join(vocab))\n",
    "print(f'{vocab_size=}')"
   ]
  },
  {
   "cell_type": "markdown",
   "id": "229da522-40b3-4a3c-b521-03f774fae94d",
   "metadata": {},
   "source": [
    "First we create a mapping `stoi` from the vocabulary to integers, and vice versa `itos`."
   ]
  },
  {
   "cell_type": "code",
   "execution_count": 277,
   "id": "caebfec4-3bcf-4bd7-b968-a1b60330147a",
   "metadata": {},
   "outputs": [],
   "source": [
    "stoi = { ch:i for i, ch in enumerate(vocab) }\n",
    "itos = { i:ch for i, ch in enumerate(vocab) }"
   ]
  },
  {
   "cell_type": "markdown",
   "id": "5d1e9af7-b730-4aae-a2bb-b9c0a03fc87c",
   "metadata": {},
   "source": [
    "Then we use this mapping to create `encode` and `decode` functions from raw input to integers and back."
   ]
  },
  {
   "cell_type": "code",
   "execution_count": 278,
   "id": "bca7fce6-caa1-4d6c-ac21-6c9846d6062f",
   "metadata": {},
   "outputs": [],
   "source": [
    "encode = lambda input: [stoi[c] for c in input]\n",
    "decode = lambda ints: [itos[i] for i in ints]"
   ]
  },
  {
   "cell_type": "code",
   "execution_count": 279,
   "id": "0eb70087-bb40-4491-bb2a-1e47fe137a15",
   "metadata": {},
   "outputs": [],
   "source": [
    "dataset = []\n",
    "for w in words:\n",
    "    dataset.append([start] + list(w) + [endoftext] + [padtoken])"
   ]
  },
  {
   "cell_type": "code",
   "execution_count": 280,
   "id": "9dc7ae44-8fd2-4337-a0eb-e822b652e670",
   "metadata": {},
   "outputs": [
    {
     "name": "stdout",
     "output_type": "stream",
     "text": [
      "[0, 7, 15, 15, 3, 1, 2]\n"
     ]
    }
   ],
   "source": [
    "print(encode(dataset[0]))"
   ]
  },
  {
   "cell_type": "code",
   "execution_count": 281,
   "id": "c1b14a09-56e5-42e1-b8f6-b0d4db40d90a",
   "metadata": {},
   "outputs": [
    {
     "name": "stdout",
     "output_type": "stream",
     "text": [
      "['<|starttext|>', 'e', 'm', 'm', 'a', '<|endoftext|>', '<|padtoken|>']\n"
     ]
    }
   ],
   "source": [
    "print(decode(encode(dataset[0])))"
   ]
  },
  {
   "cell_type": "code",
   "execution_count": 282,
   "id": "fef17795-912c-4279-b75f-91718a2fd785",
   "metadata": {},
   "outputs": [],
   "source": [
    "def get_longest(dataset):\n",
    "    max_len = 0\n",
    "    longest = None\n",
    "    idx = None\n",
    "    for i, ex in enumerate(dataset):\n",
    "        if len(ex) > max_len:\n",
    "            idx = i\n",
    "            max_len = len(ex)\n",
    "            longest = ex\n",
    "    return(idx, max_len, longest)\n",
    "\n",
    "(longest_idx, max_len, longest) = get_longest(dataset)"
   ]
  },
  {
   "cell_type": "code",
   "execution_count": 283,
   "id": "f6efd22c-61b1-41b7-ac12-31ffdef5baee",
   "metadata": {},
   "outputs": [
    {
     "name": "stdout",
     "output_type": "stream",
     "text": [
      "31441 18 ['<|starttext|>', 'm', 'u', 'h', 'a', 'm', 'm', 'a', 'd', 'i', 'b', 'r', 'a', 'h', 'i', 'm', '<|endoftext|>', '<|padtoken|>']\n"
     ]
    }
   ],
   "source": [
    "print(longest_idx, max_len, longest)"
   ]
  },
  {
   "cell_type": "markdown",
   "id": "e6621da9-fe64-41ac-926b-41231d74181f",
   "metadata": {},
   "source": [
    "We pad each example in the dataset to be the same as the longest example. This will ensure we can have same length tensors in each batch of training. At the same time we will convert the dataset using the `encode` function to a torch `tensor` object. "
   ]
  },
  {
   "cell_type": "code",
   "execution_count": 284,
   "id": "4fc0148d-27ba-4022-9335-765a26e791db",
   "metadata": {},
   "outputs": [
    {
     "name": "stdout",
     "output_type": "stream",
     "text": [
      "[tensor([ 0,  7, 15, 15,  3,  1,  2,  2,  2,  2,  2,  2,  2,  2,  2,  2,  2,  2]), tensor([ 0, 17, 14, 11, 24, 11,  3,  1,  2,  2,  2,  2,  2,  2,  2,  2,  2,  2]), tensor([ 0,  3, 24,  3,  1,  2,  2,  2,  2,  2,  2,  2,  2,  2,  2,  2,  2,  2]), tensor([ 0, 11, 21,  3,  4,  7, 14, 14,  3,  1,  2,  2,  2,  2,  2,  2,  2,  2]), tensor([ 0, 21, 17, 18, 10, 11,  3,  1,  2,  2,  2,  2,  2,  2,  2,  2,  2,  2]), tensor([ 0,  5, 10,  3, 20, 14, 17, 22, 22,  7,  1,  2,  2,  2,  2,  2,  2,  2]), tensor([ 0, 15, 11,  3,  1,  2,  2,  2,  2,  2,  2,  2,  2,  2,  2,  2,  2,  2]), tensor([ 0,  3, 15,  7, 14, 11,  3,  1,  2,  2,  2,  2,  2,  2,  2,  2,  2,  2]), tensor([ 0, 10,  3, 20, 18,  7, 20,  1,  2,  2,  2,  2,  2,  2,  2,  2,  2,  2]), tensor([ 0,  7, 24,  7, 14, 27, 16,  1,  2,  2,  2,  2,  2,  2,  2,  2,  2,  2])]\n"
     ]
    }
   ],
   "source": [
    "data = []\n",
    "for ex in dataset:\n",
    "    pad_ex = ex + ([padtoken] * (max_len - len(ex)))\n",
    "    data.append(torch.tensor(encode(pad_ex), dtype=torch.long))\n",
    "print(data[:10])"
   ]
  },
  {
   "cell_type": "code",
   "execution_count": 430,
   "id": "56d43bb2-61ed-49e1-a8d7-d589ffe5c99f",
   "metadata": {},
   "outputs": [
    {
     "name": "stdout",
     "output_type": "stream",
     "text": [
      "tensor([ 0,  3, 15,  3, 20, 11,  1,  2,  2,  2,  2,  2,  2,  2,  2,  2,  2,  2])\n"
     ]
    }
   ],
   "source": [
    "print(data[380])"
   ]
  },
  {
   "cell_type": "markdown",
   "id": "ea65cb55-3e1a-46ec-9f93-0f77472dea65",
   "metadata": {},
   "source": [
    "The number of training examples is:"
   ]
  },
  {
   "cell_type": "code",
   "execution_count": 286,
   "id": "ab907625-86a4-4467-9e27-df4267126340",
   "metadata": {},
   "outputs": [
    {
     "name": "stdout",
     "output_type": "stream",
     "text": [
      "32033\n"
     ]
    }
   ],
   "source": [
    "print(len(data))"
   ]
  },
  {
   "cell_type": "markdown",
   "id": "ee577833-20ba-4db4-8f50-02164de12e94",
   "metadata": {},
   "source": [
    "Next step is to split up the dataset into a training set and validation set."
   ]
  },
  {
   "cell_type": "code",
   "execution_count": 287,
   "id": "c3ae05aa-a4ef-4f42-a06d-a897b6a08feb",
   "metadata": {},
   "outputs": [],
   "source": [
    "n = int(0.9*len(data))\n",
    "train_data = data[:n]\n",
    "val_data = data[n:]"
   ]
  },
  {
   "cell_type": "markdown",
   "id": "08d718e3-63be-476f-993c-bbcfb2f57d1b",
   "metadata": {},
   "source": [
    "We set the `block_size` to `max_len-2` because we have added a endoftext and padtoken to each example."
   ]
  },
  {
   "cell_type": "code",
   "execution_count": 434,
   "id": "a1e5d8ab-439d-4175-901e-4bfcf6e2a712",
   "metadata": {},
   "outputs": [
    {
     "name": "stdout",
     "output_type": "stream",
     "text": [
      "tensor([ 0, 15, 23, 10,  3, 15, 15,  3,  6, 11,  4, 20,  3, 10, 11, 15])\n",
      "tensor([15, 23, 10,  3, 15, 15,  3,  6, 11,  4, 20,  3, 10, 11, 15,  1])\n"
     ]
    }
   ],
   "source": [
    "block_size = max_len-2\n",
    "print(data[longest_idx][0:block_size])\n",
    "print(data[longest_idx][1:block_size+1])"
   ]
  },
  {
   "cell_type": "markdown",
   "id": "28056078-b827-44ed-9135-b282500ba3d1",
   "metadata": {},
   "source": [
    "Check that the input and output tensor lengths are correct by checking on the longest example in the dataset. `x` is the input tensor and `y` is the tensor with the output for each prefix of the input."
   ]
  },
  {
   "cell_type": "code",
   "execution_count": 435,
   "id": "a72afbf1-530f-4372-bd0c-7335df590c9d",
   "metadata": {},
   "outputs": [
    {
     "name": "stdout",
     "output_type": "stream",
     "text": [
      "tensor([[ 0, 15, 23, 10,  3, 15, 15,  3,  6, 11,  4, 20,  3, 10, 11, 15]]) torch.Size([1, 16])\n",
      "tensor([[15, 23, 10,  3, 15, 15,  3,  6, 11,  4, 20,  3, 10, 11, 15,  1]]) torch.Size([1, 16])\n"
     ]
    }
   ],
   "source": [
    "x = torch.stack([data[longest_idx][0:block_size]])\n",
    "y = torch.stack([data[longest_idx][1:block_size+1]])\n",
    "print(x, x.size())\n",
    "print(y, y.size())"
   ]
  },
  {
   "cell_type": "code",
   "execution_count": 290,
   "id": "7374aa95-3f28-4da4-9c43-1afc3613d750",
   "metadata": {},
   "outputs": [
    {
     "name": "stdout",
     "output_type": "stream",
     "text": [
      "tensor([[ 0,  4,  3, 27, 14, 27, 16, 16,  1,  2,  2,  2,  2,  2,  2,  2],\n",
      "        [ 0, 20,  3, 11, 27, 16,  3,  1,  2,  2,  2,  2,  2,  2,  2,  2],\n",
      "        [ 0,  3, 20, 11,  3, 16,  1,  2,  2,  2,  2,  2,  2,  2,  2,  2],\n",
      "        [ 0, 13,  3, 15, 27, 11,  3,  1,  2,  2,  2,  2,  2,  2,  2,  2]]) torch.Size([4, 16])\n",
      "tensor([[ 4,  3, 27, 14, 27, 16, 16,  1,  2,  2,  2,  2,  2,  2,  2,  2],\n",
      "        [20,  3, 11, 27, 16,  3,  1,  2,  2,  2,  2,  2,  2,  2,  2,  2],\n",
      "        [ 3, 20, 11,  3, 16,  1,  2,  2,  2,  2,  2,  2,  2,  2,  2,  2],\n",
      "        [13,  3, 15, 27, 11,  3,  1,  2,  2,  2,  2,  2,  2,  2,  2,  2]]) torch.Size([4, 16])\n"
     ]
    }
   ],
   "source": [
    "def get_batch(split, block_size, batch_size):\n",
    "    data = train_data if split == 'train' else val_data\n",
    "    ix = torch.randint(len(data), (batch_size,))\n",
    "    x = torch.stack([data[i][0:block_size] for i in ix])\n",
    "    y = torch.stack([data[i][1:block_size+1] for i in ix])\n",
    "    return x, y\n",
    "\n",
    "block_size = max_len-2\n",
    "batch_size = 4\n",
    "xb, yb = get_batch('train', block_size, batch_size)\n",
    "print(xb, xb.size())\n",
    "print(yb, yb.size())"
   ]
  },
  {
   "cell_type": "code",
   "execution_count": 291,
   "id": "efe1e721-c775-4bb9-b1e2-781ee6b4508f",
   "metadata": {},
   "outputs": [
    {
     "name": "stdout",
     "output_type": "stream",
     "text": [
      "when input is [0] the target is: 4\n",
      "when input is [0, 4] the target is: 3\n",
      "when input is [0, 4, 3] the target is: 27\n",
      "when input is [0, 4, 3, 27] the target is: 14\n",
      "when input is [0, 4, 3, 27, 14] the target is: 27\n",
      "when input is [0, 4, 3, 27, 14, 27] the target is: 16\n",
      "when input is [0, 4, 3, 27, 14, 27, 16] the target is: 16\n",
      "when input is [0, 4, 3, 27, 14, 27, 16, 16] the target is: 1\n",
      "when input is [0, 4, 3, 27, 14, 27, 16, 16, 1] the target is: 2\n",
      "when input is [0, 4, 3, 27, 14, 27, 16, 16, 1, 2] the target is: 2\n",
      "when input is [0, 4, 3, 27, 14, 27, 16, 16, 1, 2, 2] the target is: 2\n",
      "when input is [0, 4, 3, 27, 14, 27, 16, 16, 1, 2, 2, 2] the target is: 2\n",
      "when input is [0, 4, 3, 27, 14, 27, 16, 16, 1, 2, 2, 2, 2] the target is: 2\n",
      "when input is [0, 4, 3, 27, 14, 27, 16, 16, 1, 2, 2, 2, 2, 2] the target is: 2\n",
      "when input is [0, 4, 3, 27, 14, 27, 16, 16, 1, 2, 2, 2, 2, 2, 2] the target is: 2\n",
      "when input is [0, 4, 3, 27, 14, 27, 16, 16, 1, 2, 2, 2, 2, 2, 2, 2] the target is: 2\n",
      "when input is [0] the target is: 20\n",
      "when input is [0, 20] the target is: 3\n",
      "when input is [0, 20, 3] the target is: 11\n",
      "when input is [0, 20, 3, 11] the target is: 27\n",
      "when input is [0, 20, 3, 11, 27] the target is: 16\n",
      "when input is [0, 20, 3, 11, 27, 16] the target is: 3\n",
      "when input is [0, 20, 3, 11, 27, 16, 3] the target is: 1\n",
      "when input is [0, 20, 3, 11, 27, 16, 3, 1] the target is: 2\n",
      "when input is [0, 20, 3, 11, 27, 16, 3, 1, 2] the target is: 2\n",
      "when input is [0, 20, 3, 11, 27, 16, 3, 1, 2, 2] the target is: 2\n",
      "when input is [0, 20, 3, 11, 27, 16, 3, 1, 2, 2, 2] the target is: 2\n",
      "when input is [0, 20, 3, 11, 27, 16, 3, 1, 2, 2, 2, 2] the target is: 2\n",
      "when input is [0, 20, 3, 11, 27, 16, 3, 1, 2, 2, 2, 2, 2] the target is: 2\n",
      "when input is [0, 20, 3, 11, 27, 16, 3, 1, 2, 2, 2, 2, 2, 2] the target is: 2\n",
      "when input is [0, 20, 3, 11, 27, 16, 3, 1, 2, 2, 2, 2, 2, 2, 2] the target is: 2\n",
      "when input is [0, 20, 3, 11, 27, 16, 3, 1, 2, 2, 2, 2, 2, 2, 2, 2] the target is: 2\n",
      "when input is [0] the target is: 3\n",
      "when input is [0, 3] the target is: 20\n",
      "when input is [0, 3, 20] the target is: 11\n",
      "when input is [0, 3, 20, 11] the target is: 3\n",
      "when input is [0, 3, 20, 11, 3] the target is: 16\n",
      "when input is [0, 3, 20, 11, 3, 16] the target is: 1\n",
      "when input is [0, 3, 20, 11, 3, 16, 1] the target is: 2\n",
      "when input is [0, 3, 20, 11, 3, 16, 1, 2] the target is: 2\n",
      "when input is [0, 3, 20, 11, 3, 16, 1, 2, 2] the target is: 2\n",
      "when input is [0, 3, 20, 11, 3, 16, 1, 2, 2, 2] the target is: 2\n",
      "when input is [0, 3, 20, 11, 3, 16, 1, 2, 2, 2, 2] the target is: 2\n",
      "when input is [0, 3, 20, 11, 3, 16, 1, 2, 2, 2, 2, 2] the target is: 2\n",
      "when input is [0, 3, 20, 11, 3, 16, 1, 2, 2, 2, 2, 2, 2] the target is: 2\n",
      "when input is [0, 3, 20, 11, 3, 16, 1, 2, 2, 2, 2, 2, 2, 2] the target is: 2\n",
      "when input is [0, 3, 20, 11, 3, 16, 1, 2, 2, 2, 2, 2, 2, 2, 2] the target is: 2\n",
      "when input is [0, 3, 20, 11, 3, 16, 1, 2, 2, 2, 2, 2, 2, 2, 2, 2] the target is: 2\n",
      "when input is [0] the target is: 13\n",
      "when input is [0, 13] the target is: 3\n",
      "when input is [0, 13, 3] the target is: 15\n",
      "when input is [0, 13, 3, 15] the target is: 27\n",
      "when input is [0, 13, 3, 15, 27] the target is: 11\n",
      "when input is [0, 13, 3, 15, 27, 11] the target is: 3\n",
      "when input is [0, 13, 3, 15, 27, 11, 3] the target is: 1\n",
      "when input is [0, 13, 3, 15, 27, 11, 3, 1] the target is: 2\n",
      "when input is [0, 13, 3, 15, 27, 11, 3, 1, 2] the target is: 2\n",
      "when input is [0, 13, 3, 15, 27, 11, 3, 1, 2, 2] the target is: 2\n",
      "when input is [0, 13, 3, 15, 27, 11, 3, 1, 2, 2, 2] the target is: 2\n",
      "when input is [0, 13, 3, 15, 27, 11, 3, 1, 2, 2, 2, 2] the target is: 2\n",
      "when input is [0, 13, 3, 15, 27, 11, 3, 1, 2, 2, 2, 2, 2] the target is: 2\n",
      "when input is [0, 13, 3, 15, 27, 11, 3, 1, 2, 2, 2, 2, 2, 2] the target is: 2\n",
      "when input is [0, 13, 3, 15, 27, 11, 3, 1, 2, 2, 2, 2, 2, 2, 2] the target is: 2\n",
      "when input is [0, 13, 3, 15, 27, 11, 3, 1, 2, 2, 2, 2, 2, 2, 2, 2] the target is: 2\n"
     ]
    }
   ],
   "source": [
    "for b in range(batch_size): # batch dimension\n",
    "    for t in range(block_size): # time dimension\n",
    "        context = xb[b, :t+1]\n",
    "        target = yb[b, t]\n",
    "        print(f'when input is {context.tolist()} the target is: {target}')"
   ]
  },
  {
   "cell_type": "markdown",
   "id": "f74bca45-73a7-4fd2-80f7-d56b0e1b475a",
   "metadata": {},
   "source": [
    "## Bigram Language Model"
   ]
  },
  {
   "cell_type": "markdown",
   "id": "6b30fe70-731e-44bc-b87b-c3d613bf137b",
   "metadata": {},
   "source": [
    "Let us define $B$ as the `batch_size`, $T$ is the time dimension aka the length of the input sequence, and $C$ is the so-called channel size which is defined to be the `vocab_size` (the output dimension).\n",
    "\n",
    "The bigram language model (LM) is defined here to be a very simple LM where we use an embedding for the current token which is define to be size `vocab_size` to predict the next token."
   ]
  },
  {
   "cell_type": "code",
   "execution_count": 292,
   "id": "58347111-e5e1-4811-b981-84cabb87bd3b",
   "metadata": {},
   "outputs": [],
   "source": [
    "class BigramLM(nn.Module):\n",
    "\n",
    "    def __init__(self, vocab_size):\n",
    "        super().__init__()\n",
    "        # each token has an embedding which predicts the next token\n",
    "        self.vocab_size = vocab_size\n",
    "        self.bigram = nn.Embedding(vocab_size, vocab_size)\n",
    "\n",
    "    def forward(self, idx, targets):\n",
    "        # B: batch_size\n",
    "        # T: time\n",
    "        # C: channel_size aka vocab_size\n",
    "        # idx and targets are (B,T) size tensors\n",
    "        logits = self.bigram(idx) # returns (B,T,C) tensor\n",
    "        B, T, C = logits.shape\n",
    "        logits = logits.view(B*T, self.vocab_size)\n",
    "        loss = F.cross_entropy(logits, targets.view(B*T))\n",
    "        #print(logits.view(B*T, self.vocab_size).shape)\n",
    "        #print(targets.view(B*T).shape)\n",
    "        # note that this is the same as the following using Pytorch type coercion:\n",
    "        # loss = F.cross_entropy(logits.view(-1, self.vocab_size), targets.view(-1))\n",
    "        return logits, loss"
   ]
  },
  {
   "cell_type": "code",
   "execution_count": 293,
   "id": "311922d4-ca8f-4b04-bffd-515fd52446b7",
   "metadata": {},
   "outputs": [
    {
     "name": "stdout",
     "output_type": "stream",
     "text": [
      "vocab_size=29\n"
     ]
    }
   ],
   "source": [
    "print(f'{vocab_size=}')"
   ]
  },
  {
   "cell_type": "code",
   "execution_count": 294,
   "id": "e6359b95-80fb-4859-bc5f-c459ae1191dc",
   "metadata": {},
   "outputs": [
    {
     "name": "stdout",
     "output_type": "stream",
     "text": [
      "tensor([[ 0.6784, -1.2345, -0.0431,  ..., -0.2516,  0.8599, -0.3097],\n",
      "        [ 1.0311, -0.7048,  1.0131,  ..., -1.4335, -0.5665,  0.2695],\n",
      "        [ 0.9604, -1.7223, -0.8278,  ...,  0.0912, -0.3891,  0.5279],\n",
      "        ...,\n",
      "        [-1.1845,  1.3835, -1.2024,  ...,  0.7281, -0.7106, -0.6021],\n",
      "        [-1.1845,  1.3835, -1.2024,  ...,  0.7281, -0.7106, -0.6021],\n",
      "        [-1.1845,  1.3835, -1.2024,  ...,  0.7281, -0.7106, -0.6021]],\n",
      "       grad_fn=<ViewBackward0>) torch.Size([64, 29])\n",
      "tensor(4.6124, grad_fn=<NllLossBackward0>)\n"
     ]
    }
   ],
   "source": [
    "model1 = BigramLM(vocab_size)\n",
    "out, loss = model1(xb, yb)\n",
    "print(out, out.shape)\n",
    "print(loss)"
   ]
  },
  {
   "cell_type": "markdown",
   "id": "3813c222-8b08-4718-b95e-cd42cc2f2234",
   "metadata": {},
   "source": [
    "### Loss function"
   ]
  },
  {
   "cell_type": "markdown",
   "id": "fc81fc39-c0f1-409b-80a2-c02bb172879b",
   "metadata": {},
   "source": [
    "We expect loss to be $\\log_e(\\frac{1}{vocabsize})$"
   ]
  },
  {
   "cell_type": "code",
   "execution_count": 295,
   "id": "245f03af-8d2e-4445-80cb-b2ab82f3ec68",
   "metadata": {},
   "outputs": [
    {
     "name": "stdout",
     "output_type": "stream",
     "text": [
      "tensor(-3.3673)\n"
     ]
    }
   ],
   "source": [
    "print(torch.log(torch.tensor(1/vocab_size)))"
   ]
  },
  {
   "cell_type": "markdown",
   "id": "d07d255a-d621-4c15-82c2-ddd5388ecabf",
   "metadata": {},
   "source": [
    "### Add a generator function"
   ]
  },
  {
   "cell_type": "code",
   "execution_count": 296,
   "id": "73a03bdd-cdc2-4417-b673-7c9ef7395599",
   "metadata": {},
   "outputs": [],
   "source": [
    "class BigramLM(nn.Module):\n",
    "\n",
    "    def __init__(self, vocab_size):\n",
    "        super().__init__()\n",
    "        # each token has an embedding which predicts the next token\n",
    "        self.vocab_size = vocab_size\n",
    "        self.bigram = nn.Embedding(vocab_size, vocab_size)\n",
    "\n",
    "    def forward(self, idx):\n",
    "        # B: batch_size\n",
    "        # T: time\n",
    "        # C: channel_size aka vocab_size\n",
    "        # idx is a (B,T) size tensor\n",
    "        return self.bigram(idx) # returns (B,T,C) tensor\n",
    "\n",
    "    def loss(self, logits, targets):\n",
    "        # logits is a (B, T, C) tensor\n",
    "        # target is a (B, T) size tensor\n",
    "        return F.cross_entropy(\n",
    "                logits.view(-1, self.vocab_size), # convert to (B*T, C) tensor\n",
    "                targets.view(-1) # convert to (B*T) tensor\n",
    "                )\n",
    "\n",
    "    def generate(self, idx, max_new_tokens):\n",
    "        # idx is a (B, T) size tensor of indices\n",
    "        for _ in range(max_new_tokens):\n",
    "            logits = self(idx) # ignore loss\n",
    "            # use the last time step\n",
    "            logits = logits[:, -1, :] # which is size (B, C)\n",
    "            # apply softmax to get probabilities\n",
    "            probs = F.softmax(logits, dim=-1) # size (B, C)\n",
    "            # sample from this probability distribution\n",
    "            idx_next = torch.multinomial(probs, num_samples=1) # size (B, 1)\n",
    "            if itos[idx_next.item()] in ('<|startoftext|>', '<|padtoken|>'):\n",
    "                continue\n",
    "            # append sampled token to sequence\n",
    "            idx = torch.cat((idx, idx_next), dim=1) # size (B, T+1)\n",
    "            decoded = decode(idx[-1].tolist())\n",
    "            if decoded[-1] == '<|endoftext|>':\n",
    "                break\n",
    "        return idx"
   ]
  },
  {
   "cell_type": "code",
   "execution_count": 297,
   "id": "a51ea710-4018-4832-8fe6-48eefad22400",
   "metadata": {},
   "outputs": [
    {
     "name": "stdout",
     "output_type": "stream",
     "text": [
      "logits=tensor([[[ 0.4742, -2.2940,  0.7744,  ...,  0.7410,  0.7378, -0.8505],\n",
      "         [-1.6947,  1.1806, -2.8929,  ..., -0.5154,  1.0827, -0.7907],\n",
      "         [ 0.2761, -0.8852,  0.7838,  ...,  0.0567,  0.9532,  0.8521],\n",
      "         ...,\n",
      "         [ 1.3824,  1.1285, -1.2123,  ...,  0.1329,  0.1219,  0.4781],\n",
      "         [ 1.3824,  1.1285, -1.2123,  ...,  0.1329,  0.1219,  0.4781],\n",
      "         [ 1.3824,  1.1285, -1.2123,  ...,  0.1329,  0.1219,  0.4781]],\n",
      "\n",
      "        [[ 0.4742, -2.2940,  0.7744,  ...,  0.7410,  0.7378, -0.8505],\n",
      "         [-0.4361, -1.0023,  0.3780,  ...,  0.3767, -0.2511, -0.3286],\n",
      "         [ 0.2761, -0.8852,  0.7838,  ...,  0.0567,  0.9532,  0.8521],\n",
      "         ...,\n",
      "         [ 1.3824,  1.1285, -1.2123,  ...,  0.1329,  0.1219,  0.4781],\n",
      "         [ 1.3824,  1.1285, -1.2123,  ...,  0.1329,  0.1219,  0.4781],\n",
      "         [ 1.3824,  1.1285, -1.2123,  ...,  0.1329,  0.1219,  0.4781]],\n",
      "\n",
      "        [[ 0.4742, -2.2940,  0.7744,  ...,  0.7410,  0.7378, -0.8505],\n",
      "         [ 0.2761, -0.8852,  0.7838,  ...,  0.0567,  0.9532,  0.8521],\n",
      "         [-0.4361, -1.0023,  0.3780,  ...,  0.3767, -0.2511, -0.3286],\n",
      "         ...,\n",
      "         [ 1.3824,  1.1285, -1.2123,  ...,  0.1329,  0.1219,  0.4781],\n",
      "         [ 1.3824,  1.1285, -1.2123,  ...,  0.1329,  0.1219,  0.4781],\n",
      "         [ 1.3824,  1.1285, -1.2123,  ...,  0.1329,  0.1219,  0.4781]],\n",
      "\n",
      "        [[ 0.4742, -2.2940,  0.7744,  ...,  0.7410,  0.7378, -0.8505],\n",
      "         [-0.5536, -0.7581,  1.4171,  ..., -1.7733, -0.9907,  0.6349],\n",
      "         [ 0.2761, -0.8852,  0.7838,  ...,  0.0567,  0.9532,  0.8521],\n",
      "         ...,\n",
      "         [ 1.3824,  1.1285, -1.2123,  ...,  0.1329,  0.1219,  0.4781],\n",
      "         [ 1.3824,  1.1285, -1.2123,  ...,  0.1329,  0.1219,  0.4781],\n",
      "         [ 1.3824,  1.1285, -1.2123,  ...,  0.1329,  0.1219,  0.4781]]],\n",
      "       grad_fn=<EmbeddingBackward0>)\n",
      "logits.shape=torch.Size([4, 16, 29])\n",
      "loss=tensor(4.4788, grad_fn=<NllLossBackward0>)\n"
     ]
    }
   ],
   "source": [
    "model1 = BigramLM(vocab_size)\n",
    "logits = model1(xb)\n",
    "loss = model1.loss(logits, yb)\n",
    "print(f'{logits=}')\n",
    "print(f'{logits.shape=}')\n",
    "print(f'{loss=}')"
   ]
  },
  {
   "cell_type": "code",
   "execution_count": 298,
   "id": "ad3407f5-38b2-4514-8598-e4cae83c0f5f",
   "metadata": {},
   "outputs": [
    {
     "data": {
      "text/plain": [
       "tensor([0])"
      ]
     },
     "execution_count": 298,
     "metadata": {},
     "output_type": "execute_result"
    }
   ],
   "source": [
    "torch.tensor(encode(['<|starttext|>']), dtype=torch.long)"
   ]
  },
  {
   "cell_type": "markdown",
   "id": "f14ad70b-f9ae-4f41-8c84-e27175d6a503",
   "metadata": {},
   "source": [
    "We need a batch dimension even if the batch size for generation is just one."
   ]
  },
  {
   "cell_type": "code",
   "execution_count": 299,
   "id": "c8b71f10-449d-4dcc-9c49-b00e46700445",
   "metadata": {},
   "outputs": [
    {
     "data": {
      "text/plain": [
       "tensor([[1]])"
      ]
     },
     "execution_count": 299,
     "metadata": {},
     "output_type": "execute_result"
    }
   ],
   "source": [
    "torch.eye(1, dtype=torch.long)"
   ]
  },
  {
   "cell_type": "code",
   "execution_count": 300,
   "id": "7497632b-c433-44ed-9e87-2dbd5119612c",
   "metadata": {},
   "outputs": [
    {
     "data": {
      "text/plain": [
       "tensor([[0]])"
      ]
     },
     "execution_count": 300,
     "metadata": {},
     "output_type": "execute_result"
    }
   ],
   "source": [
    "idx = torch.eye(1, dtype=torch.long)*torch.tensor(encode(['<|starttext|>']), dtype=torch.long)\n",
    "idx"
   ]
  },
  {
   "cell_type": "code",
   "execution_count": 301,
   "id": "50823bec-f569-490c-a5b9-5124b1c34126",
   "metadata": {},
   "outputs": [
    {
     "data": {
      "text/plain": [
       "tensor([[ 0, 14,  1]])"
      ]
     },
     "execution_count": 301,
     "metadata": {},
     "output_type": "execute_result"
    }
   ],
   "source": [
    "model1.generate(idx, max_new_tokens=100)"
   ]
  },
  {
   "cell_type": "markdown",
   "id": "1229882b-c001-416c-94d8-cd361837ae29",
   "metadata": {},
   "source": [
    "To extract the single element in this batch of size one we take the first element and convert it to a list before we decode it "
   ]
  },
  {
   "cell_type": "code",
   "execution_count": 302,
   "id": "3d915fcd-2b28-43fe-964d-73272a203efd",
   "metadata": {},
   "outputs": [
    {
     "name": "stdout",
     "output_type": "stream",
     "text": [
      "['<|starttext|>', 'f', 'v', 'u', 'h', 'k', 'u', 'x', '<|endoftext|>']\n"
     ]
    }
   ],
   "source": [
    "print(decode(model1.generate(idx, max_new_tokens=100)[0].tolist()))"
   ]
  },
  {
   "cell_type": "markdown",
   "id": "ef82ed59-3f17-4c08-afcd-08fe637a174c",
   "metadata": {},
   "source": [
    "### Training loop"
   ]
  },
  {
   "cell_type": "code",
   "execution_count": 303,
   "id": "54d584da-0d5c-440d-8036-98179d736f26",
   "metadata": {},
   "outputs": [
    {
     "name": "stdout",
     "output_type": "stream",
     "text": [
      "BigramLM(\n",
      "  (bigram): Embedding(29, 29)\n",
      ")\n"
     ]
    }
   ],
   "source": [
    "model1 = BigramLM(vocab_size=vocab_size)\n",
    "optimizer1 = optim.Adam(model1.parameters(), lr=1e-3)\n",
    "batch_size = 32\n",
    "losses = []\n",
    "validation_losses = []\n",
    "print(model1)"
   ]
  },
  {
   "cell_type": "code",
   "execution_count": 304,
   "id": "ea0309d3-8fc1-42b5-8333-e4c9990edbf2",
   "metadata": {},
   "outputs": [],
   "source": [
    "n_updates = 10000"
   ]
  },
  {
   "cell_type": "code",
   "execution_count": 305,
   "id": "22a6403a-a9a4-4ae4-9b10-0252b3eb041f",
   "metadata": {},
   "outputs": [
    {
     "name": "stdout",
     "output_type": "stream",
     "text": [
      "loss=1.1312869787216187\n"
     ]
    }
   ],
   "source": [
    "for _ in range(n_updates):\n",
    "    xb, yb = get_batch('train', block_size, batch_size)\n",
    "    logits = model1(xb)\n",
    "    loss = model1.loss(logits, yb)\n",
    "    losses.append(loss.log10().item())\n",
    "    #print(f'{loss=}')\n",
    "    optimizer1.zero_grad()\n",
    "    loss.backward()\n",
    "    optimizer1.step()\n",
    "\n",
    "print(f'loss={loss.item()}')"
   ]
  },
  {
   "cell_type": "markdown",
   "id": "81dfe433-63c7-4c47-9384-dc448b4b5fcb",
   "metadata": {},
   "source": [
    "### Calculate validation loss"
   ]
  },
  {
   "cell_type": "code",
   "execution_count": 306,
   "id": "b84655c0-6a01-45b1-a7fa-12a136043981",
   "metadata": {},
   "outputs": [
    {
     "name": "stdout",
     "output_type": "stream",
     "text": [
      "tensor(1.2098, grad_fn=<NllLossBackward0>)\n"
     ]
    }
   ],
   "source": [
    "xb, yb = get_batch('val', block_size, batch_size)\n",
    "logits = model1(xb)\n",
    "val_loss = model1.loss(logits, yb)\n",
    "print(val_loss)"
   ]
  },
  {
   "cell_type": "markdown",
   "id": "8f9b058c-7676-48a9-9c10-fa565350dc5c",
   "metadata": {},
   "source": [
    "### Plot the average loss"
   ]
  },
  {
   "cell_type": "code",
   "execution_count": 307,
   "id": "b04ebc8e-5373-4545-b6ac-f809743b47a3",
   "metadata": {},
   "outputs": [
    {
     "data": {
      "text/plain": [
       "[<matplotlib.lines.Line2D at 0x1368baab0>]"
      ]
     },
     "execution_count": 307,
     "metadata": {},
     "output_type": "execute_result"
    },
    {
     "data": {
      "image/png": "[encoded data removed]",
      "text/plain": [
       "<Figure size 640x480 with 1 Axes>"
      ]
     },
     "metadata": {},
     "output_type": "display_data"
    }
   ],
   "source": [
    "avg_loss = torch.tensor(losses).view(-1, 100).mean(1)\n",
    "plt.plot(avg_loss)"
   ]
  },
  {
   "cell_type": "markdown",
   "id": "0f894f77-4cde-45db-b400-a2a3c8c5e017",
   "metadata": {},
   "source": [
    "### Generate some output from the model"
   ]
  },
  {
   "cell_type": "code",
   "execution_count": 308,
   "id": "607b996d-13c3-4612-a14e-b524a3183377",
   "metadata": {},
   "outputs": [
    {
     "name": "stdout",
     "output_type": "stream",
     "text": [
      "['<|starttext|>', 's', '<|endoftext|>']\n"
     ]
    }
   ],
   "source": [
    "idx = torch.eye(1, dtype=torch.long)*torch.tensor(encode(['<|starttext|>']), dtype=torch.long)\n",
    "print(decode(model1.generate(idx, max_new_tokens=100)[0].tolist()))"
   ]
  },
  {
   "cell_type": "markdown",
   "id": "c783e931-d076-439a-b47f-1b99fa7039e9",
   "metadata": {},
   "source": [
    "## Weighted Aggregation"
   ]
  },
  {
   "cell_type": "markdown",
   "id": "5061af6c-fbbc-424b-bdbe-c7dc2e8ce0c9",
   "metadata": {},
   "source": [
    "First let's just use the mean/average of the first `t` tokens to predict the `t+1` token. What is important is that the `t+1` token only uses the previous tokens to take an average. It should not use any future tokens since we are proceeding strictly left to right in the time dimension. "
   ]
  },
  {
   "cell_type": "code",
   "execution_count": 309,
   "id": "c1662862-0d0f-4b24-a0ca-26bdf343d656",
   "metadata": {},
   "outputs": [
    {
     "name": "stdout",
     "output_type": "stream",
     "text": [
      "29\n"
     ]
    }
   ],
   "source": [
    "batch_size = 4\n",
    "block_size = max_len-2\n",
    "print(vocab_size)"
   ]
  },
  {
   "cell_type": "code",
   "execution_count": 310,
   "id": "41f0ac1a-4f11-42be-b548-db129f4d9330",
   "metadata": {},
   "outputs": [
    {
     "data": {
      "text/plain": [
       "torch.Size([4, 16, 29])"
      ]
     },
     "execution_count": 310,
     "metadata": {},
     "output_type": "execute_result"
    }
   ],
   "source": [
    "x = torch.randn(batch_size, block_size, vocab_size)\n",
    "x.shape"
   ]
  },
  {
   "cell_type": "code",
   "execution_count": 311,
   "id": "71aea7e3-4012-4417-8b6b-86f5aeb76069",
   "metadata": {},
   "outputs": [
    {
     "data": {
      "text/plain": [
       "tensor([[ 1.6834e+00,  8.5071e-01, -1.1918e+00,  1.0946e+00, -9.6713e-02,\n",
       "         -7.2817e-01,  7.9290e-01, -2.0925e+00, -5.0025e-01, -4.6411e-01,\n",
       "         -5.8405e-01,  1.2963e+00, -9.6361e-01, -9.6736e-01, -2.9595e+00,\n",
       "         -1.2865e+00,  1.7550e+00,  7.1575e-01, -1.4752e+00, -9.3188e-01,\n",
       "          1.0002e+00, -1.2041e+00, -3.9269e-01, -2.6548e+00,  1.4893e-01,\n",
       "          8.1709e-01, -1.7680e+00, -1.1756e+00,  1.2117e+00],\n",
       "        [ 3.8636e-01, -1.7870e-01,  2.1813e+00,  1.4835e+00,  1.7576e-01,\n",
       "          3.7141e-01, -4.0449e-01, -1.3866e+00, -2.3826e+00,  8.1952e-01,\n",
       "          1.4596e-01,  2.1205e-01,  1.0887e+00, -8.2900e-02, -7.1157e-01,\n",
       "          4.8497e-01, -3.8312e-01,  5.1782e-01, -1.0427e-01,  2.1325e-02,\n",
       "         -1.8728e-01,  1.7348e-01, -2.4391e-01, -1.0773e+00,  7.8323e-01,\n",
       "         -7.1903e-01,  5.7350e-01,  9.3169e-01,  3.6310e-01],\n",
       "        [-1.8688e-01, -4.7640e-01,  3.1058e-01, -8.9087e-01, -5.2205e-01,\n",
       "          1.3370e+00, -2.0267e-01,  3.7638e-01, -6.7568e-01, -5.1934e-04,\n",
       "         -1.5567e+00,  7.2293e-01, -5.8545e-01,  6.3316e-01,  1.1178e+00,\n",
       "         -1.2938e+00,  2.5045e+00, -3.1172e-01, -4.8273e-01,  7.3192e-02,\n",
       "          7.6401e-01, -7.7586e-01,  4.8640e-01,  1.1205e-01, -1.5801e+00,\n",
       "          1.1473e+00, -4.9183e-01, -6.4126e-01, -8.3192e-01],\n",
       "        [ 6.2886e-01, -1.1868e+00, -7.3964e-01, -2.1857e-02,  2.0887e-01,\n",
       "          5.6960e-01, -4.4724e-01,  1.4744e-01,  1.2605e+00, -4.7675e-01,\n",
       "         -1.2410e+00,  1.2773e+00, -7.7778e-01, -1.1390e+00,  1.6182e+00,\n",
       "          7.1471e-01,  8.8552e-01, -1.1151e-01,  6.7063e-01,  1.1254e+00,\n",
       "          6.3876e-01,  5.1665e-01,  1.5074e-01, -1.6460e+00, -1.2440e-01,\n",
       "         -4.9842e-01, -8.3992e-01,  5.9134e-01,  1.0533e+00],\n",
       "        [-5.1742e-02,  1.3523e+00,  1.1971e+00, -7.1828e-01,  7.0519e-01,\n",
       "          2.1955e-01, -9.1145e-01,  2.3114e-01, -4.5196e-01,  8.8118e-01,\n",
       "          1.8638e+00,  1.4782e+00,  4.8360e-01, -1.1019e+00,  1.2000e+00,\n",
       "          6.4785e-01, -9.5573e-01,  8.5196e-01,  1.3837e-01, -6.7370e-01,\n",
       "          1.0955e+00, -1.0763e+00,  8.5967e-02,  1.3575e+00,  4.5092e-01,\n",
       "          1.9174e+00,  2.1603e-02,  1.3783e+00,  1.3757e+00],\n",
       "        [-5.4834e-01,  3.0909e-01, -2.1206e+00,  8.0023e-01, -1.5651e+00,\n",
       "          2.4177e+00,  8.4594e-02, -1.1748e+00, -1.7960e-01, -2.8092e-02,\n",
       "          5.6400e-01,  1.1043e-01, -1.4409e-01,  1.1208e+00, -6.6072e-01,\n",
       "         -5.8011e-01, -3.0473e+00, -3.5913e-01,  1.0708e+00,  7.6978e-01,\n",
       "          1.2567e+00,  6.5416e-01,  3.8783e-01, -1.1984e+00,  1.8913e-01,\n",
       "          1.0970e+00, -8.1777e-01,  1.3949e+00, -4.3456e-01],\n",
       "        [ 2.4730e-01, -1.2952e+00,  1.8370e-02, -1.1550e-02,  5.1613e-02,\n",
       "          2.6571e+00,  1.3248e+00,  9.1652e-01,  5.6678e-01, -9.0268e-01,\n",
       "         -1.9088e+00,  3.5125e-01, -3.9402e-02, -2.0791e-02,  9.0051e-01,\n",
       "         -2.9755e-01,  7.3990e-01, -2.8815e-01, -5.8930e-01,  4.9827e-01,\n",
       "          2.4334e-01,  6.5080e-01,  4.9990e-01, -1.1312e+00, -1.4931e+00,\n",
       "          1.0279e+00, -1.3256e+00,  5.2981e-01,  7.9455e-01],\n",
       "        [ 2.0067e-01, -1.0217e+00,  1.3473e+00, -5.1508e-01,  3.9873e-01,\n",
       "         -4.5076e-01,  2.9413e-01,  1.0279e+00,  7.8335e-01, -2.3342e-01,\n",
       "          1.3260e+00, -1.3553e+00,  1.6759e-01, -1.2717e+00,  2.2306e+00,\n",
       "         -2.4699e-01, -1.2914e-01, -2.6228e-01, -2.0658e+00,  5.9947e-01,\n",
       "         -4.5861e-01,  1.1957e+00,  1.3623e+00,  6.6758e-01,  3.3383e-02,\n",
       "          9.4407e-01,  2.0413e+00, -1.4140e+00, -1.0612e+00],\n",
       "        [ 6.4393e-01,  7.6220e-01,  1.6623e+00,  7.5025e-01, -7.0627e-02,\n",
       "         -2.5663e-01,  8.5774e-01,  6.8340e-01,  4.5289e-01,  1.0432e+00,\n",
       "          3.7952e-01,  9.8064e-01, -3.1220e-01,  1.1130e+00, -2.8784e-01,\n",
       "         -2.0991e-01, -3.7390e-01, -2.3993e-01,  6.1254e-01, -5.0526e-01,\n",
       "          2.7234e+00, -1.2792e+00, -6.1213e-01, -9.4372e-01, -9.6701e-01,\n",
       "          1.5824e+00,  3.1341e-01, -1.9948e-01,  7.8330e-02],\n",
       "        [ 1.3311e+00,  6.9841e-01,  7.3484e-01,  7.9163e-01,  5.8710e-01,\n",
       "         -1.2407e+00, -4.1994e-01,  3.3242e-01, -2.3372e-02, -1.2776e+00,\n",
       "          5.2691e-01, -5.2335e-02,  1.4356e+00, -1.1593e+00, -3.0342e-01,\n",
       "         -8.1652e-01,  9.3446e-01, -1.0093e+00,  5.2611e-01, -7.3933e-01,\n",
       "          5.1108e-01,  2.5853e+00, -3.8840e-01, -7.6450e-01,  6.9926e-01,\n",
       "          7.3889e-01, -1.0352e+00, -1.1424e+00, -1.1527e+00],\n",
       "        [ 6.6615e-01, -1.0853e+00,  7.3271e-01,  1.1621e+00,  1.5725e+00,\n",
       "         -3.5198e-01,  9.2541e-01,  8.4774e-02,  1.1570e+00, -8.1109e-01,\n",
       "         -4.9336e-01, -3.7542e-01, -9.6281e-01,  5.6504e-01,  8.2543e-02,\n",
       "         -1.6646e-01,  2.2726e+00, -8.0179e-01,  1.5116e+00,  4.2650e-02,\n",
       "         -4.2054e-01,  6.7089e-01, -1.9114e-02, -6.0897e-02,  2.1390e+00,\n",
       "         -1.1435e+00,  2.6027e-01, -1.0245e+00, -5.4940e-01],\n",
       "        [-6.1770e-01,  1.0761e-01, -8.5157e-03,  2.7663e+00, -6.8754e-01,\n",
       "          9.8887e-03, -9.5867e-01,  6.9135e-01, -2.0377e+00, -9.9929e-01,\n",
       "          4.3476e-01,  1.7924e+00, -4.6227e-02, -1.3258e+00, -2.9541e-01,\n",
       "          5.8585e-01,  1.4475e-01, -1.7391e-01,  6.1765e-01, -1.8383e+00,\n",
       "         -2.2921e-01, -1.9254e+00, -4.4549e-01,  1.5375e-01, -4.6162e-01,\n",
       "         -1.5638e-01, -1.0384e+00, -5.2885e-01,  1.6753e+00],\n",
       "        [ 4.7177e-01, -6.4779e-01, -1.9204e+00,  2.3548e+00,  3.1766e-01,\n",
       "          1.8449e+00,  9.2448e-01,  9.1972e-01, -7.4132e-01, -1.6607e-01,\n",
       "         -2.2906e+00, -1.4110e-01,  1.5537e+00, -3.3477e-01,  6.3557e-01,\n",
       "         -1.4869e-01, -9.6897e-01,  3.7710e-01, -8.0686e-02, -5.8539e-02,\n",
       "          3.0086e-01,  1.6200e+00,  6.9328e-01,  8.1920e-01, -1.6319e-01,\n",
       "         -7.1350e-01,  4.4937e-01, -4.5072e-01,  9.8095e-02],\n",
       "        [ 1.6178e+00,  8.5089e-01, -2.8574e-01, -3.0693e-01,  4.7085e-01,\n",
       "         -1.6809e+00, -1.3213e+00,  2.8121e-01,  1.2477e-01, -1.1470e+00,\n",
       "          4.5660e-02, -1.9671e-01, -1.4678e+00, -8.6730e-01, -1.1532e+00,\n",
       "         -5.9878e-02,  6.0259e-01,  8.7095e-01, -9.3928e-01,  1.0225e+00,\n",
       "          1.7171e+00,  9.1026e-01, -9.8965e-01, -2.9343e-01,  6.2259e-01,\n",
       "         -1.2958e+00, -1.6211e+00, -8.0670e-02,  1.1747e+00],\n",
       "        [-1.4152e-01, -1.7837e-01, -2.8990e-01,  1.4254e-01, -7.1356e-01,\n",
       "          1.0124e+00, -5.5243e-01,  1.5524e+00,  9.4252e-01,  1.9139e+00,\n",
       "         -1.5214e+00,  1.6859e+00, -6.8280e-01, -1.1552e-02,  8.3980e-01,\n",
       "         -5.8490e-01,  1.0370e+00,  1.4204e-01,  7.1935e-01, -4.6968e-01,\n",
       "         -1.4158e+00, -1.2060e+00,  2.6791e+00,  2.5340e-01,  8.0587e-01,\n",
       "         -1.4756e+00,  2.6533e+00, -9.0172e-02,  1.6141e+00],\n",
       "        [ 7.7305e-01, -3.1655e-01, -9.3368e-01, -3.6105e-01,  6.8659e-01,\n",
       "          9.4813e-01, -4.5892e-02, -2.0445e+00, -3.5184e-01, -1.5516e+00,\n",
       "          2.0486e+00,  1.0452e-01,  1.0044e+00,  4.7194e-01,  3.6945e-01,\n",
       "          9.3024e-01, -1.4434e+00,  6.7900e-01,  5.3008e-01, -5.3179e-01,\n",
       "         -1.2609e+00, -4.8658e-01, -7.8852e-01, -1.8207e+00,  1.8043e+00,\n",
       "          2.6701e-02,  1.3249e-01,  1.0421e+00,  2.3761e+00]])"
      ]
     },
     "execution_count": 311,
     "metadata": {},
     "output_type": "execute_result"
    }
   ],
   "source": [
    "x[1]"
   ]
  },
  {
   "cell_type": "markdown",
   "id": "330938b1-6a56-4b0c-885e-d0c5f6e4d25a",
   "metadata": {},
   "source": [
    "### Weighted Average: Approach 1"
   ]
  },
  {
   "cell_type": "code",
   "execution_count": 312,
   "id": "26290da6-292a-47c5-8fed-6d8ff49117be",
   "metadata": {},
   "outputs": [],
   "source": [
    "x_mean = torch.zeros((batch_size, block_size, vocab_size))\n",
    "for b in range(batch_size):\n",
    "    for t in range(block_size):\n",
    "        x_mean[b, t] = torch.mean(x[b,:t+1], 0)"
   ]
  },
  {
   "cell_type": "code",
   "execution_count": 313,
   "id": "98e08e46-f960-427f-a6c8-53d12fe393dc",
   "metadata": {},
   "outputs": [
    {
     "data": {
      "text/plain": [
       "tensor([[-9.4132e-01, -1.1091e+00, -3.3398e-01, -1.0040e+00,  6.6294e-02,\n",
       "          4.0803e-01,  9.7160e-01,  3.4739e-01, -4.9187e-01, -5.1858e-01,\n",
       "         -8.4280e-01,  6.7168e-01, -1.2877e+00,  9.3693e-01, -2.1872e-01,\n",
       "         -2.3756e+00, -9.2784e-01, -6.8388e-01,  2.7231e-01,  6.9204e-01,\n",
       "          1.2918e+00, -1.0190e+00, -9.9727e-01, -5.1457e-01, -6.0122e-01,\n",
       "          1.4521e-01,  1.3804e+00,  2.8369e-01, -6.2297e-02],\n",
       "        [-3.9890e-01, -4.9361e-01, -6.5304e-01, -1.8409e+00,  3.4994e-01,\n",
       "          1.1646e+00,  3.7222e-01,  1.5721e-01, -1.1974e-01,  1.9240e-01,\n",
       "         -1.9415e-01, -6.6520e-01, -9.0832e-01,  2.7922e-01, -6.0988e-01,\n",
       "         -1.1078e+00, -7.8337e-01, -6.9634e-01,  8.8863e-02,  4.7959e-01,\n",
       "          1.4292e+00, -2.3608e-01, -6.4211e-01, -4.0819e-01, -7.6581e-02,\n",
       "          7.9989e-02,  1.2136e+00, -6.7002e-01,  4.2918e-01],\n",
       "        [-5.2758e-02, -1.0183e+00, -1.7154e-01, -6.7730e-01,  3.0393e-01,\n",
       "          4.7886e-01,  3.1937e-01,  5.4520e-01,  1.9639e-01,  3.1839e-01,\n",
       "         -3.3036e-01, -4.2131e-01, -6.6963e-01,  7.9830e-01, -1.0277e+00,\n",
       "         -1.0170e+00, -6.2505e-01, -1.0956e+00,  9.0725e-02,  7.3854e-01,\n",
       "          1.4403e+00, -2.5077e-01, -3.9350e-01, -6.1109e-01,  2.8408e-01,\n",
       "          3.0756e-01,  8.2382e-01,  2.8887e-01, -6.2798e-03],\n",
       "        [ 1.8567e-01, -7.8053e-01, -1.1562e-01, -3.3990e-01,  3.8008e-03,\n",
       "          9.4154e-02,  1.9284e-01,  5.8398e-01, -2.7053e-02,  2.8973e-01,\n",
       "         -1.0313e-01, -7.8657e-02, -3.4796e-01,  4.0949e-01, -5.5410e-01,\n",
       "         -7.1725e-01, -5.7227e-01, -6.6422e-01, -1.1674e-01,  5.2224e-01,\n",
       "          9.2836e-01, -2.5404e-01, -2.0967e-02, -7.0477e-01,  2.5637e-01,\n",
       "          3.7578e-01,  3.8022e-01,  7.0605e-01, -3.8610e-01],\n",
       "        [ 7.2584e-01, -6.0946e-01,  1.1726e-01, -6.7299e-01,  1.3735e-01,\n",
       "          1.9511e-02,  5.8415e-02,  3.1718e-01, -2.0929e-01,  2.7287e-01,\n",
       "         -1.7986e-01,  5.4716e-02, -5.1394e-01,  1.3570e-01, -4.1811e-01,\n",
       "         -4.3590e-01, -4.3065e-01, -6.9309e-01, -2.9638e-01,  2.7943e-01,\n",
       "          1.2753e+00,  6.0944e-02, -2.6440e-01, -7.8208e-01,  3.0317e-01,\n",
       "          3.1016e-01,  1.4346e-01,  5.5034e-01, -3.8710e-01],\n",
       "        [ 8.0193e-01, -5.2128e-01,  3.7447e-01, -7.0774e-01, -4.2917e-02,\n",
       "         -2.0716e-01,  3.9224e-01, -1.6880e-02,  2.7011e-02,  2.1340e-01,\n",
       "          1.1716e-01, -2.4194e-01, -6.3761e-01,  9.8010e-02, -2.1928e-01,\n",
       "         -3.0158e-01, -3.3406e-02, -6.2983e-01, -3.9937e-01,  1.9625e-01,\n",
       "          1.1464e+00, -8.6502e-02, -2.9823e-01, -6.2824e-01,  3.0019e-01,\n",
       "          4.8839e-02,  3.2749e-01,  1.7130e-01, -4.1544e-01],\n",
       "        [ 9.3576e-01, -3.4388e-01,  4.4050e-01, -6.8448e-01, -1.7270e-01,\n",
       "         -3.9652e-01,  4.7245e-01, -1.0918e-03,  3.7375e-01,  1.4614e-01,\n",
       "          2.1874e-01, -7.6386e-02, -6.5853e-01,  6.1590e-02, -1.2268e-01,\n",
       "         -1.0124e-01,  5.1307e-02, -3.1686e-01, -2.0958e-01,  1.5293e-01,\n",
       "          1.0301e+00, -1.5308e-01, -9.1059e-02, -5.5907e-01,  4.0599e-01,\n",
       "         -5.0003e-02,  8.3348e-02,  1.9327e-01, -1.0139e-01],\n",
       "        [ 7.0402e-01, -3.9391e-01,  1.5661e-01, -5.7855e-01, -1.4134e-01,\n",
       "         -2.4909e-01,  5.1086e-01, -1.8435e-01,  3.4817e-01,  1.9637e-01,\n",
       "          7.3013e-02, -1.2870e-01, -5.4489e-01,  2.7166e-01, -5.7898e-02,\n",
       "         -1.5383e-01, -1.0776e-02, -2.5827e-01, -2.0071e-01,  9.7132e-02,\n",
       "          8.4393e-01, -9.5156e-02, -3.3722e-02, -3.2378e-01,  2.6597e-01,\n",
       "          1.9252e-01,  2.4003e-01,  1.9107e-01,  1.6836e-01],\n",
       "        [ 5.3904e-01, -2.0602e-01,  1.8171e-01, -5.5503e-01, -2.2752e-01,\n",
       "         -3.6670e-01,  4.3608e-01, -5.4397e-02,  3.0491e-01,  1.4874e-01,\n",
       "          1.3198e-01, -6.1147e-02, -5.4139e-01,  3.3141e-01, -2.4854e-01,\n",
       "         -2.1480e-01, -5.3140e-02, -1.2690e-01,  7.0607e-02,  1.0282e-02,\n",
       "          5.8082e-01, -7.3521e-02, -4.4736e-02, -3.1008e-01,  2.9098e-01,\n",
       "          3.6481e-02,  3.0691e-01,  1.0354e-01,  1.1778e-01],\n",
       "        [ 4.2738e-01, -3.4988e-02,  2.9839e-02, -3.3519e-01, -1.9745e-01,\n",
       "         -3.3189e-01,  3.9107e-01,  5.0031e-02,  3.1884e-01,  1.4813e-01,\n",
       "          1.1907e-01,  9.4191e-03, -6.5381e-01,  2.1524e-01, -5.4258e-02,\n",
       "         -1.6545e-01, -6.2375e-02, -3.0692e-01,  1.1095e-01, -2.4326e-02,\n",
       "          5.3693e-01, -1.2361e-01,  1.6872e-01, -3.8098e-01,  2.6411e-01,\n",
       "         -6.7958e-02,  2.8500e-01,  2.0818e-02,  1.9288e-01],\n",
       "        [ 4.2495e-01, -9.6082e-02,  4.2136e-02, -3.1282e-01, -1.8779e-01,\n",
       "         -3.2619e-01,  3.9181e-01, -1.5983e-02,  2.6542e-01,  2.1836e-01,\n",
       "          2.9646e-02,  1.8065e-02, -7.4621e-01,  2.9806e-01, -6.9261e-02,\n",
       "         -4.6124e-02,  3.2123e-02, -1.2864e-01, -7.6374e-02, -9.9862e-02,\n",
       "          5.5733e-01, -1.7445e-01,  2.3737e-02, -4.5065e-01,  1.6583e-01,\n",
       "         -7.6990e-02,  2.1039e-01,  1.7957e-01,  1.0956e-01],\n",
       "        [ 3.4649e-01,  1.2799e-01,  1.6302e-01, -3.1387e-01, -1.3596e-01,\n",
       "         -1.2263e-01,  3.4429e-01, -6.4073e-03,  2.2228e-01,  2.2884e-01,\n",
       "          1.6117e-02, -1.2423e-02, -7.4739e-01,  1.9749e-01, -1.0342e-01,\n",
       "          3.8834e-02, -6.9689e-02,  1.7970e-02, -3.4227e-02, -5.9267e-02,\n",
       "          4.7791e-01, -5.3975e-02, -5.6902e-02, -3.4051e-01, -1.2032e-02,\n",
       "         -1.1076e-01,  1.8368e-02,  8.7141e-02,  1.5229e-01],\n",
       "        [ 3.4753e-01,  7.3839e-02,  1.3590e-01, -3.4554e-01, -6.9550e-02,\n",
       "         -1.2294e-01,  2.8365e-01,  1.3872e-02,  2.1017e-01,  9.7416e-02,\n",
       "          7.8742e-02, -1.8351e-01, -6.5224e-01,  6.5157e-02, -2.1941e-01,\n",
       "         -1.0531e-02, -2.0116e-01, -1.2746e-01, -1.0970e-01, -6.9725e-02,\n",
       "          5.0004e-01, -5.2509e-02, -1.1096e-01, -2.3208e-01, -1.1304e-01,\n",
       "         -2.7399e-02,  6.6212e-02,  4.0277e-03,  1.4893e-01],\n",
       "        [ 2.1901e-01, -3.4300e-03,  9.7522e-02, -2.4726e-01, -7.6712e-02,\n",
       "         -2.7495e-01,  2.7881e-01,  2.3379e-02,  2.1203e-01,  1.3713e-01,\n",
       "          1.5643e-01, -1.9773e-01, -6.2766e-01, -5.6834e-02, -1.2325e-01,\n",
       "         -8.9496e-02, -8.4395e-02, -1.3884e-01, -5.8305e-02, -1.1735e-01,\n",
       "          4.4824e-01, -1.4601e-01, -2.2085e-01, -3.6495e-01, -1.3390e-01,\n",
       "          2.4624e-02,  1.3107e-01, -1.0197e-01,  8.1031e-02],\n",
       "        [ 2.3240e-01, -5.1447e-02,  1.0073e-01, -1.9041e-01, -2.2719e-01,\n",
       "         -2.2501e-01,  3.3636e-01,  1.2634e-01,  2.5187e-01,  1.1653e-01,\n",
       "          1.3244e-01, -1.3886e-01, -6.3285e-01, -1.5045e-01, -7.0946e-02,\n",
       "         -2.3270e-01, -7.8126e-02, -8.5569e-02, -3.1345e-02, -6.4984e-02,\n",
       "          4.4821e-01, -6.1297e-02, -1.1878e-01, -3.0564e-01, -1.3084e-01,\n",
       "         -6.0374e-02,  1.0533e-01, -1.4601e-01, -3.2416e-02],\n",
       "        [ 2.4775e-01, -7.6682e-02,  1.7951e-01, -1.5285e-01, -1.1834e-01,\n",
       "         -2.0569e-01,  2.8591e-01,  1.6603e-01,  1.4257e-01, -1.4420e-02,\n",
       "          7.2598e-02, -5.4564e-02, -5.7506e-01, -1.3024e-01, -6.5248e-02,\n",
       "         -2.5920e-01, -4.9247e-02, -1.2208e-01,  2.0073e-02, -1.3702e-02,\n",
       "          4.4970e-01, -9.8184e-02, -1.2491e-01, -2.8901e-01, -2.0473e-01,\n",
       "         -5.7860e-02,  4.0622e-02, -1.3594e-01, -1.4096e-02]])"
      ]
     },
     "execution_count": 313,
     "metadata": {},
     "output_type": "execute_result"
    }
   ],
   "source": [
    "x_mean[0]"
   ]
  },
  {
   "cell_type": "markdown",
   "id": "fd8acee9-1d83-456c-a1b4-60b42b88bd43",
   "metadata": {},
   "source": [
    "Now we can see how to compute `x_mean` using more efficient means, namely using a lower triangular matrix which can be created using the `tril` method from PyTorch. The trick is to use matrix multiplication instead of `for` loops to replace `x[b,:t+1]` with a zero mask for the time steps in the future which we do not want to use in our `mean` calculation."
   ]
  },
  {
   "cell_type": "markdown",
   "id": "fe8f6554-08f9-4d25-bf3b-b144011a50ca",
   "metadata": {},
   "source": [
    "### Weighted Average: Approach 2"
   ]
  },
  {
   "cell_type": "code",
   "execution_count": 314,
   "id": "2701d901-0a44-4613-8a30-4544ca36f452",
   "metadata": {},
   "outputs": [
    {
     "name": "stdout",
     "output_type": "stream",
     "text": [
      "a=tensor([[1., 1., 1.],\n",
      "        [1., 1., 1.],\n",
      "        [1., 1., 1.]])\n",
      "b=tensor([[2., 1.],\n",
      "        [9., 1.],\n",
      "        [1., 8.]])\n",
      "c=tensor([[12., 10.],\n",
      "        [12., 10.],\n",
      "        [12., 10.]])\n"
     ]
    }
   ],
   "source": [
    "a = torch.ones(3,3)\n",
    "b = torch.randint(0,10,(3,2)).float()\n",
    "c = a @ b\n",
    "print(f'{a=}')\n",
    "print(f'{b=}')\n",
    "print(f'{c=}')"
   ]
  },
  {
   "cell_type": "markdown",
   "id": "6c9bab80-3f4b-4d27-ba7b-fc72c8d0cad7",
   "metadata": {},
   "source": [
    "To iterate through the time index `t` masking everything in the future from `t+1` onwards we can use a [lower triangular matrix](https://en.wikipedia.org/wiki/Triangular_matrix) using the `torch.tril` function. `tril` is short for lower triangular."
   ]
  },
  {
   "cell_type": "code",
   "execution_count": 315,
   "id": "a29c5b13-eb9b-4aa2-955c-67bd8b34b627",
   "metadata": {},
   "outputs": [
    {
     "data": {
      "text/plain": [
       "tensor([[1., 0., 0.],\n",
       "        [1., 1., 0.],\n",
       "        [1., 1., 1.]])"
      ]
     },
     "execution_count": 315,
     "metadata": {},
     "output_type": "execute_result"
    }
   ],
   "source": [
    "torch.tril(a)"
   ]
  },
  {
   "cell_type": "code",
   "execution_count": 316,
   "id": "89cd9e92-67b5-4a8e-91b6-dfb68fa43ddc",
   "metadata": {},
   "outputs": [
    {
     "name": "stdout",
     "output_type": "stream",
     "text": [
      "a=tensor([[1., 0., 0.],\n",
      "        [1., 1., 0.],\n",
      "        [1., 1., 1.]])\n",
      "b=tensor([[3., 1.],\n",
      "        [5., 2.],\n",
      "        [7., 9.]])\n",
      "c=tensor([[ 3.,  1.],\n",
      "        [ 8.,  3.],\n",
      "        [15., 12.]])\n"
     ]
    }
   ],
   "source": [
    "a = torch.tril(torch.ones(3,3))\n",
    "b = torch.randint(0,10,(3,2)).float()\n",
    "c = a @ b\n",
    "print(f'{a=}')\n",
    "print(f'{b=}')\n",
    "print(f'{c=}')"
   ]
  },
  {
   "cell_type": "markdown",
   "id": "8b56a02f-1553-47cc-894b-01f366360b4d",
   "metadata": {},
   "source": [
    "We can take the mean over each previous time step by taking an (equally) weighted average using the lower triangular matrix as the weights instead of using $1.0$."
   ]
  },
  {
   "cell_type": "code",
   "execution_count": 317,
   "id": "5b7a1808-dc6f-484f-8a59-de5d06528fcd",
   "metadata": {},
   "outputs": [
    {
     "name": "stdout",
     "output_type": "stream",
     "text": [
      "a=tensor([[1.0000, 0.0000, 0.0000],\n",
      "        [0.5000, 0.5000, 0.0000],\n",
      "        [0.3333, 0.3333, 0.3333]])\n",
      "b=tensor([[3., 0.],\n",
      "        [2., 0.],\n",
      "        [3., 4.]])\n",
      "c=tensor([[3.0000, 0.0000],\n",
      "        [2.5000, 0.0000],\n",
      "        [2.6667, 1.3333]])\n"
     ]
    }
   ],
   "source": [
    "a = torch.tril(torch.ones(3,3))\n",
    "a = a / torch.sum(a, 1, keepdim=True)\n",
    "b = torch.randint(0,10,(3,2)).float()\n",
    "c = a @ b\n",
    "print(f'{a=}')\n",
    "print(f'{b=}')\n",
    "print(f'{c=}')"
   ]
  },
  {
   "cell_type": "code",
   "execution_count": 318,
   "id": "0010bb19-8aef-4df2-9b83-5b90a6fc6296",
   "metadata": {},
   "outputs": [
    {
     "name": "stdout",
     "output_type": "stream",
     "text": [
      "tensor([[1.0000, 0.0000, 0.0000, 0.0000, 0.0000, 0.0000, 0.0000, 0.0000, 0.0000,\n",
      "         0.0000, 0.0000, 0.0000, 0.0000, 0.0000, 0.0000, 0.0000],\n",
      "        [0.5000, 0.5000, 0.0000, 0.0000, 0.0000, 0.0000, 0.0000, 0.0000, 0.0000,\n",
      "         0.0000, 0.0000, 0.0000, 0.0000, 0.0000, 0.0000, 0.0000],\n",
      "        [0.3333, 0.3333, 0.3333, 0.0000, 0.0000, 0.0000, 0.0000, 0.0000, 0.0000,\n",
      "         0.0000, 0.0000, 0.0000, 0.0000, 0.0000, 0.0000, 0.0000],\n",
      "        [0.2500, 0.2500, 0.2500, 0.2500, 0.0000, 0.0000, 0.0000, 0.0000, 0.0000,\n",
      "         0.0000, 0.0000, 0.0000, 0.0000, 0.0000, 0.0000, 0.0000],\n",
      "        [0.2000, 0.2000, 0.2000, 0.2000, 0.2000, 0.0000, 0.0000, 0.0000, 0.0000,\n",
      "         0.0000, 0.0000, 0.0000, 0.0000, 0.0000, 0.0000, 0.0000],\n",
      "        [0.1667, 0.1667, 0.1667, 0.1667, 0.1667, 0.1667, 0.0000, 0.0000, 0.0000,\n",
      "         0.0000, 0.0000, 0.0000, 0.0000, 0.0000, 0.0000, 0.0000],\n",
      "        [0.1429, 0.1429, 0.1429, 0.1429, 0.1429, 0.1429, 0.1429, 0.0000, 0.0000,\n",
      "         0.0000, 0.0000, 0.0000, 0.0000, 0.0000, 0.0000, 0.0000],\n",
      "        [0.1250, 0.1250, 0.1250, 0.1250, 0.1250, 0.1250, 0.1250, 0.1250, 0.0000,\n",
      "         0.0000, 0.0000, 0.0000, 0.0000, 0.0000, 0.0000, 0.0000],\n",
      "        [0.1111, 0.1111, 0.1111, 0.1111, 0.1111, 0.1111, 0.1111, 0.1111, 0.1111,\n",
      "         0.0000, 0.0000, 0.0000, 0.0000, 0.0000, 0.0000, 0.0000],\n",
      "        [0.1000, 0.1000, 0.1000, 0.1000, 0.1000, 0.1000, 0.1000, 0.1000, 0.1000,\n",
      "         0.1000, 0.0000, 0.0000, 0.0000, 0.0000, 0.0000, 0.0000],\n",
      "        [0.0909, 0.0909, 0.0909, 0.0909, 0.0909, 0.0909, 0.0909, 0.0909, 0.0909,\n",
      "         0.0909, 0.0909, 0.0000, 0.0000, 0.0000, 0.0000, 0.0000],\n",
      "        [0.0833, 0.0833, 0.0833, 0.0833, 0.0833, 0.0833, 0.0833, 0.0833, 0.0833,\n",
      "         0.0833, 0.0833, 0.0833, 0.0000, 0.0000, 0.0000, 0.0000],\n",
      "        [0.0769, 0.0769, 0.0769, 0.0769, 0.0769, 0.0769, 0.0769, 0.0769, 0.0769,\n",
      "         0.0769, 0.0769, 0.0769, 0.0769, 0.0000, 0.0000, 0.0000],\n",
      "        [0.0714, 0.0714, 0.0714, 0.0714, 0.0714, 0.0714, 0.0714, 0.0714, 0.0714,\n",
      "         0.0714, 0.0714, 0.0714, 0.0714, 0.0714, 0.0000, 0.0000],\n",
      "        [0.0667, 0.0667, 0.0667, 0.0667, 0.0667, 0.0667, 0.0667, 0.0667, 0.0667,\n",
      "         0.0667, 0.0667, 0.0667, 0.0667, 0.0667, 0.0667, 0.0000],\n",
      "        [0.0625, 0.0625, 0.0625, 0.0625, 0.0625, 0.0625, 0.0625, 0.0625, 0.0625,\n",
      "         0.0625, 0.0625, 0.0625, 0.0625, 0.0625, 0.0625, 0.0625]]) torch.Size([16, 16])\n"
     ]
    }
   ],
   "source": [
    "wavg = torch.tril(torch.ones(block_size, block_size))\n",
    "wavg = wavg / wavg.sum(1, keepdim=True)\n",
    "print(wavg, wavg.shape)"
   ]
  },
  {
   "cell_type": "code",
   "execution_count": 319,
   "id": "d72fe87f-6d8c-4f15-82cc-ca1968ea57d7",
   "metadata": {},
   "outputs": [
    {
     "name": "stdout",
     "output_type": "stream",
     "text": [
      "tensor([[[-0.9413, -1.1091, -0.3340,  ...,  1.3804,  0.2837, -0.0623],\n",
      "         [ 0.1435,  0.1219, -0.9721,  ...,  1.0467, -1.6237,  0.9207],\n",
      "         [ 0.6395, -2.0676,  0.7915,  ...,  0.0443,  2.2066, -0.8772],\n",
      "         ...,\n",
      "         [-1.4518, -1.0079, -0.4014,  ...,  0.9743, -1.4800, -0.8017],\n",
      "         [ 0.4199, -0.7237,  0.1456,  ..., -0.2550, -0.7625, -1.6207],\n",
      "         [ 0.4781, -0.4552,  1.3613,  ..., -0.9300,  0.0151,  0.2607]],\n",
      "\n",
      "        [[ 1.6834,  0.8507, -1.1918,  ..., -1.7680, -1.1756,  1.2117],\n",
      "         [ 0.3864, -0.1787,  2.1813,  ...,  0.5735,  0.9317,  0.3631],\n",
      "         [-0.1869, -0.4764,  0.3106,  ..., -0.4918, -0.6413, -0.8319],\n",
      "         ...,\n",
      "         [ 1.6178,  0.8509, -0.2857,  ..., -1.6211, -0.0807,  1.1747],\n",
      "         [-0.1415, -0.1784, -0.2899,  ...,  2.6533, -0.0902,  1.6141],\n",
      "         [ 0.7731, -0.3166, -0.9337,  ...,  0.1325,  1.0421,  2.3761]],\n",
      "\n",
      "        [[-1.2399,  0.3417,  0.8661,  ...,  0.2320,  0.2173, -0.6327],\n",
      "         [ 1.0235, -0.9156,  0.5308,  ..., -0.8500, -1.0483, -1.0171],\n",
      "         [ 0.1331, -1.6586, -0.6279,  ...,  0.3072,  1.3915, -0.2214],\n",
      "         ...,\n",
      "         [ 0.5627,  1.1340, -0.1361,  ...,  0.3115,  0.5833, -0.0643],\n",
      "         [-2.5959,  0.6869,  0.0068,  ...,  0.0037, -2.1150, -0.3239],\n",
      "         [-2.5219, -0.9214,  0.5920,  ...,  0.8020,  0.1472,  0.0111]],\n",
      "\n",
      "        [[-0.9933,  0.3314,  0.3263,  ..., -0.1463,  0.0416, -1.1871],\n",
      "         [-1.3007, -2.6981,  0.5737,  ...,  0.0260, -0.3725, -0.3631],\n",
      "         [ 0.2044, -0.7624, -0.9451,  ...,  0.3275, -0.2197, -0.2904],\n",
      "         ...,\n",
      "         [ 0.2272,  1.5619,  0.5768,  ..., -1.5589, -0.1744,  0.7006],\n",
      "         [-1.2140, -0.0344,  2.0468,  ...,  0.2599, -0.4063, -1.0121],\n",
      "         [ 1.7561, -0.1742,  0.5233,  ..., -0.0138,  1.3679,  0.6999]]]) torch.Size([4, 16, 29])\n"
     ]
    }
   ],
   "source": [
    "print(x, x.shape)"
   ]
  },
  {
   "cell_type": "markdown",
   "id": "ce6875ff-e0fc-4169-adec-bc0e57e558fd",
   "metadata": {},
   "source": [
    "Take advantage of Pytorch broadcasting to create a batch dimension implicitly for `wavg` so that it can be multiplied with `x`.\n",
    "\n",
    "`wavg` of shape (T, T) becomes (B, T, T) which is multiplied by `x` of shape (B, T, C) to produce a (B, T, C) tensor."
   ]
  },
  {
   "cell_type": "code",
   "execution_count": 320,
   "id": "2cad18ff-1064-4f11-9641-e0907a421fb0",
   "metadata": {},
   "outputs": [
    {
     "data": {
      "text/plain": [
       "torch.Size([4, 16, 29])"
      ]
     },
     "execution_count": 320,
     "metadata": {},
     "output_type": "execute_result"
    }
   ],
   "source": [
    "x_mean2 = wavg @ x\n",
    "x_mean2.shape"
   ]
  },
  {
   "cell_type": "code",
   "execution_count": 321,
   "id": "50a6568d-ad5a-411c-b24d-355317ab9a3a",
   "metadata": {},
   "outputs": [
    {
     "data": {
      "text/plain": [
       "(tensor([[-9.4132e-01, -1.1091e+00, -3.3398e-01, -1.0040e+00,  6.6294e-02,\n",
       "           4.0803e-01,  9.7160e-01,  3.4739e-01, -4.9187e-01, -5.1858e-01,\n",
       "          -8.4280e-01,  6.7168e-01, -1.2877e+00,  9.3693e-01, -2.1872e-01,\n",
       "          -2.3756e+00, -9.2784e-01, -6.8388e-01,  2.7231e-01,  6.9204e-01,\n",
       "           1.2918e+00, -1.0190e+00, -9.9727e-01, -5.1457e-01, -6.0122e-01,\n",
       "           1.4521e-01,  1.3804e+00,  2.8369e-01, -6.2297e-02],\n",
       "         [-3.9890e-01, -4.9361e-01, -6.5304e-01, -1.8409e+00,  3.4994e-01,\n",
       "           1.1646e+00,  3.7222e-01,  1.5721e-01, -1.1974e-01,  1.9240e-01,\n",
       "          -1.9415e-01, -6.6520e-01, -9.0832e-01,  2.7922e-01, -6.0988e-01,\n",
       "          -1.1078e+00, -7.8337e-01, -6.9634e-01,  8.8863e-02,  4.7959e-01,\n",
       "           1.4292e+00, -2.3608e-01, -6.4211e-01, -4.0819e-01, -7.6581e-02,\n",
       "           7.9989e-02,  1.2136e+00, -6.7002e-01,  4.2918e-01],\n",
       "         [-5.2758e-02, -1.0183e+00, -1.7154e-01, -6.7730e-01,  3.0393e-01,\n",
       "           4.7886e-01,  3.1937e-01,  5.4520e-01,  1.9639e-01,  3.1839e-01,\n",
       "          -3.3036e-01, -4.2131e-01, -6.6963e-01,  7.9830e-01, -1.0277e+00,\n",
       "          -1.0170e+00, -6.2505e-01, -1.0956e+00,  9.0725e-02,  7.3854e-01,\n",
       "           1.4403e+00, -2.5077e-01, -3.9350e-01, -6.1109e-01,  2.8408e-01,\n",
       "           3.0756e-01,  8.2382e-01,  2.8887e-01, -6.2798e-03],\n",
       "         [ 1.8567e-01, -7.8053e-01, -1.1562e-01, -3.3990e-01,  3.8008e-03,\n",
       "           9.4154e-02,  1.9284e-01,  5.8398e-01, -2.7053e-02,  2.8973e-01,\n",
       "          -1.0313e-01, -7.8657e-02, -3.4796e-01,  4.0949e-01, -5.5410e-01,\n",
       "          -7.1725e-01, -5.7227e-01, -6.6422e-01, -1.1674e-01,  5.2224e-01,\n",
       "           9.2836e-01, -2.5404e-01, -2.0967e-02, -7.0477e-01,  2.5637e-01,\n",
       "           3.7578e-01,  3.8022e-01,  7.0605e-01, -3.8610e-01],\n",
       "         [ 7.2584e-01, -6.0946e-01,  1.1726e-01, -6.7299e-01,  1.3735e-01,\n",
       "           1.9511e-02,  5.8415e-02,  3.1718e-01, -2.0929e-01,  2.7287e-01,\n",
       "          -1.7986e-01,  5.4716e-02, -5.1394e-01,  1.3570e-01, -4.1811e-01,\n",
       "          -4.3590e-01, -4.3065e-01, -6.9309e-01, -2.9638e-01,  2.7943e-01,\n",
       "           1.2753e+00,  6.0944e-02, -2.6440e-01, -7.8208e-01,  3.0317e-01,\n",
       "           3.1016e-01,  1.4346e-01,  5.5034e-01, -3.8710e-01],\n",
       "         [ 8.0193e-01, -5.2128e-01,  3.7447e-01, -7.0774e-01, -4.2917e-02,\n",
       "          -2.0716e-01,  3.9224e-01, -1.6880e-02,  2.7011e-02,  2.1340e-01,\n",
       "           1.1716e-01, -2.4194e-01, -6.3761e-01,  9.8010e-02, -2.1928e-01,\n",
       "          -3.0158e-01, -3.3406e-02, -6.2983e-01, -3.9937e-01,  1.9625e-01,\n",
       "           1.1464e+00, -8.6502e-02, -2.9823e-01, -6.2824e-01,  3.0019e-01,\n",
       "           4.8839e-02,  3.2749e-01,  1.7130e-01, -4.1544e-01],\n",
       "         [ 9.3576e-01, -3.4388e-01,  4.4050e-01, -6.8448e-01, -1.7270e-01,\n",
       "          -3.9652e-01,  4.7245e-01, -1.0918e-03,  3.7375e-01,  1.4614e-01,\n",
       "           2.1874e-01, -7.6386e-02, -6.5853e-01,  6.1590e-02, -1.2268e-01,\n",
       "          -1.0124e-01,  5.1307e-02, -3.1686e-01, -2.0958e-01,  1.5293e-01,\n",
       "           1.0301e+00, -1.5308e-01, -9.1059e-02, -5.5907e-01,  4.0599e-01,\n",
       "          -5.0003e-02,  8.3348e-02,  1.9327e-01, -1.0139e-01],\n",
       "         [ 7.0402e-01, -3.9391e-01,  1.5661e-01, -5.7855e-01, -1.4134e-01,\n",
       "          -2.4909e-01,  5.1086e-01, -1.8435e-01,  3.4817e-01,  1.9637e-01,\n",
       "           7.3013e-02, -1.2870e-01, -5.4489e-01,  2.7166e-01, -5.7898e-02,\n",
       "          -1.5383e-01, -1.0776e-02, -2.5827e-01, -2.0071e-01,  9.7132e-02,\n",
       "           8.4393e-01, -9.5156e-02, -3.3722e-02, -3.2378e-01,  2.6597e-01,\n",
       "           1.9252e-01,  2.4003e-01,  1.9107e-01,  1.6836e-01],\n",
       "         [ 5.3904e-01, -2.0602e-01,  1.8171e-01, -5.5503e-01, -2.2752e-01,\n",
       "          -3.6670e-01,  4.3608e-01, -5.4397e-02,  3.0491e-01,  1.4874e-01,\n",
       "           1.3198e-01, -6.1147e-02, -5.4139e-01,  3.3141e-01, -2.4854e-01,\n",
       "          -2.1480e-01, -5.3140e-02, -1.2690e-01,  7.0607e-02,  1.0282e-02,\n",
       "           5.8082e-01, -7.3521e-02, -4.4736e-02, -3.1008e-01,  2.9098e-01,\n",
       "           3.6481e-02,  3.0691e-01,  1.0354e-01,  1.1778e-01],\n",
       "         [ 4.2738e-01, -3.4988e-02,  2.9839e-02, -3.3519e-01, -1.9745e-01,\n",
       "          -3.3189e-01,  3.9107e-01,  5.0031e-02,  3.1884e-01,  1.4813e-01,\n",
       "           1.1907e-01,  9.4191e-03, -6.5381e-01,  2.1524e-01, -5.4258e-02,\n",
       "          -1.6545e-01, -6.2375e-02, -3.0692e-01,  1.1095e-01, -2.4326e-02,\n",
       "           5.3693e-01, -1.2361e-01,  1.6872e-01, -3.8098e-01,  2.6411e-01,\n",
       "          -6.7958e-02,  2.8500e-01,  2.0818e-02,  1.9288e-01],\n",
       "         [ 4.2495e-01, -9.6082e-02,  4.2136e-02, -3.1282e-01, -1.8779e-01,\n",
       "          -3.2619e-01,  3.9181e-01, -1.5983e-02,  2.6542e-01,  2.1836e-01,\n",
       "           2.9646e-02,  1.8065e-02, -7.4621e-01,  2.9806e-01, -6.9261e-02,\n",
       "          -4.6124e-02,  3.2123e-02, -1.2864e-01, -7.6374e-02, -9.9862e-02,\n",
       "           5.5733e-01, -1.7445e-01,  2.3737e-02, -4.5065e-01,  1.6583e-01,\n",
       "          -7.6990e-02,  2.1039e-01,  1.7957e-01,  1.0956e-01],\n",
       "         [ 3.4649e-01,  1.2799e-01,  1.6302e-01, -3.1387e-01, -1.3596e-01,\n",
       "          -1.2263e-01,  3.4429e-01, -6.4073e-03,  2.2228e-01,  2.2884e-01,\n",
       "           1.6117e-02, -1.2423e-02, -7.4739e-01,  1.9749e-01, -1.0342e-01,\n",
       "           3.8834e-02, -6.9689e-02,  1.7970e-02, -3.4227e-02, -5.9267e-02,\n",
       "           4.7791e-01, -5.3975e-02, -5.6902e-02, -3.4051e-01, -1.2032e-02,\n",
       "          -1.1076e-01,  1.8368e-02,  8.7141e-02,  1.5229e-01],\n",
       "         [ 3.4753e-01,  7.3839e-02,  1.3590e-01, -3.4554e-01, -6.9550e-02,\n",
       "          -1.2294e-01,  2.8365e-01,  1.3872e-02,  2.1017e-01,  9.7416e-02,\n",
       "           7.8742e-02, -1.8351e-01, -6.5224e-01,  6.5157e-02, -2.1941e-01,\n",
       "          -1.0531e-02, -2.0116e-01, -1.2746e-01, -1.0970e-01, -6.9725e-02,\n",
       "           5.0004e-01, -5.2509e-02, -1.1096e-01, -2.3208e-01, -1.1304e-01,\n",
       "          -2.7399e-02,  6.6212e-02,  4.0277e-03,  1.4893e-01],\n",
       "         [ 2.1901e-01, -3.4300e-03,  9.7522e-02, -2.4726e-01, -7.6712e-02,\n",
       "          -2.7495e-01,  2.7881e-01,  2.3379e-02,  2.1203e-01,  1.3713e-01,\n",
       "           1.5643e-01, -1.9773e-01, -6.2766e-01, -5.6834e-02, -1.2325e-01,\n",
       "          -8.9496e-02, -8.4395e-02, -1.3884e-01, -5.8305e-02, -1.1735e-01,\n",
       "           4.4824e-01, -1.4601e-01, -2.2085e-01, -3.6495e-01, -1.3390e-01,\n",
       "           2.4624e-02,  1.3107e-01, -1.0197e-01,  8.1031e-02],\n",
       "         [ 2.3240e-01, -5.1447e-02,  1.0073e-01, -1.9041e-01, -2.2719e-01,\n",
       "          -2.2501e-01,  3.3636e-01,  1.2634e-01,  2.5187e-01,  1.1653e-01,\n",
       "           1.3244e-01, -1.3886e-01, -6.3285e-01, -1.5045e-01, -7.0946e-02,\n",
       "          -2.3270e-01, -7.8126e-02, -8.5569e-02, -3.1345e-02, -6.4984e-02,\n",
       "           4.4821e-01, -6.1297e-02, -1.1878e-01, -3.0564e-01, -1.3084e-01,\n",
       "          -6.0374e-02,  1.0533e-01, -1.4601e-01, -3.2416e-02],\n",
       "         [ 2.4775e-01, -7.6682e-02,  1.7951e-01, -1.5285e-01, -1.1834e-01,\n",
       "          -2.0569e-01,  2.8591e-01,  1.6603e-01,  1.4257e-01, -1.4420e-02,\n",
       "           7.2598e-02, -5.4564e-02, -5.7506e-01, -1.3024e-01, -6.5248e-02,\n",
       "          -2.5920e-01, -4.9247e-02, -1.2208e-01,  2.0073e-02, -1.3702e-02,\n",
       "           4.4970e-01, -9.8184e-02, -1.2491e-01, -2.8901e-01, -2.0473e-01,\n",
       "          -5.7860e-02,  4.0622e-02, -1.3594e-01, -1.4096e-02]]),\n",
       " tensor([[-9.4132e-01, -1.1091e+00, -3.3398e-01, -1.0040e+00,  6.6294e-02,\n",
       "           4.0803e-01,  9.7160e-01,  3.4739e-01, -4.9187e-01, -5.1858e-01,\n",
       "          -8.4280e-01,  6.7168e-01, -1.2877e+00,  9.3693e-01, -2.1872e-01,\n",
       "          -2.3756e+00, -9.2784e-01, -6.8388e-01,  2.7231e-01,  6.9204e-01,\n",
       "           1.2918e+00, -1.0190e+00, -9.9727e-01, -5.1457e-01, -6.0122e-01,\n",
       "           1.4521e-01,  1.3804e+00,  2.8369e-01, -6.2297e-02],\n",
       "         [-3.9890e-01, -4.9361e-01, -6.5304e-01, -1.8409e+00,  3.4994e-01,\n",
       "           1.1646e+00,  3.7222e-01,  1.5721e-01, -1.1974e-01,  1.9240e-01,\n",
       "          -1.9415e-01, -6.6520e-01, -9.0832e-01,  2.7922e-01, -6.0988e-01,\n",
       "          -1.1078e+00, -7.8337e-01, -6.9634e-01,  8.8863e-02,  4.7959e-01,\n",
       "           1.4292e+00, -2.3608e-01, -6.4211e-01, -4.0819e-01, -7.6581e-02,\n",
       "           7.9989e-02,  1.2136e+00, -6.7002e-01,  4.2918e-01],\n",
       "         [-5.2758e-02, -1.0183e+00, -1.7154e-01, -6.7730e-01,  3.0393e-01,\n",
       "           4.7886e-01,  3.1937e-01,  5.4520e-01,  1.9639e-01,  3.1839e-01,\n",
       "          -3.3036e-01, -4.2131e-01, -6.6963e-01,  7.9830e-01, -1.0277e+00,\n",
       "          -1.0170e+00, -6.2505e-01, -1.0956e+00,  9.0725e-02,  7.3854e-01,\n",
       "           1.4403e+00, -2.5077e-01, -3.9350e-01, -6.1109e-01,  2.8408e-01,\n",
       "           3.0756e-01,  8.2382e-01,  2.8887e-01, -6.2798e-03],\n",
       "         [ 1.8567e-01, -7.8053e-01, -1.1562e-01, -3.3990e-01,  3.8008e-03,\n",
       "           9.4154e-02,  1.9284e-01,  5.8398e-01, -2.7053e-02,  2.8973e-01,\n",
       "          -1.0313e-01, -7.8657e-02, -3.4796e-01,  4.0949e-01, -5.5410e-01,\n",
       "          -7.1725e-01, -5.7227e-01, -6.6422e-01, -1.1674e-01,  5.2224e-01,\n",
       "           9.2836e-01, -2.5404e-01, -2.0967e-02, -7.0477e-01,  2.5637e-01,\n",
       "           3.7578e-01,  3.8022e-01,  7.0605e-01, -3.8610e-01],\n",
       "         [ 7.2584e-01, -6.0946e-01,  1.1726e-01, -6.7299e-01,  1.3735e-01,\n",
       "           1.9511e-02,  5.8415e-02,  3.1718e-01, -2.0929e-01,  2.7287e-01,\n",
       "          -1.7986e-01,  5.4716e-02, -5.1394e-01,  1.3570e-01, -4.1811e-01,\n",
       "          -4.3590e-01, -4.3065e-01, -6.9309e-01, -2.9638e-01,  2.7943e-01,\n",
       "           1.2753e+00,  6.0944e-02, -2.6440e-01, -7.8208e-01,  3.0317e-01,\n",
       "           3.1016e-01,  1.4346e-01,  5.5034e-01, -3.8710e-01],\n",
       "         [ 8.0193e-01, -5.2128e-01,  3.7447e-01, -7.0774e-01, -4.2917e-02,\n",
       "          -2.0716e-01,  3.9224e-01, -1.6880e-02,  2.7011e-02,  2.1340e-01,\n",
       "           1.1716e-01, -2.4194e-01, -6.3761e-01,  9.8010e-02, -2.1928e-01,\n",
       "          -3.0159e-01, -3.3406e-02, -6.2983e-01, -3.9937e-01,  1.9625e-01,\n",
       "           1.1464e+00, -8.6502e-02, -2.9823e-01, -6.2824e-01,  3.0019e-01,\n",
       "           4.8839e-02,  3.2749e-01,  1.7130e-01, -4.1544e-01],\n",
       "         [ 9.3576e-01, -3.4388e-01,  4.4050e-01, -6.8448e-01, -1.7270e-01,\n",
       "          -3.9652e-01,  4.7245e-01, -1.0918e-03,  3.7375e-01,  1.4614e-01,\n",
       "           2.1874e-01, -7.6386e-02, -6.5853e-01,  6.1590e-02, -1.2268e-01,\n",
       "          -1.0124e-01,  5.1308e-02, -3.1686e-01, -2.0958e-01,  1.5293e-01,\n",
       "           1.0301e+00, -1.5308e-01, -9.1059e-02, -5.5907e-01,  4.0599e-01,\n",
       "          -5.0003e-02,  8.3348e-02,  1.9327e-01, -1.0139e-01],\n",
       "         [ 7.0402e-01, -3.9391e-01,  1.5661e-01, -5.7855e-01, -1.4134e-01,\n",
       "          -2.4909e-01,  5.1086e-01, -1.8435e-01,  3.4817e-01,  1.9637e-01,\n",
       "           7.3013e-02, -1.2870e-01, -5.4489e-01,  2.7166e-01, -5.7898e-02,\n",
       "          -1.5383e-01, -1.0776e-02, -2.5827e-01, -2.0071e-01,  9.7132e-02,\n",
       "           8.4393e-01, -9.5156e-02, -3.3722e-02, -3.2378e-01,  2.6597e-01,\n",
       "           1.9252e-01,  2.4003e-01,  1.9107e-01,  1.6836e-01],\n",
       "         [ 5.3904e-01, -2.0602e-01,  1.8171e-01, -5.5503e-01, -2.2752e-01,\n",
       "          -3.6670e-01,  4.3608e-01, -5.4397e-02,  3.0491e-01,  1.4874e-01,\n",
       "           1.3198e-01, -6.1147e-02, -5.4139e-01,  3.3141e-01, -2.4854e-01,\n",
       "          -2.1480e-01, -5.3140e-02, -1.2690e-01,  7.0607e-02,  1.0282e-02,\n",
       "           5.8082e-01, -7.3521e-02, -4.4736e-02, -3.1008e-01,  2.9098e-01,\n",
       "           3.6481e-02,  3.0691e-01,  1.0354e-01,  1.1778e-01],\n",
       "         [ 4.2738e-01, -3.4988e-02,  2.9839e-02, -3.3519e-01, -1.9745e-01,\n",
       "          -3.3189e-01,  3.9107e-01,  5.0031e-02,  3.1884e-01,  1.4813e-01,\n",
       "           1.1907e-01,  9.4191e-03, -6.5381e-01,  2.1524e-01, -5.4258e-02,\n",
       "          -1.6545e-01, -6.2375e-02, -3.0692e-01,  1.1095e-01, -2.4326e-02,\n",
       "           5.3693e-01, -1.2361e-01,  1.6872e-01, -3.8098e-01,  2.6411e-01,\n",
       "          -6.7958e-02,  2.8500e-01,  2.0818e-02,  1.9288e-01],\n",
       "         [ 4.2495e-01, -9.6082e-02,  4.2136e-02, -3.1282e-01, -1.8779e-01,\n",
       "          -3.2619e-01,  3.9181e-01, -1.5983e-02,  2.6542e-01,  2.1836e-01,\n",
       "           2.9646e-02,  1.8065e-02, -7.4621e-01,  2.9806e-01, -6.9261e-02,\n",
       "          -4.6124e-02,  3.2123e-02, -1.2864e-01, -7.6374e-02, -9.9862e-02,\n",
       "           5.5733e-01, -1.7445e-01,  2.3737e-02, -4.5065e-01,  1.6583e-01,\n",
       "          -7.6990e-02,  2.1039e-01,  1.7957e-01,  1.0956e-01],\n",
       "         [ 3.4649e-01,  1.2799e-01,  1.6302e-01, -3.1387e-01, -1.3596e-01,\n",
       "          -1.2263e-01,  3.4429e-01, -6.4073e-03,  2.2228e-01,  2.2884e-01,\n",
       "           1.6117e-02, -1.2423e-02, -7.4739e-01,  1.9749e-01, -1.0342e-01,\n",
       "           3.8834e-02, -6.9689e-02,  1.7970e-02, -3.4227e-02, -5.9267e-02,\n",
       "           4.7791e-01, -5.3975e-02, -5.6902e-02, -3.4051e-01, -1.2032e-02,\n",
       "          -1.1076e-01,  1.8368e-02,  8.7141e-02,  1.5229e-01],\n",
       "         [ 3.4753e-01,  7.3839e-02,  1.3590e-01, -3.4554e-01, -6.9550e-02,\n",
       "          -1.2294e-01,  2.8365e-01,  1.3872e-02,  2.1017e-01,  9.7416e-02,\n",
       "           7.8742e-02, -1.8351e-01, -6.5224e-01,  6.5157e-02, -2.1941e-01,\n",
       "          -1.0531e-02, -2.0116e-01, -1.2746e-01, -1.0970e-01, -6.9725e-02,\n",
       "           5.0004e-01, -5.2509e-02, -1.1096e-01, -2.3208e-01, -1.1304e-01,\n",
       "          -2.7399e-02,  6.6212e-02,  4.0277e-03,  1.4893e-01],\n",
       "         [ 2.1901e-01, -3.4301e-03,  9.7522e-02, -2.4726e-01, -7.6712e-02,\n",
       "          -2.7495e-01,  2.7881e-01,  2.3379e-02,  2.1203e-01,  1.3713e-01,\n",
       "           1.5643e-01, -1.9773e-01, -6.2766e-01, -5.6834e-02, -1.2325e-01,\n",
       "          -8.9496e-02, -8.4395e-02, -1.3884e-01, -5.8305e-02, -1.1735e-01,\n",
       "           4.4824e-01, -1.4601e-01, -2.2085e-01, -3.6495e-01, -1.3390e-01,\n",
       "           2.4624e-02,  1.3107e-01, -1.0197e-01,  8.1031e-02],\n",
       "         [ 2.3240e-01, -5.1447e-02,  1.0073e-01, -1.9041e-01, -2.2719e-01,\n",
       "          -2.2502e-01,  3.3636e-01,  1.2634e-01,  2.5187e-01,  1.1653e-01,\n",
       "           1.3244e-01, -1.3886e-01, -6.3285e-01, -1.5045e-01, -7.0946e-02,\n",
       "          -2.3270e-01, -7.8126e-02, -8.5569e-02, -3.1345e-02, -6.4984e-02,\n",
       "           4.4821e-01, -6.1297e-02, -1.1878e-01, -3.0564e-01, -1.3084e-01,\n",
       "          -6.0374e-02,  1.0533e-01, -1.4601e-01, -3.2416e-02],\n",
       "         [ 2.4775e-01, -7.6682e-02,  1.7951e-01, -1.5285e-01, -1.1834e-01,\n",
       "          -2.0569e-01,  2.8591e-01,  1.6603e-01,  1.4257e-01, -1.4420e-02,\n",
       "           7.2598e-02, -5.4564e-02, -5.7506e-01, -1.3024e-01, -6.5248e-02,\n",
       "          -2.5920e-01, -4.9247e-02, -1.2208e-01,  2.0073e-02, -1.3702e-02,\n",
       "           4.4970e-01, -9.8184e-02, -1.2491e-01, -2.8901e-01, -2.0473e-01,\n",
       "          -5.7861e-02,  4.0622e-02, -1.3594e-01, -1.4096e-02]]))"
      ]
     },
     "execution_count": 321,
     "metadata": {},
     "output_type": "execute_result"
    }
   ],
   "source": [
    "x_mean[0], x_mean2[0]"
   ]
  },
  {
   "cell_type": "code",
   "execution_count": 322,
   "id": "728e187a-4a98-4f9f-9ae1-db0eac327246",
   "metadata": {},
   "outputs": [
    {
     "name": "stdout",
     "output_type": "stream",
     "text": [
      "torch.Size([4, 16, 29]) torch.Size([4, 16, 29])\n"
     ]
    }
   ],
   "source": [
    "print(x_mean.shape, x_mean2.shape)"
   ]
  },
  {
   "cell_type": "markdown",
   "id": "855fde6c-2202-4ae3-b33b-d49672bbd193",
   "metadata": {},
   "source": [
    "Check if the compute efficient `x_mean2` is the same as the `for` loop based `x_mean` (from above)"
   ]
  },
  {
   "cell_type": "code",
   "execution_count": 323,
   "id": "a5fbdf52-d00a-466d-9551-ee9a49cfb0aa",
   "metadata": {},
   "outputs": [
    {
     "data": {
      "text/plain": [
       "True"
      ]
     },
     "execution_count": 323,
     "metadata": {},
     "output_type": "execute_result"
    }
   ],
   "source": [
    "torch.allclose(x_mean, x_mean2, rtol=1e-02)"
   ]
  },
  {
   "cell_type": "markdown",
   "id": "5fe805a9-582b-4a21-b542-0981bd984529",
   "metadata": {},
   "source": [
    "### Weighted Average: Approach 3"
   ]
  },
  {
   "cell_type": "code",
   "execution_count": 324,
   "id": "5ea05873-5e7d-4c22-bd9b-612c0e65af16",
   "metadata": {},
   "outputs": [
    {
     "data": {
      "text/plain": [
       "tensor([[0., -inf, -inf, -inf, -inf, -inf, -inf, -inf, -inf, -inf, -inf, -inf, -inf, -inf, -inf, -inf],\n",
       "        [0., 0., -inf, -inf, -inf, -inf, -inf, -inf, -inf, -inf, -inf, -inf, -inf, -inf, -inf, -inf],\n",
       "        [0., 0., 0., -inf, -inf, -inf, -inf, -inf, -inf, -inf, -inf, -inf, -inf, -inf, -inf, -inf],\n",
       "        [0., 0., 0., 0., -inf, -inf, -inf, -inf, -inf, -inf, -inf, -inf, -inf, -inf, -inf, -inf],\n",
       "        [0., 0., 0., 0., 0., -inf, -inf, -inf, -inf, -inf, -inf, -inf, -inf, -inf, -inf, -inf],\n",
       "        [0., 0., 0., 0., 0., 0., -inf, -inf, -inf, -inf, -inf, -inf, -inf, -inf, -inf, -inf],\n",
       "        [0., 0., 0., 0., 0., 0., 0., -inf, -inf, -inf, -inf, -inf, -inf, -inf, -inf, -inf],\n",
       "        [0., 0., 0., 0., 0., 0., 0., 0., -inf, -inf, -inf, -inf, -inf, -inf, -inf, -inf],\n",
       "        [0., 0., 0., 0., 0., 0., 0., 0., 0., -inf, -inf, -inf, -inf, -inf, -inf, -inf],\n",
       "        [0., 0., 0., 0., 0., 0., 0., 0., 0., 0., -inf, -inf, -inf, -inf, -inf, -inf],\n",
       "        [0., 0., 0., 0., 0., 0., 0., 0., 0., 0., 0., -inf, -inf, -inf, -inf, -inf],\n",
       "        [0., 0., 0., 0., 0., 0., 0., 0., 0., 0., 0., 0., -inf, -inf, -inf, -inf],\n",
       "        [0., 0., 0., 0., 0., 0., 0., 0., 0., 0., 0., 0., 0., -inf, -inf, -inf],\n",
       "        [0., 0., 0., 0., 0., 0., 0., 0., 0., 0., 0., 0., 0., 0., -inf, -inf],\n",
       "        [0., 0., 0., 0., 0., 0., 0., 0., 0., 0., 0., 0., 0., 0., 0., -inf],\n",
       "        [0., 0., 0., 0., 0., 0., 0., 0., 0., 0., 0., 0., 0., 0., 0., 0.]])"
      ]
     },
     "execution_count": 324,
     "metadata": {},
     "output_type": "execute_result"
    }
   ],
   "source": [
    "tril = torch.tril(torch.ones(block_size, block_size))\n",
    "wavg = torch.zeros((block_size, block_size))\n",
    "wavg = wavg.masked_fill(tril == 0, float('-inf'))\n",
    "wavg"
   ]
  },
  {
   "cell_type": "code",
   "execution_count": 325,
   "id": "f87911a2-6b09-48bb-9386-9bf94258f7f3",
   "metadata": {},
   "outputs": [
    {
     "data": {
      "text/plain": [
       "tensor([[1.0000, 0.0000, 0.0000, 0.0000, 0.0000, 0.0000, 0.0000, 0.0000, 0.0000,\n",
       "         0.0000, 0.0000, 0.0000, 0.0000, 0.0000, 0.0000, 0.0000],\n",
       "        [0.5000, 0.5000, 0.0000, 0.0000, 0.0000, 0.0000, 0.0000, 0.0000, 0.0000,\n",
       "         0.0000, 0.0000, 0.0000, 0.0000, 0.0000, 0.0000, 0.0000],\n",
       "        [0.3333, 0.3333, 0.3333, 0.0000, 0.0000, 0.0000, 0.0000, 0.0000, 0.0000,\n",
       "         0.0000, 0.0000, 0.0000, 0.0000, 0.0000, 0.0000, 0.0000],\n",
       "        [0.2500, 0.2500, 0.2500, 0.2500, 0.0000, 0.0000, 0.0000, 0.0000, 0.0000,\n",
       "         0.0000, 0.0000, 0.0000, 0.0000, 0.0000, 0.0000, 0.0000],\n",
       "        [0.2000, 0.2000, 0.2000, 0.2000, 0.2000, 0.0000, 0.0000, 0.0000, 0.0000,\n",
       "         0.0000, 0.0000, 0.0000, 0.0000, 0.0000, 0.0000, 0.0000],\n",
       "        [0.1667, 0.1667, 0.1667, 0.1667, 0.1667, 0.1667, 0.0000, 0.0000, 0.0000,\n",
       "         0.0000, 0.0000, 0.0000, 0.0000, 0.0000, 0.0000, 0.0000],\n",
       "        [0.1429, 0.1429, 0.1429, 0.1429, 0.1429, 0.1429, 0.1429, 0.0000, 0.0000,\n",
       "         0.0000, 0.0000, 0.0000, 0.0000, 0.0000, 0.0000, 0.0000],\n",
       "        [0.1250, 0.1250, 0.1250, 0.1250, 0.1250, 0.1250, 0.1250, 0.1250, 0.0000,\n",
       "         0.0000, 0.0000, 0.0000, 0.0000, 0.0000, 0.0000, 0.0000],\n",
       "        [0.1111, 0.1111, 0.1111, 0.1111, 0.1111, 0.1111, 0.1111, 0.1111, 0.1111,\n",
       "         0.0000, 0.0000, 0.0000, 0.0000, 0.0000, 0.0000, 0.0000],\n",
       "        [0.1000, 0.1000, 0.1000, 0.1000, 0.1000, 0.1000, 0.1000, 0.1000, 0.1000,\n",
       "         0.1000, 0.0000, 0.0000, 0.0000, 0.0000, 0.0000, 0.0000],\n",
       "        [0.0909, 0.0909, 0.0909, 0.0909, 0.0909, 0.0909, 0.0909, 0.0909, 0.0909,\n",
       "         0.0909, 0.0909, 0.0000, 0.0000, 0.0000, 0.0000, 0.0000],\n",
       "        [0.0833, 0.0833, 0.0833, 0.0833, 0.0833, 0.0833, 0.0833, 0.0833, 0.0833,\n",
       "         0.0833, 0.0833, 0.0833, 0.0000, 0.0000, 0.0000, 0.0000],\n",
       "        [0.0769, 0.0769, 0.0769, 0.0769, 0.0769, 0.0769, 0.0769, 0.0769, 0.0769,\n",
       "         0.0769, 0.0769, 0.0769, 0.0769, 0.0000, 0.0000, 0.0000],\n",
       "        [0.0714, 0.0714, 0.0714, 0.0714, 0.0714, 0.0714, 0.0714, 0.0714, 0.0714,\n",
       "         0.0714, 0.0714, 0.0714, 0.0714, 0.0714, 0.0000, 0.0000],\n",
       "        [0.0667, 0.0667, 0.0667, 0.0667, 0.0667, 0.0667, 0.0667, 0.0667, 0.0667,\n",
       "         0.0667, 0.0667, 0.0667, 0.0667, 0.0667, 0.0667, 0.0000],\n",
       "        [0.0625, 0.0625, 0.0625, 0.0625, 0.0625, 0.0625, 0.0625, 0.0625, 0.0625,\n",
       "         0.0625, 0.0625, 0.0625, 0.0625, 0.0625, 0.0625, 0.0625]])"
      ]
     },
     "execution_count": 325,
     "metadata": {},
     "output_type": "execute_result"
    }
   ],
   "source": [
    "wavg = F.softmax(wavg, dim=-1)\n",
    "wavg"
   ]
  },
  {
   "cell_type": "code",
   "execution_count": 326,
   "id": "16f53415-1c32-4781-86de-bbd855378510",
   "metadata": {},
   "outputs": [
    {
     "data": {
      "text/plain": [
       "tensor([[-9.4132e-01, -1.1091e+00, -3.3398e-01, -1.0040e+00,  6.6294e-02,\n",
       "          4.0803e-01,  9.7160e-01,  3.4739e-01, -4.9187e-01, -5.1858e-01,\n",
       "         -8.4280e-01,  6.7168e-01, -1.2877e+00,  9.3693e-01, -2.1872e-01,\n",
       "         -2.3756e+00, -9.2784e-01, -6.8388e-01,  2.7231e-01,  6.9204e-01,\n",
       "          1.2918e+00, -1.0190e+00, -9.9727e-01, -5.1457e-01, -6.0122e-01,\n",
       "          1.4521e-01,  1.3804e+00,  2.8369e-01, -6.2297e-02],\n",
       "        [-3.9890e-01, -4.9361e-01, -6.5304e-01, -1.8409e+00,  3.4994e-01,\n",
       "          1.1646e+00,  3.7222e-01,  1.5721e-01, -1.1974e-01,  1.9240e-01,\n",
       "         -1.9415e-01, -6.6520e-01, -9.0832e-01,  2.7922e-01, -6.0988e-01,\n",
       "         -1.1078e+00, -7.8337e-01, -6.9634e-01,  8.8863e-02,  4.7959e-01,\n",
       "          1.4292e+00, -2.3608e-01, -6.4211e-01, -4.0819e-01, -7.6581e-02,\n",
       "          7.9989e-02,  1.2136e+00, -6.7002e-01,  4.2918e-01],\n",
       "        [-5.2758e-02, -1.0183e+00, -1.7154e-01, -6.7730e-01,  3.0393e-01,\n",
       "          4.7886e-01,  3.1937e-01,  5.4520e-01,  1.9639e-01,  3.1839e-01,\n",
       "         -3.3036e-01, -4.2131e-01, -6.6963e-01,  7.9830e-01, -1.0277e+00,\n",
       "         -1.0170e+00, -6.2505e-01, -1.0956e+00,  9.0725e-02,  7.3854e-01,\n",
       "          1.4403e+00, -2.5077e-01, -3.9350e-01, -6.1109e-01,  2.8408e-01,\n",
       "          3.0756e-01,  8.2382e-01,  2.8887e-01, -6.2798e-03],\n",
       "        [ 1.8567e-01, -7.8053e-01, -1.1562e-01, -3.3990e-01,  3.8008e-03,\n",
       "          9.4154e-02,  1.9284e-01,  5.8398e-01, -2.7053e-02,  2.8973e-01,\n",
       "         -1.0313e-01, -7.8657e-02, -3.4796e-01,  4.0949e-01, -5.5410e-01,\n",
       "         -7.1725e-01, -5.7227e-01, -6.6422e-01, -1.1674e-01,  5.2224e-01,\n",
       "          9.2836e-01, -2.5404e-01, -2.0967e-02, -7.0477e-01,  2.5637e-01,\n",
       "          3.7578e-01,  3.8022e-01,  7.0605e-01, -3.8610e-01],\n",
       "        [ 7.2584e-01, -6.0946e-01,  1.1726e-01, -6.7299e-01,  1.3735e-01,\n",
       "          1.9511e-02,  5.8415e-02,  3.1718e-01, -2.0929e-01,  2.7287e-01,\n",
       "         -1.7986e-01,  5.4716e-02, -5.1394e-01,  1.3570e-01, -4.1811e-01,\n",
       "         -4.3590e-01, -4.3065e-01, -6.9309e-01, -2.9638e-01,  2.7943e-01,\n",
       "          1.2753e+00,  6.0944e-02, -2.6440e-01, -7.8208e-01,  3.0317e-01,\n",
       "          3.1016e-01,  1.4346e-01,  5.5034e-01, -3.8710e-01],\n",
       "        [ 8.0193e-01, -5.2128e-01,  3.7447e-01, -7.0774e-01, -4.2917e-02,\n",
       "         -2.0716e-01,  3.9224e-01, -1.6880e-02,  2.7011e-02,  2.1340e-01,\n",
       "          1.1716e-01, -2.4194e-01, -6.3761e-01,  9.8010e-02, -2.1928e-01,\n",
       "         -3.0159e-01, -3.3406e-02, -6.2983e-01, -3.9937e-01,  1.9625e-01,\n",
       "          1.1464e+00, -8.6502e-02, -2.9823e-01, -6.2824e-01,  3.0019e-01,\n",
       "          4.8839e-02,  3.2749e-01,  1.7130e-01, -4.1544e-01],\n",
       "        [ 9.3576e-01, -3.4388e-01,  4.4050e-01, -6.8448e-01, -1.7270e-01,\n",
       "         -3.9652e-01,  4.7245e-01, -1.0918e-03,  3.7375e-01,  1.4614e-01,\n",
       "          2.1874e-01, -7.6386e-02, -6.5853e-01,  6.1590e-02, -1.2268e-01,\n",
       "         -1.0124e-01,  5.1308e-02, -3.1686e-01, -2.0958e-01,  1.5293e-01,\n",
       "          1.0301e+00, -1.5308e-01, -9.1059e-02, -5.5907e-01,  4.0599e-01,\n",
       "         -5.0003e-02,  8.3348e-02,  1.9327e-01, -1.0139e-01],\n",
       "        [ 7.0402e-01, -3.9391e-01,  1.5661e-01, -5.7855e-01, -1.4134e-01,\n",
       "         -2.4909e-01,  5.1086e-01, -1.8435e-01,  3.4817e-01,  1.9637e-01,\n",
       "          7.3013e-02, -1.2870e-01, -5.4489e-01,  2.7166e-01, -5.7898e-02,\n",
       "         -1.5383e-01, -1.0776e-02, -2.5827e-01, -2.0071e-01,  9.7132e-02,\n",
       "          8.4393e-01, -9.5156e-02, -3.3722e-02, -3.2378e-01,  2.6597e-01,\n",
       "          1.9252e-01,  2.4003e-01,  1.9107e-01,  1.6836e-01],\n",
       "        [ 5.3904e-01, -2.0602e-01,  1.8171e-01, -5.5503e-01, -2.2752e-01,\n",
       "         -3.6670e-01,  4.3608e-01, -5.4397e-02,  3.0491e-01,  1.4874e-01,\n",
       "          1.3198e-01, -6.1147e-02, -5.4139e-01,  3.3141e-01, -2.4854e-01,\n",
       "         -2.1480e-01, -5.3140e-02, -1.2690e-01,  7.0607e-02,  1.0282e-02,\n",
       "          5.8082e-01, -7.3521e-02, -4.4736e-02, -3.1008e-01,  2.9098e-01,\n",
       "          3.6481e-02,  3.0691e-01,  1.0354e-01,  1.1778e-01],\n",
       "        [ 4.2738e-01, -3.4988e-02,  2.9839e-02, -3.3519e-01, -1.9745e-01,\n",
       "         -3.3189e-01,  3.9107e-01,  5.0031e-02,  3.1884e-01,  1.4813e-01,\n",
       "          1.1907e-01,  9.4191e-03, -6.5381e-01,  2.1524e-01, -5.4258e-02,\n",
       "         -1.6545e-01, -6.2375e-02, -3.0692e-01,  1.1095e-01, -2.4326e-02,\n",
       "          5.3693e-01, -1.2361e-01,  1.6872e-01, -3.8098e-01,  2.6411e-01,\n",
       "         -6.7958e-02,  2.8500e-01,  2.0818e-02,  1.9288e-01],\n",
       "        [ 4.2495e-01, -9.6082e-02,  4.2136e-02, -3.1282e-01, -1.8779e-01,\n",
       "         -3.2619e-01,  3.9181e-01, -1.5983e-02,  2.6542e-01,  2.1836e-01,\n",
       "          2.9646e-02,  1.8065e-02, -7.4621e-01,  2.9806e-01, -6.9261e-02,\n",
       "         -4.6124e-02,  3.2123e-02, -1.2864e-01, -7.6374e-02, -9.9862e-02,\n",
       "          5.5733e-01, -1.7445e-01,  2.3737e-02, -4.5065e-01,  1.6583e-01,\n",
       "         -7.6990e-02,  2.1039e-01,  1.7957e-01,  1.0956e-01],\n",
       "        [ 3.4649e-01,  1.2799e-01,  1.6302e-01, -3.1387e-01, -1.3596e-01,\n",
       "         -1.2263e-01,  3.4429e-01, -6.4073e-03,  2.2228e-01,  2.2884e-01,\n",
       "          1.6117e-02, -1.2423e-02, -7.4739e-01,  1.9749e-01, -1.0342e-01,\n",
       "          3.8834e-02, -6.9689e-02,  1.7970e-02, -3.4227e-02, -5.9267e-02,\n",
       "          4.7791e-01, -5.3975e-02, -5.6902e-02, -3.4051e-01, -1.2032e-02,\n",
       "         -1.1076e-01,  1.8368e-02,  8.7141e-02,  1.5229e-01],\n",
       "        [ 3.4753e-01,  7.3839e-02,  1.3590e-01, -3.4554e-01, -6.9550e-02,\n",
       "         -1.2294e-01,  2.8365e-01,  1.3872e-02,  2.1017e-01,  9.7416e-02,\n",
       "          7.8742e-02, -1.8351e-01, -6.5224e-01,  6.5157e-02, -2.1941e-01,\n",
       "         -1.0531e-02, -2.0116e-01, -1.2746e-01, -1.0970e-01, -6.9725e-02,\n",
       "          5.0004e-01, -5.2509e-02, -1.1096e-01, -2.3208e-01, -1.1304e-01,\n",
       "         -2.7399e-02,  6.6212e-02,  4.0277e-03,  1.4893e-01],\n",
       "        [ 2.1901e-01, -3.4301e-03,  9.7522e-02, -2.4726e-01, -7.6712e-02,\n",
       "         -2.7495e-01,  2.7881e-01,  2.3379e-02,  2.1203e-01,  1.3713e-01,\n",
       "          1.5643e-01, -1.9773e-01, -6.2766e-01, -5.6834e-02, -1.2325e-01,\n",
       "         -8.9496e-02, -8.4395e-02, -1.3884e-01, -5.8305e-02, -1.1735e-01,\n",
       "          4.4824e-01, -1.4601e-01, -2.2085e-01, -3.6495e-01, -1.3390e-01,\n",
       "          2.4624e-02,  1.3107e-01, -1.0197e-01,  8.1031e-02],\n",
       "        [ 2.3240e-01, -5.1447e-02,  1.0073e-01, -1.9041e-01, -2.2719e-01,\n",
       "         -2.2502e-01,  3.3636e-01,  1.2634e-01,  2.5187e-01,  1.1653e-01,\n",
       "          1.3244e-01, -1.3886e-01, -6.3285e-01, -1.5045e-01, -7.0946e-02,\n",
       "         -2.3270e-01, -7.8126e-02, -8.5569e-02, -3.1345e-02, -6.4984e-02,\n",
       "          4.4821e-01, -6.1297e-02, -1.1878e-01, -3.0564e-01, -1.3084e-01,\n",
       "         -6.0374e-02,  1.0533e-01, -1.4601e-01, -3.2416e-02],\n",
       "        [ 2.4775e-01, -7.6682e-02,  1.7951e-01, -1.5285e-01, -1.1834e-01,\n",
       "         -2.0569e-01,  2.8591e-01,  1.6603e-01,  1.4257e-01, -1.4420e-02,\n",
       "          7.2598e-02, -5.4564e-02, -5.7506e-01, -1.3024e-01, -6.5248e-02,\n",
       "         -2.5920e-01, -4.9247e-02, -1.2208e-01,  2.0073e-02, -1.3702e-02,\n",
       "          4.4970e-01, -9.8184e-02, -1.2491e-01, -2.8901e-01, -2.0473e-01,\n",
       "         -5.7861e-02,  4.0622e-02, -1.3594e-01, -1.4096e-02]])"
      ]
     },
     "execution_count": 326,
     "metadata": {},
     "output_type": "execute_result"
    }
   ],
   "source": [
    "x_mean3 = wavg @ x\n",
    "x_mean3[0]"
   ]
  },
  {
   "cell_type": "code",
   "execution_count": 327,
   "id": "62add4fa-5c67-44eb-85ff-587adbb7a367",
   "metadata": {},
   "outputs": [
    {
     "data": {
      "text/plain": [
       "True"
      ]
     },
     "execution_count": 327,
     "metadata": {},
     "output_type": "execute_result"
    }
   ],
   "source": [
    "torch.allclose(x_mean, x_mean3, rtol=1e-02)"
   ]
  },
  {
   "cell_type": "markdown",
   "id": "654ebe8a-1218-4f11-b81d-a587ab18e592",
   "metadata": {},
   "source": [
    "## Self-Attention"
   ]
  },
  {
   "cell_type": "code",
   "execution_count": 328,
   "id": "337e0c48-1e0a-427c-9832-ea163680828b",
   "metadata": {},
   "outputs": [
    {
     "data": {
      "text/plain": [
       "torch.Size([4, 8, 32])"
      ]
     },
     "execution_count": 328,
     "metadata": {},
     "output_type": "execute_result"
    }
   ],
   "source": [
    "batch_size = 4 # the batch size, B\n",
    "block_size = 8 # the time dimension, T\n",
    "vocab_size = 32 # also called the channel size, C\n",
    "\n",
    "x = torch.randn(batch_size, block_size, vocab_size)\n",
    "x.shape"
   ]
  },
  {
   "cell_type": "code",
   "execution_count": 329,
   "id": "7111a1af-69e1-4906-a318-34b4231f6038",
   "metadata": {},
   "outputs": [
    {
     "data": {
      "text/plain": [
       "torch.Size([4, 8, 32])"
      ]
     },
     "execution_count": 329,
     "metadata": {},
     "output_type": "execute_result"
    }
   ],
   "source": [
    "tril = torch.tril(torch.ones(block_size, block_size))\n",
    "wavg = torch.zeros((block_size, block_size))\n",
    "wavg = wavg.masked_fill(tril == 0, float('-inf'))\n",
    "wavg = F.softmax(wavg, dim=-1)\n",
    "x_mean3 = wavg @ x\n",
    "x_mean3.shape"
   ]
  },
  {
   "cell_type": "code",
   "execution_count": 330,
   "id": "2fa6b1ba-a989-4185-98b0-c17fa42b073e",
   "metadata": {},
   "outputs": [
    {
     "data": {
      "text/plain": [
       "tensor([[1., 0., 0., 0., 0., 0., 0., 0.],\n",
       "        [1., 1., 0., 0., 0., 0., 0., 0.],\n",
       "        [1., 1., 1., 0., 0., 0., 0., 0.],\n",
       "        [1., 1., 1., 1., 0., 0., 0., 0.],\n",
       "        [1., 1., 1., 1., 1., 0., 0., 0.],\n",
       "        [1., 1., 1., 1., 1., 1., 0., 0.],\n",
       "        [1., 1., 1., 1., 1., 1., 1., 0.],\n",
       "        [1., 1., 1., 1., 1., 1., 1., 1.]])"
      ]
     },
     "execution_count": 330,
     "metadata": {},
     "output_type": "execute_result"
    }
   ],
   "source": [
    "tril"
   ]
  },
  {
   "cell_type": "code",
   "execution_count": 331,
   "id": "8ed97c56-1461-4cc8-ad20-5270c76454b5",
   "metadata": {},
   "outputs": [
    {
     "data": {
      "text/plain": [
       "tensor([[1.0000, 0.0000, 0.0000, 0.0000, 0.0000, 0.0000, 0.0000, 0.0000],\n",
       "        [0.5000, 0.5000, 0.0000, 0.0000, 0.0000, 0.0000, 0.0000, 0.0000],\n",
       "        [0.3333, 0.3333, 0.3333, 0.0000, 0.0000, 0.0000, 0.0000, 0.0000],\n",
       "        [0.2500, 0.2500, 0.2500, 0.2500, 0.0000, 0.0000, 0.0000, 0.0000],\n",
       "        [0.2000, 0.2000, 0.2000, 0.2000, 0.2000, 0.0000, 0.0000, 0.0000],\n",
       "        [0.1667, 0.1667, 0.1667, 0.1667, 0.1667, 0.1667, 0.0000, 0.0000],\n",
       "        [0.1429, 0.1429, 0.1429, 0.1429, 0.1429, 0.1429, 0.1429, 0.0000],\n",
       "        [0.1250, 0.1250, 0.1250, 0.1250, 0.1250, 0.1250, 0.1250, 0.1250]])"
      ]
     },
     "execution_count": 331,
     "metadata": {},
     "output_type": "execute_result"
    }
   ],
   "source": [
    "wavg # weighted average over the input"
   ]
  },
  {
   "cell_type": "markdown",
   "id": "2b46d50e-f5af-4c6d-8a29-30088d298164",
   "metadata": {},
   "source": [
    "### Single head self-attention"
   ]
  },
  {
   "cell_type": "markdown",
   "id": "ddaa0535-2638-41b8-8f77-dccd75c367f8",
   "metadata": {},
   "source": [
    "We define a representation over the input `x` in terms of keys $K$, queries $Q$ and values $V$\n",
    "\n",
    "$$\n",
    "  \\text{Attention}(Q, K, V) = \\text{softmax}(\\frac{Q K^T}{\\sqrt{d_k}}) V\n",
    "$$\n",
    "\n",
    "$\\sqrt{d_k}$ is a scaling factor which uses the dimensionality $d_k$ of the queries and keys."
   ]
  },
  {
   "cell_type": "code",
   "execution_count": 332,
   "id": "fa305141-122a-4d2f-8def-b2c9198642fa",
   "metadata": {},
   "outputs": [],
   "source": [
    "head_size = 16\n",
    "key = nn.Linear(vocab_size, head_size, bias=False)\n",
    "query = nn.Linear(vocab_size, head_size, bias=False)"
   ]
  },
  {
   "cell_type": "code",
   "execution_count": 333,
   "id": "4ba0ef35-5503-49df-983e-389eb13810a5",
   "metadata": {},
   "outputs": [
    {
     "data": {
      "text/plain": [
       "torch.Size([4, 8, 16])"
      ]
     },
     "execution_count": 333,
     "metadata": {},
     "output_type": "execute_result"
    }
   ],
   "source": [
    "k = key(x) # (vocab_size, head_size, 16)\n",
    "k.shape"
   ]
  },
  {
   "cell_type": "code",
   "execution_count": 334,
   "id": "d796341a-9098-4d32-a27a-f2a9cd291da2",
   "metadata": {},
   "outputs": [
    {
     "data": {
      "text/plain": [
       "torch.Size([4, 16, 8])"
      ]
     },
     "execution_count": 334,
     "metadata": {},
     "output_type": "execute_result"
    }
   ],
   "source": [
    "tmp = k.transpose(-2, -1)\n",
    "tmp.shape"
   ]
  },
  {
   "cell_type": "code",
   "execution_count": 335,
   "id": "6313a38b-c08f-4dc6-902e-1e7e5be5b32a",
   "metadata": {},
   "outputs": [
    {
     "data": {
      "text/plain": [
       "torch.Size([4, 8, 16])"
      ]
     },
     "execution_count": 335,
     "metadata": {},
     "output_type": "execute_result"
    }
   ],
   "source": [
    "q = query(x) # (vocab_size, head_size, 16)\n",
    "q.shape"
   ]
  },
  {
   "cell_type": "code",
   "execution_count": 336,
   "id": "1e03eb26-28a3-418a-9e5e-ef0688081793",
   "metadata": {},
   "outputs": [
    {
     "data": {
      "text/plain": [
       "torch.Size([4, 8, 8])"
      ]
     },
     "execution_count": 336,
     "metadata": {},
     "output_type": "execute_result"
    }
   ],
   "source": [
    "wavg = q @ k.transpose(-2, -1)\n",
    "# [4,8,16] @ [4,16,8] = [4,8,8]\n",
    "wavg.shape"
   ]
  },
  {
   "cell_type": "code",
   "execution_count": 337,
   "id": "c8270978-435b-4d97-83ac-1fe71a0ee0b1",
   "metadata": {},
   "outputs": [
    {
     "data": {
      "text/plain": [
       "torch.Size([4, 8, 32])"
      ]
     },
     "execution_count": 337,
     "metadata": {},
     "output_type": "execute_result"
    }
   ],
   "source": [
    "# ignore the future tokens for each token (as before)\n",
    "tril = torch.tril(torch.ones(block_size, block_size))\n",
    "wavg = wavg.masked_fill(tril == 0, float('-inf'))\n",
    "# renormalize and produce a probability\n",
    "wavg = F.softmax(wavg, dim=-1)\n",
    "x_mean4 = wavg @ x\n",
    "x_mean4.shape"
   ]
  },
  {
   "cell_type": "code",
   "execution_count": 338,
   "id": "a772014a-8733-43f0-aa1e-a4cc4a17169c",
   "metadata": {},
   "outputs": [
    {
     "data": {
      "text/plain": [
       "tensor([[1.0000e+00, 0.0000e+00, 0.0000e+00, 0.0000e+00, 0.0000e+00, 0.0000e+00,\n",
       "         0.0000e+00, 0.0000e+00],\n",
       "        [1.1244e-01, 8.8756e-01, 0.0000e+00, 0.0000e+00, 0.0000e+00, 0.0000e+00,\n",
       "         0.0000e+00, 0.0000e+00],\n",
       "        [8.3630e-01, 1.1475e-01, 4.8945e-02, 0.0000e+00, 0.0000e+00, 0.0000e+00,\n",
       "         0.0000e+00, 0.0000e+00],\n",
       "        [9.1982e-01, 4.9108e-03, 5.0359e-03, 7.0234e-02, 0.0000e+00, 0.0000e+00,\n",
       "         0.0000e+00, 0.0000e+00],\n",
       "        [4.7368e-01, 3.8620e-02, 4.6218e-02, 3.4543e-01, 9.6049e-02, 0.0000e+00,\n",
       "         0.0000e+00, 0.0000e+00],\n",
       "        [7.4704e-02, 2.7018e-01, 1.8556e-01, 6.3561e-02, 1.7151e-01, 2.3449e-01,\n",
       "         0.0000e+00, 0.0000e+00],\n",
       "        [3.3490e-02, 2.0460e-01, 6.0368e-01, 5.9138e-02, 3.0052e-02, 3.7452e-02,\n",
       "         3.1591e-02, 0.0000e+00],\n",
       "        [6.0172e-04, 1.2540e-01, 9.4306e-02, 1.6108e-02, 4.4745e-02, 4.8352e-02,\n",
       "         6.0890e-02, 6.0960e-01]], grad_fn=<SelectBackward0>)"
      ]
     },
     "execution_count": 338,
     "metadata": {},
     "output_type": "execute_result"
    }
   ],
   "source": [
    "wavg[0]"
   ]
  },
  {
   "cell_type": "code",
   "execution_count": 339,
   "id": "cff85aa9-0595-4b33-b2a1-0493d7ade561",
   "metadata": {},
   "outputs": [
    {
     "name": "stdout",
     "output_type": "stream",
     "text": [
      "torch.Size([8, 32])\n"
     ]
    },
    {
     "data": {
      "text/plain": [
       "tensor([[-1.4588,  1.1383,  0.2389,  1.2916, -1.3944,  0.8362,  0.1994, -1.3616,\n",
       "         -0.0588, -2.1646,  0.2119,  0.5303,  1.2600,  1.9404,  1.8250,  1.1537,\n",
       "          1.1484, -0.1428, -0.4008, -0.1410, -0.6714,  0.1245, -2.4176, -2.1199,\n",
       "         -0.5920,  1.4435, -0.5113,  0.9416,  0.6424, -0.8021, -0.8978,  1.3310],\n",
       "        [ 0.8647, -1.2526,  1.3513,  0.5981,  0.3402, -0.8027,  0.2376,  0.7257,\n",
       "          0.1354,  0.0604, -0.4050,  1.0810,  1.1622,  0.1097,  0.2930, -0.2904,\n",
       "          0.7497,  1.8437,  2.3982,  0.4306,  1.5157,  1.1691, -0.2232, -0.6564,\n",
       "          2.0193,  0.5738, -0.5416, -0.6195, -1.7258,  0.6600,  0.0434, -0.5182],\n",
       "        [-0.9542,  0.7379,  0.4437,  1.2085, -1.1140,  0.5978,  0.1975, -1.0429,\n",
       "         -0.0061, -1.8199,  0.1146,  0.4618,  1.1700,  1.5681,  1.5071,  0.9413,\n",
       "          1.0597,  0.0058,  0.0280, -0.1079, -0.3461,  0.3356, -1.9908, -1.8434,\n",
       "         -0.2181,  1.2805, -0.4663,  0.6914,  0.3250, -0.5310, -0.7913,  1.0910],\n",
       "        [-1.3642,  1.1266,  0.2398,  1.1701, -1.2256,  0.7680,  0.1163, -1.2677,\n",
       "          0.0053, -1.9679,  0.1739,  0.5646,  1.1706,  1.7970,  1.5713,  0.9939,\n",
       "          1.2014, -0.1461, -0.2945, -0.2118, -0.6436,  0.0531, -2.2589, -1.9473,\n",
       "         -0.5441,  1.2118, -0.4954,  0.8737,  0.4261, -0.7048, -0.8243,  1.2385],\n",
       "        [-0.6623,  1.1164,  0.2871,  0.5926, -0.2547,  0.3964, -0.1822, -0.7776,\n",
       "          0.3970, -0.9222, -0.0278,  0.6678,  0.7378,  0.9305,  0.1248,  0.2245,\n",
       "          1.2618, -0.1880,  0.1431, -0.8091, -0.3168, -0.1601, -1.3969, -1.0441,\n",
       "         -0.1542,  0.1832, -0.4304,  0.5603, -0.6908, -0.2625, -0.4654,  0.7853],\n",
       "        [ 0.7087, -0.3140,  0.5398,  0.4282,  0.4891,  0.1190,  0.0759, -0.1823,\n",
       "          0.3278, -0.2637, -0.1217,  0.2323,  0.4665, -0.0657, -0.3527,  0.0614,\n",
       "          0.4364, -0.0458,  0.6030, -0.5370,  0.6237,  0.7496, -0.4584, -0.2441,\n",
       "          0.3953,  0.5379, -0.5045,  0.2422, -0.7749,  0.1590, -0.5606,  0.3718],\n",
       "        [ 1.7650, -0.6304,  1.1568,  1.0228,  0.0043,  0.0331,  0.0725, -0.1379,\n",
       "          0.4220, -0.6003, -0.1700, -1.0516,  0.0688, -0.4442, -0.4554,  0.2972,\n",
       "          0.5230, -1.0188,  1.1360, -0.6357,  0.4610,  1.2762,  0.1346, -0.3570,\n",
       "          0.5167,  0.3710,  0.0743, -0.0222, -0.3144,  0.6589, -0.6870,  0.7105],\n",
       "        [ 0.2817, -1.1303, -0.7720, -0.6626, -0.0207, -1.1555, -0.7010, -0.0441,\n",
       "          0.5140,  0.6070,  0.1850, -1.1317, -0.0551,  0.7629, -0.2578,  1.4599,\n",
       "          0.2874,  0.7942,  0.5304, -0.3387,  0.2878,  0.0924,  0.9267,  0.4716,\n",
       "          0.2701, -0.1688, -0.4011, -1.0686,  1.3839,  0.1669,  0.1002,  0.0784]],\n",
       "       grad_fn=<SelectBackward0>)"
      ]
     },
     "execution_count": 339,
     "metadata": {},
     "output_type": "execute_result"
    }
   ],
   "source": [
    "print(x_mean4[0].shape)\n",
    "x_mean4[0]"
   ]
  },
  {
   "cell_type": "code",
   "execution_count": 340,
   "id": "35f0b14d-640a-4fc8-b57a-f4202cb4abd4",
   "metadata": {},
   "outputs": [],
   "source": [
    "value = nn.Linear(vocab_size, head_size, bias=False)"
   ]
  },
  {
   "cell_type": "code",
   "execution_count": 341,
   "id": "f2892ace-96ee-490d-98e3-bdc2eabeb8f2",
   "metadata": {},
   "outputs": [
    {
     "data": {
      "text/plain": [
       "torch.Size([4, 8, 16])"
      ]
     },
     "execution_count": 341,
     "metadata": {},
     "output_type": "execute_result"
    }
   ],
   "source": [
    "v = value(x)\n",
    "v.shape"
   ]
  },
  {
   "cell_type": "code",
   "execution_count": 342,
   "id": "42bdfe87-706b-40ed-b826-370a81f5373f",
   "metadata": {},
   "outputs": [
    {
     "data": {
      "text/plain": [
       "torch.Size([4, 8, 16])"
      ]
     },
     "execution_count": 342,
     "metadata": {},
     "output_type": "execute_result"
    }
   ],
   "source": [
    "x_mean5 = wavg @ v\n",
    "x_mean5.shape"
   ]
  },
  {
   "cell_type": "markdown",
   "id": "cafd9eae-f350-44c6-b3ec-6b5aa8c0ede2",
   "metadata": {},
   "source": [
    "In the above, the attention mechanism is similar to a weighted average over a bag of words. To know about the structure of language, we have to add positional information to each token so that the representation of `it` in position 2 will be different from the representation of `it` in postion 24."
   ]
  },
  {
   "cell_type": "markdown",
   "id": "34b0a518-b4c4-484c-ab07-8f5203fccdb7",
   "metadata": {},
   "source": [
    "The keys, queries and values all come from input `x`. If we have queries coming from `x` but the keys and values come from a different sequence then the attention is called **cross-attention**."
   ]
  },
  {
   "cell_type": "markdown",
   "id": "10247084-638a-437e-9082-bc096b8f84c4",
   "metadata": {},
   "source": [
    "### Scaled attention"
   ]
  },
  {
   "cell_type": "markdown",
   "id": "3497203a-971e-41fa-bdd0-2ad08ca9798b",
   "metadata": {},
   "source": [
    "A naive dot product of keys and queries will lead to a variance that is proportional to the value of `head_size`."
   ]
  },
  {
   "cell_type": "code",
   "execution_count": 343,
   "id": "d55fb66f-99b6-4e64-8af4-ea597afe97ad",
   "metadata": {},
   "outputs": [
    {
     "name": "stdout",
     "output_type": "stream",
     "text": [
      "key variance=0.9788420796394348\n",
      "query variance=0.9788420796394348\n",
      "wavg variance=17.46063804626465\n",
      "head_size=16\n"
     ]
    }
   ],
   "source": [
    "k = torch.randn(batch_size, block_size, head_size)\n",
    "q = torch.randn(batch_size, block_size, head_size)\n",
    "wavg_noscale = q @ k.transpose(-2, -1)\n",
    "print(f'key variance={k.var()}')\n",
    "print(f'query variance={k.var()}')\n",
    "print(f'wavg variance={wavg_noscale.var()}')\n",
    "print(f'{head_size=}')"
   ]
  },
  {
   "cell_type": "markdown",
   "id": "ec3724e6-7bf1-454b-90ee-447b90a76fa5",
   "metadata": {},
   "source": [
    "Scaling down the dot product by the square root of the head size gives us a variance that is similar to the key and query variance. This means that when we take the softmax over the dot product we don't get highly scaled values that can lead to very confident probability distributions soon after initialization. To make the parameter updates more conservative especially in the early stages of training, scaled dot-products perform much better by reducing the variance of the weighted average."
   ]
  },
  {
   "cell_type": "code",
   "execution_count": 344,
   "id": "2ec21a17-50f0-49b9-9052-7281c0244515",
   "metadata": {},
   "outputs": [
    {
     "name": "stdout",
     "output_type": "stream",
     "text": [
      "key variance=0.8882497549057007\n",
      "query variance=0.8882497549057007\n",
      "wavg variance=0.8970476984977722\n"
     ]
    }
   ],
   "source": [
    "k = torch.randn(batch_size, block_size, head_size)\n",
    "q = torch.randn(batch_size, block_size, head_size)\n",
    "wavg = q @ k.transpose(-2, -1) * head_size**(-0.5)\n",
    "print(f'key variance={k.var()}')\n",
    "print(f'query variance={k.var()}')\n",
    "print(f'wavg variance={wavg.var()}')"
   ]
  },
  {
   "cell_type": "code",
   "execution_count": 345,
   "id": "3a2ca5b2-5e74-4dff-a8e1-0fe21b6ff1de",
   "metadata": {},
   "outputs": [
    {
     "data": {
      "text/plain": [
       "tensor(0.1119, grad_fn=<VarBackward0>)"
      ]
     },
     "execution_count": 345,
     "metadata": {},
     "output_type": "execute_result"
    }
   ],
   "source": [
    "k = key(x) # (vocab_size, head_size, 16)\n",
    "q = query(x) # (vocab_size, head_size, 16)\n",
    "wavg = q @ k.transpose(-2, -1) * head_size**(-0.5)\n",
    "wavg.var()"
   ]
  },
  {
   "cell_type": "code",
   "execution_count": 346,
   "id": "f0fcadf0-3442-4a07-bc28-c9622607cf41",
   "metadata": {},
   "outputs": [
    {
     "data": {
      "text/plain": [
       "torch.Size([4, 8, 32])"
      ]
     },
     "execution_count": 346,
     "metadata": {},
     "output_type": "execute_result"
    }
   ],
   "source": [
    "# ignore the future tokens for each token (as before)\n",
    "tril = torch.tril(torch.ones(block_size, block_size))\n",
    "wavg = wavg.masked_fill(tril == 0, float('-inf'))\n",
    "# renormalize and produce a probability\n",
    "wavg = F.softmax(wavg, dim=-1)\n",
    "v = value(x)\n",
    "x_mean6 = wavg @ x\n",
    "x_mean6.shape"
   ]
  },
  {
   "cell_type": "markdown",
   "id": "cd2aa5a7-a0db-48de-bc37-42d50fde2675",
   "metadata": {},
   "source": [
    "## Transformer language model"
   ]
  },
  {
   "cell_type": "code",
   "execution_count": 347,
   "id": "6ecf4a53-2cc4-458a-bcfd-b15cf78c5cdf",
   "metadata": {},
   "outputs": [],
   "source": [
    "class Head(nn.Module):\n",
    "    \"\"\" single head of self attention \"\"\"\n",
    "\n",
    "    def __init__(self, n_embed, block_size, head_size):\n",
    "        super().__init__()\n",
    "        self.n_embed = n_embed\n",
    "        self.block_size = block_size\n",
    "        self.head_size = head_size\n",
    "        self.key = nn.Linear(n_embed, head_size, bias=False)\n",
    "        self.query = nn.Linear(n_embed, head_size, bias=False)\n",
    "        self.value = nn.Linear(n_embed, head_size, bias=False)\n",
    "        self.register_buffer('tril', torch.tril(torch.ones(block_size, block_size)))\n",
    "\n",
    "    def forward(self, x):\n",
    "        batch_size, block_size, head_size = x.shape\n",
    "        k = self.key(x)   # (batch_size, block_size, head_size)\n",
    "        q = self.query(x) # (batch_size, block_size, head_size)\n",
    "        # compute weighted average using scaled attention\n",
    "        wavg = q @ k.transpose(-2, -1) * head_size**(-0.5)\n",
    "        # wavg.shape = (batch_size, block_size, head_size) @ (batch_size, head_size, block_size)\n",
    "        # wavg.shape = (batch_size, block_size, block_size)\n",
    "        wavg = wavg.masked_fill(self.tril[:block_size, :block_size] == 0, float('-inf'))\n",
    "        # wavg.shape = (batch_size, block_size, block_size)\n",
    "        wavg = F.softmax(wavg, dim=-1)\n",
    "        # wavg.shape = (batch_size, block_size, block_size)\n",
    "        v = self.value(x) # (batch_size, block_size, head_size)\n",
    "        # wavg @ v : (batch_size, block_size, block_size) @ (batch_size, block_size, head_size)\n",
    "        # wavg @ v : (batch_size, block_size, head_size)\n",
    "        return wavg @ v"
   ]
  },
  {
   "cell_type": "code",
   "execution_count": 348,
   "id": "cca9ccc9-edd1-4690-9ffe-e15b2a20f89c",
   "metadata": {},
   "outputs": [],
   "source": [
    "class SimpleTransformerLM(nn.Module):\n",
    "\n",
    "    def __init__(self, n_embed, vocab_size, block_size, head_size):\n",
    "        super().__init__()\n",
    "        self.n_embed = n_embed\n",
    "        self.vocab_size = vocab_size\n",
    "        self.head_size = head_size\n",
    "        self.block_size = block_size\n",
    "        self.token_embed = nn.Embedding(vocab_size, n_embed) # (C, D)\n",
    "        self.position_embed = nn.Embedding(block_size, n_embed) # (T, D)\n",
    "        self.self_attn_head = Head(n_embed, block_size, head_size) # (D, T, D)\n",
    "        self.predict = nn.Linear(n_embed, vocab_size)\n",
    "\n",
    "    def forward(self, idx):\n",
    "        # B: batch_size\n",
    "        # T: block_size aka time\n",
    "        # C: channel_size aka vocab_size\n",
    "        # D: size of embedding\n",
    "        # idx is a (B,T) size tensor\n",
    "        batch_size, block_size = idx.shape\n",
    "        token_embed = self.token_embed(idx) # (B, T, D)\n",
    "        position_embed = self.position_embed(torch.arange(block_size)) # (T, D)\n",
    "        x = token_embed + position_embed # (B, T, D)\n",
    "        x = self.self_attn_head(x) # apply one head of self attention: (B, T, D)\n",
    "        return self.predict(x) # return logits (B, T, vocab_size)\n",
    "\n",
    "    def loss(self, logits, targets):\n",
    "        # logits is a (B, T, C) tensor\n",
    "        # target is a (B, T) size tensor\n",
    "        return F.cross_entropy(\n",
    "                logits.view(-1, self.vocab_size), # convert to (B*T, C) tensor\n",
    "                targets.view(-1) # convert to (B*T) tensor\n",
    "                )\n",
    "\n",
    "    def generate(self, idx, max_new_tokens):\n",
    "        # idx is a (B, T) size tensor of indices\n",
    "        for _ in range(max_new_tokens):\n",
    "            # crop idx to the last block_size tokens\n",
    "            idx_cond = idx[:, -self.block_size:]\n",
    "            # get the predictions\n",
    "            logits = self(idx_cond) # ignore loss\n",
    "            # use the last time step\n",
    "            logits = logits[:, -1, :] # which is size (B, C)\n",
    "            # apply softmax to get probabilities\n",
    "            probs = F.softmax(logits, dim=-1) # size (B, C)\n",
    "            # sample from this probability distribution\n",
    "            idx_next = torch.multinomial(probs, num_samples=1) # size (B, 1)\n",
    "            if itos[idx_next.item()] in ('<|startoftext|>', '<|padtoken|>'):\n",
    "                continue\n",
    "            # append sampled token to sequence\n",
    "            idx = torch.cat((idx, idx_next), dim=1) # size (B, T+1)\n",
    "            decoded = decode(idx[-1].tolist())\n",
    "            if decoded[-1] == '<|endoftext|>':\n",
    "                break\n",
    "        return idx"
   ]
  },
  {
   "cell_type": "markdown",
   "id": "860c045a-6f8a-4b66-9723-f475d4d22a7e",
   "metadata": {},
   "source": [
    "## Training the Transformer LM"
   ]
  },
  {
   "cell_type": "code",
   "execution_count": 349,
   "id": "0cef4a13-0820-4c09-9ce8-2a7f5c1ef4fb",
   "metadata": {},
   "outputs": [
    {
     "name": "stdout",
     "output_type": "stream",
     "text": [
      "<|endoftext|><|padtoken|><|starttext|>abcdefghijklmnopqrstuvwxyz\n",
      "vocab_size=29\n",
      "head_size=32\n"
     ]
    }
   ],
   "source": [
    "vocab = sorted(list({ c for ex in dataset for c in ex }))\n",
    "vocab_size = len(vocab)\n",
    "print(''.join(vocab))\n",
    "print(f'{vocab_size=}')\n",
    "\n",
    "batch_size = 4\n",
    "n_embed = 32\n",
    "n_heads = 1\n",
    "block_size = max_len-2\n",
    "head_size = n_embed // n_heads\n",
    "print(f'{head_size=}')"
   ]
  },
  {
   "cell_type": "code",
   "execution_count": 350,
   "id": "fbb9634d-3d7d-485b-9ebc-eab4d01a3221",
   "metadata": {},
   "outputs": [
    {
     "name": "stdout",
     "output_type": "stream",
     "text": [
      "tensor([[ 0, 13,  7, 16, 16,  3,  6, 11,  7,  1,  2,  2,  2,  2,  2,  2],\n",
      "        [ 0,  5, 17,  6, 11,  1,  2,  2,  2,  2,  2,  2,  2,  2,  2,  2],\n",
      "        [ 0,  6, 17,  3,  3,  1,  2,  2,  2,  2,  2,  2,  2,  2,  2,  2],\n",
      "        [ 0,  7, 14, 14, 27, 21, 17, 16,  1,  2,  2,  2,  2,  2,  2,  2]])\n"
     ]
    },
    {
     "data": {
      "text/plain": [
       "tensor([[[ 0.6202,  0.6232,  0.0102,  ...,  0.3409,  0.2174,  0.1032],\n",
       "         [-0.3361, -1.5677, -1.3380,  ..., -0.6577,  0.1274, -0.2716],\n",
       "         [-0.7643,  1.0757, -1.5836,  ...,  1.1402, -0.8989, -0.6914],\n",
       "         ...,\n",
       "         [ 1.5213,  0.1407, -0.6907,  ...,  0.2628,  2.4488, -0.2725],\n",
       "         [ 1.5213,  0.1407, -0.6907,  ...,  0.2628,  2.4488, -0.2725],\n",
       "         [ 1.5213,  0.1407, -0.6907,  ...,  0.2628,  2.4488, -0.2725]],\n",
       "\n",
       "        [[ 0.6202,  0.6232,  0.0102,  ...,  0.3409,  0.2174,  0.1032],\n",
       "         [-0.7448,  0.1889, -0.9861,  ...,  1.2763,  0.7427, -0.6716],\n",
       "         [-0.7246,  1.5359,  0.0396,  ..., -1.3894, -1.0443, -0.4587],\n",
       "         ...,\n",
       "         [ 1.5213,  0.1407, -0.6907,  ...,  0.2628,  2.4488, -0.2725],\n",
       "         [ 1.5213,  0.1407, -0.6907,  ...,  0.2628,  2.4488, -0.2725],\n",
       "         [ 1.5213,  0.1407, -0.6907,  ...,  0.2628,  2.4488, -0.2725]],\n",
       "\n",
       "        [[ 0.6202,  0.6232,  0.0102,  ...,  0.3409,  0.2174,  0.1032],\n",
       "         [ 0.5190,  0.5805, -0.1886,  ...,  0.5299, -0.5548, -0.6437],\n",
       "         [-0.7246,  1.5359,  0.0396,  ..., -1.3894, -1.0443, -0.4587],\n",
       "         ...,\n",
       "         [ 1.5213,  0.1407, -0.6907,  ...,  0.2628,  2.4488, -0.2725],\n",
       "         [ 1.5213,  0.1407, -0.6907,  ...,  0.2628,  2.4488, -0.2725],\n",
       "         [ 1.5213,  0.1407, -0.6907,  ...,  0.2628,  2.4488, -0.2725]],\n",
       "\n",
       "        [[ 0.6202,  0.6232,  0.0102,  ...,  0.3409,  0.2174,  0.1032],\n",
       "         [-0.7643,  1.0757, -1.5836,  ...,  1.1402, -0.8989, -0.6914],\n",
       "         [-1.7850,  1.0850, -0.6507,  ..., -1.1616,  0.4263, -1.1029],\n",
       "         ...,\n",
       "         [ 1.5213,  0.1407, -0.6907,  ...,  0.2628,  2.4488, -0.2725],\n",
       "         [ 1.5213,  0.1407, -0.6907,  ...,  0.2628,  2.4488, -0.2725],\n",
       "         [ 1.5213,  0.1407, -0.6907,  ...,  0.2628,  2.4488, -0.2725]]],\n",
       "       grad_fn=<EmbeddingBackward0>)"
      ]
     },
     "execution_count": 350,
     "metadata": {},
     "output_type": "execute_result"
    }
   ],
   "source": [
    "embed = nn.Embedding(vocab_size, n_embed)\n",
    "xb, yb = get_batch('train', block_size, batch_size)\n",
    "print(xb)\n",
    "embed(xb)"
   ]
  },
  {
   "cell_type": "code",
   "execution_count": 351,
   "id": "48ffd726-6fea-45c0-a0c1-ec957468d558",
   "metadata": {},
   "outputs": [
    {
     "name": "stdout",
     "output_type": "stream",
     "text": [
      "SimpleTransformerLM(\n",
      "  (token_embed): Embedding(29, 32)\n",
      "  (position_embed): Embedding(16, 32)\n",
      "  (self_attn_head): Head(\n",
      "    (key): Linear(in_features=32, out_features=32, bias=False)\n",
      "    (query): Linear(in_features=32, out_features=32, bias=False)\n",
      "    (value): Linear(in_features=32, out_features=32, bias=False)\n",
      "  )\n",
      "  (predict): Linear(in_features=32, out_features=29, bias=True)\n",
      ")\n"
     ]
    }
   ],
   "source": [
    "model2 = SimpleTransformerLM(n_embed, vocab_size, block_size, head_size)\n",
    "optimizer2 = optim.Adam(model2.parameters(), lr=1e-4)\n",
    "losses = []\n",
    "validation_losses = []\n",
    "print(model2)"
   ]
  },
  {
   "cell_type": "markdown",
   "id": "3f3a501c-bb40-4d9f-b47c-264680c3e570",
   "metadata": {},
   "source": [
    "### Training Loop"
   ]
  },
  {
   "cell_type": "code",
   "execution_count": 352,
   "id": "bbef8b08-afce-4b74-ad0e-092e9f73aa0f",
   "metadata": {},
   "outputs": [],
   "source": [
    "n_updates = 10000"
   ]
  },
  {
   "cell_type": "markdown",
   "id": "e7fd2772-27ed-43b3-a030-9db2984209cb",
   "metadata": {},
   "source": [
    "Sample a batch of training data and send it through the forward pass of the network to obtain the logits "
   ]
  },
  {
   "cell_type": "code",
   "execution_count": 353,
   "id": "ae176d7f-8299-4f95-9cdc-365734b11957",
   "metadata": {},
   "outputs": [
    {
     "name": "stdout",
     "output_type": "stream",
     "text": [
      "tensor([[ 0,  6,  3, 24,  3, 20, 11,  1,  2,  2,  2,  2,  2,  2,  2,  2],\n",
      "        [ 0, 13,  3, 27,  6, 11,  7,  1,  2,  2,  2,  2,  2,  2,  2,  2],\n",
      "        [ 0, 10,  3, 16, 21,  7, 14,  1,  2,  2,  2,  2,  2,  2,  2,  2],\n",
      "        [ 0, 15,  3, 20,  5, 11, 16,  1,  2,  2,  2,  2,  2,  2,  2,  2]])\n"
     ]
    },
    {
     "data": {
      "text/plain": [
       "tensor([[[-4.8090e-01,  5.6320e-01, -3.9316e-01,  ..., -2.8159e-01,\n",
       "           1.0953e+00,  2.3564e-01],\n",
       "         [-2.2919e-01,  2.5090e-01, -1.9231e-01,  ..., -5.4554e-02,\n",
       "           9.6648e-01,  4.0246e-01],\n",
       "         [-4.2197e-02, -1.3843e-02, -9.1367e-02,  ..., -4.2538e-02,\n",
       "           6.1329e-01,  2.2296e-01],\n",
       "         ...,\n",
       "         [ 1.0684e-03,  2.8433e-02,  2.6077e-02,  ..., -1.5555e-01,\n",
       "           3.7487e-01,  1.6959e-01],\n",
       "         [-1.0864e-02,  1.7034e-01,  1.0978e-01,  ..., -2.9170e-01,\n",
       "           2.3445e-01,  2.2211e-01],\n",
       "         [-7.8363e-02,  6.3496e-02,  5.9910e-02,  ..., -3.1946e-01,\n",
       "           3.1893e-01,  1.9579e-01]],\n",
       "\n",
       "        [[-4.8090e-01,  5.6320e-01, -3.9316e-01,  ..., -2.8159e-01,\n",
       "           1.0953e+00,  2.3564e-01],\n",
       "         [-1.7938e-01,  1.0445e+00, -8.7422e-01,  ..., -2.5167e-01,\n",
       "           8.7946e-01,  2.0531e-01],\n",
       "         [-2.8953e-02,  2.1359e-01, -3.0355e-01,  ..., -1.3679e-01,\n",
       "           5.3072e-01,  9.6128e-02],\n",
       "         ...,\n",
       "         [-1.6371e-01,  2.7158e-01, -2.2126e-01,  ..., -2.3154e-01,\n",
       "           4.3997e-01,  1.4616e-01],\n",
       "         [-1.1581e-01,  3.3506e-01, -5.3643e-02,  ..., -3.1765e-01,\n",
       "           3.1327e-01,  1.8905e-01],\n",
       "         [-2.0914e-01,  2.0367e-01, -1.4481e-01,  ..., -3.3530e-01,\n",
       "           4.1197e-01,  1.1652e-01]],\n",
       "\n",
       "        [[-4.8090e-01,  5.6320e-01, -3.9316e-01,  ..., -2.8159e-01,\n",
       "           1.0953e+00,  2.3564e-01],\n",
       "         [-1.1215e-01,  4.2976e-01, -2.4888e-01,  ..., -5.3659e-03,\n",
       "           9.2311e-01,  3.0979e-01],\n",
       "         [ 1.1252e-01,  5.9290e-02, -8.9621e-02,  ...,  5.3355e-02,\n",
       "           5.5151e-01,  1.9111e-01],\n",
       "         ...,\n",
       "         [-1.6065e-01,  2.3010e-01,  3.6763e-02,  ..., -1.9538e-01,\n",
       "           3.5585e-01,  2.1014e-01],\n",
       "         [-9.6189e-02,  2.8841e-01,  1.0814e-01,  ..., -2.6771e-01,\n",
       "           2.5310e-01,  2.3318e-01],\n",
       "         [-1.8143e-01,  1.9889e-01,  9.4282e-02,  ..., -2.7451e-01,\n",
       "           3.5295e-01,  1.9356e-01]],\n",
       "\n",
       "        [[-4.8090e-01,  5.6320e-01, -3.9316e-01,  ..., -2.8159e-01,\n",
       "           1.0953e+00,  2.3564e-01],\n",
       "         [ 2.8311e-02,  6.7933e-01, -4.9142e-01,  ..., -4.4886e-01,\n",
       "           5.1273e-01, -1.3200e-03],\n",
       "         [ 5.2688e-02,  1.2036e-01, -2.0000e-01,  ..., -2.0562e-01,\n",
       "           4.0079e-01,  2.5214e-02],\n",
       "         ...,\n",
       "         [-5.4947e-02,  2.5659e-01, -1.8907e-01,  ..., -2.1268e-01,\n",
       "           2.2827e-01,  6.7037e-02],\n",
       "         [-3.7911e-02,  3.1174e-01, -2.6572e-02,  ..., -2.7472e-01,\n",
       "           1.2305e-01,  1.4375e-01],\n",
       "         [-1.2380e-01,  1.7497e-01, -1.5402e-01,  ..., -3.1879e-01,\n",
       "           2.5256e-01,  8.9747e-02]]], grad_fn=<ViewBackward0>)"
      ]
     },
     "execution_count": 353,
     "metadata": {},
     "output_type": "execute_result"
    }
   ],
   "source": [
    "xb, _ = get_batch('train', block_size, batch_size)\n",
    "print(xb)\n",
    "model2(xb)"
   ]
  },
  {
   "cell_type": "markdown",
   "id": "f619546f-1a91-4910-96f8-e60e88e51fa7",
   "metadata": {},
   "source": [
    "Compare the logits with the ground truth labels and compute the loss"
   ]
  },
  {
   "cell_type": "code",
   "execution_count": 354,
   "id": "8f63288a-c040-4db1-b4fe-9e319faee4a9",
   "metadata": {},
   "outputs": [
    {
     "data": {
      "text/plain": [
       "tensor(3.4241, grad_fn=<NllLossBackward0>)"
      ]
     },
     "execution_count": 354,
     "metadata": {},
     "output_type": "execute_result"
    }
   ],
   "source": [
    "xb, yb = get_batch('train', block_size, batch_size)\n",
    "model2.loss(model2(xb), yb)"
   ]
  },
  {
   "cell_type": "code",
   "execution_count": 355,
   "id": "d98ac647-d234-48da-a4b2-b769bac3ac90",
   "metadata": {},
   "outputs": [
    {
     "name": "stdout",
     "output_type": "stream",
     "text": [
      "loss=1.170016884803772\n"
     ]
    }
   ],
   "source": [
    "for _ in range(n_updates):\n",
    "    xb, yb = get_batch('train', block_size, batch_size)\n",
    "    logits = model2(xb)\n",
    "    loss = model2.loss(logits, yb)\n",
    "    losses.append(loss.log10().item())\n",
    "    #print(f'{loss=}')\n",
    "    optimizer2.zero_grad()\n",
    "    loss.backward()\n",
    "    optimizer2.step()\n",
    "\n",
    "print(f'loss={loss.item()}')"
   ]
  },
  {
   "cell_type": "markdown",
   "id": "e2fd5d9e-1778-4431-b9bc-f8806a041114",
   "metadata": {},
   "source": [
    "### Calculate validation loss"
   ]
  },
  {
   "cell_type": "code",
   "execution_count": 356,
   "id": "164f8bc2-a8da-4916-bb81-2756e9dd3bd7",
   "metadata": {},
   "outputs": [
    {
     "name": "stdout",
     "output_type": "stream",
     "text": [
      "tensor(1.0674, grad_fn=<NllLossBackward0>)\n"
     ]
    }
   ],
   "source": [
    "xb, yb = get_batch('val', block_size, batch_size)\n",
    "logits = model2(xb)\n",
    "val_loss = model2.loss(logits, yb)\n",
    "print(val_loss)"
   ]
  },
  {
   "cell_type": "markdown",
   "id": "01e09124-d9ef-41f0-bf8c-0d438935c5e6",
   "metadata": {},
   "source": [
    "### Plot the average loss"
   ]
  },
  {
   "cell_type": "code",
   "execution_count": 357,
   "id": "6540d34e-76b9-4d1c-983a-b975035359aa",
   "metadata": {},
   "outputs": [
    {
     "data": {
      "text/plain": [
       "[<matplotlib.lines.Line2D at 0x154e09790>]"
      ]
     },
     "execution_count": 357,
     "metadata": {},
     "output_type": "execute_result"
    },
    {
     "data": {
      "image/png": "[encoded data removed]",
      "text/plain": [
       "<Figure size 640x480 with 1 Axes>"
      ]
     },
     "metadata": {},
     "output_type": "display_data"
    }
   ],
   "source": [
    "avg_loss = torch.tensor(losses).view(-1, 100).mean(1)\n",
    "plt.plot(avg_loss)"
   ]
  },
  {
   "cell_type": "markdown",
   "id": "c4d47898-19f9-4718-a1d9-8232b1034c6d",
   "metadata": {},
   "source": [
    "### Generate some output from the model"
   ]
  },
  {
   "cell_type": "markdown",
   "id": "62dbd2d5-c1da-4142-a21e-21d114fb9417",
   "metadata": {},
   "source": [
    "Start with `<|starttext|>` as the \"prompt\"."
   ]
  },
  {
   "cell_type": "code",
   "execution_count": 358,
   "id": "c0d33430-9947-4a5d-898e-bdbb68c31ac1",
   "metadata": {},
   "outputs": [],
   "source": [
    "idx = torch.eye(1, dtype=torch.long)*torch.tensor(encode(['<|starttext|>']), dtype=torch.long)"
   ]
  },
  {
   "cell_type": "code",
   "execution_count": 359,
   "id": "09dd86d4-4832-4354-8bcd-62075af81cce",
   "metadata": {},
   "outputs": [
    {
     "name": "stdout",
     "output_type": "stream",
     "text": [
      "['<|starttext|>', 'n', 'e', 's', 'l', 'e', 'l', 'o', '<|endoftext|>']\n"
     ]
    }
   ],
   "source": [
    "print(decode(model2.generate(idx, max_new_tokens=100)[0].tolist()))"
   ]
  },
  {
   "cell_type": "markdown",
   "id": "a0a1c163-0ad5-4421-9ea1-9b7b98bbd617",
   "metadata": {},
   "source": [
    "### Multihead Attention"
   ]
  },
  {
   "cell_type": "code",
   "execution_count": 360,
   "id": "df1d0539-52bc-4ec6-a019-a8e1768f449f",
   "metadata": {},
   "outputs": [],
   "source": [
    "class MultiHeadAttention(nn.Module):\n",
    "    \"\"\" multiple heads of self-attention in parallel \"\"\"\n",
    "\n",
    "    def __init__(self, n_embed, block_size, n_heads, head_size):\n",
    "        super().__init__()\n",
    "        self.heads = nn.ModuleList([Head(n_embed, block_size, head_size) for _ in range(n_heads)])\n",
    "\n",
    "    def forward(self, x):\n",
    "        return torch.cat([h(x) for h in self.heads], dim=-1)"
   ]
  },
  {
   "cell_type": "code",
   "execution_count": 361,
   "id": "9950d1ef-2bc2-47c2-8540-528b96d983b1",
   "metadata": {},
   "outputs": [],
   "source": [
    "class MultiHeadTransformerLM(nn.Module):\n",
    "\n",
    "    def __init__(self, n_embed, vocab_size, block_size, n_heads):\n",
    "        super().__init__()\n",
    "        self.n_embed = n_embed\n",
    "        self.vocab_size = vocab_size\n",
    "        self.head_size = head_size\n",
    "        self.block_size = block_size\n",
    "        self.token_embed = nn.Embedding(vocab_size, n_embed) # (C, D)\n",
    "        self.position_embed = nn.Embedding(block_size, n_embed) # (T, D)\n",
    "        self.self_attn_head = MultiHeadAttention(n_embed, block_size, n_heads, n_embed//n_heads) # (D, T, C)\n",
    "        self.predict = nn.Linear(n_embed, vocab_size)\n",
    "\n",
    "    def forward(self, idx):\n",
    "        # B: batch_size\n",
    "        # T: block_size aka time\n",
    "        # C: channel_size aka vocab_size\n",
    "        # idx is a (B,T) size tensor\n",
    "        batch_size, block_size = idx.shape\n",
    "        token_embed = self.token_embed(idx) # (B, T, C)\n",
    "        position_embed = self.position_embed(torch.arange(block_size)) # (T, C)\n",
    "        x = token_embed + position_embed # (B, T, C)\n",
    "        x = self.self_attn_head(x) # apply one head of self attention: (B, T, C)\n",
    "        return self.predict(x) # return logits (B, T, vocab_size)\n",
    "\n",
    "    def loss(self, logits, targets):\n",
    "        # logits is a (B, T, C) tensor\n",
    "        # target is a (B, T) size tensor\n",
    "        return F.cross_entropy(\n",
    "                logits.view(-1, self.vocab_size), # convert to (B*T, C) tensor\n",
    "                targets.view(-1) # convert to (B*T) tensor\n",
    "                )\n",
    "\n",
    "    def generate(self, idx, max_new_tokens):\n",
    "        # idx is a (B, T) size tensor of indices\n",
    "        for _ in range(max_new_tokens):\n",
    "            # crop idx to the last block_size tokens\n",
    "            idx_cond = idx[:, -block_size:]\n",
    "            # get the predictions\n",
    "            logits = self(idx_cond) # ignore loss\n",
    "            # use the last time step\n",
    "            logits = logits[:, -1, :] # which is size (B, C)\n",
    "            # apply softmax to get probabilities\n",
    "            probs = F.softmax(logits, dim=-1) # size (B, C)\n",
    "            # sample from this probability distribution\n",
    "            idx_next = torch.multinomial(probs, num_samples=1) # size (B, 1)\n",
    "            if itos[idx_next.item()] in ('<|startoftext|>', '<|padtoken|>'):\n",
    "                continue\n",
    "            # append sampled token to sequence\n",
    "            idx = torch.cat((idx, idx_next), dim=1) # size (B, T+1)\n",
    "            decoded = decode(idx[-1].tolist())\n",
    "            if decoded[-1] == '<|endoftext|>':\n",
    "                break\n",
    "        return idx"
   ]
  },
  {
   "cell_type": "code",
   "execution_count": 362,
   "id": "a80d4d06-f529-458c-8d91-43257ccb0d02",
   "metadata": {},
   "outputs": [
    {
     "name": "stdout",
     "output_type": "stream",
     "text": [
      "MultiHeadTransformerLM(\n",
      "  (token_embed): Embedding(29, 32)\n",
      "  (position_embed): Embedding(16, 32)\n",
      "  (self_attn_head): MultiHeadAttention(\n",
      "    (heads): ModuleList(\n",
      "      (0-3): 4 x Head(\n",
      "        (key): Linear(in_features=32, out_features=8, bias=False)\n",
      "        (query): Linear(in_features=32, out_features=8, bias=False)\n",
      "        (value): Linear(in_features=32, out_features=8, bias=False)\n",
      "      )\n",
      "    )\n",
      "  )\n",
      "  (predict): Linear(in_features=32, out_features=29, bias=True)\n",
      ")\n"
     ]
    }
   ],
   "source": [
    "n_heads = 4\n",
    "model3 = MultiHeadTransformerLM(n_embed, vocab_size, block_size, n_heads)\n",
    "optimizer3 = optim.Adam(model3.parameters(), lr=1e-4)\n",
    "losses = []\n",
    "validation_losses = []\n",
    "print(model3)"
   ]
  },
  {
   "cell_type": "markdown",
   "id": "fc524dd1-b8ff-4b37-a1c1-bd90c011a0d3",
   "metadata": {},
   "source": [
    "### Training Loop"
   ]
  },
  {
   "cell_type": "code",
   "execution_count": 363,
   "id": "1c11d6e8-82b8-49b4-a5f4-f398e61e72b6",
   "metadata": {},
   "outputs": [
    {
     "name": "stdout",
     "output_type": "stream",
     "text": [
      "loss=1.0076924562454224\n"
     ]
    }
   ],
   "source": [
    "for _ in range(n_updates):\n",
    "    xb, yb = get_batch('train', block_size, batch_size)\n",
    "    logits = model3(xb)\n",
    "    loss = model3.loss(logits, yb)\n",
    "    losses.append(loss.log10().item())\n",
    "    #print(f'{loss=}')\n",
    "    optimizer3.zero_grad()\n",
    "    loss.backward()\n",
    "    optimizer3.step()\n",
    "\n",
    "print(f'loss={loss.item()}')"
   ]
  },
  {
   "cell_type": "markdown",
   "id": "b48b8efc-faeb-4cfa-814f-23cbb8cf7098",
   "metadata": {},
   "source": [
    "### Calculate validation loss"
   ]
  },
  {
   "cell_type": "code",
   "execution_count": 364,
   "id": "c92613fb-aa4c-4d37-a036-f1864b6a0500",
   "metadata": {},
   "outputs": [
    {
     "name": "stdout",
     "output_type": "stream",
     "text": [
      "tensor(1.4035, grad_fn=<NllLossBackward0>)\n"
     ]
    }
   ],
   "source": [
    "xb, yb = get_batch('val', block_size, batch_size)\n",
    "logits = model3(xb)\n",
    "val_loss = model3.loss(logits, yb)\n",
    "print(val_loss)"
   ]
  },
  {
   "cell_type": "markdown",
   "id": "98535865-0c5b-45a2-b01e-5d38adbb274e",
   "metadata": {},
   "source": [
    "### Plot the average loss"
   ]
  },
  {
   "cell_type": "code",
   "execution_count": 365,
   "id": "bf22b24a-3b65-479a-bd11-c8f6654aad59",
   "metadata": {},
   "outputs": [
    {
     "data": {
      "text/plain": [
       "[<matplotlib.lines.Line2D at 0x1360262a0>]"
      ]
     },
     "execution_count": 365,
     "metadata": {},
     "output_type": "execute_result"
    },
    {
     "data": {
      "image/png": "[encoded data removed]",
      "text/plain": [
       "<Figure size 640x480 with 1 Axes>"
      ]
     },
     "metadata": {},
     "output_type": "display_data"
    }
   ],
   "source": [
    "avg_loss = torch.tensor(losses).view(-1, 100).mean(1)\n",
    "plt.plot(avg_loss)"
   ]
  },
  {
   "cell_type": "markdown",
   "id": "f4e9b356-422b-41ac-9319-1f8f85fbd0da",
   "metadata": {},
   "source": [
    "### Generate some output from the model"
   ]
  },
  {
   "cell_type": "code",
   "execution_count": 366,
   "id": "8c77c182-60b4-474c-a9b1-f7f0899dff67",
   "metadata": {
    "scrolled": true
   },
   "outputs": [
    {
     "name": "stdout",
     "output_type": "stream",
     "text": [
      "['<|starttext|>', 's', 'i', 'r', 'e', 'y', 'x', '<|endoftext|>']\n"
     ]
    }
   ],
   "source": [
    "print(decode(model3.generate(idx, max_new_tokens=100)[0].tolist()))"
   ]
  },
  {
   "cell_type": "markdown",
   "id": "cd412702-4fa8-4128-9b6c-8fa8575566de",
   "metadata": {},
   "source": [
    "## Adding Feedforward Layer to the Transformer"
   ]
  },
  {
   "cell_type": "code",
   "execution_count": 367,
   "id": "c8a71f79-c05d-435f-b989-b6ad69ebb96e",
   "metadata": {},
   "outputs": [],
   "source": [
    "class FeedForward(nn.Module):\n",
    "    \"\"\" simple linear layer followed by non-linear transfer function \"\"\"\n",
    "\n",
    "    def __init__(self, n_embed):\n",
    "        super().__init__()\n",
    "        self.ff = nn.Sequential(\n",
    "            nn.Linear(n_embed, n_embed),\n",
    "            nn.GELU(),\n",
    "        )\n",
    "\n",
    "    def forward(self, x):\n",
    "        return self.ff(x)"
   ]
  },
  {
   "cell_type": "code",
   "execution_count": 368,
   "id": "08c7b6c0-c66e-4183-8925-0921c7e858e9",
   "metadata": {},
   "outputs": [],
   "source": [
    "class MultiHeadTransformerFFLM(nn.Module):\n",
    "\n",
    "    def __init__(self, n_embed, vocab_size, block_size, n_heads):\n",
    "        super().__init__()\n",
    "        self.n_embed = n_embed\n",
    "        self.vocab_size = vocab_size\n",
    "        self.head_size = head_size\n",
    "        self.block_size = block_size\n",
    "        self.token_embed = nn.Embedding(vocab_size, n_embed) # (C, D)\n",
    "        self.position_embed = nn.Embedding(block_size, n_embed) # (T, D)\n",
    "        self.self_attn_head = MultiHeadAttention(n_embed, block_size, n_heads, n_embed//n_heads) # (D, T, C)\n",
    "        self.ffwd = FeedForward(n_embed)\n",
    "        self.predict = nn.Linear(n_embed, vocab_size)\n",
    "\n",
    "    def forward(self, idx):\n",
    "        # B: batch_size\n",
    "        # T: block_size aka time\n",
    "        # C: channel_size aka vocab_size\n",
    "        # idx is a (B,T) size tensor\n",
    "        batch_size, block_size = idx.shape\n",
    "        token_embed = self.token_embed(idx) # (B, T, C)\n",
    "        position_embed = self.position_embed(torch.arange(block_size)) # (T, C)\n",
    "        x = token_embed + position_embed # (B, T, C)\n",
    "        x = self.self_attn_head(x) # apply one head of self attention: (B, T, C)\n",
    "        x = self.ffwd(x) # (B, T, C)\n",
    "        return self.predict(x) # return logits (B, T, vocab_size)\n",
    "\n",
    "    def loss(self, logits, targets):\n",
    "        # logits is a (B, T, C) tensor\n",
    "        # target is a (B, T) size tensor\n",
    "        return F.cross_entropy(\n",
    "                logits.view(-1, self.vocab_size), # convert to (B*T, C) tensor\n",
    "                targets.view(-1) # convert to (B*T) tensor\n",
    "                )\n",
    "\n",
    "    def generate(self, idx, max_new_tokens):\n",
    "        # idx is a (B, T) size tensor of indices\n",
    "        for _ in range(max_new_tokens):\n",
    "            # crop idx to the last block_size tokens\n",
    "            idx_cond = idx[:, -block_size:]\n",
    "            # get the predictions\n",
    "            logits = self(idx_cond) # ignore loss\n",
    "            # use the last time step\n",
    "            logits = logits[:, -1, :] # which is size (B, C)\n",
    "            # apply softmax to get probabilities\n",
    "            probs = F.softmax(logits, dim=-1) # size (B, C)\n",
    "            # sample from this probability distribution\n",
    "            idx_next = torch.multinomial(probs, num_samples=1) # size (B, 1)\n",
    "            if itos[idx_next.item()] in ('<|startoftext|>', '<|padtoken|>'):\n",
    "                continue\n",
    "            # append sampled token to sequence\n",
    "            idx = torch.cat((idx, idx_next), dim=1) # size (B, T+1)\n",
    "            decoded = decode(idx[-1].tolist())\n",
    "            if decoded[-1] == '<|endoftext|>':\n",
    "                break\n",
    "        return idx"
   ]
  },
  {
   "cell_type": "code",
   "execution_count": 369,
   "id": "7ea03156-c881-40c7-9f5c-2731b460d778",
   "metadata": {},
   "outputs": [
    {
     "name": "stdout",
     "output_type": "stream",
     "text": [
      "MultiHeadTransformerFFLM(\n",
      "  (token_embed): Embedding(29, 32)\n",
      "  (position_embed): Embedding(16, 32)\n",
      "  (self_attn_head): MultiHeadAttention(\n",
      "    (heads): ModuleList(\n",
      "      (0-3): 4 x Head(\n",
      "        (key): Linear(in_features=32, out_features=8, bias=False)\n",
      "        (query): Linear(in_features=32, out_features=8, bias=False)\n",
      "        (value): Linear(in_features=32, out_features=8, bias=False)\n",
      "      )\n",
      "    )\n",
      "  )\n",
      "  (ffwd): FeedForward(\n",
      "    (ff): Sequential(\n",
      "      (0): Linear(in_features=32, out_features=32, bias=True)\n",
      "      (1): GELU(approximate='none')\n",
      "    )\n",
      "  )\n",
      "  (predict): Linear(in_features=32, out_features=29, bias=True)\n",
      ")\n"
     ]
    }
   ],
   "source": [
    "n_heads = 4\n",
    "model4 = MultiHeadTransformerFFLM(n_embed, vocab_size, block_size, n_heads)\n",
    "optimizer4 = optim.Adam(model4.parameters(), lr=1e-4)\n",
    "losses = []\n",
    "validation_losses = []\n",
    "print(model4)"
   ]
  },
  {
   "cell_type": "markdown",
   "id": "9edac1cc-3244-4ee9-8186-6aca46b55b3b",
   "metadata": {},
   "source": [
    "### Training Loop"
   ]
  },
  {
   "cell_type": "code",
   "execution_count": 370,
   "id": "e29d9d3f-cd1b-4bc1-a817-b572b442e3db",
   "metadata": {},
   "outputs": [
    {
     "name": "stdout",
     "output_type": "stream",
     "text": [
      "loss=1.0106990337371826\n"
     ]
    }
   ],
   "source": [
    "for _ in range(n_updates):\n",
    "    xb, yb = get_batch('train', block_size, batch_size)\n",
    "    logits = model4(xb)\n",
    "    loss = model4.loss(logits, yb)\n",
    "    losses.append(loss.log10().item())\n",
    "    #print(f'{loss=}')\n",
    "    optimizer4.zero_grad()\n",
    "    loss.backward()\n",
    "    optimizer4.step()\n",
    "\n",
    "print(f'loss={loss.item()}')"
   ]
  },
  {
   "cell_type": "markdown",
   "id": "e9b4de04-9108-44d5-8265-8b553374a704",
   "metadata": {},
   "source": [
    "### Calculate validation loss"
   ]
  },
  {
   "cell_type": "code",
   "execution_count": 371,
   "id": "9107a7fa-d551-4528-9933-93b070511f8f",
   "metadata": {},
   "outputs": [
    {
     "name": "stdout",
     "output_type": "stream",
     "text": [
      "tensor(1.1818, grad_fn=<NllLossBackward0>)\n"
     ]
    }
   ],
   "source": [
    "xb, yb = get_batch('val', block_size, batch_size)\n",
    "logits = model3(xb)\n",
    "val_loss = model3.loss(logits, yb)\n",
    "print(val_loss)"
   ]
  },
  {
   "cell_type": "markdown",
   "id": "6b9ae7f1-df9c-4f3c-bdba-0e1f01f7324a",
   "metadata": {},
   "source": [
    "### Plot the average loss"
   ]
  },
  {
   "cell_type": "code",
   "execution_count": 372,
   "id": "405b2ac0-fd2e-4826-aabe-69c319cace18",
   "metadata": {},
   "outputs": [
    {
     "data": {
      "text/plain": [
       "[<matplotlib.lines.Line2D at 0x16ae079b0>]"
      ]
     },
     "execution_count": 372,
     "metadata": {},
     "output_type": "execute_result"
    },
    {
     "data": {
      "image/png": "[encoded data removed]",
      "text/plain": [
       "<Figure size 640x480 with 1 Axes>"
      ]
     },
     "metadata": {},
     "output_type": "display_data"
    }
   ],
   "source": [
    "avg_loss = torch.tensor(losses).view(-1, 100).mean(1)\n",
    "plt.plot(avg_loss)"
   ]
  },
  {
   "cell_type": "markdown",
   "id": "3cfa8f30-4ead-43b3-b08c-b294b368726c",
   "metadata": {},
   "source": [
    "### Generate some output from the model"
   ]
  },
  {
   "cell_type": "code",
   "execution_count": 373,
   "id": "543d438d-6156-4dc7-afae-afc726a76b05",
   "metadata": {
    "scrolled": true
   },
   "outputs": [
    {
     "name": "stdout",
     "output_type": "stream",
     "text": [
      "['<|starttext|>', 'p', 'a', 'l', 'r', 'i', 'k', 'a', '<|endoftext|>']\n"
     ]
    }
   ],
   "source": [
    "idx = torch.eye(1, dtype=torch.long)*torch.tensor(encode(['<|starttext|>']), dtype=torch.long)\n",
    "print(decode(model4.generate(idx, max_new_tokens=100)[0].tolist()))"
   ]
  },
  {
   "cell_type": "code",
   "execution_count": 374,
   "id": "3fc57bbc-6e37-4334-af50-6200fa16c609",
   "metadata": {},
   "outputs": [
    {
     "name": "stdout",
     "output_type": "stream",
     "text": [
      "MultiHeadTransformerFFLM(\n",
      "  (token_embed): Embedding(29, 32)\n",
      "  (position_embed): Embedding(16, 32)\n",
      "  (self_attn_head): MultiHeadAttention(\n",
      "    (heads): ModuleList(\n",
      "      (0-3): 4 x Head(\n",
      "        (key): Linear(in_features=32, out_features=8, bias=False)\n",
      "        (query): Linear(in_features=32, out_features=8, bias=False)\n",
      "        (value): Linear(in_features=32, out_features=8, bias=False)\n",
      "      )\n",
      "    )\n",
      "  )\n",
      "  (ffwd): FeedForward(\n",
      "    (ff): Sequential(\n",
      "      (0): Linear(in_features=32, out_features=32, bias=True)\n",
      "      (1): GELU(approximate='none')\n",
      "    )\n",
      "  )\n",
      "  (predict): Linear(in_features=32, out_features=29, bias=True)\n",
      ")\n"
     ]
    }
   ],
   "source": [
    "n_heads = 4\n",
    "model4 = MultiHeadTransformerFFLM(n_embed, vocab_size, block_size, n_heads)\n",
    "optimizer4 = optim.Adam(model4.parameters(), lr=1e-4)\n",
    "losses = []\n",
    "validation_losses = []\n",
    "print(model4)"
   ]
  },
  {
   "cell_type": "markdown",
   "id": "b6b20c7b-ed58-4029-8a84-c854b90c37cd",
   "metadata": {},
   "source": [
    "### Training Loop"
   ]
  },
  {
   "cell_type": "code",
   "execution_count": 375,
   "id": "d45aaf16-da7e-4400-8f66-abca786a7a6d",
   "metadata": {},
   "outputs": [
    {
     "name": "stdout",
     "output_type": "stream",
     "text": [
      "loss=1.2412707805633545\n"
     ]
    }
   ],
   "source": [
    "for _ in range(n_updates):\n",
    "    xb, yb = get_batch('train', block_size, batch_size)\n",
    "    logits = model4(xb)\n",
    "    loss = model4.loss(logits, yb)\n",
    "    losses.append(loss.log10().item())\n",
    "    #print(f'{loss=}')\n",
    "    optimizer4.zero_grad()\n",
    "    loss.backward()\n",
    "    optimizer4.step()\n",
    "\n",
    "print(f'loss={loss.item()}')"
   ]
  },
  {
   "cell_type": "markdown",
   "id": "bb287c78-7229-4901-b9f1-3ba12e47dd87",
   "metadata": {},
   "source": [
    "### Calculate validation loss"
   ]
  },
  {
   "cell_type": "code",
   "execution_count": 376,
   "id": "ad4580a6-dd5d-4c9c-b67d-8500e5b3807d",
   "metadata": {},
   "outputs": [
    {
     "name": "stdout",
     "output_type": "stream",
     "text": [
      "tensor(1.2021, grad_fn=<NllLossBackward0>)\n"
     ]
    }
   ],
   "source": [
    "xb, yb = get_batch('val', block_size, batch_size)\n",
    "logits = model4(xb)\n",
    "val_loss = model4.loss(logits, yb)\n",
    "print(val_loss)"
   ]
  },
  {
   "cell_type": "markdown",
   "id": "eacfa6ca-573d-4380-a6eb-7a12e8243bb2",
   "metadata": {},
   "source": [
    "### Plot the average loss"
   ]
  },
  {
   "cell_type": "code",
   "execution_count": 377,
   "id": "b07a7d7c-d14b-49be-8bba-fcd25e208c75",
   "metadata": {},
   "outputs": [
    {
     "data": {
      "text/plain": [
       "[<matplotlib.lines.Line2D at 0x16ae0bef0>]"
      ]
     },
     "execution_count": 377,
     "metadata": {},
     "output_type": "execute_result"
    },
    {
     "data": {
      "image/png": "[encoded data removed]",
      "text/plain": [
       "<Figure size 640x480 with 1 Axes>"
      ]
     },
     "metadata": {},
     "output_type": "display_data"
    }
   ],
   "source": [
    "avg_loss = torch.tensor(losses).view(-1, 100).mean(1)\n",
    "plt.plot(avg_loss)"
   ]
  },
  {
   "cell_type": "markdown",
   "id": "35187763-c142-424d-82d6-86941909f598",
   "metadata": {},
   "source": [
    "### Generate some output from the model"
   ]
  },
  {
   "cell_type": "code",
   "execution_count": 378,
   "id": "eaf56ea0-5ba6-4a9c-a456-381f124f4133",
   "metadata": {
    "scrolled": true
   },
   "outputs": [
    {
     "name": "stdout",
     "output_type": "stream",
     "text": [
      "['<|starttext|>', 's', 'r', 'a', 'l', 'r', 'e', 'y', '<|endoftext|>']\n"
     ]
    }
   ],
   "source": [
    "idx = torch.eye(1, dtype=torch.long)*torch.tensor(encode(['<|starttext|>']), dtype=torch.long)\n",
    "print(decode(model4.generate(idx, max_new_tokens=100)[0].tolist()))"
   ]
  },
  {
   "cell_type": "markdown",
   "id": "123882eb-46fa-41c5-884d-7315d3c91c97",
   "metadata": {},
   "source": [
    "## Adding a Transformer Block for Multiple Layers"
   ]
  },
  {
   "cell_type": "code",
   "execution_count": 379,
   "id": "f70494f8-dba0-4c0a-ba67-c6907e800a66",
   "metadata": {},
   "outputs": [],
   "source": [
    "class TransformerBlock(nn.Module):\n",
    "\n",
    "    def __init__(self, n_embed, block_size, n_heads):\n",
    "        super().__init__()\n",
    "        self.head_size = n_embed // n_heads\n",
    "        self.self_attn_head = MultiHeadAttention(n_embed, block_size, n_heads, self.head_size) # (D, T, C)\n",
    "        self.ffwd = FeedForward(n_embed)\n",
    "\n",
    "    def forward(self, x):\n",
    "        x = self.self_attn_head(x)\n",
    "        x = self.ffwd(x)\n",
    "        return x"
   ]
  },
  {
   "cell_type": "code",
   "execution_count": 380,
   "id": "ecf57e7f-ad5d-40c0-8b78-5d99553b60c4",
   "metadata": {},
   "outputs": [],
   "source": [
    "class MultiHeadTransformerBlockLM(nn.Module):\n",
    "\n",
    "    def __init__(self, n_embed, vocab_size, block_size, n_heads):\n",
    "        super().__init__()\n",
    "        self.n_embed = n_embed\n",
    "        self.vocab_size = vocab_size\n",
    "        self.head_size = head_size\n",
    "        self.block_size = block_size\n",
    "        self.token_embed = nn.Embedding(vocab_size, n_embed) # (C, D)\n",
    "        self.position_embed = nn.Embedding(block_size, n_embed) # (T, D)\n",
    "        self.blocks = nn.Sequential(\n",
    "            TransformerBlock(n_embed, block_size, n_heads),\n",
    "            TransformerBlock(n_embed, block_size, n_heads),\n",
    "        )            \n",
    "        self.predict = nn.Linear(n_embed, vocab_size)\n",
    "\n",
    "    def forward(self, idx):\n",
    "        # B: batch_size\n",
    "        # T: block_size aka time\n",
    "        # C: channel_size aka vocab_size\n",
    "        # idx is a (B,T) size tensor\n",
    "        batch_size, block_size = idx.shape\n",
    "        token_embed = self.token_embed(idx) # (B, T, C)\n",
    "        position_embed = self.position_embed(torch.arange(block_size)) # (T, C)\n",
    "        x = token_embed + position_embed # (B, T, C)\n",
    "        x = self.blocks(x)\n",
    "        return self.predict(x) # return logits (B, T, vocab_size)\n",
    "\n",
    "    def loss(self, logits, targets):\n",
    "        # logits is a (B, T, C) tensor\n",
    "        # target is a (B, T) size tensor\n",
    "        return F.cross_entropy(\n",
    "                logits.view(-1, self.vocab_size), # convert to (B*T, C) tensor\n",
    "                targets.view(-1) # convert to (B*T) tensor\n",
    "                )\n",
    "\n",
    "    def generate(self, idx, max_new_tokens):\n",
    "        # idx is a (B, T) size tensor of indices\n",
    "        for _ in range(max_new_tokens):\n",
    "            # crop idx to the last block_size tokens\n",
    "            idx_cond = idx[:, -block_size:]\n",
    "            # get the predictions\n",
    "            logits = self(idx_cond) # ignore loss\n",
    "            # use the last time step\n",
    "            logits = logits[:, -1, :] # which is size (B, C)\n",
    "            # apply softmax to get probabilities\n",
    "            probs = F.softmax(logits, dim=-1) # size (B, C)\n",
    "            # sample from this probability distribution\n",
    "            idx_next = torch.multinomial(probs, num_samples=1) # size (B, 1)\n",
    "            if itos[idx_next.item()] in ('<|startoftext|>', '<|padtoken|>'):\n",
    "                continue\n",
    "            # append sampled token to sequence\n",
    "            idx = torch.cat((idx, idx_next), dim=1) # size (B, T+1)\n",
    "            decoded = decode(idx[-1].tolist())\n",
    "            if decoded[-1] == '<|endoftext|>':\n",
    "                break\n",
    "        return idx"
   ]
  },
  {
   "cell_type": "code",
   "execution_count": 381,
   "id": "5068d0b8-eb7d-443a-9f00-27e272c1b476",
   "metadata": {},
   "outputs": [
    {
     "name": "stdout",
     "output_type": "stream",
     "text": [
      "MultiHeadTransformerBlockLM(\n",
      "  (token_embed): Embedding(29, 32)\n",
      "  (position_embed): Embedding(16, 32)\n",
      "  (blocks): Sequential(\n",
      "    (0): TransformerBlock(\n",
      "      (self_attn_head): MultiHeadAttention(\n",
      "        (heads): ModuleList(\n",
      "          (0-3): 4 x Head(\n",
      "            (key): Linear(in_features=32, out_features=8, bias=False)\n",
      "            (query): Linear(in_features=32, out_features=8, bias=False)\n",
      "            (value): Linear(in_features=32, out_features=8, bias=False)\n",
      "          )\n",
      "        )\n",
      "      )\n",
      "      (ffwd): FeedForward(\n",
      "        (ff): Sequential(\n",
      "          (0): Linear(in_features=32, out_features=32, bias=True)\n",
      "          (1): GELU(approximate='none')\n",
      "        )\n",
      "      )\n",
      "    )\n",
      "    (1): TransformerBlock(\n",
      "      (self_attn_head): MultiHeadAttention(\n",
      "        (heads): ModuleList(\n",
      "          (0-3): 4 x Head(\n",
      "            (key): Linear(in_features=32, out_features=8, bias=False)\n",
      "            (query): Linear(in_features=32, out_features=8, bias=False)\n",
      "            (value): Linear(in_features=32, out_features=8, bias=False)\n",
      "          )\n",
      "        )\n",
      "      )\n",
      "      (ffwd): FeedForward(\n",
      "        (ff): Sequential(\n",
      "          (0): Linear(in_features=32, out_features=32, bias=True)\n",
      "          (1): GELU(approximate='none')\n",
      "        )\n",
      "      )\n",
      "    )\n",
      "  )\n",
      "  (predict): Linear(in_features=32, out_features=29, bias=True)\n",
      ")\n"
     ]
    }
   ],
   "source": [
    "n_heads = 4\n",
    "model5 = MultiHeadTransformerBlockLM(n_embed, vocab_size, block_size, n_heads)\n",
    "optimizer5 = optim.Adam(model5.parameters(), lr=1e-4)\n",
    "losses = []\n",
    "validation_losses = []\n",
    "print(model5)"
   ]
  },
  {
   "cell_type": "markdown",
   "id": "82809279-115d-4944-91d7-d9d73ecb30f3",
   "metadata": {},
   "source": [
    "### Training Loop"
   ]
  },
  {
   "cell_type": "code",
   "execution_count": 382,
   "id": "037a38a6-c7b3-4d92-be77-abae07c53d34",
   "metadata": {},
   "outputs": [
    {
     "name": "stdout",
     "output_type": "stream",
     "text": [
      "loss=1.0505812168121338\n"
     ]
    }
   ],
   "source": [
    "for _ in range(n_updates):\n",
    "    xb, yb = get_batch('train', block_size, batch_size)\n",
    "    logits = model5(xb)\n",
    "    loss = model5.loss(logits, yb)\n",
    "    losses.append(loss.log10().item())\n",
    "    #print(f'{loss=}')\n",
    "    optimizer5.zero_grad()\n",
    "    loss.backward()\n",
    "    optimizer5.step()\n",
    "\n",
    "print(f'loss={loss.item()}')"
   ]
  },
  {
   "cell_type": "markdown",
   "id": "435193d5-61cb-4a2f-9a98-80e75b27a316",
   "metadata": {},
   "source": [
    "### Calculate validation loss"
   ]
  },
  {
   "cell_type": "code",
   "execution_count": 383,
   "id": "40bd765a-85f6-4e84-b181-9a311de8566d",
   "metadata": {},
   "outputs": [
    {
     "name": "stdout",
     "output_type": "stream",
     "text": [
      "tensor(1.0027, grad_fn=<NllLossBackward0>)\n"
     ]
    }
   ],
   "source": [
    "xb, yb = get_batch('val', block_size, batch_size)\n",
    "logits = model5(xb)\n",
    "val_loss = model5.loss(logits, yb)\n",
    "print(val_loss)"
   ]
  },
  {
   "cell_type": "markdown",
   "id": "92c97ac1-869a-4153-a84f-c626c7b56f63",
   "metadata": {},
   "source": [
    "### Plot the average loss"
   ]
  },
  {
   "cell_type": "code",
   "execution_count": 384,
   "id": "bd7945c0-df19-4ef0-8b27-912fbb14f520",
   "metadata": {},
   "outputs": [
    {
     "data": {
      "text/plain": [
       "[<matplotlib.lines.Line2D at 0x16aeb62a0>]"
      ]
     },
     "execution_count": 384,
     "metadata": {},
     "output_type": "execute_result"
    },
    {
     "data": {
      "image/png": "[encoded data removed]",
      "text/plain": [
       "<Figure size 640x480 with 1 Axes>"
      ]
     },
     "metadata": {},
     "output_type": "display_data"
    }
   ],
   "source": [
    "avg_loss = torch.tensor(losses).view(-1, 100).mean(1)\n",
    "plt.plot(avg_loss)"
   ]
  },
  {
   "cell_type": "markdown",
   "id": "7cc770ff-d389-4072-8a28-ef740ffc68e7",
   "metadata": {},
   "source": [
    "### Generate some output from the model"
   ]
  },
  {
   "cell_type": "code",
   "execution_count": 385,
   "id": "05e2253e-b391-406b-be81-5432a209213d",
   "metadata": {
    "scrolled": true
   },
   "outputs": [
    {
     "name": "stdout",
     "output_type": "stream",
     "text": [
      "['<|starttext|>', 'e', 'e', 'l', 'e', 'a', 'l', 'y', 'n', '<|endoftext|>']\n"
     ]
    }
   ],
   "source": [
    "idx = torch.eye(1, dtype=torch.long)*torch.tensor(encode(['<|starttext|>']), dtype=torch.long)\n",
    "print(decode(model5.generate(idx, max_new_tokens=100)[0].tolist()))"
   ]
  },
  {
   "cell_type": "markdown",
   "id": "654814be-12bf-4ece-a6a6-13aa34924027",
   "metadata": {},
   "source": [
    "## Adding Residual Connections"
   ]
  },
  {
   "cell_type": "code",
   "execution_count": 386,
   "id": "678e487d-b079-484f-b92e-8427c66edb39",
   "metadata": {},
   "outputs": [],
   "source": [
    "class MultiHeadAttentionResiduals(nn.Module):\n",
    "    \"\"\" multiple heads of self-attention in parallel \"\"\"\n",
    "\n",
    "    def __init__(self, n_embed, block_size, n_heads, head_size):\n",
    "        super().__init__()\n",
    "        self.heads = nn.ModuleList([Head(n_embed, block_size, head_size) for _ in range(n_heads)])\n",
    "        self.proj = nn.Linear(n_embed, n_embed)\n",
    "\n",
    "    def forward(self, x):\n",
    "        out = torch.cat([h(x) for h in self.heads], dim=-1)\n",
    "        return self.proj(out)"
   ]
  },
  {
   "cell_type": "code",
   "execution_count": 387,
   "id": "b8688db0-a868-4408-a956-8b48645d1a73",
   "metadata": {},
   "outputs": [],
   "source": [
    "class FeedForwardResiduals(nn.Module):\n",
    "    \"\"\" simple linear layer followed by non-linear transfer function \"\"\"\n",
    "\n",
    "    def __init__(self, n_embed):\n",
    "        super().__init__()\n",
    "        self.ff = nn.Sequential(\n",
    "            nn.Linear(n_embed, 4 * n_embed), # grow the feedforward layer internally\n",
    "            nn.GELU(),\n",
    "            nn.Linear(4 * n_embed, n_embed),\n",
    "        )\n",
    "\n",
    "    def forward(self, x):\n",
    "        return self.ff(x)"
   ]
  },
  {
   "cell_type": "code",
   "execution_count": 388,
   "id": "aa26adf7-b279-4d86-849e-f1ecac087a64",
   "metadata": {},
   "outputs": [],
   "source": [
    "class TransformerBlockResiduals(nn.Module):\n",
    "\n",
    "    def __init__(self, n_embed, block_size, n_heads):\n",
    "        super().__init__()\n",
    "        self.head_size = n_embed // n_heads\n",
    "        self.self_attn_head = MultiHeadAttentionResiduals(n_embed, block_size, n_heads, self.head_size) # (D, T, C)\n",
    "        self.ffwd = FeedForwardResiduals(n_embed)\n",
    "\n",
    "    def forward(self, x):\n",
    "        x = x + self.self_attn_head(x) # add residual connections\n",
    "        x = x + self.ffwd(x)           # add residual connections\n",
    "        return x"
   ]
  },
  {
   "cell_type": "code",
   "execution_count": 389,
   "id": "d56d9a3b-d853-412d-8ab2-2956e0e9bca0",
   "metadata": {},
   "outputs": [],
   "source": [
    "class MultiHeadTransformerBlockResidualsLM(nn.Module):\n",
    "\n",
    "    def __init__(self, n_embed, vocab_size, block_size, n_heads):\n",
    "        super().__init__()\n",
    "        self.n_embed = n_embed\n",
    "        self.vocab_size = vocab_size\n",
    "        self.head_size = head_size\n",
    "        self.block_size = block_size\n",
    "        self.token_embed = nn.Embedding(vocab_size, n_embed) # (C, D)\n",
    "        self.position_embed = nn.Embedding(block_size, n_embed) # (T, D)\n",
    "        self.blocks = nn.Sequential(\n",
    "            TransformerBlockResiduals(n_embed, block_size, n_heads),\n",
    "            TransformerBlockResiduals(n_embed, block_size, n_heads),\n",
    "        )            \n",
    "        self.predict = nn.Linear(n_embed, vocab_size)\n",
    "\n",
    "    def forward(self, idx):\n",
    "        # B: batch_size\n",
    "        # T: block_size aka time\n",
    "        # C: channel_size aka vocab_size\n",
    "        # idx is a (B,T) size tensor\n",
    "        batch_size, block_size = idx.shape\n",
    "        token_embed = self.token_embed(idx) # (B, T, C)\n",
    "        position_embed = self.position_embed(torch.arange(block_size)) # (T, C)\n",
    "        x = token_embed + position_embed # (B, T, C)\n",
    "        x = self.blocks(x)\n",
    "        return self.predict(x) # return logits (B, T, vocab_size)\n",
    "\n",
    "    def loss(self, logits, targets):\n",
    "        # logits is a (B, T, C) tensor\n",
    "        # target is a (B, T) size tensor\n",
    "        return F.cross_entropy(\n",
    "                logits.view(-1, self.vocab_size), # convert to (B*T, C) tensor\n",
    "                targets.view(-1) # convert to (B*T) tensor\n",
    "                )\n",
    "\n",
    "    def generate(self, idx, max_new_tokens):\n",
    "        # idx is a (B, T) size tensor of indices\n",
    "        for _ in range(max_new_tokens):\n",
    "            # crop idx to the last block_size tokens\n",
    "            idx_cond = idx[:, -block_size:]\n",
    "            # get the predictions\n",
    "            logits = self(idx_cond) # ignore loss\n",
    "            # use the last time step\n",
    "            logits = logits[:, -1, :] # which is size (B, C)\n",
    "            # apply softmax to get probabilities\n",
    "            probs = F.softmax(logits, dim=-1) # size (B, C)\n",
    "            # sample from this probability distribution\n",
    "            idx_next = torch.multinomial(probs, num_samples=1) # size (B, 1)\n",
    "            if itos[idx_next.item()] in ('<|startoftext|>', '<|padtoken|>'):\n",
    "                continue\n",
    "            # append sampled token to sequence\n",
    "            idx = torch.cat((idx, idx_next), dim=1) # size (B, T+1)\n",
    "            decoded = decode(idx[-1].tolist())\n",
    "            if decoded[-1] == '<|endoftext|>':\n",
    "                break\n",
    "        return idx"
   ]
  },
  {
   "cell_type": "code",
   "execution_count": 390,
   "id": "ac922a69-4ed6-4257-89cc-8ade17b6000c",
   "metadata": {},
   "outputs": [
    {
     "name": "stdout",
     "output_type": "stream",
     "text": [
      "MultiHeadTransformerBlockResidualsLM(\n",
      "  (token_embed): Embedding(29, 32)\n",
      "  (position_embed): Embedding(16, 32)\n",
      "  (blocks): Sequential(\n",
      "    (0): TransformerBlockResiduals(\n",
      "      (self_attn_head): MultiHeadAttentionResiduals(\n",
      "        (heads): ModuleList(\n",
      "          (0-3): 4 x Head(\n",
      "            (key): Linear(in_features=32, out_features=8, bias=False)\n",
      "            (query): Linear(in_features=32, out_features=8, bias=False)\n",
      "            (value): Linear(in_features=32, out_features=8, bias=False)\n",
      "          )\n",
      "        )\n",
      "        (proj): Linear(in_features=32, out_features=32, bias=True)\n",
      "      )\n",
      "      (ffwd): FeedForwardResiduals(\n",
      "        (ff): Sequential(\n",
      "          (0): Linear(in_features=32, out_features=128, bias=True)\n",
      "          (1): GELU(approximate='none')\n",
      "          (2): Linear(in_features=128, out_features=32, bias=True)\n",
      "        )\n",
      "      )\n",
      "    )\n",
      "    (1): TransformerBlockResiduals(\n",
      "      (self_attn_head): MultiHeadAttentionResiduals(\n",
      "        (heads): ModuleList(\n",
      "          (0-3): 4 x Head(\n",
      "            (key): Linear(in_features=32, out_features=8, bias=False)\n",
      "            (query): Linear(in_features=32, out_features=8, bias=False)\n",
      "            (value): Linear(in_features=32, out_features=8, bias=False)\n",
      "          )\n",
      "        )\n",
      "        (proj): Linear(in_features=32, out_features=32, bias=True)\n",
      "      )\n",
      "      (ffwd): FeedForwardResiduals(\n",
      "        (ff): Sequential(\n",
      "          (0): Linear(in_features=32, out_features=128, bias=True)\n",
      "          (1): GELU(approximate='none')\n",
      "          (2): Linear(in_features=128, out_features=32, bias=True)\n",
      "        )\n",
      "      )\n",
      "    )\n",
      "  )\n",
      "  (predict): Linear(in_features=32, out_features=29, bias=True)\n",
      ")\n"
     ]
    }
   ],
   "source": [
    "n_heads = 4\n",
    "model6 = MultiHeadTransformerBlockResidualsLM(n_embed, vocab_size, block_size, n_heads)\n",
    "optimizer6 = optim.Adam(model6.parameters(), lr=1e-4)\n",
    "losses = []\n",
    "validation_losses = []\n",
    "print(model6)"
   ]
  },
  {
   "cell_type": "markdown",
   "id": "c1167308-4d4c-48c8-aef6-d750f0b45dbe",
   "metadata": {},
   "source": [
    "### Training Loop"
   ]
  },
  {
   "cell_type": "code",
   "execution_count": 391,
   "id": "ca7cb7f7-3465-42cc-acbc-bc827f16c459",
   "metadata": {},
   "outputs": [
    {
     "name": "stdout",
     "output_type": "stream",
     "text": [
      "loss=1.0095651149749756\n"
     ]
    }
   ],
   "source": [
    "for _ in range(n_updates):\n",
    "    xb, yb = get_batch('train', block_size, batch_size)\n",
    "    logits = model6(xb)\n",
    "    loss = model6.loss(logits, yb)\n",
    "    losses.append(loss.log10().item())\n",
    "    #print(f'{loss=}')\n",
    "    optimizer6.zero_grad()\n",
    "    loss.backward()\n",
    "    optimizer6.step()\n",
    "\n",
    "print(f'loss={loss.item()}')"
   ]
  },
  {
   "cell_type": "markdown",
   "id": "95ae27e5-4b59-44eb-822b-ac08df85fbae",
   "metadata": {},
   "source": [
    "### Calculate validation loss"
   ]
  },
  {
   "cell_type": "code",
   "execution_count": 392,
   "id": "493f7805-88a4-43d5-92ab-801b5e4d8de6",
   "metadata": {},
   "outputs": [
    {
     "name": "stdout",
     "output_type": "stream",
     "text": [
      "tensor(1.2506, grad_fn=<NllLossBackward0>)\n"
     ]
    }
   ],
   "source": [
    "xb, yb = get_batch('val', block_size, batch_size)\n",
    "logits = model6(xb)\n",
    "val_loss = model6.loss(logits, yb)\n",
    "print(val_loss)"
   ]
  },
  {
   "cell_type": "markdown",
   "id": "c71ee49b-d800-44d4-baf6-41b7b5326151",
   "metadata": {},
   "source": [
    "### Plot the average loss"
   ]
  },
  {
   "cell_type": "code",
   "execution_count": 393,
   "id": "d1084b94-9877-44aa-a25f-b37ab0d7c721",
   "metadata": {},
   "outputs": [
    {
     "data": {
      "text/plain": [
       "[<matplotlib.lines.Line2D at 0x136352bd0>]"
      ]
     },
     "execution_count": 393,
     "metadata": {},
     "output_type": "execute_result"
    },
    {
     "data": {
      "image/png": "[encoded data removed]",
      "text/plain": [
       "<Figure size 640x480 with 1 Axes>"
      ]
     },
     "metadata": {},
     "output_type": "display_data"
    }
   ],
   "source": [
    "avg_loss = torch.tensor(losses).view(-1, 100).mean(1)\n",
    "plt.plot(avg_loss)"
   ]
  },
  {
   "cell_type": "markdown",
   "id": "e56fd557-593c-4e1f-b9c2-86f0ed0336d0",
   "metadata": {},
   "source": [
    "### Generate some output from the model"
   ]
  },
  {
   "cell_type": "code",
   "execution_count": 394,
   "id": "e097a08a-9662-4759-9ba3-c672c1864296",
   "metadata": {
    "scrolled": true
   },
   "outputs": [
    {
     "name": "stdout",
     "output_type": "stream",
     "text": [
      "['<|starttext|>', 'n', 'e', 'n', 'i', 'r', 'e', 'l', 'y', '<|endoftext|>']\n"
     ]
    }
   ],
   "source": [
    "idx = torch.eye(1, dtype=torch.long)*torch.tensor(encode(['<|starttext|>']), dtype=torch.long)\n",
    "print(decode(model6.generate(idx, max_new_tokens=100)[0].tolist()))"
   ]
  },
  {
   "cell_type": "markdown",
   "id": "21748994-acbf-4cab-b932-1ba04d661aef",
   "metadata": {},
   "source": [
    "## Add LayerNorm"
   ]
  },
  {
   "cell_type": "code",
   "execution_count": 395,
   "id": "4ff228d5-6120-4e04-8aa6-a0e1de4de4be",
   "metadata": {},
   "outputs": [],
   "source": [
    "class TransformerBlockResidualsLayerNorm(nn.Module):\n",
    "\n",
    "    def __init__(self, n_embed, block_size, n_heads):\n",
    "        super().__init__()\n",
    "        self.head_size = n_embed // n_heads\n",
    "        self.self_attn_head = MultiHeadAttentionResiduals(n_embed, block_size, n_heads, self.head_size) # (D, T, C)\n",
    "        self.ffwd = FeedForwardResiduals(n_embed)\n",
    "        self.ln1 = nn.LayerNorm(n_embed)\n",
    "        self.ln2 = nn.LayerNorm(n_embed)\n",
    "\n",
    "    def forward(self, x):\n",
    "        x = x + self.self_attn_head(self.ln1(x)) # add LayerNorm inside (pre-norm)\n",
    "        x = x + self.ffwd(self.ln2(x))           # add LayerNorm inside (pre-norm)\n",
    "        return x"
   ]
  },
  {
   "cell_type": "code",
   "execution_count": 396,
   "id": "5efc088e-de72-4421-bd59-8a64bf94b6be",
   "metadata": {},
   "outputs": [],
   "source": [
    "class MultiHeadTransformerBlockResidualsLayerNormLM(nn.Module):\n",
    "\n",
    "    def __init__(self, n_embed, vocab_size, block_size, n_heads):\n",
    "        super().__init__()\n",
    "        self.n_embed = n_embed\n",
    "        self.vocab_size = vocab_size\n",
    "        self.head_size = head_size\n",
    "        self.block_size = block_size\n",
    "        self.token_embed = nn.Embedding(vocab_size, n_embed) # (C, D)\n",
    "        self.position_embed = nn.Embedding(block_size, n_embed) # (T, D)\n",
    "        self.blocks = nn.Sequential(\n",
    "            TransformerBlockResidualsLayerNorm(n_embed, block_size, n_heads),\n",
    "            TransformerBlockResidualsLayerNorm(n_embed, block_size, n_heads),\n",
    "            nn.LayerNorm(n_embed)\n",
    "        )            \n",
    "        self.predict = nn.Linear(n_embed, vocab_size)\n",
    "\n",
    "    def forward(self, idx):\n",
    "        # B: batch_size\n",
    "        # T: block_size aka time\n",
    "        # C: channel_size aka vocab_size\n",
    "        # idx is a (B,T) size tensor\n",
    "        batch_size, block_size = idx.shape\n",
    "        token_embed = self.token_embed(idx) # (B, T, C)\n",
    "        position_embed = self.position_embed(torch.arange(block_size)) # (T, C)\n",
    "        x = token_embed + position_embed # (B, T, C)\n",
    "        x = self.blocks(x)\n",
    "        return self.predict(x) # return logits (B, T, vocab_size)\n",
    "\n",
    "    def loss(self, logits, targets):\n",
    "        # logits is a (B, T, C) tensor\n",
    "        # target is a (B, T) size tensor\n",
    "        return F.cross_entropy(\n",
    "                logits.view(-1, self.vocab_size), # convert to (B*T, C) tensor\n",
    "                targets.view(-1) # convert to (B*T) tensor\n",
    "                )\n",
    "\n",
    "    def generate(self, idx, max_new_tokens):\n",
    "        # idx is a (B, T) size tensor of indices\n",
    "        for _ in range(max_new_tokens):\n",
    "            # crop idx to the last block_size tokens\n",
    "            idx_cond = idx[:, -block_size:]\n",
    "            # get the predictions\n",
    "            logits = self(idx_cond) # ignore loss\n",
    "            # use the last time step\n",
    "            logits = logits[:, -1, :] # which is size (B, C)\n",
    "            # apply softmax to get probabilities\n",
    "            probs = F.softmax(logits, dim=-1) # size (B, C)\n",
    "            # sample from this probability distribution\n",
    "            idx_next = torch.multinomial(probs, num_samples=1) # size (B, 1)\n",
    "            if itos[idx_next.item()] in ('<|startoftext|>', '<|padtoken|>'):\n",
    "                continue\n",
    "            # append sampled token to sequence\n",
    "            idx = torch.cat((idx, idx_next), dim=1) # size (B, T+1)\n",
    "            decoded = decode(idx[-1].tolist())\n",
    "            if decoded[-1] == '<|endoftext|>':\n",
    "                break\n",
    "        return idx"
   ]
  },
  {
   "cell_type": "code",
   "execution_count": 397,
   "id": "866ae611-e092-446e-b264-3ef50d1e966e",
   "metadata": {},
   "outputs": [
    {
     "name": "stdout",
     "output_type": "stream",
     "text": [
      "MultiHeadTransformerBlockResidualsLM(\n",
      "  (token_embed): Embedding(29, 32)\n",
      "  (position_embed): Embedding(16, 32)\n",
      "  (blocks): Sequential(\n",
      "    (0): TransformerBlockResiduals(\n",
      "      (self_attn_head): MultiHeadAttentionResiduals(\n",
      "        (heads): ModuleList(\n",
      "          (0-3): 4 x Head(\n",
      "            (key): Linear(in_features=32, out_features=8, bias=False)\n",
      "            (query): Linear(in_features=32, out_features=8, bias=False)\n",
      "            (value): Linear(in_features=32, out_features=8, bias=False)\n",
      "          )\n",
      "        )\n",
      "        (proj): Linear(in_features=32, out_features=32, bias=True)\n",
      "      )\n",
      "      (ffwd): FeedForwardResiduals(\n",
      "        (ff): Sequential(\n",
      "          (0): Linear(in_features=32, out_features=128, bias=True)\n",
      "          (1): GELU(approximate='none')\n",
      "          (2): Linear(in_features=128, out_features=32, bias=True)\n",
      "        )\n",
      "      )\n",
      "    )\n",
      "    (1): TransformerBlockResiduals(\n",
      "      (self_attn_head): MultiHeadAttentionResiduals(\n",
      "        (heads): ModuleList(\n",
      "          (0-3): 4 x Head(\n",
      "            (key): Linear(in_features=32, out_features=8, bias=False)\n",
      "            (query): Linear(in_features=32, out_features=8, bias=False)\n",
      "            (value): Linear(in_features=32, out_features=8, bias=False)\n",
      "          )\n",
      "        )\n",
      "        (proj): Linear(in_features=32, out_features=32, bias=True)\n",
      "      )\n",
      "      (ffwd): FeedForwardResiduals(\n",
      "        (ff): Sequential(\n",
      "          (0): Linear(in_features=32, out_features=128, bias=True)\n",
      "          (1): GELU(approximate='none')\n",
      "          (2): Linear(in_features=128, out_features=32, bias=True)\n",
      "        )\n",
      "      )\n",
      "    )\n",
      "  )\n",
      "  (predict): Linear(in_features=32, out_features=29, bias=True)\n",
      ")\n"
     ]
    }
   ],
   "source": [
    "n_heads = 4\n",
    "model7 = MultiHeadTransformerBlockResidualsLM(n_embed, vocab_size, block_size, n_heads)\n",
    "optimizer7 = optim.Adam(model7.parameters(), lr=1e-4)\n",
    "losses = []\n",
    "validation_losses = []\n",
    "print(model7)"
   ]
  },
  {
   "cell_type": "markdown",
   "id": "c6d0cc3a-5e8b-4e58-a5fa-cfa8ca2a42cf",
   "metadata": {},
   "source": [
    "### Training Loop"
   ]
  },
  {
   "cell_type": "code",
   "execution_count": 398,
   "id": "37e2e0ff-319f-4a39-ab6e-36cd43c55aac",
   "metadata": {},
   "outputs": [
    {
     "name": "stdout",
     "output_type": "stream",
     "text": [
      "loss=1.1160454750061035\n"
     ]
    }
   ],
   "source": [
    "for _ in range(n_updates):\n",
    "    xb, yb = get_batch('train', block_size, batch_size)\n",
    "    logits = model7(xb)\n",
    "    loss = model7.loss(logits, yb)\n",
    "    losses.append(loss.log10().item())\n",
    "    #print(f'{loss=}')\n",
    "    optimizer7.zero_grad()\n",
    "    loss.backward()\n",
    "    optimizer7.step()\n",
    "\n",
    "print(f'loss={loss.item()}')"
   ]
  },
  {
   "cell_type": "markdown",
   "id": "171edf5c-d196-44db-b84a-8349918cd8d8",
   "metadata": {},
   "source": [
    "### Calculate validation loss"
   ]
  },
  {
   "cell_type": "code",
   "execution_count": 399,
   "id": "3473ba16-c03d-4168-9c0a-6bbb2e6a7e3e",
   "metadata": {},
   "outputs": [
    {
     "name": "stdout",
     "output_type": "stream",
     "text": [
      "tensor(0.9005, grad_fn=<NllLossBackward0>)\n"
     ]
    }
   ],
   "source": [
    "xb, yb = get_batch('val', block_size, batch_size)\n",
    "logits = model7(xb)\n",
    "val_loss = model7.loss(logits, yb)\n",
    "print(val_loss)"
   ]
  },
  {
   "cell_type": "markdown",
   "id": "9c81f8f9-bd98-461c-a9db-bc3ef7e11912",
   "metadata": {},
   "source": [
    "### Plot the average loss"
   ]
  },
  {
   "cell_type": "code",
   "execution_count": 400,
   "id": "74f5b8ee-5936-4f63-ad5c-d510c1759b54",
   "metadata": {},
   "outputs": [
    {
     "data": {
      "text/plain": [
       "[<matplotlib.lines.Line2D at 0x1363dff20>]"
      ]
     },
     "execution_count": 400,
     "metadata": {},
     "output_type": "execute_result"
    },
    {
     "data": {
      "image/png": "[encoded data removed]",
      "text/plain": [
       "<Figure size 640x480 with 1 Axes>"
      ]
     },
     "metadata": {},
     "output_type": "display_data"
    }
   ],
   "source": [
    "avg_loss = torch.tensor(losses).view(-1, 100).mean(1)\n",
    "plt.plot(avg_loss)"
   ]
  },
  {
   "cell_type": "markdown",
   "id": "9bd0a991-76f3-4412-b226-4d51f1d12598",
   "metadata": {},
   "source": [
    "### Generate some output from the model"
   ]
  },
  {
   "cell_type": "code",
   "execution_count": 401,
   "id": "db1e2e5d-ff15-4260-b17e-0de0087244d9",
   "metadata": {
    "scrolled": true
   },
   "outputs": [
    {
     "name": "stdout",
     "output_type": "stream",
     "text": [
      "['<|starttext|>', 'e', 's', 'h', 'a', '<|endoftext|>']\n"
     ]
    }
   ],
   "source": [
    "idx = torch.eye(1, dtype=torch.long)*torch.tensor(encode(['<|starttext|>']), dtype=torch.long)\n",
    "print(decode(model7.generate(idx, max_new_tokens=100)[0].tolist()))"
   ]
  },
  {
   "cell_type": "markdown",
   "id": "f2e3687e-0968-4be9-959f-b5e80b19271d",
   "metadata": {},
   "source": [
    "## Final Transformer Model"
   ]
  },
  {
   "cell_type": "markdown",
   "id": "a4e431b3-54cc-4053-adef-79ae16604ac7",
   "metadata": {},
   "source": [
    "Clean up the code and add a new initialization variable called `n_layers` to control the number of Transformer blocks. Also introduce `dropout` to add some regularization to the learning."
   ]
  },
  {
   "cell_type": "code",
   "execution_count": 402,
   "id": "9b595554-aa81-4314-a170-042c89118fac",
   "metadata": {},
   "outputs": [],
   "source": [
    "class HeadDropout(nn.Module):\n",
    "    \"\"\" single head of self attention \"\"\"\n",
    "\n",
    "    def __init__(self, n_embed, block_size, head_size):\n",
    "        super().__init__()\n",
    "        self.n_embed = n_embed\n",
    "        self.block_size = block_size\n",
    "        self.head_size = head_size\n",
    "        self.key = nn.Linear(n_embed, head_size, bias=False)\n",
    "        self.query = nn.Linear(n_embed, head_size, bias=False)\n",
    "        self.value = nn.Linear(n_embed, head_size, bias=False)\n",
    "        self.register_buffer('tril', torch.tril(torch.ones(block_size, block_size)))\n",
    "        # add dropout after softmax\n",
    "        self.dropout = nn.Dropout(dropout)\n",
    "\n",
    "    def forward(self, x):\n",
    "        batch_size, block_size, head_size = x.shape\n",
    "        k = self.key(x)   # (batch_size, block_size, head_size)\n",
    "        q = self.query(x) # (batch_size, block_size, head_size)\n",
    "        # compute weighted average using scaled attention\n",
    "        wavg = q @ k.transpose(-2, -1) * head_size**(-0.5)\n",
    "        # wavg.shape = (batch_size, block_size, head_size) @ (batch_size, head_size, block_size)\n",
    "        # wavg.shape = (batch_size, block_size, block_size)\n",
    "        wavg = wavg.masked_fill(self.tril[:block_size, :block_size] == 0, float('-inf'))\n",
    "        # wavg.shape = (batch_size, block_size, block_size)\n",
    "        wavg = F.softmax(wavg, dim=-1)\n",
    "        wavg = self.dropout(wavg)\n",
    "        # wavg.shape = (batch_size, block_size, block_size)\n",
    "        v = self.value(x) # (batch_size, block_size, head_size)\n",
    "        # wavg @ v : (batch_size, block_size, block_size) @ (batch_size, block_size, head_size)\n",
    "        # wavg @ v : (batch_size, block_size, head_size)\n",
    "        return wavg @ v"
   ]
  },
  {
   "cell_type": "code",
   "execution_count": 403,
   "id": "c024b320-2b93-446f-acfb-bb6ee367ece8",
   "metadata": {},
   "outputs": [],
   "source": [
    "class MultiHeadAttentionResidualsDropout(nn.Module):\n",
    "    \"\"\" multiple heads of self-attention in parallel \"\"\"\n",
    "\n",
    "    def __init__(self, n_embed, block_size, n_heads, head_size):\n",
    "        super().__init__()\n",
    "        self.heads = nn.ModuleList([HeadDropout(n_embed, block_size, head_size) for _ in range(n_heads)])\n",
    "        self.proj = nn.Linear(n_embed, n_embed)\n",
    "        self.dropout = nn.Dropout(dropout)\n",
    "\n",
    "    def forward(self, x):\n",
    "        out = torch.cat([h(x) for h in self.heads], dim=-1)\n",
    "        return self.dropout(self.proj(out))"
   ]
  },
  {
   "cell_type": "code",
   "execution_count": 404,
   "id": "0e5ad969-55ce-45b2-be83-0de4e14e05b2",
   "metadata": {},
   "outputs": [],
   "source": [
    "class FeedForwardResidualsDropout(nn.Module):\n",
    "    \"\"\" simple linear layer followed by non-linear transfer function \"\"\"\n",
    "\n",
    "    def __init__(self, n_embed):\n",
    "        super().__init__()\n",
    "        self.ff = nn.Sequential(\n",
    "            nn.Linear(n_embed, 4 * n_embed), # grow the feedforward layer internally\n",
    "            nn.GELU(),\n",
    "            nn.Linear(4 * n_embed, n_embed),\n",
    "            nn.Dropout(dropout)\n",
    "        )\n",
    "\n",
    "    def forward(self, x):\n",
    "        return self.ff(x)"
   ]
  },
  {
   "cell_type": "code",
   "execution_count": 405,
   "id": "75fc2488-fd07-4cce-873e-16fdc390e0a4",
   "metadata": {},
   "outputs": [],
   "source": [
    "class TransformerBlockResidualsLayerNormDropout(nn.Module):\n",
    "\n",
    "    def __init__(self, n_embed, block_size, n_heads):\n",
    "        super().__init__()\n",
    "        self.head_size = n_embed // n_heads\n",
    "        self.self_attn_head = MultiHeadAttentionResidualsDropout(n_embed, block_size, n_heads, self.head_size) # (D, T, C)\n",
    "        self.ffwd = FeedForwardResidualsDropout(n_embed)\n",
    "        self.ln1 = nn.LayerNorm(n_embed)\n",
    "        self.ln2 = nn.LayerNorm(n_embed)\n",
    "\n",
    "    def forward(self, x):\n",
    "        x = x + self.self_attn_head(self.ln1(x)) # add LayerNorm inside (pre-norm)\n",
    "        x = x + self.ffwd(self.ln2(x))           # add LayerNorm inside (pre-norm)\n",
    "        return x"
   ]
  },
  {
   "cell_type": "code",
   "execution_count": 406,
   "id": "4fa2fd1b-22cd-41e9-85d9-3feb962e5848",
   "metadata": {},
   "outputs": [],
   "source": [
    "class TransformerLM(nn.Module):\n",
    "\n",
    "    def __init__(self, n_embed, vocab_size, block_size=8, n_heads=4, n_layers=2):\n",
    "        super().__init__()\n",
    "        self.n_embed = n_embed\n",
    "        self.vocab_size = vocab_size\n",
    "        self.head_size = head_size\n",
    "        self.block_size = block_size\n",
    "        self.token_embed = nn.Embedding(vocab_size, n_embed) # (C, D)\n",
    "        self.position_embed = nn.Embedding(block_size, n_embed) # (T, D)\n",
    "        self.blocks = nn.Sequential(\n",
    "            *[\n",
    "                TransformerBlockResidualsLayerNormDropout(n_embed, block_size, n_heads) \n",
    "                  for _ in range(n_layers)\n",
    "            ]\n",
    "        )\n",
    "        self.ln_final = nn.LayerNorm(n_embed)\n",
    "        self.predict = nn.Linear(n_embed, vocab_size)\n",
    "\n",
    "    def forward(self, idx):\n",
    "        # B: batch_size\n",
    "        # T: block_size aka time\n",
    "        # C: channel_size aka vocab_size\n",
    "        # D: hidden layer dimension\n",
    "        # idx is a (B,T) size tensor\n",
    "        batch_size, block_size = idx.shape\n",
    "        token_embed = self.token_embed(idx) # (B, T, D)\n",
    "        position_embed = self.position_embed(torch.arange(block_size)) # (T, D)\n",
    "        x = token_embed + position_embed # (B, T, D)\n",
    "        x = self.blocks(x)\n",
    "        x = self.ln_final(x)\n",
    "        return self.predict(x) # return logits (B, T, vocab_size)\n",
    "\n",
    "    def loss(self, logits, targets):\n",
    "        # logits is a (B, T, C) tensor\n",
    "        # target is a (B, T) size tensor\n",
    "        return F.cross_entropy(\n",
    "                logits.view(-1, self.vocab_size), # convert to (B*T, C) tensor\n",
    "                targets.view(-1) # convert to (B*T) tensor\n",
    "                )\n",
    "\n",
    "    def generate(self, idx, max_new_tokens):\n",
    "        # idx is a (B, T) size tensor of indices\n",
    "        for _ in range(max_new_tokens):\n",
    "            # crop idx to the last block_size tokens\n",
    "            idx_cond = idx[:, -block_size:]\n",
    "            # get the predictions\n",
    "            logits = self(idx_cond) # ignore loss\n",
    "            # use the last time step\n",
    "            logits = logits[:, -1, :] # which is size (B, C)\n",
    "            # apply softmax to get probabilities\n",
    "            probs = F.softmax(logits, dim=-1) # size (B, C)\n",
    "            # sample from this probability distribution\n",
    "            idx_next = torch.multinomial(probs, num_samples=1) # size (B, 1)\n",
    "            if itos[idx_next.item()] in ('<|startoftext|>', '<|padtoken|>'):\n",
    "                continue\n",
    "            # append sampled token to sequence\n",
    "            idx = torch.cat((idx, idx_next), dim=1) # size (B, T+1)\n",
    "            decoded = decode(idx[-1].tolist())\n",
    "            if decoded[-1] == '<|endoftext|>':\n",
    "                break\n",
    "        return idx"
   ]
  },
  {
   "cell_type": "code",
   "execution_count": 407,
   "id": "791919bb-4c0f-4823-9a21-00a08a4812bd",
   "metadata": {},
   "outputs": [
    {
     "name": "stdout",
     "output_type": "stream",
     "text": [
      "TransformerLM(\n",
      "  (token_embed): Embedding(29, 32)\n",
      "  (position_embed): Embedding(16, 32)\n",
      "  (blocks): Sequential(\n",
      "    (0): TransformerBlockResidualsLayerNormDropout(\n",
      "      (self_attn_head): MultiHeadAttentionResidualsDropout(\n",
      "        (heads): ModuleList(\n",
      "          (0-3): 4 x HeadDropout(\n",
      "            (key): Linear(in_features=32, out_features=8, bias=False)\n",
      "            (query): Linear(in_features=32, out_features=8, bias=False)\n",
      "            (value): Linear(in_features=32, out_features=8, bias=False)\n",
      "            (dropout): Dropout(p=0.2, inplace=False)\n",
      "          )\n",
      "        )\n",
      "        (proj): Linear(in_features=32, out_features=32, bias=True)\n",
      "        (dropout): Dropout(p=0.2, inplace=False)\n",
      "      )\n",
      "      (ffwd): FeedForwardResidualsDropout(\n",
      "        (ff): Sequential(\n",
      "          (0): Linear(in_features=32, out_features=128, bias=True)\n",
      "          (1): GELU(approximate='none')\n",
      "          (2): Linear(in_features=128, out_features=32, bias=True)\n",
      "          (3): Dropout(p=0.2, inplace=False)\n",
      "        )\n",
      "      )\n",
      "      (ln1): LayerNorm((32,), eps=1e-05, elementwise_affine=True)\n",
      "      (ln2): LayerNorm((32,), eps=1e-05, elementwise_affine=True)\n",
      "    )\n",
      "    (1): TransformerBlockResidualsLayerNormDropout(\n",
      "      (self_attn_head): MultiHeadAttentionResidualsDropout(\n",
      "        (heads): ModuleList(\n",
      "          (0-3): 4 x HeadDropout(\n",
      "            (key): Linear(in_features=32, out_features=8, bias=False)\n",
      "            (query): Linear(in_features=32, out_features=8, bias=False)\n",
      "            (value): Linear(in_features=32, out_features=8, bias=False)\n",
      "            (dropout): Dropout(p=0.2, inplace=False)\n",
      "          )\n",
      "        )\n",
      "        (proj): Linear(in_features=32, out_features=32, bias=True)\n",
      "        (dropout): Dropout(p=0.2, inplace=False)\n",
      "      )\n",
      "      (ffwd): FeedForwardResidualsDropout(\n",
      "        (ff): Sequential(\n",
      "          (0): Linear(in_features=32, out_features=128, bias=True)\n",
      "          (1): GELU(approximate='none')\n",
      "          (2): Linear(in_features=128, out_features=32, bias=True)\n",
      "          (3): Dropout(p=0.2, inplace=False)\n",
      "        )\n",
      "      )\n",
      "      (ln1): LayerNorm((32,), eps=1e-05, elementwise_affine=True)\n",
      "      (ln2): LayerNorm((32,), eps=1e-05, elementwise_affine=True)\n",
      "    )\n",
      "    (2): TransformerBlockResidualsLayerNormDropout(\n",
      "      (self_attn_head): MultiHeadAttentionResidualsDropout(\n",
      "        (heads): ModuleList(\n",
      "          (0-3): 4 x HeadDropout(\n",
      "            (key): Linear(in_features=32, out_features=8, bias=False)\n",
      "            (query): Linear(in_features=32, out_features=8, bias=False)\n",
      "            (value): Linear(in_features=32, out_features=8, bias=False)\n",
      "            (dropout): Dropout(p=0.2, inplace=False)\n",
      "          )\n",
      "        )\n",
      "        (proj): Linear(in_features=32, out_features=32, bias=True)\n",
      "        (dropout): Dropout(p=0.2, inplace=False)\n",
      "      )\n",
      "      (ffwd): FeedForwardResidualsDropout(\n",
      "        (ff): Sequential(\n",
      "          (0): Linear(in_features=32, out_features=128, bias=True)\n",
      "          (1): GELU(approximate='none')\n",
      "          (2): Linear(in_features=128, out_features=32, bias=True)\n",
      "          (3): Dropout(p=0.2, inplace=False)\n",
      "        )\n",
      "      )\n",
      "      (ln1): LayerNorm((32,), eps=1e-05, elementwise_affine=True)\n",
      "      (ln2): LayerNorm((32,), eps=1e-05, elementwise_affine=True)\n",
      "    )\n",
      "    (3): TransformerBlockResidualsLayerNormDropout(\n",
      "      (self_attn_head): MultiHeadAttentionResidualsDropout(\n",
      "        (heads): ModuleList(\n",
      "          (0-3): 4 x HeadDropout(\n",
      "            (key): Linear(in_features=32, out_features=8, bias=False)\n",
      "            (query): Linear(in_features=32, out_features=8, bias=False)\n",
      "            (value): Linear(in_features=32, out_features=8, bias=False)\n",
      "            (dropout): Dropout(p=0.2, inplace=False)\n",
      "          )\n",
      "        )\n",
      "        (proj): Linear(in_features=32, out_features=32, bias=True)\n",
      "        (dropout): Dropout(p=0.2, inplace=False)\n",
      "      )\n",
      "      (ffwd): FeedForwardResidualsDropout(\n",
      "        (ff): Sequential(\n",
      "          (0): Linear(in_features=32, out_features=128, bias=True)\n",
      "          (1): GELU(approximate='none')\n",
      "          (2): Linear(in_features=128, out_features=32, bias=True)\n",
      "          (3): Dropout(p=0.2, inplace=False)\n",
      "        )\n",
      "      )\n",
      "      (ln1): LayerNorm((32,), eps=1e-05, elementwise_affine=True)\n",
      "      (ln2): LayerNorm((32,), eps=1e-05, elementwise_affine=True)\n",
      "    )\n",
      "  )\n",
      "  (ln_final): LayerNorm((32,), eps=1e-05, elementwise_affine=True)\n",
      "  (predict): Linear(in_features=32, out_features=29, bias=True)\n",
      ")\n"
     ]
    }
   ],
   "source": [
    "n_heads = 4\n",
    "n_layers = 4\n",
    "dropout = 0.2\n",
    "batch_size = 4\n",
    "block_size = max_len-2\n",
    "model8 = TransformerLM(n_embed, vocab_size, block_size=block_size, n_heads=n_heads, n_layers=n_layers)\n",
    "optimizer8 = optim.Adam(model8.parameters(), lr=1e-4)\n",
    "losses = []\n",
    "validation_losses = []\n",
    "print(model8)"
   ]
  },
  {
   "cell_type": "markdown",
   "id": "6512fc2c-e69b-47a1-a485-0a81e8f17f28",
   "metadata": {},
   "source": [
    "### Training Loop"
   ]
  },
  {
   "cell_type": "code",
   "execution_count": 408,
   "id": "d15e81a0-8789-4d28-bc18-9c74e098c8df",
   "metadata": {},
   "outputs": [
    {
     "name": "stdout",
     "output_type": "stream",
     "text": [
      "loss=1.1223578453063965\n"
     ]
    }
   ],
   "source": [
    "for _ in range(n_updates):\n",
    "    xb, yb = get_batch('train', block_size, batch_size)\n",
    "    logits = model8(xb)\n",
    "    loss = model8.loss(logits, yb)\n",
    "    losses.append(loss.log10().item())\n",
    "    #print(f'{loss=}')\n",
    "    optimizer8.zero_grad()\n",
    "    loss.backward()\n",
    "    optimizer8.step()\n",
    "\n",
    "print(f'loss={loss.item()}')"
   ]
  },
  {
   "cell_type": "markdown",
   "id": "1a47c083-0500-4e25-a1c8-f0ae17e9ce19",
   "metadata": {},
   "source": [
    "### Calculate validation loss"
   ]
  },
  {
   "cell_type": "code",
   "execution_count": 409,
   "id": "23b4bd52-734d-4e48-bb29-a3a820d37d5d",
   "metadata": {},
   "outputs": [
    {
     "name": "stdout",
     "output_type": "stream",
     "text": [
      "tensor(0.9783, grad_fn=<NllLossBackward0>)\n"
     ]
    }
   ],
   "source": [
    "xb, yb = get_batch('val', block_size, batch_size)\n",
    "logits = model8(xb)\n",
    "val_loss = model8.loss(logits, yb)\n",
    "print(val_loss)"
   ]
  },
  {
   "cell_type": "markdown",
   "id": "d182d132-4496-498f-aa1c-8d13f563f764",
   "metadata": {},
   "source": [
    "### Plot the average loss"
   ]
  },
  {
   "cell_type": "code",
   "execution_count": 410,
   "id": "0dad29e3-7f2d-4547-9406-fe3ebcb0c2ff",
   "metadata": {},
   "outputs": [
    {
     "data": {
      "text/plain": [
       "[<matplotlib.lines.Line2D at 0x16bacee40>]"
      ]
     },
     "execution_count": 410,
     "metadata": {},
     "output_type": "execute_result"
    },
    {
     "data": {
      "image/png": "[encoded data removed]",
      "text/plain": [
       "<Figure size 640x480 with 1 Axes>"
      ]
     },
     "metadata": {},
     "output_type": "display_data"
    }
   ],
   "source": [
    "avg_loss = torch.tensor(losses).view(-1, 100).mean(1)\n",
    "plt.plot(avg_loss)"
   ]
  },
  {
   "cell_type": "markdown",
   "id": "8b251a49-8b69-443c-91de-b41a5f8c50db",
   "metadata": {},
   "source": [
    "### Generate some output from the model"
   ]
  },
  {
   "cell_type": "code",
   "execution_count": 429,
   "id": "b6fef2ec-596b-4d34-afd1-e94cdaddd99c",
   "metadata": {
    "scrolled": true
   },
   "outputs": [
    {
     "name": "stdout",
     "output_type": "stream",
     "text": [
      "['<|starttext|>', 'r', 'o', 's', 'h', 'a', 'n', 'n', 'e', '<|endoftext|>']\n"
     ]
    }
   ],
   "source": [
    "idx = torch.eye(1, dtype=torch.long)*torch.tensor(encode(['<|starttext|>']), dtype=torch.long)\n",
    "print(decode(model8.generate(idx, max_new_tokens=100)[0].tolist()))"
   ]
  },
  {
   "cell_type": "code",
   "execution_count": 168,
   "id": "760241fc-de85-4740-98df-f1144445a046",
   "metadata": {},
   "outputs": [
    {
     "data": {
      "text/html": [
       "<style>\n",
       "    @font-face {\n",
       "        font-family: \"Computer Modern\";\n",
       "        src: url('http://9dbb143991406a7c655e-aa5fcb0a5a4ec34cff238a2d56ca4144.r56.cf5.rackcdn.com/cmunss.otf');\n",
       "    }\n",
       "    @font-face {\n",
       "        font-family: \"Computer Modern\";\n",
       "        font-weight: bold;\n",
       "        src: url('http://9dbb143991406a7c655e-aa5fcb0a5a4ec34cff238a2d56ca4144.r56.cf5.rackcdn.com/cmunsx.otf');\n",
       "    }\n",
       "    @font-face {\n",
       "        font-family: \"Computer Modern\";\n",
       "        font-style: oblique;\n",
       "        src: url('http://9dbb143991406a7c655e-aa5fcb0a5a4ec34cff238a2d56ca4144.r56.cf5.rackcdn.com/cmunsi.otf');\n",
       "    }\n",
       "    @font-face {\n",
       "        font-family: \"Computer Modern\";\n",
       "        font-weight: bold;\n",
       "        font-style: oblique;\n",
       "        src: url('http://9dbb143991406a7c655e-aa5fcb0a5a4ec34cff238a2d56ca4144.r56.cf5.rackcdn.com/cmunso.otf');\n",
       "    }\n",
       "    div.cell{\n",
       "        width:800px;\n",
       "        font-size: 110%;\n",
       "        margin-left:5% !important;\n",
       "        margin-right:auto;\n",
       "    }\n",
       "    h1 {\n",
       "        font-family: Helvetica, serif;\n",
       "    }\n",
       "    h4{\n",
       "        margin-top:12px;\n",
       "        margin-bottom: 3px;\n",
       "       }\n",
       "    div.text_cell_render{\n",
       "        font-family: Computer Modern, \"Helvetica Neue\", Arial, Helvetica, Geneva, sans-serif;\n",
       "        line-height: 145%;\n",
       "        font-size: 110%;\n",
       "        width:800px;\n",
       "        margin-left:auto;\n",
       "        margin-right:auto;\n",
       "    }\n",
       "    .CodeMirror{\n",
       "            font-family: \"Source Code Pro\", source-code-pro,Consolas, monospace;\n",
       "            font-size: 110%;\n",
       "    }\n",
       "    .prompt{\n",
       "        display: None;\n",
       "    }\n",
       "    .text_cell_render h5 {\n",
       "        font-weight: 300;\n",
       "        font-size: 22pt;\n",
       "        color: #4057A1;\n",
       "        font-style: italic;\n",
       "        margin-bottom: .5em;\n",
       "        margin-top: 0.5em;\n",
       "        display: block;\n",
       "    }\n",
       "    \n",
       "    .warning{\n",
       "        color: rgb( 240, 20, 20 )\n",
       "        }  \n",
       "\n",
       "</style>\n",
       "<script>\n",
       "    MathJax.Hub.Config({\n",
       "                        TeX: {\n",
       "                           extensions: [\"AMSmath.js\"]\n",
       "                           },\n",
       "                tex2jax: {\n",
       "                    inlineMath: [ ['$','$'], [\"\\\\(\",\"\\\\)\"] ],\n",
       "                    displayMath: [ ['$$','$$'], [\"\\\\[\",\"\\\\]\"] ]\n",
       "                },\n",
       "                displayAlign: 'center', // Change this to 'center' to center equations.\n",
       "                \"HTML-CSS\": {\n",
       "                    styles: {'.MathJax_Display': {\"margin\": 4}}\n",
       "                }\n",
       "        });\n",
       "</script>\n"
      ],
      "text/plain": [
       "<IPython.core.display.HTML object>"
      ]
     },
     "execution_count": 168,
     "metadata": {},
     "output_type": "execute_result"
    }
   ],
   "source": [
    "from IPython.core.display import HTML\n",
    "\n",
    "def css_styling():\n",
    "    styles = open(\"../css/notebook.css\", \"r\").read()\n",
    "    return HTML(styles)\n",
    "css_styling()"
   ]
  }
 ],
 "metadata": {
  "kernelspec": {
   "display_name": "Python 3 (ipykernel)",
   "language": "python",
   "name": "python3"
  },
  "language_info": {
   "codemirror_mode": {
    "name": "ipython",
    "version": 3
   },
   "file_extension": ".py",
   "mimetype": "text/x-python",
   "name": "python",
   "nbconvert_exporter": "python",
   "pygments_lexer": "ipython3",
   "version": "3.12.5"
  }
 },
 "nbformat": 4,
 "nbformat_minor": 5
}
