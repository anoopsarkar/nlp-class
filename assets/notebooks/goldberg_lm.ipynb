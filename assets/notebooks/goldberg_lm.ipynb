{
 "cells": [
  {
   "cell_type": "markdown",
   "metadata": {},
   "source": [
    "# The unreasonable effectiveness of Character-level Language Models\n",
    "## (and why RNNs are still cool)\n",
    "\n",
    "### [Yoav Goldberg](http://www.cs.biu.ac.il/~yogo)\n",
    "\n",
    "RNNs, LSTMs and Deep Learning are all the rage, and a recent [blog post](http://karpathy.github.io/2015/05/21/rnn-effectiveness/) by Andrej Karpathy is doing a great job explaining what these models are and how to train them.\n",
    "It also provides some very impressive results of what they are capable of.  This is a great post, and if you are interested in natural language, machine learning or neural networks you should definitely read it. \n",
    "\n",
    "Go read it now, then come back here. \n",
    "\n",
    "You're back? good. Impressive stuff, huh? How could the network learn to immitate the input like that?\n",
    "Indeed. I was quite impressed as well.\n",
    "\n",
    "However, it feels to me that most readers of the post are impressed by the wrong reasons.\n",
    "This is because they are not familiar with **unsmoothed maximum-liklihood character level language models** and their unreasonable effectiveness at generating rather convincing natural language outputs.\n",
    "\n",
    "In what follows I will briefly describe these character-level maximum-likelihood langauge models, which are much less magical than RNNs and LSTMs, and show that they too can produce a rather convincing Shakespearean prose. I will also show about 30 lines of python code that take care of both training the model and generating the output. Compared to this baseline, the RNNs may seem somehwat less impressive. So why was I impressed? I will explain this too, below."
   ]
  },
  {
   "cell_type": "markdown",
   "metadata": {},
   "source": [
    "## Unsmoothed Maximum Likelihood Character Level Language Model \n",
    "\n",
    "The name is quite long, but the idea is very simple.  We want a model whose job is to guess the next character based on the previous $n$ letters. For example, having seen `ello`, the next characer is likely to be either a commma or space (if we assume is is the end of the word \"hello\"), or the letter `w` if we believe we are in the middle of the word \"mellow\". Humans are quite good at this, but of course seeing a larger history makes things easier (if we were to see 5 letters instead of 4, the choice between space and `w` would have been much easier).\n",
    "\n",
    "We will call $n$, the number of letters we need to guess based on, the _order_ of the language model.\n",
    "\n",
    "RNNs and LSTMs can potentially learn infinite-order language model (they guess the next character based on a \"state\" which supposedly encode all the previous history). We here will restrict ourselves to a fixed-order language model.\n",
    "\n",
    "So, we are seeing $n$ letters, and need to guess the $n+1$th one. We are also given a large-ish amount of text (say, all of Shakespear works) that we can use. How would we go about solving this task?\n",
    "\n",
    "Mathematically, we would like to learn a function $P(c | h)$. Here, $c$ is a character, $h$ is a $n$-letters history, and $P(c|h)$ stands for how likely is it to see $c$ after we've seen $h$.\n",
    "\n",
    "Perhaps the simplest approach would be to just count and divide (a.k.a **maximum likelihood estimates**). We will count the number of times each letter $c'$ appeared after $h$, and divide by the total numbers of letters appearing after $h$. The **unsmoothed** part means that if we did not see a given letter following $h$, we will just give it a probability of zero.\n",
    "\n",
    "And that's all there is to it.\n"
   ]
  },
  {
   "cell_type": "markdown",
   "metadata": {},
   "source": [
    "### Training Code\n",
    "Here is the code for training the model. `fname` is a file to read the characters from. `order` is the history size to consult. Note that we pad the data with leading `~` so that we also learn how to start.\n"
   ]
  },
  {
   "cell_type": "code",
   "execution_count": 2,
   "metadata": {},
   "outputs": [],
   "source": [
    "from collections import *\n",
    "\n",
    "def train_char_lm(fname, order=4):\n",
    "    data = open(fname).read()\n",
    "    lm = defaultdict(Counter)\n",
    "    pad = \"~\" * order\n",
    "    data = pad + data\n",
    "    for i in range(len(data)-order):\n",
    "        history, char = data[i:i+order], data[i+order]\n",
    "        lm[history][char]+=1\n",
    "    def normalize(counter):\n",
    "        s = float(sum(counter.values()))\n",
    "        return [(c,cnt/s) for c,cnt in counter.items()]\n",
    "    outlm = {hist:normalize(chars) for hist, chars in lm.items()}\n",
    "    return outlm"
   ]
  },
  {
   "cell_type": "markdown",
   "metadata": {},
   "source": [
    "Let's train it on Andrej's Shakespears's text:"
   ]
  },
  {
   "cell_type": "code",
   "execution_count": 3,
   "metadata": {},
   "outputs": [
    {
     "name": "stdout",
     "output_type": "stream",
     "text": [
      "--2024-10-02 08:43:28--  http://cs.stanford.edu/people/karpathy/char-rnn/shakespeare_input.txt\n",
      "Resolving cs.stanford.edu (cs.stanford.edu)... 171.64.64.64\n",
      "Connecting to cs.stanford.edu (cs.stanford.edu)|171.64.64.64|:80... connected.\n",
      "HTTP request sent, awaiting response... 301 Moved Permanently\n",
      "Location: https://www.cs.stanford.edu/people/karpathy/char-rnn/shakespeare_input.txt [following]\n",
      "--2024-10-02 08:43:29--  https://www.cs.stanford.edu/people/karpathy/char-rnn/shakespeare_input.txt\n",
      "Resolving www.cs.stanford.edu (www.cs.stanford.edu)... 23.72.36.136, 23.72.36.153\n",
      "Connecting to www.cs.stanford.edu (www.cs.stanford.edu)|23.72.36.136|:443... connected.\n",
      "HTTP request sent, awaiting response... 404 Not Found\n",
      "2024-10-02 08:43:32 ERROR 404: Not Found.\n",
      "\n"
     ]
    }
   ],
   "source": [
    "!wget http://cs.stanford.edu/people/karpathy/char-rnn/shakespeare_input.txt"
   ]
  },
  {
   "cell_type": "code",
   "execution_count": 4,
   "metadata": {},
   "outputs": [],
   "source": [
    "lm = train_char_lm(\"shakespeare_input.txt\", order=4)"
   ]
  },
  {
   "cell_type": "markdown",
   "metadata": {},
   "source": [
    "Ok. Now let's do some queries:"
   ]
  },
  {
   "cell_type": "code",
   "execution_count": 5,
   "metadata": {},
   "outputs": [
    {
     "data": {
      "text/plain": [
       "[('?', 0.045532157085941945),\n",
       " (' ', 0.5156516789982926),\n",
       " ('c', 0.0443938531587934),\n",
       " ('.', 0.035287421741605006),\n",
       " (',', 0.21457029026750143),\n",
       " (';', 0.02902675014228799),\n",
       " (':', 0.017643710870802503),\n",
       " ('!', 0.00796812749003984),\n",
       " ('\\n', 0.02390438247011952),\n",
       " (\"'\", 0.006260671599317018),\n",
       " ('s', 0.03414911781445646),\n",
       " ('o', 0.0005691519635742744),\n",
       " ('i', 0.021627774615822423),\n",
       " ('-', 0.0005691519635742744),\n",
       " ('t', 0.0022766078542970974),\n",
       " ('e', 0.0005691519635742744)]"
      ]
     },
     "execution_count": 5,
     "metadata": {},
     "output_type": "execute_result"
    }
   ],
   "source": [
    "lm['then']"
   ]
  },
  {
   "cell_type": "code",
   "execution_count": 6,
   "metadata": {},
   "outputs": [
    {
     "data": {
      "text/plain": [
       "[('t', 1.0)]"
      ]
     },
     "execution_count": 6,
     "metadata": {},
     "output_type": "execute_result"
    }
   ],
   "source": [
    "lm['Firs']"
   ]
  },
  {
   "cell_type": "code",
   "execution_count": 7,
   "metadata": {},
   "outputs": [
    {
     "data": {
      "text/plain": [
       "[('C', 0.09550561797752809),\n",
       " ('f', 0.011235955056179775),\n",
       " ('i', 0.016853932584269662),\n",
       " ('t', 0.05377207062600321),\n",
       " ('u', 0.0016051364365971107),\n",
       " ('S', 0.16292134831460675),\n",
       " ('h', 0.019261637239165328),\n",
       " ('s', 0.03290529695024077),\n",
       " ('R', 0.0008025682182985554),\n",
       " ('b', 0.024879614767255216),\n",
       " ('c', 0.012841091492776886),\n",
       " ('O', 0.018459069020866775),\n",
       " ('w', 0.024077046548956663),\n",
       " ('a', 0.02247191011235955),\n",
       " ('m', 0.02247191011235955),\n",
       " ('n', 0.020064205457463884),\n",
       " ('I', 0.009630818619582664),\n",
       " ('L', 0.10674157303370786),\n",
       " ('M', 0.0593900481540931),\n",
       " ('l', 0.01043338683788122),\n",
       " ('o', 0.030497592295345103),\n",
       " ('H', 0.0040128410914927765),\n",
       " ('d', 0.015248796147672551),\n",
       " ('W', 0.033707865168539325),\n",
       " ('K', 0.008025682182985553),\n",
       " ('q', 0.0016051364365971107),\n",
       " ('G', 0.0898876404494382),\n",
       " ('g', 0.011235955056179775),\n",
       " ('k', 0.0040128410914927765),\n",
       " ('e', 0.0032102728731942215),\n",
       " ('y', 0.002407704654895666),\n",
       " ('r', 0.0072231139646869984),\n",
       " ('p', 0.00882825040128411),\n",
       " ('A', 0.0056179775280898875),\n",
       " ('P', 0.014446227929373997),\n",
       " ('F', 0.012038523274478331),\n",
       " ('v', 0.002407704654895666),\n",
       " ('T', 0.0032102728731942215),\n",
       " ('D', 0.0032102728731942215),\n",
       " ('B', 0.009630818619582664),\n",
       " ('N', 0.0008025682182985554),\n",
       " (\"'\", 0.0008025682182985554),\n",
       " ('E', 0.0016051364365971107)]"
      ]
     },
     "execution_count": 7,
     "metadata": {},
     "output_type": "execute_result"
    }
   ],
   "source": [
    "lm['rst ']"
   ]
  },
  {
   "cell_type": "markdown",
   "metadata": {},
   "source": [
    "So `ello` is followed by either space, punctuation or `w` (or `r`, `u`, `n`), `Firs` is pretty much deterministic, and the word following `ist ` can start with pretty much every letter."
   ]
  },
  {
   "cell_type": "markdown",
   "metadata": {},
   "source": [
    "### Generating from the model\n",
    "Generating is also very simple. To generate a letter, we will take the history, look at the last $order$ characteters, and then sample a random letter based on the corresponding distribution."
   ]
  },
  {
   "cell_type": "code",
   "execution_count": 8,
   "metadata": {},
   "outputs": [],
   "source": [
    "from random import random\n",
    "\n",
    "def generate_letter(lm, history, order):\n",
    "        history = history[-order:]\n",
    "        dist = lm[history]\n",
    "        x = random()\n",
    "        for c,v in dist:\n",
    "            x = x - v\n",
    "            if x <= 0: return c"
   ]
  },
  {
   "cell_type": "markdown",
   "metadata": {},
   "source": [
    "To generate a passage of $k$ characters, we just seed it with the initial history and run letter generation in a loop, updating the history at each turn."
   ]
  },
  {
   "cell_type": "code",
   "execution_count": 9,
   "metadata": {},
   "outputs": [],
   "source": [
    "def generate_text(lm, order, nletters=1000):\n",
    "    history = \"~\" * order\n",
    "    out = []\n",
    "    for i in range(nletters):\n",
    "        c = generate_letter(lm, history, order)\n",
    "        history = history[-order:] + c\n",
    "        out.append(c)\n",
    "    return \"\".join(out)"
   ]
  },
  {
   "cell_type": "markdown",
   "metadata": {},
   "source": [
    "### Generated Shakespeare from different order models\n",
    "\n",
    "Let's try to generate text based on different language-model orders. Let's start with something silly:\n",
    "\n",
    "### order 2:"
   ]
  },
  {
   "cell_type": "code",
   "execution_count": 10,
   "metadata": {},
   "outputs": [
    {
     "name": "stdout",
     "output_type": "stream",
     "text": [
      "Fireell be brainge ney and dress off don, wite, I thoulenmestim,\n",
      "Nows I\n",
      "her andke hus a lestir. I word ther,\n",
      "Nown.\n",
      "\n",
      "Depood's is speaks thein myster.\n",
      "\n",
      "His mights; horge he shang beak frot oninnot.\n",
      "\n",
      "Sol fold dround, tandrult he whing to mone all up;\n",
      "I durse you bot hich thave faid of spint, they from a selithetchan CLAMLEONZABEDFORK As sirese ind.\n",
      "\n",
      "KINSTEARDIO:\n",
      "Thaturd:\n",
      "RO:\n",
      "Tom ANA:\n",
      "Ther camet's uphres bare\n",
      "Uposell, war wil prown wor; vance fe\n",
      "shand Exponess: livere ithinve itay! will sof he shou, th.\n",
      "\n",
      "VALSTAFF:\n",
      "Inch wis undand hes own mock-plefou hours.\n",
      "\n",
      "QUEEDWARWICHAN:\n",
      "I'll hem as ore! Attere\n",
      "corld th dog,\n",
      "To you he th Rome th ton;\n",
      "I plest theen make to riandear pat anstirthisell sh a vand thery of onsweath heity the fox of ame haten tonemul of Fainexece.\n",
      "\n",
      "PORAND:\n",
      "But snam mad ingelf they\n",
      "vany parray dumand Troy:\n",
      "Not,\n",
      "Eves\n",
      "WAROKE He my the theand begivanden, nured Pran th.\n",
      "\n",
      "Obs.\n",
      "\n",
      "DESDES:\n",
      "Come tyraventle by wer, am rof of Caesell hat?\n",
      "\n",
      "Come beck a mand alaze this dar Deaves hisdo thenca\n"
     ]
    }
   ],
   "source": [
    "lm = train_char_lm(\"shakespeare_input.txt\", order=2)\n",
    "print(generate_text(lm, 2))"
   ]
  },
  {
   "cell_type": "markdown",
   "metadata": {},
   "source": [
    "Not so great.. but what if we increase the order to 4?\n",
    "\n",
    "### order 4"
   ]
  },
  {
   "cell_type": "code",
   "execution_count": 11,
   "metadata": {},
   "outputs": [
    {
     "name": "stdout",
     "output_type": "stream",
     "text": [
      "First slightership joy.\n",
      "\n",
      "Messed.\n",
      "\n",
      "LUCIANA:\n",
      "To seem to lend omingly of he with\n",
      "hath blest king a little self\n",
      "And, by life.\n",
      "Provide: pray you the strust a friend\n",
      "Wouldst to hear\n",
      "Shall in my chilling madam weeps not sufficer:--and 'tis serve they first,\n",
      "The days.\n",
      "\n",
      "BANQUO:\n",
      "What shake all returnings,\n",
      "Of your makes friend.\n",
      "\n",
      "Fool:\n",
      "Titan prince?\n",
      "\n",
      "HERMIONE:\n",
      "Now, with cannot serpent bear for Proclusion\n",
      "I and let thou with the\n",
      "neces; and says of thy lords, and son, like a pen,\n",
      "Upwards England, but than voice, you will prick in he put that wast thou!\n",
      "\n",
      "LAERTES:\n",
      "O godlike mine world's case.\n",
      "Be this day dedicatested to you.\n",
      "\n",
      "PANTHINO:\n",
      "Pray hedge,\n",
      "Tranio.\n",
      "\n",
      "SIR TOBY BELCH:\n",
      "Who wait.\n",
      "\n",
      "QUEEN ELIZABETH:\n",
      "Presumptuous with glas Hamlet's eart?\n",
      "O grieved me? fed of his speaker: form or drops of them; let him: so yield\n",
      "And drown by healthout my dismiss'd,\n",
      "With passemblanchings that enwraps and my volumes me.\n",
      "\n",
      "Seconditious poor me:\n",
      "if proceeding enough I carous Moor; and mans: yet himself in quake your count, e\n"
     ]
    }
   ],
   "source": [
    "lm = train_char_lm(\"shakespeare_input.txt\", order=4)\n",
    "print(generate_text(lm, 4))"
   ]
  },
  {
   "cell_type": "code",
   "execution_count": 12,
   "metadata": {},
   "outputs": [
    {
     "name": "stdout",
     "output_type": "stream",
     "text": [
      "First Citizen:\n",
      "I shalted consent the early and the posts and the leaven hereby this dig herefore theirs.\n",
      "\n",
      "Paintine,\n",
      "That's a thou see intoler, and world, I praying\n",
      "Know are old.\n",
      "\n",
      "VALENTIO:\n",
      "Conside more.\n",
      "\n",
      "EDMUND:\n",
      "Anton a search's poor presume unto the king my rehend whose are thy with you: I would not afears on all, Sir John and her in grace, I endle conjurer be, it south\n",
      "A lady home, Pistorious the fault\n",
      "Doth give men no scarf upon me: I short in speaks, by my sough their shall weary chivalry of Clarence.\n",
      "\n",
      "SILVIA:\n",
      "Adsummer himself:\n",
      "Upon us people thee, lay for hit has shame, sir, gently little it from fly time;\n",
      "And I know, yet extinct and as the scourt, I advise of your\n",
      "Can chast he's with thee got weave day, man again: you have you, lord!\n",
      "\n",
      "AJAX:\n",
      "The bless, you\n",
      "hast have great say! vex'd sincent gather,\n",
      "For to wait upon thou not off thyself of the me! O Proteus heap'd shall watch else their gracious she's damned all\n",
      "that now it again\n",
      "returns will, her, as while all\n",
      "Stand do thyself and\n"
     ]
    }
   ],
   "source": [
    "lm = train_char_lm(\"shakespeare_input.txt\", order=4)\n",
    "print(generate_text(lm, 4))"
   ]
  },
  {
   "cell_type": "markdown",
   "metadata": {},
   "source": [
    "This is already quite reasonable, and reads like English. Just 4 letters history! What if we increase it to 7?\n",
    "\n",
    "### order 7"
   ]
  },
  {
   "cell_type": "code",
   "execution_count": 13,
   "metadata": {},
   "outputs": [
    {
     "name": "stdout",
     "output_type": "stream",
     "text": [
      "First Clown:\n",
      "Nay, they supposed by thy\n",
      "tabour, and then the circumstance; bleed'st among the letters full of discretion but hear of god art there is he, as he uses of the diadem\n",
      "On her kind common mother and dull upon this work neither confirm,\n",
      "I'll lay odds to natural coward is.\n",
      "\n",
      "First Citizen:\n",
      "If it be their barks my very\n",
      "exquisite Sir Thomas,\n",
      "And the regal dignity\n",
      "And let us in his timeless dolours spread with this day. What news?\n",
      "\n",
      "PETRUCHIO:\n",
      "Pluck a dainty dish.\n",
      "\n",
      "KING HENRY V:\n",
      "Even so stored love\n",
      "Is by a forgot him so.\n",
      "\n",
      "PARIS:\n",
      "Fairly answer this time throng; look on her; she would not kin thou art beside the absent time o' day is long;\n",
      "Else the bee sucks. there is not.\n",
      "Great Duke of Norfolk be replete with me, Signior Gremio, your mine own life:\n",
      "The care to return.\n",
      "\n",
      "ORLANDO:\n",
      "And so the time we were come ambush on the senses of this protector?\n",
      "\n",
      "ANDROMACHE:\n",
      "Do not spare to find him leave,\n",
      "To hide it.\n",
      "\n",
      "DROMIO OF EPHESUS:\n",
      "Didst thou strew.\n",
      "Come, come, my birth--wherefore, one play the \n"
     ]
    }
   ],
   "source": [
    "lm = train_char_lm(\"shakespeare_input.txt\", order=7)\n",
    "print(generate_text(lm, 7))"
   ]
  },
  {
   "cell_type": "markdown",
   "metadata": {},
   "source": [
    "### How about 10?"
   ]
  },
  {
   "cell_type": "code",
   "execution_count": 14,
   "metadata": {},
   "outputs": [
    {
     "name": "stdout",
     "output_type": "stream",
     "text": [
      "First Citizen:\n",
      "Heralds, from off her sight,\n",
      "As I can of those we have not in abundance,\n",
      "To feed again, thou slave, thy words revive my heart shall be recorded in this world goes.\n",
      "\n",
      "GLOUCESTER:\n",
      "This apoplexy is, as I take it, an ague. Where the people mad?\n",
      "\n",
      "SIR TOBY BELCH:\n",
      "Come, Sir Thomas Gargrave, hast thou not, when you find men worthy enough a herdsman: yea, him too,\n",
      "That makes sport\n",
      "To the prince's jester: a very dull kindred.\n",
      "\n",
      "LEONATO:\n",
      "My heart an ever-burning heart,\n",
      "Aaron and thy\n",
      "defence absence. Sweet Bianca,\n",
      "Take me think on thy Proteus, Love's a mighty rock;\n",
      "Which being season this in our prisons:\n",
      "Therefore my good lord; I am the\n",
      "grave of it.\n",
      "\n",
      "PRIAM:\n",
      "Paris, you speak like a descended?\n",
      "\n",
      "LADY MACBETH:\n",
      "Is Banquo gone from Troilus than Agamemnon;\n",
      "and a man of falsehood!\n",
      "Why did he swears,\n",
      "To that I can make him fall\n",
      "His crest that I know.\n",
      "\n",
      "KING:\n",
      "The heaven for grace and merciless process by,\n",
      "How I persuade him that makes her blood;\n",
      "Not rascal-like, to fall down with that particular\n"
     ]
    }
   ],
   "source": [
    "lm = train_char_lm(\"shakespeare_input.txt\", order=10)\n",
    "print(generate_text(lm, 10))"
   ]
  },
  {
   "cell_type": "markdown",
   "metadata": {},
   "source": [
    "### This works pretty well\n",
    "\n",
    "With an order of 4, we already get quite reasonable results. Increasing the order to 7 (~word and a half of history) or 10 (~two short words of history) already gets us quite passable Shakepearan text. I'd say it is on par with the examples in Andrej's post. And how simple and un-mystical the model is!"
   ]
  },
  {
   "cell_type": "markdown",
   "metadata": {},
   "source": [
    "### So why am I impressed with the neural networks after all?\n",
    "\n",
    "Generating English a character at a time -- not so impressive in my view. The NN needs to learn the previous $n$ letters, for a rather small $n$, and that's it. \n",
    "\n",
    "However, the code-generation example is very impressive. Why? because of the context awareness. Note that in all of the posted examples, the code is well indented, the braces and brackets are correctly nested, and even the comments start and end correctly. This is not something that can be achieved by simply looking at the previous $n$ letters. \n",
    "\n",
    "If the examples are not cherry-picked, and the output is generally that nice, then the NN did learn something not trivial at all.\n",
    "\n",
    "Just for the fun of it, let's see what our simple language model does with the linux-kernel code:"
   ]
  },
  {
   "cell_type": "code",
   "execution_count": 15,
   "metadata": {},
   "outputs": [
    {
     "name": "stdout",
     "output_type": "stream",
     "text": [
      "--2024-10-02 08:43:46--  http://cs.stanford.edu/people/karpathy/char-rnn/linux_input.txt\n",
      "Resolving cs.stanford.edu (cs.stanford.edu)... 171.64.64.64\n",
      "Connecting to cs.stanford.edu (cs.stanford.edu)|171.64.64.64|:80... connected.\n",
      "HTTP request sent, awaiting response... 301 Moved Permanently\n",
      "Location: https://www.cs.stanford.edu/people/karpathy/char-rnn/linux_input.txt [following]\n",
      "--2024-10-02 08:43:47--  https://www.cs.stanford.edu/people/karpathy/char-rnn/linux_input.txt\n",
      "Resolving www.cs.stanford.edu (www.cs.stanford.edu)... 23.72.36.153, 23.72.36.136\n",
      "Connecting to www.cs.stanford.edu (www.cs.stanford.edu)|23.72.36.153|:443... connected.\n",
      "HTTP request sent, awaiting response... 404 Not Found\n",
      "2024-10-02 08:43:49 ERROR 404: Not Found.\n",
      "\n"
     ]
    }
   ],
   "source": [
    "!wget http://cs.stanford.edu/people/karpathy/char-rnn/linux_input.txt"
   ]
  },
  {
   "cell_type": "code",
   "execution_count": 16,
   "metadata": {},
   "outputs": [
    {
     "name": "stdout",
     "output_type": "stream",
     "text": [
      "~~\n",
      " *     wait->flags & SD_WAKE_AFFINE) {\n",
      "\t\t\tint cpu;\n",
      "\n",
      "\tfor_each_console(con);\n",
      "\t\t}\n",
      "\t}\n",
      "\n",
      "\tfreezer->state = PERF_EVENT_IOC_SET_FILTER:\n",
      "\t\treturn 0;\n",
      "}\n",
      "EXPORT_SYMBOL(cpu_all_bits, NR_CPUS) = CPU_BITS_ALL;\n",
      "#else\n",
      "static int aggr_fault_handle:\n",
      "\t\t\terror = -EINVAL;\n",
      "\n",
      "\tmutex_lock(&kexec_mutex);\n",
      "\te = audit_buffer *ab, u32 secid)\n",
      "{\n",
      "\tint cur;\n",
      "\tunsigned long flags;\n",
      "\tint restart a system shutdown.\n",
      "\t\t */\n",
      "\t\tprint_cpu_stall(&rcu_bh_ctrlblk.rcucblist,\n",
      "\t.curtail\t= &rcu_sched_qs() and rcu callback invocation of the per-CPU\n",
      "\t * rcu_sched_qs_mask variable by this cfs_rq, as\n",
      "\t\t\t * we have sole access to sensitive action, we now want the system call with lock->wait_lock);\n",
      "\t\tupdate_tasks_nodemask - change a reference to it, after\n",
      " *\tinitializing a held locks:\n",
      "\t */\n",
      "\tdelta_exec;\n",
      "\t\traw_spin_lock(&lock->base, cur);\n",
      "\t\twake_up_process(clone_flags & CLONE_IO) {\n",
      "\t\t\tgc->reg_writel(gc, mask, ct->regs.disable);\n",
      "extern asmlinkage __visible void tracing_stats_fops);\n",
      "\tif (very_verbose(class)) {\n",
      "\t\tpr_err(\"huh, entered softirq. I\n"
     ]
    }
   ],
   "source": [
    "lm = train_char_lm(\"linux_input.txt\", order=10)\n",
    "print(generate_text(lm, 10))"
   ]
  },
  {
   "cell_type": "code",
   "execution_count": 17,
   "metadata": {},
   "outputs": [
    {
     "name": "stdout",
     "output_type": "stream",
     "text": [
      "\n",
      " *     wait->flags &= ~WQ_FLAG_WOKEN;\t\tcondition = true;\n",
      " *     smp_mb(); // A\t\t\t\tsmp_wmb(); // C\n",
      " *     if (!wait->flags & WQ_FLAG_WOKEN)\twait->flags |= WQ_FLAG_WOKEN;\n",
      " *         schedule();\n",
      " *\n",
      " * This would cause the waiter on which @task was blocked in @next_lock,\n",
      "\t * so we can detect whether we acquired the ctx->lock, such as to serialize against the stores.\n",
      "\t\t *\n",
      "\t\t * In addition, this synchronize_sched for details.\n",
      "\t *\n",
      "\t * http://thread.gmane.org/gmane.linux.kernel/1420814\n",
      "\t */\n",
      "\tif (current->pi_state_cache = NULL;\n",
      "\n",
      "\treturn tg;\n",
      "}\n",
      "\n",
      "#ifdef CONFIG_NO_HZ_COMMON */\n",
      "\n",
      "#ifdef CONFIG_PROVE_LOCKING)\n",
      "/*\n",
      " * Forwards and backwards\n",
      " * dependency.\n",
      " *\n",
      " * This could impact scaling on very large systems.  Be reluctant to\n",
      " * use notify_on_release(struct inode *inode;\n",
      "\n",
      "\tif (no_uprobe_events() || !valid_vma(vma, true))\n",
      "\t\treturn 0;\n",
      "\n",
      "\tif (strcmp(argv[0], \"btc\") == 0) {\n",
      "\t\tunsigned long flags;\n",
      "\n",
      "\t/*\n",
      "\t * If the arch has a polling bit, we maintain an invariant:\n",
      "\t\t *\n",
      "\t\t * Our polling bit is clear if we're not\n"
     ]
    }
   ],
   "source": [
    "lm = train_char_lm(\"linux_input.txt\", order=15)\n",
    "print(generate_text(lm, 15))"
   ]
  },
  {
   "cell_type": "code",
   "execution_count": 18,
   "metadata": {},
   "outputs": [
    {
     "name": "stdout",
     "output_type": "stream",
     "text": [
      "/*\n",
      " * linux/kernel/irq/pm.c\n",
      " *\n",
      " * Copyright (C) 2008, 2009 Steffen Klassert <steffen.klassert@secunet.com>\n",
      " *\n",
      " * This program is distributed in the hope that it will be useful, but\n",
      " * WITHOUT ANY WARRANTY; without even the implied warranty of\n",
      " * MERCHANTABILITY or FITNESS FOR A PARTICULAR PURPOSE.  See the\n",
      " * GNU General Public License\n",
      " * along with this program; if not, write to the Free Software\n",
      " * Foundation, Inc., 59 Temple Place - Suite 330, Boston, MA  02111-1307  USA\n",
      " *\n",
      " * Copyright (C) 2011 Peter Zijlstra <pzijlstr@redhat.com>\n",
      " *\n",
      " * Provides a framework for enqueueing and running callbacks from hardirq\n",
      " * context. The enqueueing is NMI-safe.\n",
      " */\n",
      "\n",
      "#include <linux/export.h>\n",
      "#include <linux/sched.h>\n",
      "#include <linux/kthread.h>\n",
      "#include <linux/kernel.h>\n",
      "#include <linux/mm.h>\n",
      "#include <linux/export.h>\n",
      "#include <linux/err.h>\n",
      "#include <linux/freezer.h>\n",
      "#include <linux/module.h>\n",
      "#include <linux/tracepoint.h>\n",
      "\n",
      "#define CREATE_TRACE_POINTS\n",
      "#include <trace/events/syscalls.h>\n",
      "#include <linux\n"
     ]
    }
   ],
   "source": [
    "lm = train_char_lm(\"linux_input.txt\", order=20)\n",
    "print(generate_text(lm, 20))"
   ]
  },
  {
   "cell_type": "code",
   "execution_count": 19,
   "metadata": {},
   "outputs": [
    {
     "name": "stdout",
     "output_type": "stream",
     "text": [
      "/*\n",
      " * linux/kernel/irq/spurious.c\n",
      " *\n",
      " * Copyright (C) 2004, 2005, 2006 Red Hat, Inc., Ingo Molnar <mingo@redhat.com>\n",
      " *  Copyright (C) 2013  Linus Torvalds\n",
      " */\n",
      "\n",
      "#include <linux/delay.h>\n",
      "#include <linux/atomic.h>\n",
      "#include <linux/uaccess.h>\n",
      "\n",
      "static int compat_put_timex(struct compat_timex)) ||\n",
      "\t\t\t__get_user(txc->shift, &utp->shift) ||\n",
      "\t\t\t__put_user(txc->errcnt, &utp->errcnt) ||\n",
      "\t\t\t__put_user(txc->shift, &utp->shift) ||\n",
      "\t\t\t__put_user(tv->tv_sec, &ctv->tv_sec) ||\n",
      "\t\t\t__put_user(txc->time.tv_usec, &utp->time.tv_usec) ||\n",
      "\t\t\t__get_user(txc->jitter, &utp->jitter) ||\n",
      "\t\t\t__get_user(txc->jitter, &utp->jitter) ||\n",
      "\t\t\t__put_user(txc->esterror, &utp->esterror) ||\n",
      "\t\t\t__put_user(ts->tv_nsec, &cts->tv_nsec)) ? -EFAULT : 0;\n",
      "}\n",
      "\n",
      "static int __init init_syscall_trace(struct ftrace_graph_ent,\tgraph_ent\t)\n",
      "\t\t__field_desc(\tunsigned long,\tmap,\tlen\t)\n",
      "\t\t__field_desc(\tint, \t\tmap,\tmap_id\t)\n",
      "\t\t__field_desc(\tunsigned long,\tret,\t\toverrun\t)\n",
      "\t\t__field_desc(\tint, \t\tmap,\tmap_id\t)\n",
      "\t\t__field_desc(\tunsigned long,\tmap,\tlen\t)\n",
      "\t\t__\n"
     ]
    }
   ],
   "source": [
    "print(generate_text(lm, 20))"
   ]
  },
  {
   "cell_type": "code",
   "execution_count": 20,
   "metadata": {},
   "outputs": [
    {
     "name": "stdout",
     "output_type": "stream",
     "text": [
      "/*\n",
      " * linux/kernel/irq/resend.c\n",
      " *\n",
      " * Copyright (C) 2008 Thomas Gleixner <tglx@linutronix.de>\n",
      " *\n",
      " *  Adaptive scheduling granularity, math enhancements by Peter Zijlstra\n",
      " *  Copyright (C) 2004 Pavel Machek <pavel@ucw.cz>\n",
      " * Copyright (C) 2008, 2009 Steffen Klassert <steffen.klassert@secunet.com>\n",
      " *\n",
      " * This program is free software; you can redistribute it and/or modify\n",
      " * it under the terms of the GNU Library General Public\n",
      " * License version 2, as published by the Free Software Foundation; either version 2 of the License, or\n",
      " *  (at your option) any later version.\n",
      " *\n",
      " * This program is distributed in the hope that it will be useful,\n",
      " * but WITHOUT ANY WARRANTY; without even the implied warranty of\n",
      " * MERCHANTABILITY or FITNESS FOR A PARTICULAR PURPOSE.  See the\n",
      " * GNU General Public License for more details.\n",
      " *\n",
      " * You should have received a copy of the GNU General Public License for more details.\n",
      " *\n",
      " * You should have received a copy of the GNU General Public License version 2 as\n",
      " * published by the Free Software Foundation, version 2 of the\n",
      " * License, or (at your option) any later version.\n",
      " *\n",
      " * This program is free software; you can redistribute it and/or modify\n",
      " * it under the terms of the GNU General Public License as published by\n",
      " * the Free Software Foundation; either version 2 of the License, or\n",
      " * (at your option) any later version.\n",
      " *\n",
      " * This program is free software; you can redistribute it and/or\n",
      " *  modify it under the terms of the GNU General Public License as published by the Free Software Foundation; either version 2 of the License, or\n",
      " * (at your option) any later version.\n",
      " *\n",
      " * This program is free software; you can redistribute it and/or\n",
      " *  modify it under the terms of the GNU General Public License as published by\n",
      " * the Free Software Foundation, Inc., 59 Temple Place - Suite 330, Boston, MA  02111-1307  USA\n",
      "*/\n",
      "#include <linux/kmemleak.h>\n",
      "#include <linux/kprobes.h>\n",
      "\n",
      "#define CREATE_TRACE_POINTS\n",
      "#include <trace/events/syscalls.h>\n",
      "#include <linux/nsproxy.h>\n",
      "#include <linux/cred.h>\n",
      "#include <linux/mutex.h>\n",
      "#include <linux/ptrace.h>\n",
      "#include <linux/suspend.h>\n",
      "\n",
      "#include <asm/switch_to.h>\n",
      "#include <asm/tlb.h>\n",
      "#include <asm/irq_regs.h>\n",
      "#include <asm/processor.h>\n",
      "\n",
      "\n",
      "static DEFINE_PER_CPU(bool, watchdog_nmi_touch);\n",
      "static DEFINE_PER_CPU(unsigned long, process_counts) = 0;\n",
      "\n",
      "__cacheline_aligned DEFINE_RWLOCK(tasklist_lock);  /* outer */\n",
      "\n",
      "#ifdef CONFIG_PROVE_LOCKING */\n",
      "\n",
      "/*\n",
      " * Stubs:\n",
      " */\n",
      "\n",
      "void trace_softirqs_on(unsigned long ip)\n",
      "{\n",
      "\tunsigned long flags;\n",
      "\tunsigned long mask;\n",
      "\tstruct rcu_node *rnp_old = NULL;\n",
      "\n",
      "\t/* Funnel through hierarchy to reduce memory contention. */\n",
      "\trnp = __this_cpu_read(rcu_preempt_data.passed_quiesce)) {\n",
      "\t\ttrace_rcu_grace_period(rsp->name, rdp->gpnum, rdp->cpu, TPS(\"ofl\"));\n",
      "\t\trdp->offline_fqs++;\n",
      "\t\treturn 1;\n",
      "\t}\n",
      "\n",
      "\t/* Has a new RCU grace period started? */\n",
      "\tif (ACCESS_ONCE(rnp->exp_tasks) == NULL &&\n",
      "\t    ACCESS_ONCE(rnp_root->gpnum) != ACCESS_ONCE(rnp_root->gpnum) != ACCESS_ONCE(rnp_root->gpnum) != ACCESS_ONCE(rnp_root->gpnum) != ACCESS_ONCE(rnp_root->completed) {\n",
      "\t\ttrace_rcu_future_gp(rnp, rdp, c, TPS(\"Prestartedroot\"));\n",
      "\t\tgoto unlock_out;\n",
      "\t}\n",
      "\n",
      "\t/* Record the need for the future grace period. */\n",
      "\treturn 0; /* No grace period needed. */\n",
      "}\n",
      "\n",
      "/*\n",
      " * rcu_eqs_enter_common(oldval, true);\n",
      "\trcu_sysidle_exit(1);\n",
      "\tlocal_irq_restore(flags);\n",
      "\treturn ret;\n",
      "}\n",
      "EXPORT_SYMBOL_GPL(ring_buffer_lock_reserve(buffer, TRACE_BPRINT, size,\n",
      "\t\t\t\t\t  irq_flags, pc);\n",
      "\tif (!event)\n",
      "\t\treturn;\n",
      "\n",
      "\tentry = ring_buffer_event_data - return the data of the event\n",
      " * @event: the event to get the length of\n",
      " *\n",
      " * Returns the size of the\n",
      " * data load of the data event after it.\n",
      " */\n",
      "unsigned ring_buffer_event_length - return the length of the given event. Will return\n",
      " * the length of the time extend if the event is a\n",
      " * time extend.\n",
      " */\n",
      "static inline\n",
      "void requeue_futex(struct futex_q *q, struct futex_hash_bucket *hb2,\n",
      "\t\t\t\t union futex_key *key,\n",
      "\t\t\t   struct futex_hash_bucket *hb)\n",
      "\t__releases(&hb->lock)\n",
      "{\n",
      "\tint prio;\n",
      "\n",
      "\t/*\n",
      "\t * The priority used to register the trigger\n",
      " * @ops: The trigger ops associated with this\n",
      "\t\t * task and put them back on the free list.\n",
      "\t\t */\n",
      "\t\tkprobe_flush_task(prev);\n",
      "\t\tput_task_struct(task);\n",
      "err_group_fd:\n",
      "\tfdput(group);\n",
      "err_fd:\n",
      "\tput_unused_fd(event_fd);\n",
      "\treturn err;\n",
      "}\n",
      "\n",
      "static int posix_get_monotonic_coarse,\n",
      "\t};\n",
      "\tstruct k_clock clock_boottime = {\n",
      "\t\t.clock_getres\t= hrtimer_get_res,\n",
      "\t\t.clock_get\t= process_cpu_clock_getres,\n",
      "\t\t.clock_get\t= posix_ktime_get_ts,\n",
      "\t\t.nsleep\t\t= common_nsleep,\n",
      "\t\t.nsleep_restart\t= process_cpu_nsleep,\n",
      "\t\t.nsleep_restart\t= hrtimer_nanosleep_restart;\n",
      "\t\trestart->nanosleep.expires = timespec_to_sample(timer->it_clock, &new->it_value);\n",
      "\n",
      "\t/*\n",
      "\t * Protect access to @t credentials. This can go away when all\n",
      "\t * callers hold rcu read lock.\n",
      "\t */\n",
      "\trcu_read_lock();\n",
      "\tlist_for_each_entry(event, &event_hash[key], node) {\n",
      "\t\tif (event->type == type)\n",
      "\t\t\treturn event;\n",
      "\t}\n",
      "\n",
      "\treturn NULL;\n",
      "}\n",
      "\n",
      "void __init signals_init(void)\n",
      "{\n",
      "\tsigqueue_cachep = KMEM_CACHE(ftrace_event_file, SLAB_PANIC);\n",
      "\treturn 0;\n",
      "}\n",
      "\n",
      "static int SOFT\n"
     ]
    }
   ],
   "source": [
    "print(generate_text(lm, 20, nletters=5000))"
   ]
  },
  {
   "cell_type": "markdown",
   "metadata": {},
   "source": [
    "Order 10 is pretty much junk. In order 15 things sort-of make sense, but we jump abruptly between the \n",
    "and by order 20 we are doing quite nicely -- but are far from keeping good indentation and brackets. \n",
    "\n",
    "How could we? we do not have the memory, and these things are not modeled at all. While we could quite easily enrich our model to support also keeping track of brackets and indentation (by adding information such as \"have I seen ( but not )\" to the conditioning history), this requires extra work, non-trivial human reasoning, and will make the model significantly more complex. \n",
    "\n",
    "Neural networks, on the other hand, seemed to have just learn it on its own. And that's impressive."
   ]
  },
  {
   "cell_type": "markdown",
   "metadata": {},
   "source": [
    "## Names dataset"
   ]
  },
  {
   "cell_type": "markdown",
   "metadata": {},
   "source": [
    "Let's do a head to head comparison between n-gram LMs and a neural network that uses trigram word embeddings as input to predict the next token. \n",
    "\n",
    "Notice that the model is very similar to the word2vec continuous bag of words (CBOW) model except that instead of a masked token surrounded by the tokens used to predict the masked token, instead we predict the next token (as if it was masked) using the left to right context. Both models use n-gram word embeddings but n-gram LMs use a multi-layer model instead of a single layer like word2vec."
   ]
  },
  {
   "cell_type": "code",
   "execution_count": 21,
   "metadata": {},
   "outputs": [
    {
     "name": "stdout",
     "output_type": "stream",
     "text": [
      "emmie\n",
      "olin\n",
      "hajessa\n",
      "yohan\n",
      "kaythm\n",
      "romie\n",
      "joma\n",
      "jari\n",
      "dey\n",
      "alynn\n",
      "savaleah\n",
      "lena\n",
      "milley\n",
      "annaislenasia\n",
      "keemae\n",
      "avery\n",
      "ston\n",
      "julin\n",
      "tilanellandellah\n",
      "yanna\n",
      "yamira\n",
      "zen\n",
      "karley\n",
      "dry\n",
      "whitly\n",
      "korie\n",
      "jakorelle\n",
      "melen\n",
      "kora\n",
      "elyn\n",
      "mel\n",
      "davishayellagrachiann\n",
      "evel\n",
      "aiyah\n",
      "sebankleighaneel\n",
      "henda\n",
      "bayla\n",
      "mykalatisai\n",
      "elmin\n",
      "lamilianna\n",
      "ashio\n",
      "elin\n",
      "azellulunay\n",
      "markus\n",
      "corban\n",
      "marcina\n",
      "norryn\n",
      "baaz\n",
      "mari\n",
      "osh\n",
      "daya\n",
      "rylen\n",
      "dia\n",
      "nay\n",
      "alexani\n",
      "kamouhamdynn\n",
      "ava\n",
      "nuri\n",
      "jamorian\n",
      "saat\n",
      "stas\n",
      "slavius\n",
      "den\n",
      "yani\n",
      "shi\n",
      "anaya\n",
      "car\n",
      "khaliyanny\n",
      "emere\n",
      "makhalson\n",
      "uly\n",
      "jaxxon\n",
      "tei\n",
      "lessa\n",
      "samarius\n",
      "lydiella\n",
      "alaniyah\n",
      "elai\n",
      "zaraline\n",
      "alarra\n",
      "skirture\n",
      "kamira\n",
      "mohsehaja\n",
      "kilinnlynn\n",
      "liand\n",
      "hariah\n",
      "naline\n",
      "deda\n",
      "keathalina\n",
      "benja\n",
      "dmarianai\n",
      "austian\n",
      "rus\n",
      "dalyn\n",
      "arrick\n",
      "roby\n",
      "kaiven\n",
      "davi\n",
      "torindyley\n",
      "kimirrollise\n",
      "olinard\n",
      "kameseun\n",
      "haunachiso\n",
      "milo\n",
      "sali\n",
      "yul\n",
      "shlynn\n",
      "shikaire\n",
      "sha\n",
      "aree\n",
      "win\n",
      "kremilanishaydana\n",
      "kaiseerainnalia\n",
      "elle\n",
      "abelle\n",
      "ada\n",
      "hene\n",
      "absalin\n",
      "aara\n",
      "zoda\n",
      "ann\n",
      "manuol\n",
      "kaarion\n",
      "faelektrape\n",
      "henden\n",
      "von\n",
      "phinyona\n",
      "tiwan\n",
      "spurge\n",
      "jenna\n",
      "kota\n",
      "ailee\n",
      "logic\n",
      "dena\n",
      "kanys\n",
      "anaisley\n",
      "cas\n",
      "payton\n",
      "krissa\n",
      "janando\n",
      "kamanuella\n",
      "\n"
     ]
    }
   ],
   "source": [
    "lm = train_char_lm(\"names.txt\", order=3)\n",
    "print(generate_text(lm, 3))"
   ]
  },
  {
   "cell_type": "markdown",
   "metadata": {},
   "source": [
    "## The End"
   ]
  },
  {
   "cell_type": "code",
   "execution_count": 21,
   "metadata": {},
   "outputs": [
    {
     "data": {
      "text/html": [
       "<style>\n",
       "    @font-face {\n",
       "        font-family: \"Computer Modern\";\n",
       "        src: url('http://9dbb143991406a7c655e-aa5fcb0a5a4ec34cff238a2d56ca4144.r56.cf5.rackcdn.com/cmunss.otf');\n",
       "    }\n",
       "    @font-face {\n",
       "        font-family: \"Computer Modern\";\n",
       "        font-weight: bold;\n",
       "        src: url('http://9dbb143991406a7c655e-aa5fcb0a5a4ec34cff238a2d56ca4144.r56.cf5.rackcdn.com/cmunsx.otf');\n",
       "    }\n",
       "    @font-face {\n",
       "        font-family: \"Computer Modern\";\n",
       "        font-style: oblique;\n",
       "        src: url('http://9dbb143991406a7c655e-aa5fcb0a5a4ec34cff238a2d56ca4144.r56.cf5.rackcdn.com/cmunsi.otf');\n",
       "    }\n",
       "    @font-face {\n",
       "        font-family: \"Computer Modern\";\n",
       "        font-weight: bold;\n",
       "        font-style: oblique;\n",
       "        src: url('http://9dbb143991406a7c655e-aa5fcb0a5a4ec34cff238a2d56ca4144.r56.cf5.rackcdn.com/cmunso.otf');\n",
       "    }\n",
       "    div.cell{\n",
       "        width:800px;\n",
       "        font-size: 110%;\n",
       "        margin-left:5% !important;\n",
       "        margin-right:auto;\n",
       "    }\n",
       "    h1 {\n",
       "        font-family: Helvetica, serif;\n",
       "    }\n",
       "    h4{\n",
       "        margin-top:12px;\n",
       "        margin-bottom: 3px;\n",
       "       }\n",
       "    div.text_cell_render{\n",
       "        font-family: Computer Modern, \"Helvetica Neue\", Arial, Helvetica, Geneva, sans-serif;\n",
       "        line-height: 145%;\n",
       "        font-size: 110%;\n",
       "        width:800px;\n",
       "        margin-left:auto;\n",
       "        margin-right:auto;\n",
       "    }\n",
       "    .CodeMirror{\n",
       "            font-family: \"Source Code Pro\", source-code-pro,Consolas, monospace;\n",
       "            font-size: 110%;\n",
       "    }\n",
       "    .prompt{\n",
       "        display: None;\n",
       "    }\n",
       "    .text_cell_render h5 {\n",
       "        font-weight: 300;\n",
       "        font-size: 22pt;\n",
       "        color: #4057A1;\n",
       "        font-style: italic;\n",
       "        margin-bottom: .5em;\n",
       "        margin-top: 0.5em;\n",
       "        display: block;\n",
       "    }\n",
       "    \n",
       "    .warning{\n",
       "        color: rgb( 240, 20, 20 )\n",
       "        }  \n",
       "\n",
       "</style>\n",
       "<script>\n",
       "    MathJax.Hub.Config({\n",
       "                        TeX: {\n",
       "                           extensions: [\"AMSmath.js\"]\n",
       "                           },\n",
       "                tex2jax: {\n",
       "                    inlineMath: [ ['$','$'], [\"\\\\(\",\"\\\\)\"] ],\n",
       "                    displayMath: [ ['$$','$$'], [\"\\\\[\",\"\\\\]\"] ]\n",
       "                },\n",
       "                displayAlign: 'center', // Change this to 'center' to center equations.\n",
       "                \"HTML-CSS\": {\n",
       "                    styles: {'.MathJax_Display': {\"margin\": 4}}\n",
       "                }\n",
       "        });\n",
       "</script>\n"
      ],
      "text/plain": [
       "<IPython.core.display.HTML object>"
      ]
     },
     "execution_count": 21,
     "metadata": {},
     "output_type": "execute_result"
    }
   ],
   "source": [
    "from IPython.core.display import HTML\n",
    "\n",
    "def css_styling():\n",
    "    styles = open(\"../css/notebook.css\", \"r\").read()\n",
    "    return HTML(styles)\n",
    "css_styling()"
   ]
  },
  {
   "cell_type": "code",
   "execution_count": null,
   "metadata": {},
   "outputs": [],
   "source": []
  }
 ],
 "metadata": {
  "kernelspec": {
   "display_name": "Python 3 (ipykernel)",
   "language": "python",
   "name": "python3"
  },
  "language_info": {
   "codemirror_mode": {
    "name": "ipython",
    "version": 3
   },
   "file_extension": ".py",
   "mimetype": "text/x-python",
   "name": "python",
   "nbconvert_exporter": "python",
   "pygments_lexer": "ipython3",
   "version": "3.12.5"
  }
 },
 "nbformat": 4,
 "nbformat_minor": 4
}
