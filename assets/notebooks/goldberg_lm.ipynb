{
 "cells": [
  {
   "cell_type": "markdown",
   "metadata": {},
   "source": [
    "# The unreasonable effectiveness of Character-level Language Models\n",
    "## (and why RNNs are still cool)\n",
    "\n",
    "### [Yoav Goldberg](http://www.cs.biu.ac.il/~yogo)\n",
    "\n",
    "RNNs, LSTMs and Deep Learning are all the rage, and a recent [blog post](http://karpathy.github.io/2015/05/21/rnn-effectiveness/) by Andrej Karpathy is doing a great job explaining what these models are and how to train them.\n",
    "It also provides some very impressive results of what they are capable of.  This is a great post, and if you are interested in natural language, machine learning or neural networks you should definitely read it. \n",
    "\n",
    "Go read it now, then come back here. \n",
    "\n",
    "You're back? good. Impressive stuff, huh? How could the network learn to immitate the input like that?\n",
    "Indeed. I was quite impressed as well.\n",
    "\n",
    "However, it feels to me that most readers of the post are impressed by the wrong reasons.\n",
    "This is because they are not familiar with **unsmoothed maximum-liklihood character level language models** and their unreasonable effectiveness at generating rather convincing natural language outputs.\n",
    "\n",
    "In what follows I will briefly describe these character-level maximum-likelihood langauge models, which are much less magical than RNNs and LSTMs, and show that they too can produce a rather convincing Shakespearean prose. I will also show about 30 lines of python code that take care of both training the model and generating the output. Compared to this baseline, the RNNs may seem somehwat less impressive. So why was I impressed? I will explain this too, below."
   ]
  },
  {
   "cell_type": "markdown",
   "metadata": {},
   "source": [
    "## Unsmoothed Maximum Likelihood Character Level Language Model \n",
    "\n",
    "The name is quite long, but the idea is very simple.  We want a model whose job is to guess the next character based on the previous $n$ letters. For example, having seen `ello`, the next characer is likely to be either a commma or space (if we assume is is the end of the word \"hello\"), or the letter `w` if we believe we are in the middle of the word \"mellow\". Humans are quite good at this, but of course seeing a larger history makes things easier (if we were to see 5 letters instead of 4, the choice between space and `w` would have been much easier).\n",
    "\n",
    "We will call $n$, the number of letters we need to guess based on, the _order_ of the language model.\n",
    "\n",
    "RNNs and LSTMs can potentially learn infinite-order language model (they guess the next character based on a \"state\" which supposedly encode all the previous history). We here will restrict ourselves to a fixed-order language model.\n",
    "\n",
    "So, we are seeing $n$ letters, and need to guess the $n+1$th one. We are also given a large-ish amount of text (say, all of Shakespear works) that we can use. How would we go about solving this task?\n",
    "\n",
    "Mathematically, we would like to learn a function $P(c | h)$. Here, $c$ is a character, $h$ is a $n$-letters history, and $P(c|h)$ stands for how likely is it to see $c$ after we've seen $h$.\n",
    "\n",
    "Perhaps the simplest approach would be to just count and divide (a.k.a **maximum likelihood estimates**). We will count the number of times each letter $c'$ appeared after $h$, and divide by the total numbers of letters appearing after $h$. The **unsmoothed** part means that if we did not see a given letter following $h$, we will just give it a probability of zero.\n",
    "\n",
    "And that's all there is to it.\n"
   ]
  },
  {
   "cell_type": "markdown",
   "metadata": {},
   "source": [
    "### Training Code\n",
    "Here is the code for training the model. `fname` is a file to read the characters from. `order` is the history size to consult. Note that we pad the data with leading `~` so that we also learn how to start.\n"
   ]
  },
  {
   "cell_type": "code",
   "execution_count": 1,
   "metadata": {},
   "outputs": [],
   "source": [
    "from collections import *\n",
    "\n",
    "def train_char_lm(fname, order=4):\n",
    "    data = open(fname).read()\n",
    "    lm = defaultdict(Counter)\n",
    "    pad = \"~\" * order\n",
    "    data = pad + data\n",
    "    for i in range(len(data)-order):\n",
    "        history, char = data[i:i+order], data[i+order]\n",
    "        lm[history][char]+=1\n",
    "    def normalize(counter):\n",
    "        s = float(sum(counter.values()))\n",
    "        return [(c,cnt/s) for c,cnt in counter.items()]\n",
    "    outlm = {hist:normalize(chars) for hist, chars in lm.items()}\n",
    "    return outlm"
   ]
  },
  {
   "cell_type": "markdown",
   "metadata": {},
   "source": [
    "Let's train it on Andrej's Shakespears's text:"
   ]
  },
  {
   "cell_type": "code",
   "execution_count": 2,
   "metadata": {},
   "outputs": [
    {
     "name": "stdout",
     "output_type": "stream",
     "text": [
      "URL transformed to HTTPS due to an HSTS policy\n",
      "--2018-09-25 15:51:38--  https://cs.stanford.edu/people/karpathy/char-rnn/shakespeare_input.txt\n",
      "Resolving cs.stanford.edu (cs.stanford.edu)... 171.64.64.64\n",
      "Connecting to cs.stanford.edu (cs.stanford.edu)|171.64.64.64|:443... connected.\n",
      "HTTP request sent, awaiting response... 200 OK\n",
      "Length: 4573338 (4.4M) [text/plain]\n",
      "Saving to: ‘shakespeare_input.txt.1’\n",
      "\n",
      "shakespeare_input.t 100%[===================>]   4.36M  4.12MB/s    in 1.1s    \n",
      "\n",
      "2018-09-25 15:51:39 (4.12 MB/s) - ‘shakespeare_input.txt.1’ saved [4573338/4573338]\n",
      "\n"
     ]
    }
   ],
   "source": [
    "!wget http://cs.stanford.edu/people/karpathy/char-rnn/shakespeare_input.txt"
   ]
  },
  {
   "cell_type": "code",
   "execution_count": 2,
   "metadata": {},
   "outputs": [],
   "source": [
    "lm = train_char_lm(\"shakespeare_input.txt\", order=4)"
   ]
  },
  {
   "cell_type": "markdown",
   "metadata": {},
   "source": [
    "Ok. Now let's do some queries:"
   ]
  },
  {
   "cell_type": "code",
   "execution_count": 5,
   "metadata": {},
   "outputs": [
    {
     "data": {
      "text/plain": [
       "[('?', 0.045532157085941945),\n",
       " (' ', 0.5156516789982926),\n",
       " ('c', 0.0443938531587934),\n",
       " ('.', 0.035287421741605006),\n",
       " (',', 0.21457029026750143),\n",
       " (';', 0.02902675014228799),\n",
       " (':', 0.017643710870802503),\n",
       " ('!', 0.00796812749003984),\n",
       " ('\\n', 0.02390438247011952),\n",
       " (\"'\", 0.006260671599317018),\n",
       " ('s', 0.03414911781445646),\n",
       " ('o', 0.0005691519635742744),\n",
       " ('i', 0.021627774615822423),\n",
       " ('-', 0.0005691519635742744),\n",
       " ('t', 0.0022766078542970974),\n",
       " ('e', 0.0005691519635742744)]"
      ]
     },
     "execution_count": 5,
     "metadata": {},
     "output_type": "execute_result"
    }
   ],
   "source": [
    "lm['then']"
   ]
  },
  {
   "cell_type": "code",
   "execution_count": 6,
   "metadata": {},
   "outputs": [
    {
     "data": {
      "text/plain": [
       "[('t', 1.0)]"
      ]
     },
     "execution_count": 6,
     "metadata": {},
     "output_type": "execute_result"
    }
   ],
   "source": [
    "lm['Firs']"
   ]
  },
  {
   "cell_type": "code",
   "execution_count": 5,
   "metadata": {},
   "outputs": [
    {
     "data": {
      "text/plain": [
       "[('C', 0.09550561797752809),\n",
       " ('f', 0.011235955056179775),\n",
       " ('i', 0.016853932584269662),\n",
       " ('t', 0.05377207062600321),\n",
       " ('u', 0.0016051364365971107),\n",
       " ('S', 0.16292134831460675),\n",
       " ('h', 0.019261637239165328),\n",
       " ('s', 0.03290529695024077),\n",
       " ('R', 0.0008025682182985554),\n",
       " ('b', 0.024879614767255216),\n",
       " ('c', 0.012841091492776886),\n",
       " ('O', 0.018459069020866775),\n",
       " ('w', 0.024077046548956663),\n",
       " ('a', 0.02247191011235955),\n",
       " ('m', 0.02247191011235955),\n",
       " ('n', 0.020064205457463884),\n",
       " ('I', 0.009630818619582664),\n",
       " ('L', 0.10674157303370786),\n",
       " ('M', 0.0593900481540931),\n",
       " ('l', 0.01043338683788122),\n",
       " ('o', 0.030497592295345103),\n",
       " ('H', 0.0040128410914927765),\n",
       " ('d', 0.015248796147672551),\n",
       " ('W', 0.033707865168539325),\n",
       " ('K', 0.008025682182985553),\n",
       " ('q', 0.0016051364365971107),\n",
       " ('G', 0.0898876404494382),\n",
       " ('g', 0.011235955056179775),\n",
       " ('k', 0.0040128410914927765),\n",
       " ('e', 0.0032102728731942215),\n",
       " ('y', 0.002407704654895666),\n",
       " ('r', 0.0072231139646869984),\n",
       " ('p', 0.00882825040128411),\n",
       " ('A', 0.0056179775280898875),\n",
       " ('P', 0.014446227929373997),\n",
       " ('F', 0.012038523274478331),\n",
       " ('v', 0.002407704654895666),\n",
       " ('T', 0.0032102728731942215),\n",
       " ('D', 0.0032102728731942215),\n",
       " ('B', 0.009630818619582664),\n",
       " ('N', 0.0008025682182985554),\n",
       " (\"'\", 0.0008025682182985554),\n",
       " ('E', 0.0016051364365971107)]"
      ]
     },
     "execution_count": 5,
     "metadata": {},
     "output_type": "execute_result"
    }
   ],
   "source": [
    "lm['rst ']"
   ]
  },
  {
   "cell_type": "markdown",
   "metadata": {},
   "source": [
    "So `ello` is followed by either space, punctuation or `w` (or `r`, `u`, `n`), `Firs` is pretty much deterministic, and the word following `ist ` can start with pretty much every letter."
   ]
  },
  {
   "cell_type": "markdown",
   "metadata": {},
   "source": [
    "### Generating from the model\n",
    "Generating is also very simple. To generate a letter, we will take the history, look at the last $order$ characteters, and then sample a random letter based on the corresponding distribution."
   ]
  },
  {
   "cell_type": "code",
   "execution_count": 7,
   "metadata": {},
   "outputs": [],
   "source": [
    "from random import random\n",
    "\n",
    "def generate_letter(lm, history, order):\n",
    "        history = history[-order:]\n",
    "        dist = lm[history]\n",
    "        x = random()\n",
    "        for c,v in dist:\n",
    "            x = x - v\n",
    "            if x <= 0: return c"
   ]
  },
  {
   "cell_type": "markdown",
   "metadata": {},
   "source": [
    "To generate a passage of $k$ characters, we just seed it with the initial history and run letter generation in a loop, updating the history at each turn."
   ]
  },
  {
   "cell_type": "code",
   "execution_count": 8,
   "metadata": {},
   "outputs": [],
   "source": [
    "def generate_text(lm, order, nletters=1000):\n",
    "    history = \"~\" * order\n",
    "    out = []\n",
    "    for i in range(nletters):\n",
    "        c = generate_letter(lm, history, order)\n",
    "        history = history[-order:] + c\n",
    "        out.append(c)\n",
    "    return \"\".join(out)"
   ]
  },
  {
   "cell_type": "markdown",
   "metadata": {},
   "source": [
    "### Generated Shakespeare from different order models\n",
    "\n",
    "Let's try to generate text based on different language-model orders. Let's start with something silly:\n",
    "\n",
    "### order 2:"
   ]
  },
  {
   "cell_type": "code",
   "execution_count": 11,
   "metadata": {},
   "outputs": [
    {
     "name": "stdout",
     "output_type": "stream",
     "text": [
      "Fir\n",
      "Thompons,\n",
      "Thal, say.\n",
      "\n",
      "BISTRASTAGO:\n",
      "And ch eve to for blor ther wer my joy!\n",
      "\n",
      "Firight.\n",
      "\n",
      "PARMISARK ANS:\n",
      "I fall high-sto cat lado make prill plare can\n",
      "god bersed guar bodentimest hem wichanny dozen.\n",
      "\n",
      "Spatchesetim\n",
      "Han suit.\n",
      "TAFFOL:\n",
      "Ther he en of gere woes an.\n",
      "\n",
      "Her to ch upont welow?\n",
      "\n",
      "Cong poic ingetty,\n",
      "KATRUDINCE:\n",
      "Palmord th knot.\n",
      "\n",
      "POLA:\n",
      "HASA:\n",
      "\n",
      "PRIO:\n",
      "'Twour cusatervain. Go, yetralte thif mou atheraight.\n",
      "\n",
      "Go, tall thromay, hone to rest o' morning her Hen! we cou sunpow,\n",
      "You sell nia's of Eng mas my your ing will this dosterumpery'll thost her orepongelf-ear.\n",
      "\n",
      "GRATIS:\n",
      "And lactiefest, annexprupostlems he dus; will.\n",
      "\n",
      "DUCIUS:\n",
      "'Ned fool,\n",
      "Let a sto Caint ine:\n",
      "I plas ar hattes diefor begs nout upod\n",
      "Whys, forn or is for grothem:\n",
      "O, so juretly he ingen inersely lin'timad hand hou deves mak hou,\n",
      "Falk of I a dis rit any hiscandst your The a what.\n",
      "Comighn, my Lor ame wit, Jam, they knat so th to thourgivess, hinign\n",
      "man, you doese you assim this\n",
      "TIGAVINICES:\n",
      "Nay spechs;\n",
      "Nor tather thee th ine not, ho\n"
     ]
    }
   ],
   "source": [
    "lm = train_char_lm(\"shakespeare_input.txt\", order=2)\n",
    "print(generate_text(lm, 2))"
   ]
  },
  {
   "cell_type": "markdown",
   "metadata": {},
   "source": [
    "Not so great.. but what if we increase the order to 4?\n",
    "\n",
    "### order 4"
   ]
  },
  {
   "cell_type": "code",
   "execution_count": 17,
   "metadata": {},
   "outputs": [
    {
     "name": "stdout",
     "output_type": "stream",
     "text": [
      "First nature\n",
      "That you not with the garmentain'd,\n",
      "Not able Capitol\n",
      "kiss he.\n",
      "\n",
      "Servants and sword,\n",
      "Let to me nother the been thy afford; Here hithee let me,\n",
      "How this terrun.\n",
      "\n",
      "WARWICK:\n",
      "Commonsters a ropinion their come:\n",
      "And me next poison!\n",
      "What weigh so we our stubborn to olden body,\n",
      "Be you how their lord,\n",
      "And with now: scourt of Denmark you, seem sorrow\n",
      "We marchbishonest afraid that is; and trous enforth\n",
      "In were a better?\n",
      "\n",
      "PISTOPHELIA:\n",
      "How let that I offer of modestruct his mastes very cannot be a horsooth, I will departs I'll that me accentiochus,\n",
      "To spake a minutes show you liness in peace, twiggen was to be ready to us;\n",
      "Then, or what strange to put if this pass'd nigh not you to my no brother for than my prited, more as he way is as no makes,\n",
      "And theft.\n",
      "\n",
      "CLIFFORD:\n",
      "Well,\n",
      "Borne\n",
      "As with unto the affair, yet I am the ears eart son, or ever and distreetingale.\n",
      "Her speak; thee a bold catcher terms with you hasterhoodwink of happy have best.\n",
      "\n",
      "CORIN:\n",
      "He, host:\n",
      "I hath done is song.\n",
      "\n",
      "Garded lard\n"
     ]
    }
   ],
   "source": [
    "lm = train_char_lm(\"shakespeare_input.txt\", order=4)\n",
    "print(generate_text(lm, 4))"
   ]
  },
  {
   "cell_type": "code",
   "execution_count": 18,
   "metadata": {},
   "outputs": [
    {
     "name": "stdout",
     "output_type": "stream",
     "text": [
      "First Winch great Nicholars; abourish.\n",
      "\n",
      "EXTON:\n",
      "Take it may the you dready.\n",
      "Common that from the when both the reward: but if I know and turn blood\n",
      "What thou try daught for mistretchers\n",
      "in the surping to.\n",
      "Kind you didst to this it against they wife I'll mock more gone;\n",
      "Nay, your person:\n",
      "He on. He know some forsooth, must will.\n",
      "\n",
      "First Citizen:\n",
      "You art\n",
      "Dead,\n",
      "To more attain;\n",
      "These eart.\n",
      "\n",
      "DESDEMONA:\n",
      "\n",
      "First not music, thine; ha't, Apeman?\n",
      "She bring, like,\n",
      "And hath thanic power is now, groan our affair,\n",
      "Then heir-appoint Pisanion of for took to their heavy that he been that go wine eye?\n",
      "\n",
      "SPEED:\n",
      "\n",
      "CARDINAL WOLSEY:\n",
      "Yea, my he better.\n",
      "\n",
      "PAROLLES:\n",
      "And yet reign slantagion your flight.\n",
      "\n",
      "PRINCE HENRY:\n",
      "Some forgive me, sir, I best-monkeys see you well;\n",
      "Foretencefore thanks it carry noble turping would not yet you impurely.\n",
      "\n",
      "PAULINA:\n",
      "How and prither victor vant:\n",
      "Sir Thame you. There!\n",
      "\n",
      "SHALLOW:\n",
      "It murden devise.\n",
      "\n",
      "BERTRUDE:\n",
      "What brook, lord, entre croppines, a diving?\n",
      "\n",
      "THERSITES:\n",
      "Where our\n",
      "held robbertis\n"
     ]
    }
   ],
   "source": [
    "lm = train_char_lm(\"shakespeare_input.txt\", order=4)\n",
    "print(generate_text(lm, 4))"
   ]
  },
  {
   "cell_type": "markdown",
   "metadata": {},
   "source": [
    "This is already quite reasonable, and reads like English. Just 4 letters history! What if we increase it to 7?\n",
    "\n",
    "### order 7"
   ]
  },
  {
   "cell_type": "code",
   "execution_count": 19,
   "metadata": {},
   "outputs": [
    {
     "name": "stdout",
     "output_type": "stream",
     "text": [
      "First Citizen:\n",
      "Woe to the tune of his forest and fitter plighter of mine comes on a hat, or his sake are wafer-cakes,\n",
      "And not seem very increase,\n",
      "Even at my desires,\n",
      "All little rogues\n",
      "Talk of love\n",
      "Who shoulder out in one place i' the\n",
      "more sight I have your mistress Ford! having but when he return again, or\n",
      "distracted at the hearing. Fare you name you see this,\n",
      "She is,\n",
      "Where is the vein of carefully believe I at home?\n",
      "\n",
      "First to the stars that which he did--I know myself unsorted us:\n",
      "The grass\n",
      "Your chastisement.\n",
      "Then, by the\n",
      "face again.\n",
      "\n",
      "LAVINIA:\n",
      "O Tamora.\n",
      "\n",
      "TITUS ANDRONICUS:\n",
      "Come, come, you grumbling love.\n",
      "The other;\n",
      "Cry 'Welcome, Hamlet's with him.\n",
      "\n",
      "KATHARINA:\n",
      "Husband! I shall seize him, sir?\n",
      "\n",
      "LAFEU:\n",
      "I am not what letters are to\n",
      "challenged\n",
      "The temples of ten.\n",
      "'Tis not for this day in conclusion hold\n",
      "The verity.\n",
      "Lend me trust a Fleming wind\n",
      "Did see thee going away twelvemonth, or turning cockerel's stone my power,\n",
      "Puts on the priests and spotless stand:\n",
      "The bottom of the woollen valiant \n"
     ]
    }
   ],
   "source": [
    "lm = train_char_lm(\"shakespeare_input.txt\", order=7)\n",
    "print(generate_text(lm, 7))"
   ]
  },
  {
   "cell_type": "markdown",
   "metadata": {},
   "source": [
    "### How about 10?"
   ]
  },
  {
   "cell_type": "code",
   "execution_count": 12,
   "metadata": {},
   "outputs": [
    {
     "name": "stdout",
     "output_type": "stream",
     "text": [
      "First Citizen:\n",
      "Why answer not the worst.\n",
      "For thee, oppression and of learning likewise have we to lose,\n",
      "This mould of form,\n",
      "The observed:\n",
      "He hath not a tomb so evident\n",
      "That you stand good father; cry 'Saint George,\n",
      "Inspire me, that holp'st to kill them up\n",
      "In their different greeting well; his cares are now in actions blacker than the sheets! That I might prick\n",
      "The goer-back. Why came you between us,\n",
      "That comes in my father\n",
      "And like an angry look;\n",
      "He thinks, being then most humbly do desire to know of you,\n",
      "Of whence are you?\n",
      "Your name, sir.\n",
      "\n",
      "PETRUCHIO:\n",
      "Here, stand behind me!\n",
      "If thou hadst been toss'd from him.\n",
      "\n",
      "EMILIA:\n",
      "You told a lie, an odious, damned Dane,\n",
      "Drink off this grounds of feed\n",
      "Are now on sale, and at our more consider'd, let us not break with her.\n",
      "Pray you, let me not be put out of question,\n",
      "Two other sons, who in the wars.\n",
      "\n",
      "MORTIMER:\n",
      "These promises no element\n",
      "In such a ring as this,\n",
      "When time is spent, our pilgrimage;\n",
      "Thy word is current when it was ourself in person.\n",
      "\n",
      "CYMB\n"
     ]
    }
   ],
   "source": [
    "lm = train_char_lm(\"shakespeare_input.txt\", order=10)\n",
    "print(generate_text(lm, 10))"
   ]
  },
  {
   "cell_type": "markdown",
   "metadata": {},
   "source": [
    "### This works pretty well\n",
    "\n",
    "With an order of 4, we already get quite reasonable results. Increasing the order to 7 (~word and a half of history) or 10 (~two short words of history) already gets us quite passable Shakepearan text. I'd say it is on par with the examples in Andrej's post. And how simple and un-mystical the model is!"
   ]
  },
  {
   "cell_type": "markdown",
   "metadata": {},
   "source": [
    "### So why am I impressed with the neural networks after all?\n",
    "\n",
    "Generating English a character at a time -- not so impressive in my view. The NN needs to learn the previous $n$ letters, for a rather small $n$, and that's it. \n",
    "\n",
    "However, the code-generation example is very impressive. Why? because of the context awareness. Note that in all of the posted examples, the code is well indented, the braces and brackets are correctly nested, and even the comments start and end correctly. This is not something that can be achieved by simply looking at the previous $n$ letters. \n",
    "\n",
    "If the examples are not cherry-picked, and the output is generally that nice, then the NN did learn something not trivial at all.\n",
    "\n",
    "Just for the fun of it, let's see what our simple language model does with the linux-kernel code:"
   ]
  },
  {
   "cell_type": "code",
   "execution_count": 14,
   "metadata": {},
   "outputs": [
    {
     "name": "stdout",
     "output_type": "stream",
     "text": [
      "URL transformed to HTTPS due to an HSTS policy\n",
      "--2018-09-25 15:52:32--  https://cs.stanford.edu/people/karpathy/char-rnn/linux_input.txt\n",
      "Resolving cs.stanford.edu (cs.stanford.edu)... 171.64.64.64\n",
      "Connecting to cs.stanford.edu (cs.stanford.edu)|171.64.64.64|:443... connected.\n",
      "HTTP request sent, awaiting response... 200 OK\n",
      "Length: 6206996 (5.9M) [text/plain]\n",
      "Saving to: ‘linux_input.txt.1’\n",
      "\n",
      "linux_input.txt.1   100%[===================>]   5.92M  4.25MB/s    in 1.4s    \n",
      "\n",
      "2018-09-25 15:52:34 (4.25 MB/s) - ‘linux_input.txt.1’ saved [6206996/6206996]\n",
      "\n"
     ]
    }
   ],
   "source": [
    "!wget http://cs.stanford.edu/people/karpathy/char-rnn/linux_input.txt"
   ]
  },
  {
   "cell_type": "code",
   "execution_count": 20,
   "metadata": {},
   "outputs": [
    {
     "name": "stdout",
     "output_type": "stream",
     "text": [
      "\n",
      " *     waiters. We do not know the event for the next grace period for devices which have arrived while\n",
      " *\tthe handler which only restarts the timer wheel\n",
      " * event:\n",
      " */\n",
      "static void __init functions\n",
      " */\n",
      "static void destroy_hrtimer_on_stack_key(struct bpf_prog *prog;\n",
      "};\n",
      "\n",
      "/* List of highmem image pages).  The pages are in kernel/sys.c\n",
      " *\n",
      " * This program is free software group, and we\n",
      "\t\t\t * try again later.  Or just synchronize_rcu_tasks() -- tries to solve) the problem. Otherwise things like SIGKILL\n",
      " * and friends allocated from this cfs_rq child load-average relies on the same type, no requeueing, misc fixes by Ingo Molnar <mingo@redhat.com>\n",
      " *\n",
      " * This program to an event\n",
      " * designed for SMP.\n",
      " *  'R' - User forced a module parameters. */\n",
      "static DEFINE_MUTEX(reboot_mutex);\n",
      "\tif (ACCESS_ONCE(t->rcu_tasks_cbs_lock, flags);\n",
      "\tarch_spinlock_t\t\tlock;\t\t/* the pool @worker belongs\n",
      " * to.  At any given time, the audit context (task or percpu):\n",
      "\t */\n",
      "\n",
      "\tevent->hw.tp_list, &tu->tp.size + dsize);\n",
      "\n",
      "\tif \n"
     ]
    }
   ],
   "source": [
    "lm = train_char_lm(\"linux_input.txt\", order=10)\n",
    "print(generate_text(lm, 10))"
   ]
  },
  {
   "cell_type": "code",
   "execution_count": 17,
   "metadata": {},
   "outputs": [
    {
     "name": "stdout",
     "output_type": "stream",
     "text": [
      "~~~~\n",
      " *     wait->flags &= ~WQ_FLAG_WOKEN;\t\tcondition = true;\n",
      " *     smp_mb() // B\t\t\t\tsmp_wmb(); // C\n",
      " *\t\t\t\t\t\twait->flags |= WQ_FLAG_WOKEN;\n",
      "\n",
      "\treturn default_wake_function(wait_queue_t *wait, int state)\n",
      "{\n",
      "\tunsigned int futex_shift;\n",
      "\tunsigned int pdu)\n",
      "{\n",
      "\tstruct blk_trace *bt = q->blk_trace;\n",
      "\n",
      "\tif (likely(!irqd_is_setaffinity_pending(data);\n",
      "\t\tirq_copy_pending(struct irq_desc *desc)\n",
      "{\n",
      "\tstruct irq_desc *desc)\n",
      "{\n",
      "\tirq_state_set_disabled(desc);\n",
      "\tdesc->depth = 1;\n",
      "\tif (desc->irq_data.domain;\n",
      "\n",
      "\t\tif (domain) {\n",
      "\t\t\tstruct irq_data *data)\n",
      "{\n",
      "\tfor (data = data->parent_data)\n",
      "\t\t\tirq_domain_free_irqs - Free IRQ number and associated lock. */\n",
      "static void FETCH_FUNC_NAME(method, string) == fn) ||\t\\\n",
      "\t  (FETCH_FUNC_NAME(bitfield, type)(struct pt_regs *regs, void *dest)\n",
      "{\n",
      "\tlong ret;\n",
      "\tint maxlen  = get_rloc_len(*dl);\n",
      "\t\t\t/* Trick here, convert data_rloc to data_loc */\n",
      "\t\t\t*dl = convert_rloc_to_loc(*dl,\n",
      "\t\t\t\t ent_size + tp->args[i].offset);\n",
      "\t}\n",
      "}\n",
      "\n",
      "extern void start_bandwidth_timer(struct hrtimer *period_timer, ktime_\n"
     ]
    }
   ],
   "source": [
    "lm = train_char_lm(\"linux_input.txt\", order=15)\n",
    "print(generate_text(lm, 15))"
   ]
  },
  {
   "cell_type": "code",
   "execution_count": 18,
   "metadata": {},
   "outputs": [
    {
     "name": "stdout",
     "output_type": "stream",
     "text": [
      "/*\n",
      " * linux/kernel/irq/msi.c\n",
      " *\n",
      " * Copyright (C) 1992 Darren Senn\n",
      " */\n",
      "\n",
      "/* These are all the functions necessary to implement itimers */\n",
      "\n",
      "#include <linux/string.h>\n",
      "#include <linux/ftrace.h>\n",
      "\n",
      "#include \"trace.h\"\n",
      "\n",
      "static DEFINE_PER_CPU(struct sched_domain *sd,\n",
      "\t\t\t\t struct sched_domain *sd, struct sched_group *sg;\n",
      "\tint i = task_cpu(p);\n",
      "\n",
      "\tif (curr_cpu == target_cpu)\n",
      "\t\treturn 0;\n",
      "\n",
      "\tenv->imbalance = DIV_ROUND_CLOSEST(\n",
      "\t\tsds->busiest_stat.avg_load * sds->busiest_stat.group_capacity,\n",
      "\t\tSCHED_CAPACITY_SCALE;\n",
      "\n",
      "\t/* Move if we gain throughput */\n",
      "\tif (capa_move > capa_now)\n",
      "\t\tenv->imbalance = busiest->load_per_task =\n",
      "\t\t\tmin(busiest->load_per_task;\n",
      "\t\treturn;\n",
      "\t}\n",
      "\n",
      "\t/*\n",
      "\t * OK, we don't have enough imbalance to justify moving tasks,\n",
      "\t * however we may be able to increase total CPU capacity used by\n",
      "\t * moving them.\n",
      "\t */\n",
      "\n",
      "\tcapa_now += busiest->group_capacity <\n",
      "\t    busiest->load_per_task, busiest->avg_load);\n",
      "\tcapa_now /= SCHED_CAPACITY_SCALE * sds.total_load)\n",
      "\t\t\t\t\t\t/ sds.total_capacity;\n",
      "\n",
      "\t/*\n",
      "\t * If the busies\n"
     ]
    }
   ],
   "source": [
    "lm = train_char_lm(\"linux_input.txt\", order=20)\n",
    "print(generate_text(lm, 20))"
   ]
  },
  {
   "cell_type": "code",
   "execution_count": 19,
   "metadata": {},
   "outputs": [
    {
     "name": "stdout",
     "output_type": "stream",
     "text": [
      "/*\n",
      " * linux/kernel/itimer.c\n",
      " *\n",
      " * Copyright (C) 2008, 2009 Steffen Klassert <steffen.klassert@secunet.com>\n",
      " *\n",
      " * This program is free software; you can redistribute it and/or modify it\n",
      " * under the terms and conditions of the GNU General Public License as published by\n",
      " * the Free Software Foundation; either version\n",
      " * 2 of the Licence, or (at your option) any later version.\n",
      " *\n",
      " * This program is distributed in the hope that it will be useful,\n",
      "    but WITHOUT ANY WARRANTY; without even the implied warranty of\n",
      " * MERCHANTABILITY or FITNESS FOR A PARTICULAR PURPOSE. See the GNU\n",
      " * General Public License for more details.\n",
      " *\n",
      " * You should have received a copy of the GNU General Public\n",
      " * License as published by\n",
      " * the Free Software Foundation; either version 2 of the License, or\n",
      " * (at your option) any later version.\n",
      " *\n",
      " *  This program is free software; you can redistribute it and/or\n",
      " * modify it under the terms of the GNU General Public License\n",
      " *  as published by the Free Software Found\n"
     ]
    }
   ],
   "source": [
    "print(generate_text(lm, 20))"
   ]
  },
  {
   "cell_type": "code",
   "execution_count": 20,
   "metadata": {},
   "outputs": [
    {
     "name": "stdout",
     "output_type": "stream",
     "text": [
      "/*\n",
      " * linux/kernel/irq/manage.c\n",
      " *\n",
      " * Copyright (C) 2000 Stephane Eranian <eranian@hpl.hp.com>\n",
      " * Xscale (R) modifications copyright (C) 2003 Intel Corporation.\n",
      " * Copyright (C) 2008, 2009 Steffen Klassert <steffen.klassert@secunet.com>\n",
      " *\n",
      " * This program is free software; you can redistribute it and/or modify\n",
      " * it under the terms of the GNU General Public License (GPL).\n",
      " *\n",
      " * This file contains functions which manage clock event device to the minimum delay.\n",
      " * @dev:\tdevice to program\n",
      " *\n",
      " * Returns 0 on success and < 0 on failure.\n",
      " */\n",
      "int srcu_notifier_chain_unregister(&module_notify_list, nb);\n",
      "}\n",
      "EXPORT_SYMBOL(unregister_console);\n",
      "\n",
      "int unregister_console(struct console *co, const char *s,\n",
      "   unsigned count)\n",
      "{\n",
      "\trq->nr_running -= count;\n",
      "}\n",
      "\n",
      "static int current_css_set_cg_links_read(struct seq_file *m, void *v)\n",
      "{\n",
      "\tstruct cgroup *parent, *cgrp;\n",
      "\tstruct cgroup_subsys *ss;\n",
      "\tunsigned long key;\n",
      "\tint i;\n",
      "\n",
      "\t/*\n",
      "\t * Build the set of subsystem state objects generated in\n",
      "\t * find_existing_css_set(struct css_set *old_cset,\n",
      "\t\t\t     struct cgroup_subsys *ss;\n",
      "\tint i;\n",
      "\n",
      "\tfor_each_present_cpu(i) {\n",
      "\t\tpercpu = cpuacct_cpuusage_read(ca, i);\n",
      "\n",
      "\treturn totalcpuusage;\n",
      "}\n",
      "\n",
      "static int cpuusage_write(struct cgroup_subsys_state *css)\n",
      "{\n",
      "\tstruct cgroup_subsys *cgroup_subsys[] = {\n",
      "#include <linux/cgroup.h>\n",
      "#include <linux/rwsem.h>\n",
      "#include <linux/random.h>\n",
      "#include <linux/bootmem.h>\n",
      "\n",
      "#include <asm/futex.h>\n",
      "\n",
      "#include \"locking/rtmutex_common.h\"\n",
      "\n",
      "/*\n",
      " * lock->owner state tracking:\n",
      " *\n",
      " * lock->owner holds the task_struct pointer of the owner. Bit 0\n",
      " * is used to keep track of the CPU which is doing the single stepping*/\n",
      "atomic_t\t\t\tkgdb_cpu_doing_single_step) != -1) {\n",
      "\t\tint sstep_cpu = atomic_read(&kgdb_cpu_doing_single_step) != -1) {\n",
      "\t\tint sstep_cpu = atomic_read(&kgdb_cpu_doing_single_step);\n",
      "\t\tif (kgdb_info[sstep_cpu].task->pid;\n",
      "\t\telse\n",
      "\t\t\tkgdb_sstep_pid = 0;\n",
      "\t}\n",
      "\tif (arch_kgdb_ops.remove_all_hw_break();\n",
      "\n",
      "\treturn 0;\n",
      "}\n",
      "\n",
      "static int posix_clock_realtime_adj,\n",
      "\t\t.nsleep\t\t= common_nsleep,\n",
      "\t\t.nsleep_restart\t= hrtimer_nanosleep_restart,\n",
      "\t\t.timer_create\t= common_timer_create,\n",
      "\t\t.timer_set\t= common_timer_set,\n",
      "\t\t.timer_get\t= common_timer_get,\n",
      "\t\t.timer_del\t= common_timer_del,\n",
      "\t};\n",
      "\tstruct k_clock clock_boottime = {\n",
      "\t\t.clock_getres\t= hrtimer_get_res,\n",
      "\t\t.clock_get\t= alarm_clock_get,\n",
      "\t\t.timer_create\t= alarm_timer_create,\n",
      "\t\t.timer_set\t= common_timer_set,\n",
      "\t\t.timer_get\t= common_timer_get,\n",
      "\t\t.timer_del\t= common_timer_del,\n",
      "\t};\n",
      "\n",
      "\tposix_timers_register_clock(CLOCK_BOOTTIME_ALARM)\n",
      "\t\treturn ALARM_BOOTTIME;\n",
      "\treturn -1;\n",
      "}\n",
      "\n",
      "/**\n",
      " * alarm_handle_timer - Callback for posix timers\n",
      " */\n",
      "static int posix_cpu_clock_get(const clockid_t which_clock = restart_block->nanosleep.expires);\n",
      "\n",
      "\tif (do_nanosleep(&t, HRTIMER_MODE_ABS))\n",
      "\t\tgoto out;\n",
      "\n",
      "\trmtp = restart->nanosleep.compat_rmtp = rmtp;\n",
      "\t}\n",
      "\treturn err;\n",
      "}\n",
      "\n",
      "COMPAT_SYSCALL_DEFINE2(getrusage, int, who, struct compat_rusage __user *, uru)\n",
      "{\n",
      "\tsiginfo_t info;\n",
      "\n",
      "\tif (copy_from_user(&buf, ubuf, cnt))\n",
      "\t\treturn -EFAULT;\n",
      "\n",
      "\tif (r.rlim_cur == COMPAT_RLIM_INFINITY)\n",
      "\t\tr.rlim_cur = RLIM_INFINITY;\n",
      "\t/* Perform file operations on behalf of whoever enabled accounting */\n",
      "\torig_cred = override_creds(file->f_cred);\n",
      "\n",
      "\t/*\n",
      "\t * First check to see if there is enough free space for the given message.\n",
      " *\n",
      " * The same values of first_idx and next_idx mean that the buffer\n",
      " * is either empty or full.\n",
      " *\n",
      " * If the buffer is empty, 0 otherwise.\n",
      " */\n",
      "static struct dentry *blk_tree_root;\n",
      "static DEFINE_MUTEX(param_lock);\n",
      "\n",
      "/* This just allows us to keep track of whether or not\n",
      " * reboot_type is still set to its default value (i.e., reboot= hasn't\n",
      " * been set on the command line via\n",
      "\t\t * reboot= will cause us to disable DMI checking\n",
      "\t\t * below.\n",
      "\t\t */\n",
      "\t\treboot_default = 0;\n",
      "\n",
      "\t\tswitch (*str) {\n",
      "\t\tcase 'w':\n",
      "\t\t\treboot_mode = REBOOT_SOFT;\n",
      "\t\t\tbreak;\n",
      "\t\t}\n",
      "\t\tcase 'g':\n",
      "\t\t\treboot_mode = REBOOT_SOFT;\n",
      "\t\t\tbreak;\n",
      "\t\t}\n",
      "\t\tcase 'g':\n",
      "\t\t\treboot_mode = REBOOT_HARD;\n",
      "\t\t\tbreak;\n",
      "\n",
      "\t\tcase possible:\n",
      "\t\t\tdo_set_cpus_allowed(idle, cpumask_of(cpu));\n",
      "\tif (newdev->features & CLOCK_EVT_FEAT_ONESHOT)\n",
      "\t\ttick_clock_notify();\n",
      "}\n",
      "\n",
      "/*\n",
      " * Check, if the new registered device should be used. Called with\n",
      " * clockevents_lock held\n",
      " */\n",
      "static inline int task_faults_idx(enum numa_faults_stats s, int nid, int priv)\n",
      "{\n",
      "\treturn kill_pid_info(sig, info, find_vpid(pid));\n",
      "\t\trcu_read_unlock();\n",
      "\tif (!p)\n",
      "\t\tgoto out_unlock;\n",
      "\t}\n",
      "\n",
      "\tentry = ring_buffer_event_data(event);\n",
      "\n",
      "\t\t/*\n",
      "\t\t * The ring buffer is a size of trace_buf_size, if\n",
      "\t\t * we loop more than the size, there's something wrong\n",
      "\t\t * with the ring buffer\n",
      "\t * we use the size that was given, and we can forget about\n",
      "\t * expanding it later.\n",
      "\t */\n",
      "\tring_buffer_resize(tr->trace_buffer.buffer,\n",
      "\t\t\t     flags, skip, preempt_count(), NULL);\n",
      "}\n",
      "\n",
      "static DEFINE_IRQ_WORK(perf_duration_work, perf_duration_warn);\n",
      "\n",
      "void perf_sample_event_took(u64 sample_len_ns)\n",
      "{\n",
      "\tu64 allowed_ns = ACCESS_ONCE(perf_sample_allowed_ns);\n",
      "\tu64 avg_local_sample_len, allowed_ns >> 1,\n",
      "\t\t\t     sysctl_perf_event_sample_rate, HZ);\n",
      "\tperf_sample_period_ns = NSEC_PER_SEC / sysctl_perf_event_sample_rate);\n",
      "\t}\n",
      "}\n",
      "\n",
      "static atomic64_t perf_event_id;\n"
     ]
    }
   ],
   "source": [
    "print(generate_text(lm, 20, nletters=5000))"
   ]
  },
  {
   "cell_type": "markdown",
   "metadata": {},
   "source": [
    "Order 10 is pretty much junk. In order 15 things sort-of make sense, but we jump abruptly between the \n",
    "and by order 20 we are doing quite nicely -- but are far from keeping good indentation and brackets. \n",
    "\n",
    "How could we? we do not have the memory, and these things are not modeled at all. While we could quite easily enrich our model to support also keeping track of brackets and indentation (by adding information such as \"have I seen ( but not )\" to the conditioning history), this requires extra work, non-trivial human reasoning, and will make the model significantly more complex. \n",
    "\n",
    "The LSTM, on the other hand, seemed to have just learn it on its own. And that's impressive."
   ]
  },
  {
   "cell_type": "markdown",
   "metadata": {},
   "source": [
    "## The End"
   ]
  },
  {
   "cell_type": "code",
   "execution_count": 21,
   "metadata": {},
   "outputs": [
    {
     "data": {
      "text/html": [
       "<style>\n",
       "    @font-face {\n",
       "        font-family: \"Computer Modern\";\n",
       "        src: url('http://9dbb143991406a7c655e-aa5fcb0a5a4ec34cff238a2d56ca4144.r56.cf5.rackcdn.com/cmunss.otf');\n",
       "    }\n",
       "    @font-face {\n",
       "        font-family: \"Computer Modern\";\n",
       "        font-weight: bold;\n",
       "        src: url('http://9dbb143991406a7c655e-aa5fcb0a5a4ec34cff238a2d56ca4144.r56.cf5.rackcdn.com/cmunsx.otf');\n",
       "    }\n",
       "    @font-face {\n",
       "        font-family: \"Computer Modern\";\n",
       "        font-style: oblique;\n",
       "        src: url('http://9dbb143991406a7c655e-aa5fcb0a5a4ec34cff238a2d56ca4144.r56.cf5.rackcdn.com/cmunsi.otf');\n",
       "    }\n",
       "    @font-face {\n",
       "        font-family: \"Computer Modern\";\n",
       "        font-weight: bold;\n",
       "        font-style: oblique;\n",
       "        src: url('http://9dbb143991406a7c655e-aa5fcb0a5a4ec34cff238a2d56ca4144.r56.cf5.rackcdn.com/cmunso.otf');\n",
       "    }\n",
       "    div.cell{\n",
       "        width:800px;\n",
       "        font-size: 110%;\n",
       "        margin-left:5% !important;\n",
       "        margin-right:auto;\n",
       "    }\n",
       "    h1 {\n",
       "        font-family: Helvetica, serif;\n",
       "    }\n",
       "    h4{\n",
       "        margin-top:12px;\n",
       "        margin-bottom: 3px;\n",
       "       }\n",
       "    div.text_cell_render{\n",
       "        font-family: Computer Modern, \"Helvetica Neue\", Arial, Helvetica, Geneva, sans-serif;\n",
       "        line-height: 145%;\n",
       "        font-size: 110%;\n",
       "        width:800px;\n",
       "        margin-left:auto;\n",
       "        margin-right:auto;\n",
       "    }\n",
       "    .CodeMirror{\n",
       "            font-family: \"Source Code Pro\", source-code-pro,Consolas, monospace;\n",
       "            font-size: 110%;\n",
       "    }\n",
       "    .prompt{\n",
       "        display: None;\n",
       "    }\n",
       "    .text_cell_render h5 {\n",
       "        font-weight: 300;\n",
       "        font-size: 22pt;\n",
       "        color: #4057A1;\n",
       "        font-style: italic;\n",
       "        margin-bottom: .5em;\n",
       "        margin-top: 0.5em;\n",
       "        display: block;\n",
       "    }\n",
       "    \n",
       "    .warning{\n",
       "        color: rgb( 240, 20, 20 )\n",
       "        }  \n",
       "\n",
       "</style>\n",
       "<script>\n",
       "    MathJax.Hub.Config({\n",
       "                        TeX: {\n",
       "                           extensions: [\"AMSmath.js\"]\n",
       "                           },\n",
       "                tex2jax: {\n",
       "                    inlineMath: [ ['$','$'], [\"\\\\(\",\"\\\\)\"] ],\n",
       "                    displayMath: [ ['$$','$$'], [\"\\\\[\",\"\\\\]\"] ]\n",
       "                },\n",
       "                displayAlign: 'center', // Change this to 'center' to center equations.\n",
       "                \"HTML-CSS\": {\n",
       "                    styles: {'.MathJax_Display': {\"margin\": 4}}\n",
       "                }\n",
       "        });\n",
       "</script>\n"
      ],
      "text/plain": [
       "<IPython.core.display.HTML object>"
      ]
     },
     "execution_count": 21,
     "metadata": {},
     "output_type": "execute_result"
    }
   ],
   "source": [
    "from IPython.core.display import HTML\n",
    "\n",
    "def css_styling():\n",
    "    styles = open(\"../css/notebook.css\", \"r\").read()\n",
    "    return HTML(styles)\n",
    "css_styling()"
   ]
  },
  {
   "cell_type": "code",
   "execution_count": null,
   "metadata": {},
   "outputs": [],
   "source": []
  }
 ],
 "metadata": {
  "kernelspec": {
   "display_name": "Python 3 (ipykernel)",
   "language": "python",
   "name": "python3"
  },
  "language_info": {
   "codemirror_mode": {
    "name": "ipython",
    "version": 3
   },
   "file_extension": ".py",
   "mimetype": "text/x-python",
   "name": "python",
   "nbconvert_exporter": "python",
   "pygments_lexer": "ipython3",
   "version": "3.12.5"
  }
 },
 "nbformat": 4,
 "nbformat_minor": 4
}
