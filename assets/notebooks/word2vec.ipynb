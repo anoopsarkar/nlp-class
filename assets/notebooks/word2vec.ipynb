{
 "cells": [
  {
   "cell_type": "markdown",
   "id": "1edacb55-2f6e-4da5-a63d-fccccb1b64bf",
   "metadata": {},
   "source": [
    "# word2vec"
   ]
  },
  {
   "cell_type": "markdown",
   "id": "9ab639b8-1b76-460c-acf0-e068c5463817",
   "metadata": {},
   "source": [
    "Consider a sentence:\n",
    "\n",
    "`the general [MASK] the troops`\n",
    "\n",
    "We want to predict the `[MASK]` token using the context words: `the`, `general`, `the`, `troops`.\n",
    "\n"
   ]
  },
  {
   "cell_type": "code",
   "execution_count": 1,
   "id": "46d6a688-3b0d-412a-b88d-de2a78bef593",
   "metadata": {},
   "outputs": [],
   "source": [
    "import torch\n",
    "import torch.nn as nn\n",
    "import torch.optim as optim\n",
    "from collections import namedtuple"
   ]
  },
  {
   "cell_type": "markdown",
   "id": "5a71e845-4029-44a0-ad85-e8151eed4284",
   "metadata": {},
   "source": [
    "## CBOW\n",
    "\n",
    "The CBOW model for word2vec stands for Continuous Bag of Words.\n",
    "\n",
    "We take the average (mean) of the word vectors for the context words and use it to predict the target word (the word that can be viewed as the `[MASK]` token). \n",
    "\n",
    "This is an example of self-supervised learning because each `[MASK]` token is created from some text and so we know the right output word in each training example.\n",
    "\n",
    "The original model used two different embeddings: one for the target words as they appear as `[MASK]` tokens and another for the context words used to predict the target word. \n",
    "\n",
    "Pytorch has a simple way to go from one-hot vectors based on word indices to word embeddings (aka word vectors) using the `nn.Embedding` class.\n",
    "\n",
    "We create a hidden layer in this simple neural network by taking the mean of the context words. Pytorch forces you to think in terms of a batch of training/test examples at a time and it is typically the first dimension of the tensor we create. \n",
    "\n",
    "To take the mean of the input embeddings we start with the embeddings for all the inputs using a tensor of size `B x N x E` where `B` is the batch size, `N` is the number of inputs and `E` is the embedding size. We take the mean of dimension 1 (the `N` dimension) and we get a new tensor of size `B x 1 x E` which we can convert to a `B x E` tensor using the Pytorch `squeeze` function.\n",
    "\n",
    "We pass this through a simple linear network (fully connected single hidden layer) to get the hidden representation which is then used to predict the target word by mapping it back up to the vocabulary size using `self.expand` in this implementation."
   ]
  },
  {
   "cell_type": "code",
   "execution_count": 2,
   "id": "2759ee32-6b72-4505-963d-53c1d2a7025c",
   "metadata": {},
   "outputs": [],
   "source": [
    "class CBOW(nn.Module):\n",
    "    def __init__(self, embedding_size=100, vocab_size=-1):\n",
    "        super().__init__()\n",
    "        self.embed = nn.Embedding(vocab_size, embedding_size)\n",
    "        self.expand = nn.Linear(embedding_size, vocab_size)\n",
    "\n",
    "    def forward(self, inputs):\n",
    "        hidden = self.embed(inputs).mean(1).squeeze(1) # batch size x embedding_size\n",
    "        return self.expand(hidden)"
   ]
  },
  {
   "cell_type": "markdown",
   "id": "3f6a03df-9f90-4a43-a1b7-7ccdfd7a8291",
   "metadata": {},
   "source": [
    "### Create the dataset\n",
    "\n",
    "The dataset creation reads the raw text data and creates the word to index and index to word dictionaries.\n",
    "\n",
    "For a window size of 2 it creates each instance for training which has a `context` of a list of context words and the target `mask_token` which is the answer the neural network should predict to get zero loss.\n"
   ]
  },
  {
   "cell_type": "code",
   "execution_count": 3,
   "id": "1e422d6d-ce11-4fd8-b2e4-503006c13a4d",
   "metadata": {},
   "outputs": [
    {
     "data": {
      "text/plain": [
       "['The',\n",
       " 'Fulton',\n",
       " 'County',\n",
       " 'Grand',\n",
       " 'Jury',\n",
       " 'said',\n",
       " 'Friday',\n",
       " 'an',\n",
       " 'investigation',\n",
       " 'of']"
      ]
     },
     "execution_count": 3,
     "metadata": {},
     "output_type": "execute_result"
    }
   ],
   "source": [
    "from nltk.corpus import brown\n",
    "\n",
    "brown.words()[:10]"
   ]
  },
  {
   "cell_type": "code",
   "execution_count": 4,
   "id": "369ca853-2340-40c2-9d3b-3d9049e3456e",
   "metadata": {},
   "outputs": [],
   "source": [
    "Instance = namedtuple('Instance', ['context', 'mask_token'])\n",
    "\n",
    "def create_dataset():\n",
    "    tokenized_text = [w.lower() for w in brown.words()]\n",
    "    vocab = set(tokenized_text)\n",
    "    word_to_idx = dict()\n",
    "    idx_to_word = dict()\n",
    "\n",
    "    # create word to index mapping and vice versa\n",
    "    for i, word in enumerate(vocab):\n",
    "        word_to_idx[word] = i\n",
    "        idx_to_word[i] = word\n",
    "\n",
    "    # generate training data using two words of context before and after [MASK] \n",
    "    data = []\n",
    "    for i in range(2, len(tokenized_text)-2):\n",
    "        context = [\n",
    "            tokenized_text[i-2],\n",
    "            tokenized_text[i-1],\n",
    "            tokenized_text[i+1],\n",
    "            tokenized_text[i+2],\n",
    "        ]\n",
    "        masked_token = tokenized_text[i]\n",
    "        context_idxs = [word_to_idx[w] for w in context]\n",
    "        mask_token_idx = word_to_idx[masked_token]\n",
    "        # data is a list of context, mask_token tuples\n",
    "        data.append(Instance(context=context_idxs, mask_token=mask_token_idx))\n",
    "    \n",
    "    return data, word_to_idx, idx_to_word"
   ]
  },
  {
   "cell_type": "markdown",
   "id": "6b5b33bb-97f0-44c6-af0b-009e0034f669",
   "metadata": {},
   "source": [
    "### Training the model\n",
    "\n",
    "Training the model is a fairly standard loop in Pytorch which doesn't change much once the model is defined and it knows how to compute the forward pass through the model. The backward pass through the model for standard `nn` components in Pytorch is done automatically so you don't need to specify the `backward` function yourself. If you create a novel `nn.Module` component that does not use standard Pytorch modules then you will need to specify the `backward` function for that module.\n",
    "\n",
    "We are using the Pytorch `DataLoader` class to create batches of training for the core training loop.\n",
    "\n",
    "Typically introductory training loops use a number of epochs (each epoch is one pass over the training data). Instead, below the loop uses a fixed number of updates to the model and reports the loss after `show_loss` number of updates."
   ]
  },
  {
   "cell_type": "code",
   "execution_count": 5,
   "id": "63fc9378-c977-4b2a-9c47-afac38eb15b8",
   "metadata": {},
   "outputs": [],
   "source": [
    "num_updates = 10000\n",
    "show_loss = 100\n",
    "\n",
    "def train():\n",
    "    data, word_to_idx, idx_to_word = create_dataset()\n",
    "    print(\"finished reading dataset\")\n",
    "    loss_func = nn.CrossEntropyLoss()\n",
    "    model = CBOW(embedding_size=100, vocab_size=len(word_to_idx))\n",
    "    optimizer = optim.Adam(model.parameters(), lr=1e-4) # also try SGD instead of Adam\n",
    "\n",
    "    context_data = torch.tensor([instance.context for instance in data])\n",
    "    output = torch.tensor([instance.mask_token for instance in data])\n",
    "\n",
    "    # create dataset using the pytorch dataloader\n",
    "    dataset = torch.utils.data.TensorDataset(context_data, output)\n",
    "    dataloader = torch.utils.data.DataLoader(dataset, batch_size=32, shuffle=True)\n",
    "\n",
    "    step = 0\n",
    "    while step < num_updates:\n",
    "        for context, true_output in dataloader:\n",
    "            step += 1\n",
    "            output = model(context)\n",
    "            loss = loss_func(output, true_output)\n",
    "            if (step % show_loss == 0):\n",
    "                print(f\"Step: {step}, Loss: {loss.item()}\")\n",
    "            if (step > num_updates):\n",
    "                break\n",
    "            optimizer.zero_grad()\n",
    "            loss.backward()\n",
    "            optimizer.step()\n",
    "\n",
    "    return model, word_to_idx, idx_to_word"
   ]
  },
  {
   "cell_type": "code",
   "execution_count": 6,
   "id": "668be1a0-ce54-43d6-b94e-fc6cf12a7497",
   "metadata": {},
   "outputs": [
    {
     "name": "stdout",
     "output_type": "stream",
     "text": [
      "finished reading dataset\n",
      "Step: 100, Loss: 10.779905319213867\n",
      "Step: 200, Loss: 10.759285926818848\n",
      "Step: 300, Loss: 10.76062297821045\n",
      "Step: 400, Loss: 10.60704517364502\n",
      "Step: 500, Loss: 10.522197723388672\n",
      "Step: 600, Loss: 10.408906936645508\n",
      "Step: 700, Loss: 10.431928634643555\n",
      "Step: 800, Loss: 10.2299165725708\n",
      "Step: 900, Loss: 10.154336929321289\n",
      "Step: 1000, Loss: 10.144543647766113\n",
      "Step: 1100, Loss: 10.317975044250488\n",
      "Step: 1200, Loss: 9.921103477478027\n",
      "Step: 1300, Loss: 9.951505661010742\n",
      "Step: 1400, Loss: 9.974474906921387\n",
      "Step: 1500, Loss: 9.831195831298828\n",
      "Step: 1600, Loss: 9.706671714782715\n",
      "Step: 1700, Loss: 9.94244384765625\n",
      "Step: 1800, Loss: 9.624051094055176\n",
      "Step: 1900, Loss: 9.440933227539062\n",
      "Step: 2000, Loss: 9.238410949707031\n",
      "Step: 2100, Loss: 9.599311828613281\n",
      "Step: 2200, Loss: 8.912700653076172\n",
      "Step: 2300, Loss: 9.152775764465332\n",
      "Step: 2400, Loss: 9.381567001342773\n",
      "Step: 2500, Loss: 8.859772682189941\n",
      "Step: 2600, Loss: 9.069343566894531\n",
      "Step: 2700, Loss: 9.21623706817627\n",
      "Step: 2800, Loss: 8.824299812316895\n",
      "Step: 2900, Loss: 8.761981964111328\n",
      "Step: 3000, Loss: 8.444438934326172\n",
      "Step: 3100, Loss: 8.511857032775879\n",
      "Step: 3200, Loss: 8.838733673095703\n",
      "Step: 3300, Loss: 8.856157302856445\n",
      "Step: 3400, Loss: 8.969310760498047\n",
      "Step: 3500, Loss: 8.610862731933594\n",
      "Step: 3600, Loss: 8.525686264038086\n",
      "Step: 3700, Loss: 8.442479133605957\n",
      "Step: 3800, Loss: 8.230772972106934\n",
      "Step: 3900, Loss: 8.724230766296387\n",
      "Step: 4000, Loss: 8.545075416564941\n",
      "Step: 4100, Loss: 8.186408996582031\n",
      "Step: 4200, Loss: 8.512922286987305\n",
      "Step: 4300, Loss: 8.580464363098145\n",
      "Step: 4400, Loss: 9.16517162322998\n",
      "Step: 4500, Loss: 8.834421157836914\n",
      "Step: 4600, Loss: 7.540930271148682\n",
      "Step: 4700, Loss: 8.448677062988281\n",
      "Step: 4800, Loss: 8.468249320983887\n",
      "Step: 4900, Loss: 7.71720027923584\n",
      "Step: 5000, Loss: 8.126421928405762\n",
      "Step: 5100, Loss: 8.35572624206543\n",
      "Step: 5200, Loss: 7.966427326202393\n",
      "Step: 5300, Loss: 8.108351707458496\n",
      "Step: 5400, Loss: 8.767854690551758\n",
      "Step: 5500, Loss: 8.391701698303223\n",
      "Step: 5600, Loss: 7.40393590927124\n",
      "Step: 5700, Loss: 7.83508825302124\n",
      "Step: 5800, Loss: 8.110273361206055\n",
      "Step: 5900, Loss: 8.221993446350098\n",
      "Step: 6000, Loss: 8.183693885803223\n",
      "Step: 6100, Loss: 8.356415748596191\n",
      "Step: 6200, Loss: 8.77747917175293\n",
      "Step: 6300, Loss: 8.556940078735352\n",
      "Step: 6400, Loss: 8.057065963745117\n",
      "Step: 6500, Loss: 7.894779205322266\n",
      "Step: 6600, Loss: 7.957004070281982\n",
      "Step: 6700, Loss: 8.415892601013184\n",
      "Step: 6800, Loss: 8.5509614944458\n",
      "Step: 6900, Loss: 8.520816802978516\n",
      "Step: 7000, Loss: 8.115974426269531\n",
      "Step: 7100, Loss: 8.283435821533203\n",
      "Step: 7200, Loss: 6.846921443939209\n",
      "Step: 7300, Loss: 8.252224922180176\n",
      "Step: 7400, Loss: 7.642819881439209\n",
      "Step: 7500, Loss: 7.964361190795898\n",
      "Step: 7600, Loss: 7.598875999450684\n",
      "Step: 7700, Loss: 8.325923919677734\n",
      "Step: 7800, Loss: 6.5469770431518555\n",
      "Step: 7900, Loss: 7.441499710083008\n",
      "Step: 8000, Loss: 8.641831398010254\n",
      "Step: 8100, Loss: 8.285772323608398\n",
      "Step: 8200, Loss: 7.219883918762207\n",
      "Step: 8300, Loss: 7.882731914520264\n",
      "Step: 8400, Loss: 7.640433311462402\n",
      "Step: 8500, Loss: 8.9152193069458\n",
      "Step: 8600, Loss: 7.838767051696777\n",
      "Step: 8700, Loss: 7.33815336227417\n",
      "Step: 8800, Loss: 7.633334159851074\n",
      "Step: 8900, Loss: 7.978892803192139\n",
      "Step: 9000, Loss: 7.862712860107422\n",
      "Step: 9100, Loss: 8.15949535369873\n",
      "Step: 9200, Loss: 9.10814380645752\n",
      "Step: 9300, Loss: 7.431771755218506\n",
      "Step: 9400, Loss: 7.523126125335693\n",
      "Step: 9500, Loss: 8.290099143981934\n",
      "Step: 9600, Loss: 7.007528781890869\n",
      "Step: 9700, Loss: 7.71653413772583\n",
      "Step: 9800, Loss: 8.896882057189941\n",
      "Step: 9900, Loss: 7.994651794433594\n",
      "Step: 10000, Loss: 7.356298446655273\n"
     ]
    }
   ],
   "source": [
    "model, word_to_idx, idx_to_word = train()"
   ]
  },
  {
   "cell_type": "markdown",
   "id": "4aefa41d-7c76-49e3-961e-16fc04a0db5b",
   "metadata": {},
   "source": [
    "### Using the model\n",
    "\n",
    "The model once trained can be used for the word embeddings it has learned. In the following function `get_k_closest_words` we return the words with the closest cosine similarity to some word we are interested in learning about.\n",
    "\n",
    "Due to limitations of the size of training data and number of updates to the model being limited as well, the similar words list is not as compelling as with previously pre-trained word embeddings like word2vec or GLoVe."
   ]
  },
  {
   "cell_type": "code",
   "execution_count": 7,
   "id": "e3c27253-25ff-4053-9892-1043500a7df3",
   "metadata": {},
   "outputs": [],
   "source": [
    "import torch.nn.functional as F\n",
    "\n",
    "def get_k_closest_words(word, k=10):\n",
    "    embeddings = model.embed.weight.data\n",
    "    word_idx = torch.tensor(word_to_idx[word], dtype=torch.int)\n",
    "    word_embedding = embeddings[word_idx]\n",
    "    similarities = F.cosine_similarity(embeddings, word_embedding)\n",
    "    sorted_indices = torch.argsort(similarities, descending=True)\n",
    "    top_k_idx = [i.item() for i in sorted_indices[1:k+1]]\n",
    "    top_k = [idx_to_word[i] for i in top_k_idx]\n",
    "    similarity_scores = [similarities[i].item() for i in top_k_idx]\n",
    "    return top_k, similarity_scores"
   ]
  },
  {
   "cell_type": "code",
   "execution_count": 8,
   "id": "fe55997e-ef68-424a-8a17-8666abbd03bb",
   "metadata": {},
   "outputs": [
    {
     "data": {
      "text/plain": [
       "(['warning',\n",
       "  'monosyllables',\n",
       "  'flowering',\n",
       "  'great-grandmother',\n",
       "  'tyrosine',\n",
       "  'guy',\n",
       "  'addict',\n",
       "  '43',\n",
       "  'intensifier',\n",
       "  'unshelled'],\n",
       " [0.39793434739112854,\n",
       "  0.3897356688976288,\n",
       "  0.37338927388191223,\n",
       "  0.372646301984787,\n",
       "  0.3687784671783447,\n",
       "  0.36492371559143066,\n",
       "  0.3563559353351593,\n",
       "  0.3554399013519287,\n",
       "  0.3554075360298157,\n",
       "  0.3512455224990845])"
      ]
     },
     "execution_count": 8,
     "metadata": {},
     "output_type": "execute_result"
    }
   ],
   "source": [
    "get_k_closest_words('say')"
   ]
  },
  {
   "cell_type": "markdown",
   "id": "0e374bb7-04a9-4d85-81f3-611e15a9337d",
   "metadata": {},
   "source": [
    "## Using gensim for word2vec"
   ]
  },
  {
   "cell_type": "markdown",
   "id": "d16d518e-98bd-44d8-b6b7-f48cd8d8778f",
   "metadata": {},
   "source": [
    "`gensim` uses SkipGram training for word2vec which can be trained on CPUs more effectively compared to the more neural network style training required for CBOW.\n",
    "\n",
    "SkipGram training for word2vec only requires a dataset of positive and negative word pairs:\n",
    "\n",
    "```\n",
    "(target_word, context_word) TRUE/FALSE\n",
    "```\n",
    "\n",
    "The `TRUE` cases occur in the data with the `context_word` appearing in the context window. The `FALSE` cases are constructed using \"negative sampling\" which just means that we sample from the space of context words looking for words which are likely to be distractors or negatively correlated with the `target_word`.\n",
    "\n",
    "The training data is constructed is this way so that all we need to do is train a binary classifier using this self supervised dataset. The end result is still the \"hidden\" embeddings learned while training this classifier."
   ]
  },
  {
   "cell_type": "code",
   "execution_count": 9,
   "id": "637a4241-de39-468d-8409-4b85c018c6e6",
   "metadata": {},
   "outputs": [],
   "source": [
    "import gensim.downloader as api\n",
    "from gensim.models import Word2Vec\n",
    "import multiprocessing"
   ]
  },
  {
   "cell_type": "code",
   "execution_count": 10,
   "id": "be1cc1fd-6e7e-4753-9cd8-15fa48f253d1",
   "metadata": {},
   "outputs": [
    {
     "name": "stdout",
     "output_type": "stream",
     "text": [
      "The Fulton County Grand Jury said Friday an investigation of Atlanta's recent primary election produced `` no evidence '' that any irregularities took place .\n",
      "The jury further said in term-end presentments that the City Executive Committee , which had over-all charge of the election , `` deserves the praise and thanks of the City of Atlanta '' for the manner in which the election was conducted .\n",
      "The September-October term jury had been charged by Fulton Superior Court Judge Durwood Pye to investigate reports of possible `` irregularities '' in the hard-fought primary which was won by Mayor-nominate Ivan Allen Jr. .\n",
      "`` Only a relative handful of such reports was received '' , the jury said , `` considering the widespread interest in the election , the number of voters and the size of this city '' .\n",
      "The jury said it did find that many of Georgia's registration and election laws `` are outmoded or inadequate and often ambiguous '' .\n",
      "It recommended that Fulton legislators act `` to have these laws studied and revised to the end of modernizing and improving them '' .\n",
      "The grand jury commented on a number of other topics , among them the Atlanta and Fulton County purchasing departments which it said `` are well operated and follow generally accepted practices which inure to the best interest of both governments '' .\n",
      "Merger proposed\n",
      "However , the jury said it believes `` these two offices should be combined to achieve greater efficiency and reduce the cost of administration '' .\n",
      "The City Purchasing Department , the jury said , `` is lacking in experienced clerical personnel as a result of city personnel policies '' .\n"
     ]
    }
   ],
   "source": [
    "sentences = brown.sents()\n",
    "print(\"\\n\".join([ \" \".join(s) for s in sentences[:10]]))"
   ]
  },
  {
   "cell_type": "code",
   "execution_count": 11,
   "id": "3fda8b07-6cff-431b-94fb-f5be7ff51412",
   "metadata": {},
   "outputs": [
    {
     "name": "stdout",
     "output_type": "stream",
     "text": [
      "done training w2v_win2\n"
     ]
    }
   ],
   "source": [
    "d = 100 # dimension of the word vectors\n",
    "w2v_win2 = Word2Vec(sentences, vector_size=d, window=2, min_count=5, negative=15, epochs=10, workers=multiprocessing.cpu_count())\n",
    "print(\"done training w2v_win2\")"
   ]
  },
  {
   "cell_type": "code",
   "execution_count": 12,
   "id": "a2d0d93a-f8e6-4537-bd84-0c3115ec8853",
   "metadata": {},
   "outputs": [
    {
     "name": "stdout",
     "output_type": "stream",
     "text": [
      "done training w2v_win5\n"
     ]
    }
   ],
   "source": [
    "w2v_win5 = Word2Vec(sentences, vector_size=d, window=5, min_count=5, negative=15, epochs=10, workers=multiprocessing.cpu_count())\n",
    "print(\"done training w2v_win5\")"
   ]
  },
  {
   "cell_type": "code",
   "execution_count": 13,
   "id": "b51d3145-ca33-4e46-9922-7e4b646b9743",
   "metadata": {},
   "outputs": [
    {
     "name": "stdout",
     "output_type": "stream",
     "text": [
      "[('Friday', 0.9059444665908813), ('Wednesday', 0.8997581601142883), ('Monday', 0.8954061269760132), ('Sunday', 0.8842747807502747), ('Tuesday', 0.8583642244338989), ('Thursday', 0.8384281992912292), ('afternoon', 0.7763940095901489)]\n",
      "[('fun', 0.7283743619918823), ('ability', 0.7089091539382935), ('opportunity', 0.7075211405754089)]\n",
      "[('person', 0.803625762462616), ('woman', 0.7930218577384949), ('patient', 0.7916847467422485)]\n",
      "[('plus', 0.5232049822807312), ('historical', 0.47552353143692017), ('concerning', 0.4683312773704529)]\n"
     ]
    }
   ],
   "source": [
    "vecs = w2v_win2.wv\n",
    "print(vecs.similar_by_word(\"Saturday\")[:7])\n",
    "print(vecs.similar_by_word(\"money\")[:3])\n",
    "print(vecs.similar_by_word(\"child\")[:3])\n",
    "print(vecs.similar_by_word(\"of\")[:3])"
   ]
  },
  {
   "cell_type": "code",
   "execution_count": 14,
   "id": "4da26b96-ebc1-4a15-ab31-6914f484a682",
   "metadata": {},
   "outputs": [
    {
     "name": "stdout",
     "output_type": "stream",
     "text": [
      "[('13', 0.9029800891876221), ('21', 0.880962610244751), ('11', 0.8787495493888855), ('31', 0.8624194264411926), ('17', 0.8619294166564941), ('16', 0.8615667223930359), ('22', 0.8604256510734558), ('24', 0.8600680828094482), ('9', 0.8574585914611816), ('18', 0.856285035610199)]\n"
     ]
    }
   ],
   "source": [
    "print(vecs.most_similar(positive=['12', '8'], negative=['5']))"
   ]
  },
  {
   "cell_type": "code",
   "execution_count": 15,
   "id": "ac9847f0-baa3-4723-a3a5-9fb14b992898",
   "metadata": {},
   "outputs": [],
   "source": [
    "model_gigaword = api.load(\"glove-wiki-gigaword-100\")"
   ]
  },
  {
   "cell_type": "code",
   "execution_count": 16,
   "id": "f9f1deed-79ea-4ed6-9cc5-8f0b903c1eb0",
   "metadata": {},
   "outputs": [
    {
     "data": {
      "text/plain": [
       "[('woman', 0.832349419593811),\n",
       " ('boy', 0.7914870977401733),\n",
       " ('one', 0.7788748741149902),\n",
       " ('person', 0.7526816725730896),\n",
       " ('another', 0.752223551273346),\n",
       " ('old', 0.7409117221832275),\n",
       " ('life', 0.7371697425842285),\n",
       " ('father', 0.7370322942733765),\n",
       " ('turned', 0.7347694635391235),\n",
       " ('who', 0.734551191329956)]"
      ]
     },
     "execution_count": 16,
     "metadata": {},
     "output_type": "execute_result"
    }
   ],
   "source": [
    "model_gigaword.most_similar(\"man\", topn=10)"
   ]
  },
  {
   "cell_type": "code",
   "execution_count": 17,
   "id": "43d6e2c8-a29d-49fa-975e-1dd2bc801d85",
   "metadata": {},
   "outputs": [
    {
     "name": "stdout",
     "output_type": "stream",
     "text": [
      "[('queen', 0.7698541283607483), ('monarch', 0.6843380331993103), ('throne', 0.6755736470222473), ('daughter', 0.6594556570053101), ('princess', 0.6520534157752991), ('prince', 0.6517034769058228), ('elizabeth', 0.6464518308639526), ('mother', 0.631171703338623), ('emperor', 0.6106470823287964), ('wife', 0.6098655462265015)]\n"
     ]
    }
   ],
   "source": [
    "print(model_gigaword.most_similar(positive=['king', 'woman'], negative=['man']))"
   ]
  },
  {
   "cell_type": "code",
   "execution_count": 18,
   "id": "9394c304-f1e1-4ae7-881f-e5b4274bb13f",
   "metadata": {},
   "outputs": [
    {
     "name": "stdout",
     "output_type": "stream",
     "text": [
      "[('16', 0.9776545763015747), ('14', 0.9762073755264282), ('13', 0.9723331332206726), ('17', 0.9680772423744202), ('19', 0.9613232016563416), ('22', 0.9609626531600952), ('15', 0.9585664868354797), ('21', 0.9549593925476074), ('11', 0.9540944695472717), ('23', 0.9537526965141296)]\n"
     ]
    }
   ],
   "source": [
    "print(model_gigaword.most_similar(positive=['12', '8'], negative=['5']))"
   ]
  },
  {
   "cell_type": "markdown",
   "id": "865649c6-aafc-4bad-ba00-42dba71aa1f8",
   "metadata": {},
   "source": [
    "## End"
   ]
  },
  {
   "cell_type": "code",
   "execution_count": 19,
   "id": "b844dce7-733e-486e-9842-323668999492",
   "metadata": {},
   "outputs": [
    {
     "data": {
      "text/html": [
       "<style>\n",
       "    @font-face {\n",
       "        font-family: \"Computer Modern\";\n",
       "        src: url('http://9dbb143991406a7c655e-aa5fcb0a5a4ec34cff238a2d56ca4144.r56.cf5.rackcdn.com/cmunss.otf');\n",
       "    }\n",
       "    @font-face {\n",
       "        font-family: \"Computer Modern\";\n",
       "        font-weight: bold;\n",
       "        src: url('http://9dbb143991406a7c655e-aa5fcb0a5a4ec34cff238a2d56ca4144.r56.cf5.rackcdn.com/cmunsx.otf');\n",
       "    }\n",
       "    @font-face {\n",
       "        font-family: \"Computer Modern\";\n",
       "        font-style: oblique;\n",
       "        src: url('http://9dbb143991406a7c655e-aa5fcb0a5a4ec34cff238a2d56ca4144.r56.cf5.rackcdn.com/cmunsi.otf');\n",
       "    }\n",
       "    @font-face {\n",
       "        font-family: \"Computer Modern\";\n",
       "        font-weight: bold;\n",
       "        font-style: oblique;\n",
       "        src: url('http://9dbb143991406a7c655e-aa5fcb0a5a4ec34cff238a2d56ca4144.r56.cf5.rackcdn.com/cmunso.otf');\n",
       "    }\n",
       "    div.cell{\n",
       "        width:800px;\n",
       "        font-size: 110%;\n",
       "        margin-left:5% !important;\n",
       "        margin-right:auto;\n",
       "    }\n",
       "    h1 {\n",
       "        font-family: Helvetica, serif;\n",
       "    }\n",
       "    h4{\n",
       "        margin-top:12px;\n",
       "        margin-bottom: 3px;\n",
       "       }\n",
       "    div.text_cell_render{\n",
       "        font-family: Computer Modern, \"Helvetica Neue\", Arial, Helvetica, Geneva, sans-serif;\n",
       "        line-height: 145%;\n",
       "        font-size: 110%;\n",
       "        width:800px;\n",
       "        margin-left:auto;\n",
       "        margin-right:auto;\n",
       "    }\n",
       "    .CodeMirror{\n",
       "            font-family: \"Source Code Pro\", source-code-pro,Consolas, monospace;\n",
       "            font-size: 110%;\n",
       "    }\n",
       "    .prompt{\n",
       "        display: None;\n",
       "    }\n",
       "    .text_cell_render h5 {\n",
       "        font-weight: 300;\n",
       "        font-size: 22pt;\n",
       "        color: #4057A1;\n",
       "        font-style: italic;\n",
       "        margin-bottom: .5em;\n",
       "        margin-top: 0.5em;\n",
       "        display: block;\n",
       "    }\n",
       "    \n",
       "    .warning{\n",
       "        color: rgb( 240, 20, 20 )\n",
       "        }  \n",
       "\n",
       "</style>\n",
       "<script>\n",
       "    MathJax.Hub.Config({\n",
       "                        TeX: {\n",
       "                           extensions: [\"AMSmath.js\"]\n",
       "                           },\n",
       "                tex2jax: {\n",
       "                    inlineMath: [ ['$','$'], [\"\\\\(\",\"\\\\)\"] ],\n",
       "                    displayMath: [ ['$$','$$'], [\"\\\\[\",\"\\\\]\"] ]\n",
       "                },\n",
       "                displayAlign: 'center', // Change this to 'center' to center equations.\n",
       "                \"HTML-CSS\": {\n",
       "                    styles: {'.MathJax_Display': {\"margin\": 4}}\n",
       "                }\n",
       "        });\n",
       "</script>\n"
      ],
      "text/plain": [
       "<IPython.core.display.HTML object>"
      ]
     },
     "execution_count": 19,
     "metadata": {},
     "output_type": "execute_result"
    }
   ],
   "source": [
    "from IPython.core.display import HTML\n",
    "\n",
    "\n",
    "def css_styling():\n",
    "    styles = open(\"../css/notebook.css\", \"r\").read()\n",
    "    return HTML(styles)\n",
    "css_styling()"
   ]
  }
 ],
 "metadata": {
  "kernelspec": {
   "display_name": "Python 3 (ipykernel)",
   "language": "python",
   "name": "python3"
  },
  "language_info": {
   "codemirror_mode": {
    "name": "ipython",
    "version": 3
   },
   "file_extension": ".py",
   "mimetype": "text/x-python",
   "name": "python",
   "nbconvert_exporter": "python",
   "pygments_lexer": "ipython3",
   "version": "3.10.13"
  }
 },
 "nbformat": 4,
 "nbformat_minor": 5
}
