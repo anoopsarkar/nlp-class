{
 "cells": [
  {
   "cell_type": "markdown",
   "id": "1edacb55-2f6e-4da5-a63d-fccccb1b64bf",
   "metadata": {},
   "source": [
    "# word2vec"
   ]
  },
  {
   "cell_type": "markdown",
   "id": "9ab639b8-1b76-460c-acf0-e068c5463817",
   "metadata": {},
   "source": [
    "Consider a sentence:\n",
    "\n",
    "`the general [MASK] the troops`\n",
    "\n",
    "We want to predict the `[MASK]` token using the context words: `the`, `general`, `the`, `troops`.\n",
    "\n"
   ]
  },
  {
   "cell_type": "code",
   "execution_count": 1,
   "id": "46d6a688-3b0d-412a-b88d-de2a78bef593",
   "metadata": {},
   "outputs": [],
   "source": [
    "import torch\n",
    "import torch.nn as nn\n",
    "import torch.optim as optim\n",
    "from collections import namedtuple"
   ]
  },
  {
   "cell_type": "markdown",
   "id": "5a71e845-4029-44a0-ad85-e8151eed4284",
   "metadata": {},
   "source": [
    "## CBOW\n",
    "\n",
    "The CBOW model for word2vec stands for Continuous Bag of Words.\n",
    "\n",
    "We take the average (mean) of the word vectors for the context words and use it to predict the target word (the word that can be viewed as the `[MASK]` token). \n",
    "\n",
    "This is an example of self-supervised learning because each `[MASK]` token is created from some text and so we know the right output word in each training example.\n",
    "\n",
    "The original model used two different embeddings: one for the target words as they appear as `[MASK]` tokens and another for the context words used to predict the target word. \n",
    "\n",
    "Pytorch has a simple way to go from one-hot vectors based on word indices to word embeddings (aka word vectors) using the `nn.Embedding` class.\n",
    "\n",
    "We create a hidden layer in this simple neural network by taking the mean of the context words. Pytorch forces you to think in terms of a batch of training/test examples at a time and it is typically the first dimension of the tensor we create. \n",
    "\n",
    "To take the mean of the input embeddings we start with the embeddings for all the inputs using a tensor of size `B x N x E` where `B` is the batch size, `N` is the number of inputs and `E` is the embedding size. We take the mean of dimension 1 (the `N` dimension) and we get a new tensor of size `B x 1 x E` which we can convert to a `B x E` tensor using the Pytorch `squeeze` function.\n",
    "\n",
    "We pass this through a simple linear network (fully connected single hidden layer) to get the hidden representation which is then used to predict the target word by mapping it back up to the vocabulary size using `self.expand` in this implementation."
   ]
  },
  {
   "cell_type": "code",
   "execution_count": 2,
   "id": "2759ee32-6b72-4505-963d-53c1d2a7025c",
   "metadata": {},
   "outputs": [],
   "source": [
    "class CBOW(nn.Module):\n",
    "    def __init__(self, embedding_size=100, vocab_size=-1):\n",
    "        super().__init__()\n",
    "        self.embed = nn.Embedding(vocab_size, embedding_size)\n",
    "        self.expand = nn.Linear(embedding_size, vocab_size)\n",
    "\n",
    "    def forward(self, inputs):\n",
    "        hidden = self.embed(inputs).mean(1).squeeze(1) # batch size x embedding_size\n",
    "        return self.expand(hidden)"
   ]
  },
  {
   "cell_type": "markdown",
   "id": "3f6a03df-9f90-4a43-a1b7-7ccdfd7a8291",
   "metadata": {},
   "source": [
    "### Create the dataset\n",
    "\n",
    "The dataset creation reads the raw text data and creates the word to index and index to word dictionaries.\n",
    "\n",
    "For a window size of 2 it creates each instance for training which has a `context` of a list of context words and the target `mask_token` which is the answer the neural network should predict to get zero loss.\n"
   ]
  },
  {
   "cell_type": "code",
   "execution_count": 3,
   "id": "1e422d6d-ce11-4fd8-b2e4-503006c13a4d",
   "metadata": {},
   "outputs": [
    {
     "data": {
      "text/plain": [
       "['The',\n",
       " 'Fulton',\n",
       " 'County',\n",
       " 'Grand',\n",
       " 'Jury',\n",
       " 'said',\n",
       " 'Friday',\n",
       " 'an',\n",
       " 'investigation',\n",
       " 'of']"
      ]
     },
     "execution_count": 3,
     "metadata": {},
     "output_type": "execute_result"
    }
   ],
   "source": [
    "from nltk.corpus import brown\n",
    "\n",
    "brown.words()[:10]"
   ]
  },
  {
   "cell_type": "code",
   "execution_count": 4,
   "id": "369ca853-2340-40c2-9d3b-3d9049e3456e",
   "metadata": {},
   "outputs": [],
   "source": [
    "Instance = namedtuple('Instance', ['context', 'mask_token'])\n",
    "\n",
    "def create_dataset():\n",
    "    tokenized_text = [w.lower() for w in brown.words()]\n",
    "    vocab = set(tokenized_text)\n",
    "    word_to_idx = dict()\n",
    "    idx_to_word = dict()\n",
    "\n",
    "    # create word to index mapping and vice versa\n",
    "    for i, word in enumerate(vocab):\n",
    "        word_to_idx[word] = i\n",
    "        idx_to_word[i] = word\n",
    "\n",
    "    # generate training data using two words of context before and after [MASK] \n",
    "    data = []\n",
    "    for i in range(2, len(tokenized_text)-2):\n",
    "        context = [\n",
    "            tokenized_text[i-2],\n",
    "            tokenized_text[i-1],\n",
    "            tokenized_text[i+1],\n",
    "            tokenized_text[i+2],\n",
    "        ]\n",
    "        masked_token = tokenized_text[i]\n",
    "        context_idxs = [word_to_idx[w] for w in context]\n",
    "        mask_token_idx = word_to_idx[masked_token]\n",
    "        # data is a list of context, mask_token tuples\n",
    "        data.append(Instance(context=context_idxs, mask_token=mask_token_idx))\n",
    "    \n",
    "    return data, word_to_idx, idx_to_word"
   ]
  },
  {
   "cell_type": "markdown",
   "id": "6b5b33bb-97f0-44c6-af0b-009e0034f669",
   "metadata": {},
   "source": [
    "### Training the model\n",
    "\n",
    "Training the model is a fairly standard loop in Pytorch which doesn't change much once the model is defined and it knows how to compute the forward pass through the model. The backward pass through the model for standard `nn` components in Pytorch is done automatically so you don't need to specify the `backward` function yourself. If you create a novel `nn.Module` component that does not use standard Pytorch modules then you will need to specify the `backward` function for that module.\n",
    "\n",
    "We are using the Pytorch `DataLoader` class to create batches of training for the core training loop.\n",
    "\n",
    "Typically introductory training loops use a number of epochs (each epoch is one pass over the training data). Instead, below the loop uses a fixed number of updates to the model and reports the loss after `show_loss` number of updates."
   ]
  },
  {
   "cell_type": "code",
   "execution_count": 5,
   "id": "63fc9378-c977-4b2a-9c47-afac38eb15b8",
   "metadata": {},
   "outputs": [],
   "source": [
    "num_updates = 10000\n",
    "show_loss = 100\n",
    "\n",
    "def train():\n",
    "    data, word_to_idx, idx_to_word = create_dataset()\n",
    "    print(\"finished reading dataset\")\n",
    "    loss_func = nn.CrossEntropyLoss()\n",
    "    model = CBOW(embedding_size=100, vocab_size=len(word_to_idx))\n",
    "    optimizer = optim.Adam(model.parameters(), lr=1e-4) # also try SGD instead of Adam\n",
    "\n",
    "    context_data = torch.tensor([instance.context for instance in data])\n",
    "    output = torch.tensor([instance.mask_token for instance in data])\n",
    "\n",
    "    # create dataset using the pytorch dataloader\n",
    "    dataset = torch.utils.data.TensorDataset(context_data, output)\n",
    "    dataloader = torch.utils.data.DataLoader(dataset, batch_size=32, shuffle=True)\n",
    "\n",
    "    step = 0\n",
    "    while step < num_updates:\n",
    "        for context, true_output in dataloader:\n",
    "            step += 1\n",
    "            output = model(context)\n",
    "            loss = loss_func(output, true_output)\n",
    "            if (step % show_loss == 0):\n",
    "                print(f\"Step: {step}, Loss: {loss.item()}\")\n",
    "            if (step > num_updates):\n",
    "                break\n",
    "            optimizer.zero_grad()\n",
    "            loss.backward()\n",
    "            optimizer.step()\n",
    "\n",
    "    return model, word_to_idx, idx_to_word"
   ]
  },
  {
   "cell_type": "code",
   "execution_count": 6,
   "id": "668be1a0-ce54-43d6-b94e-fc6cf12a7497",
   "metadata": {},
   "outputs": [
    {
     "name": "stdout",
     "output_type": "stream",
     "text": [
      "finished reading dataset\n",
      "Step: 100, Loss: 10.788529396057129\n",
      "Step: 200, Loss: 10.80363941192627\n",
      "Step: 300, Loss: 10.650333404541016\n",
      "Step: 400, Loss: 10.618274688720703\n",
      "Step: 500, Loss: 10.608075141906738\n",
      "Step: 600, Loss: 10.478731155395508\n",
      "Step: 700, Loss: 10.36941909790039\n",
      "Step: 800, Loss: 10.465622901916504\n",
      "Step: 900, Loss: 10.168929100036621\n",
      "Step: 1000, Loss: 10.153223037719727\n",
      "Step: 1100, Loss: 9.851362228393555\n",
      "Step: 1200, Loss: 10.029329299926758\n",
      "Step: 1300, Loss: 9.815364837646484\n",
      "Step: 1400, Loss: 10.155341148376465\n",
      "Step: 1500, Loss: 9.832701683044434\n",
      "Step: 1600, Loss: 9.546302795410156\n",
      "Step: 1700, Loss: 9.517840385437012\n",
      "Step: 1800, Loss: 9.585627555847168\n",
      "Step: 1900, Loss: 9.542594909667969\n",
      "Step: 2000, Loss: 9.099220275878906\n",
      "Step: 2100, Loss: 8.74914836883545\n",
      "Step: 2200, Loss: 9.940362930297852\n",
      "Step: 2300, Loss: 9.469222068786621\n",
      "Step: 2400, Loss: 8.785650253295898\n",
      "Step: 2500, Loss: 8.965746879577637\n",
      "Step: 2600, Loss: 9.574028968811035\n",
      "Step: 2700, Loss: 8.924840927124023\n",
      "Step: 2800, Loss: 7.953113555908203\n",
      "Step: 2900, Loss: 9.43124771118164\n",
      "Step: 3000, Loss: 9.106110572814941\n",
      "Step: 3100, Loss: 8.224546432495117\n",
      "Step: 3200, Loss: 8.10280704498291\n",
      "Step: 3300, Loss: 8.458056449890137\n",
      "Step: 3400, Loss: 8.557050704956055\n",
      "Step: 3500, Loss: 8.658453941345215\n",
      "Step: 3600, Loss: 8.083146095275879\n",
      "Step: 3700, Loss: 7.98739767074585\n",
      "Step: 3800, Loss: 8.42484188079834\n",
      "Step: 3900, Loss: 8.818868637084961\n",
      "Step: 4000, Loss: 8.201379776000977\n",
      "Step: 4100, Loss: 8.661340713500977\n",
      "Step: 4200, Loss: 8.566283226013184\n",
      "Step: 4300, Loss: 8.246285438537598\n",
      "Step: 4400, Loss: 8.112079620361328\n",
      "Step: 4500, Loss: 7.51365327835083\n",
      "Step: 4600, Loss: 8.738656997680664\n",
      "Step: 4700, Loss: 8.56351089477539\n",
      "Step: 4800, Loss: 8.152137756347656\n",
      "Step: 4900, Loss: 8.978145599365234\n",
      "Step: 5000, Loss: 7.897326946258545\n",
      "Step: 5100, Loss: 8.135092735290527\n",
      "Step: 5200, Loss: 8.647586822509766\n",
      "Step: 5300, Loss: 9.239578247070312\n",
      "Step: 5400, Loss: 8.985199928283691\n",
      "Step: 5500, Loss: 8.991884231567383\n",
      "Step: 5600, Loss: 8.417739868164062\n",
      "Step: 5700, Loss: 7.688686847686768\n",
      "Step: 5800, Loss: 9.762763023376465\n",
      "Step: 5900, Loss: 9.461727142333984\n",
      "Step: 6000, Loss: 7.9941325187683105\n",
      "Step: 6100, Loss: 7.8819260597229\n",
      "Step: 6200, Loss: 9.041666984558105\n",
      "Step: 6300, Loss: 9.036408424377441\n",
      "Step: 6400, Loss: 8.378960609436035\n",
      "Step: 6500, Loss: 7.865996837615967\n",
      "Step: 6600, Loss: 7.614947319030762\n",
      "Step: 6700, Loss: 7.617077350616455\n",
      "Step: 6800, Loss: 8.584965705871582\n",
      "Step: 6900, Loss: 8.150469779968262\n",
      "Step: 7000, Loss: 8.10837459564209\n",
      "Step: 7100, Loss: 8.244424819946289\n",
      "Step: 7200, Loss: 7.889843940734863\n",
      "Step: 7300, Loss: 9.09507942199707\n",
      "Step: 7400, Loss: 7.577147483825684\n",
      "Step: 7500, Loss: 7.633275508880615\n",
      "Step: 7600, Loss: 7.904391288757324\n",
      "Step: 7700, Loss: 8.091344833374023\n",
      "Step: 7800, Loss: 8.106709480285645\n",
      "Step: 7900, Loss: 8.591387748718262\n",
      "Step: 8000, Loss: 6.716796875\n",
      "Step: 8100, Loss: 7.788304328918457\n",
      "Step: 8200, Loss: 7.510698318481445\n",
      "Step: 8300, Loss: 7.946221351623535\n",
      "Step: 8400, Loss: 8.28703784942627\n",
      "Step: 8500, Loss: 7.79754638671875\n",
      "Step: 8600, Loss: 8.328012466430664\n",
      "Step: 8700, Loss: 7.3162102699279785\n",
      "Step: 8800, Loss: 7.370627403259277\n",
      "Step: 8900, Loss: 7.817058086395264\n",
      "Step: 9000, Loss: 7.565232753753662\n",
      "Step: 9100, Loss: 7.057549476623535\n",
      "Step: 9200, Loss: 8.686363220214844\n",
      "Step: 9300, Loss: 7.610073566436768\n",
      "Step: 9400, Loss: 6.4655280113220215\n",
      "Step: 9500, Loss: 7.409052848815918\n",
      "Step: 9600, Loss: 8.75764274597168\n",
      "Step: 9700, Loss: 8.020358085632324\n",
      "Step: 9800, Loss: 7.896327495574951\n",
      "Step: 9900, Loss: 8.029730796813965\n",
      "Step: 10000, Loss: 8.017926216125488\n"
     ]
    }
   ],
   "source": [
    "model, word_to_idx, idx_to_word = train()"
   ]
  },
  {
   "cell_type": "markdown",
   "id": "4aefa41d-7c76-49e3-961e-16fc04a0db5b",
   "metadata": {},
   "source": [
    "### Using the model\n",
    "\n",
    "The model once trained can be used for the word embeddings it has learned. In the following function `get_k_closest_words` we return the words with the closest cosine similarity to some word we are interested in learning about.\n",
    "\n",
    "Due to limitations of the size of training data and number of updates to the model being limited as well, the similar words list is not as compelling as with previously pre-trained word embeddings like word2vec or GLoVe."
   ]
  },
  {
   "cell_type": "code",
   "execution_count": 7,
   "id": "e3c27253-25ff-4053-9892-1043500a7df3",
   "metadata": {},
   "outputs": [],
   "source": [
    "import torch.nn.functional as F\n",
    "\n",
    "def get_k_closest_words(word, k=10):\n",
    "    embeddings = model.embed.weight.data\n",
    "    word_idx = torch.tensor(word_to_idx[word], dtype=torch.int)\n",
    "    word_embedding = embeddings[word_idx]\n",
    "    similarities = F.cosine_similarity(embeddings, word_embedding)\n",
    "    sorted_indices = torch.argsort(similarities, descending=True)\n",
    "    top_k_idx = [i.item() for i in sorted_indices[1:k+1]]\n",
    "    top_k = [idx_to_word[i] for i in top_k_idx]\n",
    "    similarity_scores = [similarities[i].item() for i in top_k_idx]\n",
    "    return top_k, similarity_scores"
   ]
  },
  {
   "cell_type": "code",
   "execution_count": 8,
   "id": "fe55997e-ef68-424a-8a17-8666abbd03bb",
   "metadata": {},
   "outputs": [
    {
     "data": {
      "text/plain": [
       "(['ter.',\n",
       "  'suey',\n",
       "  'bosch',\n",
       "  'furrowed',\n",
       "  'unrepentant',\n",
       "  'diddling',\n",
       "  'fatal',\n",
       "  'pace',\n",
       "  'motherhood',\n",
       "  'footpath'],\n",
       " [0.3677217364311218,\n",
       "  0.35909032821655273,\n",
       "  0.35837218165397644,\n",
       "  0.3529747426509857,\n",
       "  0.35134974122047424,\n",
       "  0.34932151436805725,\n",
       "  0.34758907556533813,\n",
       "  0.3465083837509155,\n",
       "  0.3449290692806244,\n",
       "  0.3435311019420624])"
      ]
     },
     "execution_count": 8,
     "metadata": {},
     "output_type": "execute_result"
    }
   ],
   "source": [
    "get_k_closest_words('say')"
   ]
  },
  {
   "cell_type": "markdown",
   "id": "0e374bb7-04a9-4d85-81f3-611e15a9337d",
   "metadata": {},
   "source": [
    "## Using gensim for word2vec"
   ]
  },
  {
   "cell_type": "markdown",
   "id": "d16d518e-98bd-44d8-b6b7-f48cd8d8778f",
   "metadata": {},
   "source": [
    "`gensim` uses SkipGram training for word2vec which can be trained on CPUs more effectively compared to the more neural network style training required for CBOW.\n",
    "\n",
    "SkipGram training for word2vec only requires a dataset of positive and negative word pairs:\n",
    "\n",
    "```\n",
    "(target_word, context_word) TRUE/FALSE\n",
    "```\n",
    "\n",
    "The `TRUE` cases occur in the data with the `context_word` appearing in the context window. The `FALSE` cases are constructed using \"negative sampling\" which just means that we sample from the space of context words looking for words which are likely to be distractors or negatively correlated with the `target_word`.\n",
    "\n",
    "The training data is constructed is this way so that all we need to do is train a binary classifier using this self supervised dataset. The end result is still the \"hidden\" embeddings learned while training this classifier."
   ]
  },
  {
   "cell_type": "code",
   "execution_count": 9,
   "id": "637a4241-de39-468d-8409-4b85c018c6e6",
   "metadata": {},
   "outputs": [],
   "source": [
    "import gensim.downloader as api\n",
    "from gensim.models import Word2Vec\n",
    "import multiprocessing"
   ]
  },
  {
   "cell_type": "code",
   "execution_count": 10,
   "id": "be1cc1fd-6e7e-4753-9cd8-15fa48f253d1",
   "metadata": {},
   "outputs": [
    {
     "name": "stdout",
     "output_type": "stream",
     "text": [
      "The Fulton County Grand Jury said Friday an investigation of Atlanta's recent primary election produced `` no evidence '' that any irregularities took place .\n",
      "The jury further said in term-end presentments that the City Executive Committee , which had over-all charge of the election , `` deserves the praise and thanks of the City of Atlanta '' for the manner in which the election was conducted .\n",
      "The September-October term jury had been charged by Fulton Superior Court Judge Durwood Pye to investigate reports of possible `` irregularities '' in the hard-fought primary which was won by Mayor-nominate Ivan Allen Jr. .\n",
      "`` Only a relative handful of such reports was received '' , the jury said , `` considering the widespread interest in the election , the number of voters and the size of this city '' .\n",
      "The jury said it did find that many of Georgia's registration and election laws `` are outmoded or inadequate and often ambiguous '' .\n",
      "It recommended that Fulton legislators act `` to have these laws studied and revised to the end of modernizing and improving them '' .\n",
      "The grand jury commented on a number of other topics , among them the Atlanta and Fulton County purchasing departments which it said `` are well operated and follow generally accepted practices which inure to the best interest of both governments '' .\n",
      "Merger proposed\n",
      "However , the jury said it believes `` these two offices should be combined to achieve greater efficiency and reduce the cost of administration '' .\n",
      "The City Purchasing Department , the jury said , `` is lacking in experienced clerical personnel as a result of city personnel policies '' .\n"
     ]
    }
   ],
   "source": [
    "sentences = brown.sents()\n",
    "print(\"\\n\".join([ \" \".join(s) for s in sentences[:10]]))"
   ]
  },
  {
   "cell_type": "code",
   "execution_count": 11,
   "id": "3fda8b07-6cff-431b-94fb-f5be7ff51412",
   "metadata": {},
   "outputs": [
    {
     "name": "stdout",
     "output_type": "stream",
     "text": [
      "done training w2v_win2\n"
     ]
    }
   ],
   "source": [
    "d = 100 # dimension of the word vectors\n",
    "w2v_win2 = Word2Vec(sentences, vector_size=d, window=2, min_count=5, negative=15, epochs=10, workers=multiprocessing.cpu_count())\n",
    "print(\"done training w2v_win2\")"
   ]
  },
  {
   "cell_type": "code",
   "execution_count": 12,
   "id": "a2d0d93a-f8e6-4537-bd84-0c3115ec8853",
   "metadata": {},
   "outputs": [
    {
     "name": "stdout",
     "output_type": "stream",
     "text": [
      "done training w2v_win5\n"
     ]
    }
   ],
   "source": [
    "w2v_win5 = Word2Vec(sentences, vector_size=d, window=5, min_count=5, negative=15, epochs=10, workers=multiprocessing.cpu_count())\n",
    "print(\"done training w2v_win5\")"
   ]
  },
  {
   "cell_type": "code",
   "execution_count": 13,
   "id": "b51d3145-ca33-4e46-9922-7e4b646b9743",
   "metadata": {},
   "outputs": [
    {
     "name": "stdout",
     "output_type": "stream",
     "text": [
      "[('Friday', 0.9059168100357056), ('Wednesday', 0.9003214240074158), ('Monday', 0.8943390846252441), ('Sunday', 0.8794779777526855), ('Tuesday', 0.8593041896820068), ('Thursday', 0.8391276001930237), ('November', 0.7774156928062439)]\n",
      "[('fun', 0.7162140607833862), ('opportunity', 0.7057722210884094), ('ability', 0.7052724361419678)]\n",
      "[('person', 0.810829758644104), ('patient', 0.7919821739196777), ('woman', 0.7917277812957764)]\n",
      "[('plus', 0.5191760659217834), ('historical', 0.4734072983264923), ('concerning', 0.466562956571579)]\n"
     ]
    }
   ],
   "source": [
    "vecs = w2v_win2.wv\n",
    "print(vecs.similar_by_word(\"Saturday\")[:7])\n",
    "print(vecs.similar_by_word(\"money\")[:3])\n",
    "print(vecs.similar_by_word(\"child\")[:3])\n",
    "print(vecs.similar_by_word(\"of\")[:3])"
   ]
  },
  {
   "cell_type": "code",
   "execution_count": 14,
   "id": "4da26b96-ebc1-4a15-ab31-6914f484a682",
   "metadata": {},
   "outputs": [
    {
     "name": "stdout",
     "output_type": "stream",
     "text": [
      "[('13', 0.8990644216537476), ('21', 0.8850885033607483), ('11', 0.8766713738441467), ('17', 0.8641999363899231), ('31', 0.8622169494628906), ('22', 0.8568882942199707), ('September', 0.8564836382865906), ('9', 0.8564708828926086), ('24', 0.8557211756706238), ('16', 0.8555043339729309)]\n"
     ]
    }
   ],
   "source": [
    "print(vecs.most_similar(positive=['12', '8'], negative=['5']))"
   ]
  },
  {
   "cell_type": "code",
   "execution_count": 58,
   "id": "ac9847f0-baa3-4723-a3a5-9fb14b992898",
   "metadata": {},
   "outputs": [],
   "source": [
    "model_gigaword = api.load(\"glove-wiki-gigaword-100\")"
   ]
  },
  {
   "cell_type": "code",
   "execution_count": 59,
   "id": "c763f0e1-9fdd-459b-b0d1-4004d2b13376",
   "metadata": {},
   "outputs": [
    {
     "name": "stdout",
     "output_type": "stream",
     "text": [
      "the [-0.038194 -0.24487   0.72812  -0.39961   0.083172  0.043953 -0.39141\n",
      "  0.3344   -0.57545   0.087459  0.28787  -0.06731   0.30906  -0.26384\n",
      " -0.13231  -0.20757   0.33395  -0.33848  -0.31743  -0.48336   0.1464\n",
      " -0.37304   0.34577   0.052041  0.44946  -0.46971   0.02628  -0.54155\n",
      " -0.15518  -0.14107  -0.039722  0.28277   0.14393   0.23464  -0.31021\n",
      "  0.086173  0.20397   0.52624   0.17164  -0.082378 -0.71787  -0.41531\n",
      "  0.20335  -0.12763   0.41367   0.55187   0.57908  -0.33477  -0.36559\n",
      " -0.54857  -0.062892  0.26584   0.30205   0.99775  -0.80481  -3.0243\n",
      "  0.01254  -0.36942   2.2167    0.72201  -0.24978   0.92136   0.034514\n",
      "  0.46745   1.1079   -0.19358  -0.074575  0.23353  -0.052062 -0.22044\n",
      "  0.057162 -0.15806  -0.30798  -0.41625   0.37972   0.15006  -0.53212\n",
      " -0.2055   -1.2526    0.071624  0.70565   0.49744  -0.42063   0.26148\n",
      " -1.538    -0.30223  -0.073438 -0.28312   0.37104  -0.25217   0.016215\n",
      " -0.017099 -0.38984   0.87424  -0.72569  -0.51058  -0.52028  -0.1459\n",
      "  0.8278    0.27062 ]\n",
      ", [-0.10767    0.11053    0.59812   -0.54361    0.67396    0.10663\n",
      "  0.038867   0.35481    0.06351   -0.094189   0.15786   -0.81665\n",
      "  0.14172    0.21939    0.58505   -0.52158    0.22783   -0.16642\n",
      " -0.68228    0.3587     0.42568    0.19021    0.91963    0.57555\n",
      "  0.46185    0.42363   -0.095399  -0.42749   -0.16567   -0.056842\n",
      " -0.29595    0.26037   -0.26606   -0.070404  -0.27662    0.15821\n",
      "  0.69825    0.43081    0.27952   -0.45437   -0.33801   -0.58184\n",
      "  0.22364   -0.5778    -0.26862   -0.20425    0.56394   -0.58524\n",
      " -0.14365   -0.64218    0.0054697 -0.35248    0.16162    1.1796\n",
      " -0.47674   -2.7553    -0.1321    -0.047729   1.0655     1.1034\n",
      " -0.2208     0.18669    0.13177    0.15117    0.7131    -0.35215\n",
      "  0.91348    0.61783    0.70992    0.23955   -0.14571   -0.37859\n",
      " -0.045959  -0.47368    0.2385     0.20536   -0.18996    0.32507\n",
      " -1.1112    -0.36341    0.98679   -0.084776  -0.54008    0.11726\n",
      " -1.0194    -0.24424    0.12771    0.013884   0.080374  -0.35414\n",
      "  0.34951   -0.7226     0.37549    0.4441    -0.99059    0.61214\n",
      " -0.35111   -0.83155    0.45293    0.082577 ]\n",
      ". [-0.33979    0.20941    0.46348   -0.64792   -0.38377    0.038034\n",
      "  0.17127    0.15978    0.46619   -0.019169   0.41479   -0.34349\n",
      "  0.26872    0.04464    0.42131   -0.41032    0.15459    0.022239\n",
      " -0.64653    0.25256    0.043136  -0.19445    0.46516    0.45651\n",
      "  0.68588    0.091295   0.21875   -0.70351    0.16785   -0.35079\n",
      " -0.12634    0.66384   -0.2582     0.036542  -0.13605    0.40253\n",
      "  0.14289    0.38132   -0.12283   -0.45886   -0.25282   -0.30432\n",
      " -0.11215   -0.26182   -0.22482   -0.44554    0.2991    -0.85612\n",
      " -0.14503   -0.49086    0.0082973 -0.17491    0.27524    1.4401\n",
      " -0.21239   -2.8435    -0.27958   -0.45722    1.6386     0.78808\n",
      " -0.55262    0.65       0.086426   0.39012    1.0632    -0.35379\n",
      "  0.48328    0.346      0.84174    0.098707  -0.24213   -0.27053\n",
      "  0.045287  -0.40147    0.11395    0.0062226  0.036673   0.018518\n",
      " -1.0213    -0.20806    0.64072   -0.068763  -0.58635    0.33476\n",
      " -1.1432    -0.1148    -0.25091   -0.45907   -0.096819  -0.17946\n",
      " -0.063351  -0.67412   -0.068895   0.53604   -0.87773    0.31802\n",
      " -0.39242   -0.23394    0.47298   -0.028803 ]\n",
      "of [-0.1529   -0.24279   0.89837   0.16996   0.53516   0.48784  -0.58826\n",
      " -0.17982  -1.3581    0.42541   0.15377   0.24215   0.13474   0.41193\n",
      "  0.67043  -0.56418   0.42985  -0.012183 -0.11677   0.31781   0.054177\n",
      " -0.054273  0.35516  -0.30241   0.31434  -0.33846   0.71715  -0.26855\n",
      " -0.15837  -0.47467   0.051581 -0.33252   0.15003  -0.1299   -0.54617\n",
      " -0.37843   0.64261   0.82187  -0.080006  0.078479 -0.96976  -0.57741\n",
      "  0.56491  -0.39873  -0.057099  0.19743   0.065706 -0.48092  -0.20125\n",
      " -0.40834   0.39456  -0.02642  -0.11838   1.012    -0.53171  -2.7474\n",
      " -0.042981 -0.74849   1.7574    0.59085   0.04885   0.78267   0.38497\n",
      "  0.42097   0.67882   0.10337   0.6328   -0.026595  0.58647  -0.44332\n",
      "  0.33057  -0.12022  -0.55645   0.073611  0.20915   0.43395  -0.012761\n",
      "  0.089874 -1.7991    0.084808  0.77112   0.63105  -0.90685   0.60326\n",
      " -1.7515    0.18596  -0.50687  -0.70203   0.66578  -0.81304   0.18712\n",
      " -0.018488 -0.26757   0.727    -0.59363  -0.34839  -0.56094  -0.591\n",
      "  1.0039    0.20664 ]\n",
      "to [-1.8970e-01  5.0024e-02  1.9084e-01 -4.9184e-02 -8.9737e-02  2.1006e-01\n",
      " -5.4952e-01  9.8377e-02 -2.0135e-01  3.4241e-01 -9.2677e-02  1.6100e-01\n",
      " -1.3268e-01 -2.8160e-01  1.8737e-01 -4.2959e-01  9.6039e-01  1.3972e-01\n",
      " -1.0781e+00  4.0518e-01  5.0539e-01 -5.5064e-01  4.8440e-01  3.8044e-01\n",
      " -2.9055e-03 -3.4942e-01 -9.9696e-02 -7.8368e-01  1.0363e+00 -2.3140e-01\n",
      " -4.7121e-01  5.7126e-01 -2.1454e-01  3.5958e-01 -4.8319e-01  1.0875e+00\n",
      "  2.8524e-01  1.2447e-01 -3.9248e-02 -7.6732e-02 -7.6343e-01 -3.2409e-01\n",
      " -5.7490e-01 -1.0893e+00 -4.1811e-01  4.5120e-01  1.2112e-01 -5.1367e-01\n",
      " -1.3349e-01 -1.1378e+00 -2.8768e-01  1.6774e-01  5.5804e-01  1.5387e+00\n",
      "  1.8859e-02 -2.9721e+00 -2.4216e-01 -9.2495e-01  2.1992e+00  2.8234e-01\n",
      " -3.4780e-01  5.1621e-01 -4.3387e-01  3.6852e-01  7.4573e-01  7.2102e-02\n",
      "  2.7931e-01  9.2569e-01 -5.0336e-02 -8.5856e-01 -1.3580e-01 -9.2551e-01\n",
      " -3.3991e-01 -1.0394e+00 -6.7203e-02 -2.1379e-01 -4.7690e-01  2.1377e-01\n",
      " -8.4008e-01  5.2536e-02  5.9298e-01  2.9604e-01 -6.7644e-01  1.3916e-01\n",
      " -1.5504e+00 -2.0765e-01  7.2220e-01  5.2056e-01 -7.6221e-02 -1.5194e-01\n",
      " -1.3134e-01  5.8617e-02 -3.1869e-01 -6.1419e-01 -6.2393e-01 -4.1548e-01\n",
      " -3.8175e-02 -3.9804e-01  4.7647e-01 -1.5983e-01]\n",
      "and [-0.071953  0.23127   0.023731 -0.50638   0.33923   0.1959   -0.32943\n",
      "  0.18364  -0.18057   0.28963   0.20448  -0.5496    0.27399   0.58327\n",
      "  0.20468  -0.49228   0.19974  -0.070237 -0.88049   0.29485   0.14071\n",
      " -0.1009    0.99449   0.36973   0.44554   0.28998  -0.1376   -0.56365\n",
      " -0.029365 -0.4122   -0.25269   0.63181  -0.44767   0.24363  -0.10813\n",
      "  0.25164   0.46967   0.3755   -0.23613  -0.14129  -0.44537  -0.65737\n",
      " -0.042421 -0.28636  -0.28811   0.063766  0.20281  -0.53542   0.41307\n",
      " -0.59722  -0.38614   0.19389  -0.17809   1.6618   -0.011819 -2.3737\n",
      "  0.058427 -0.2698    1.2823    0.81925  -0.22322   0.72932  -0.053211\n",
      "  0.43507   0.85011  -0.42935   0.92664   0.39051   1.0585   -0.24561\n",
      " -0.18265  -0.5328    0.059518 -0.66019   0.18991   0.28836  -0.2434\n",
      "  0.52784  -0.65762  -0.14081   1.0491    0.5134   -0.23816   0.69895\n",
      " -1.4813   -0.2487   -0.17936  -0.059137 -0.08056  -0.48782   0.014487\n",
      " -0.6259   -0.32367   0.41862  -1.0807    0.46742  -0.49931  -0.71895\n",
      "  0.86894   0.19539 ]\n",
      "in [ 0.085703 -0.22201   0.16569   0.13373   0.38239   0.35401   0.01287\n",
      "  0.22461  -0.43817   0.50164  -0.35874  -0.34983   0.055156  0.69648\n",
      " -0.17958   0.067926  0.39101   0.16039  -0.26635  -0.21138   0.53698\n",
      "  0.49379   0.9366    0.66902   0.21793  -0.46642   0.22383  -0.36204\n",
      " -0.17656   0.1748   -0.20367   0.13931   0.019832 -0.10413  -0.20244\n",
      "  0.55003  -0.1546    0.98655  -0.26863  -0.2909   -0.32866  -0.34188\n",
      " -0.16943  -0.42001  -0.046727 -0.16327   0.70824  -0.74911  -0.091559\n",
      " -0.96178  -0.19747   0.10282   0.55221   1.3816   -0.65636  -3.2502\n",
      " -0.31556  -1.2055    1.7709    0.4026   -0.79827   1.1597   -0.33042\n",
      "  0.31382   0.77386   0.22595   0.52471  -0.034053  0.32048   0.079948\n",
      "  0.17752  -0.49426  -0.70045  -0.44569   0.17244   0.20278   0.023292\n",
      " -0.20677  -1.0158    0.18325   0.56752   0.31821  -0.65011   0.68277\n",
      " -0.86585  -0.059392 -0.29264  -0.55668  -0.34705  -0.32895   0.40215\n",
      " -0.12746  -0.20228   0.87368  -0.545     0.79205  -0.20695  -0.074273\n",
      "  0.75808  -0.34243 ]\n",
      "a [-0.27086    0.044006  -0.02026   -0.17395    0.6444     0.71213\n",
      "  0.3551     0.47138   -0.29637    0.54427   -0.72294   -0.0047612\n",
      "  0.040611   0.043236   0.29729    0.10725    0.40156   -0.53662\n",
      "  0.033382   0.067396   0.64556   -0.085523   0.14103    0.094539\n",
      "  0.74947   -0.194     -0.68739   -0.41741   -0.22807    0.12\n",
      " -0.48999    0.80945    0.045138  -0.11898    0.20161    0.39276\n",
      " -0.20121    0.31354    0.75304    0.25907   -0.11566   -0.029319\n",
      "  0.93499   -0.36067    0.5242     0.23706    0.52715    0.22869\n",
      " -0.51958   -0.79349   -0.20368   -0.50187    0.18748    0.94282\n",
      " -0.44834   -3.6792     0.044183  -0.26751    2.1997     0.241\n",
      " -0.033425   0.69553   -0.64472   -0.0072277  0.89575    0.20015\n",
      "  0.46493    0.61933   -0.1066     0.08691   -0.4623     0.18262\n",
      " -0.15849    0.020791   0.19373    0.063426  -0.31673   -0.48177\n",
      " -1.3848     0.13669    0.96859    0.049965  -0.2738    -0.035686\n",
      " -1.0577    -0.24467    0.90366   -0.12442    0.080776  -0.83401\n",
      "  0.57201    0.088945  -0.42532   -0.018253  -0.079995  -0.28581\n",
      " -0.01089   -0.4923     0.63687    0.23642  ]\n",
      "\" [-0.30457   -0.23645    0.17576   -0.72854   -0.28343   -0.2564\n",
      "  0.26587    0.025309  -0.074775  -0.3766    -0.057774   0.12159\n",
      "  0.34384    0.41928   -0.23236   -0.31547    0.60939    0.25117\n",
      " -0.68667    0.70873    1.2162    -0.1824    -0.48442   -0.33445\n",
      "  0.30343    1.086      0.49992   -0.20198    0.27959    0.68352\n",
      " -0.33566   -0.12405    0.059656   0.33617    0.37501    0.56552\n",
      "  0.44867    0.11284   -0.16196   -0.94346   -0.67961    0.18581\n",
      "  0.060653   0.43776    0.13834   -0.48207   -0.56141   -0.25422\n",
      " -0.52445    0.097003  -0.48925    0.19077    0.21481    1.4969\n",
      " -0.86665   -3.2846     0.56854    0.41971    1.2294     0.78522\n",
      " -0.29369    0.63803   -1.5926    -0.20437    1.5306     0.13548\n",
      "  0.50722    0.18742    0.48552   -0.28995    0.19573    0.0046515\n",
      "  0.092879  -0.42444    0.64987    0.52839    0.077908   0.8263\n",
      " -1.2208    -0.34955    0.49855   -0.64155   -0.72308    0.26566\n",
      " -1.3643    -0.46364   -0.52048   -1.0525     0.22895   -0.3456\n",
      " -0.658     -0.16735    0.35158    0.74337    0.26074    0.061104\n",
      " -0.39079   -0.84557   -0.035432   0.17036  ]\n",
      "'s [ 0.58854  -0.2025    0.73479  -0.68338  -0.19675  -0.1802   -0.39177\n",
      "  0.34172  -0.60561   0.63816  -0.26695   0.36486  -0.40379  -0.1134\n",
      " -0.58718   0.2838    0.8025   -0.35303   0.30083   0.078935  0.44416\n",
      " -0.45906   0.79294   0.50365   0.32805   0.28027  -0.4933   -0.38482\n",
      " -0.039284 -0.2483   -0.1988    1.1469    0.13228   0.91691  -0.36739\n",
      "  0.89425   0.5426    0.61738  -0.62205  -0.31132  -0.50933   0.23335\n",
      "  1.0826   -0.044637 -0.12767   0.27628  -0.032617 -0.27397   0.77764\n",
      " -0.50861   0.038307 -0.33679   0.42344   1.2271   -0.53826  -3.2411\n",
      "  0.42626   0.025189  1.3948    0.65085   0.03325   0.37141   0.4044\n",
      "  0.35558   0.98265  -0.61724   0.53901   0.76219   0.30689   0.33065\n",
      "  0.30956  -0.15161  -0.11313  -0.81281   0.6145   -0.44341  -0.19163\n",
      " -0.089551 -1.5927    0.37405   0.85857   0.54613  -0.31928   0.52598\n",
      " -1.4802   -0.97931  -0.2939   -0.14724   0.25803  -0.1817    1.0149\n",
      "  0.77649   0.12598   0.54779  -1.0316    0.064599 -0.37523  -0.94475\n",
      "  0.61802   0.39591 ]\n",
      "for [-1.4401e-01  3.2554e-01  1.4257e-01 -9.9227e-02  7.2536e-01  1.9321e-01\n",
      " -2.4188e-01  2.0223e-01 -8.9599e-01  1.5215e-01  3.5963e-02 -5.9513e-01\n",
      " -5.1635e-02 -1.4428e-02  3.5475e-01 -3.1859e-01  7.6984e-01 -8.7369e-02\n",
      " -2.4762e-01  6.5059e-01 -1.5138e-01 -4.2703e-01  1.8813e-01  9.1562e-02\n",
      "  1.5192e-01  1.1303e-01 -1.5222e-01 -6.2786e-01 -2.3923e-01  9.6009e-02\n",
      " -4.6147e-01  4.1526e-01 -3.0475e-01  1.3710e-01  1.6758e-01  5.3301e-01\n",
      " -4.3658e-02  8.5924e-01 -4.1192e-01 -2.1394e-01 -5.1228e-01 -3.1945e-01\n",
      "  1.2662e-01 -3.1510e-01  3.1429e-03  2.7129e-01  1.7328e-01 -1.3159e+00\n",
      " -4.2414e-01 -6.9126e-01  1.9017e-02 -1.3375e-01 -9.6057e-02  1.7069e+00\n",
      " -6.5291e-01 -2.6111e+00  2.6518e-01 -6.1178e-01  2.0950e+00  3.8148e-01\n",
      " -5.5823e-01  2.0360e-01 -3.3704e-01  3.7354e-01  6.9510e-01 -1.6370e-03\n",
      "  8.1885e-01  5.1793e-01  2.7746e-01 -3.7177e-01 -4.3345e-01 -4.2732e-01\n",
      " -5.4912e-01 -3.0715e-01  1.8101e-01  2.7090e-01 -2.9266e-01  3.0834e-01\n",
      " -1.4624e+00 -1.8999e-01  9.2277e-01 -9.9217e-02 -2.5165e-01  4.9197e-01\n",
      " -1.5250e+00  1.5326e-01  2.8270e-01  1.2102e-01 -3.6766e-01 -6.1275e-01\n",
      " -1.8884e-01  1.0907e-01  1.2315e-01  9.0066e-02 -6.5447e-01 -1.7252e-01\n",
      "  2.6336e-05  2.5398e-01  1.1078e+00 -7.3074e-02]\n"
     ]
    }
   ],
   "source": [
    "for i, key in enumerate(model_gigaword.index_to_key):\n",
    "    if i > 10:\n",
    "        break\n",
    "    print(key, model_gigaword[key])"
   ]
  },
  {
   "cell_type": "code",
   "execution_count": 60,
   "id": "6ad99168-c54b-4c96-9ecf-ae3300087118",
   "metadata": {},
   "outputs": [
    {
     "name": "stdout",
     "output_type": "stream",
     "text": [
      "australia [-0.51162    0.30543    0.90287   -0.2359     0.054233  -0.46955\n",
      " -0.58622    0.92663   -1.3481    -0.56388    0.16413   -0.2485\n",
      " -0.37083    0.68697   -0.010261  -0.36701    0.60389    0.26097\n",
      " -0.82303    0.3169     1.0727     0.26557    1.2684     0.40778\n",
      "  0.59175    0.10629    1.046     -0.041425   0.21911    0.34432\n",
      " -0.93871    0.92486   -0.10104   -0.0258     0.62055   -0.2259\n",
      " -0.61513    0.076517  -1.3253    -0.47917   -1.536     -0.29047\n",
      "  0.66274   -0.0037029  0.95209    0.35437    0.7889    -0.041788\n",
      "  0.58202   -1.0529     0.087392   0.68862    0.11947    0.70129\n",
      " -0.25365   -2.2167    -0.80783   -0.75544    0.98496    0.15103\n",
      " -0.087487  -0.36205   -0.14925    0.24151    0.62069    0.38488\n",
      " -0.43094    0.68631    0.8661    -0.21534   -0.064854   0.52811\n",
      " -0.67989    0.074314   0.35535   -0.10512    0.27233   -0.15258\n",
      " -0.53039    0.11699    0.47877   -0.016485   0.41161    0.31436\n",
      " -0.2386    -0.79124   -0.28234    0.28075   -0.22179    0.60348\n",
      " -0.028632  -0.24666    0.39547   -0.33843   -0.29146    0.88358\n",
      " -0.48335    0.14927    0.17651   -0.015727 ]\n"
     ]
    }
   ],
   "source": [
    "def print_wvec(k):\n",
    "    print(k, model_gigaword[k])\n",
    "\n",
    "print_wvec(\"australia\")"
   ]
  },
  {
   "cell_type": "code",
   "execution_count": 98,
   "id": "30b61652-2ad0-47bc-96c5-7e767c7bc2ff",
   "metadata": {},
   "outputs": [],
   "source": [
    "from sklearn.metrics.pairwise import cosine_similarity\n",
    "\n",
    "def diff_wvec(a, b, c, d):\n",
    "    c_vec = model_gigaword[c]\n",
    "    diff_vec = model_gigaword[a] - model_gigaword[b] + model_gigaword[d]\n",
    "    return cosine_similarity(diff_vec.reshape(1, -1), c_vec.reshape(1, -1))[0][0]"
   ]
  },
  {
   "cell_type": "code",
   "execution_count": 101,
   "id": "bb65693a-10a3-42c0-8eca-78d1be93becf",
   "metadata": {},
   "outputs": [
    {
     "name": "stdout",
     "output_type": "stream",
     "text": [
      "iraq-baghdad 0.80485666\n",
      "iraq-mosul 0.6276542\n"
     ]
    }
   ],
   "source": [
    "print('iraq-baghdad', diff_wvec('paris', 'france', 'baghdad', 'iraq'))\n",
    "print('iraq-mosul', diff_wvec('paris', 'france', 'baghdad', 'mosul'))"
   ]
  },
  {
   "cell_type": "code",
   "execution_count": 102,
   "id": "363cec22-fa35-44c1-912c-a951e65c8d20",
   "metadata": {},
   "outputs": [
    {
     "name": "stdout",
     "output_type": "stream",
     "text": [
      "aus-sydney 0.8201804\n",
      "aus-canberra 0.63979816\n"
     ]
    }
   ],
   "source": [
    "print('aus-sydney', diff_wvec('paris', 'france', 'sydney', 'australia'))\n",
    "print('aus-canberra', diff_wvec('paris', 'france', 'canberra', 'australia'))"
   ]
  },
  {
   "cell_type": "code",
   "execution_count": 37,
   "id": "f9f1deed-79ea-4ed6-9cc5-8f0b903c1eb0",
   "metadata": {},
   "outputs": [
    {
     "data": {
      "text/plain": [
       "[('woman', 0.6998662352561951),\n",
       " ('person', 0.6443442106246948),\n",
       " ('boy', 0.620827853679657),\n",
       " ('he', 0.5926738977432251),\n",
       " ('men', 0.5819568634033203),\n",
       " ('himself', 0.5810033082962036),\n",
       " ('one', 0.5779522061347961),\n",
       " ('another', 0.5721587538719177),\n",
       " ('who', 0.5703631639480591),\n",
       " ('him', 0.5670831203460693)]"
      ]
     },
     "execution_count": 37,
     "metadata": {},
     "output_type": "execute_result"
    }
   ],
   "source": [
    "model_gigaword.most_similar(\"man\", topn=10)"
   ]
  },
  {
   "cell_type": "code",
   "execution_count": 17,
   "id": "43d6e2c8-a29d-49fa-975e-1dd2bc801d85",
   "metadata": {},
   "outputs": [
    {
     "name": "stdout",
     "output_type": "stream",
     "text": [
      "[('queen', 0.7698541283607483), ('monarch', 0.6843380331993103), ('throne', 0.6755736470222473), ('daughter', 0.6594556570053101), ('princess', 0.6520534157752991), ('prince', 0.6517034769058228), ('elizabeth', 0.6464518308639526), ('mother', 0.631171703338623), ('emperor', 0.6106470823287964), ('wife', 0.6098655462265015)]\n"
     ]
    }
   ],
   "source": [
    "print(model_gigaword.most_similar(positive=['king', 'woman'], negative=['man']))"
   ]
  },
  {
   "cell_type": "code",
   "execution_count": 18,
   "id": "9394c304-f1e1-4ae7-881f-e5b4274bb13f",
   "metadata": {},
   "outputs": [
    {
     "name": "stdout",
     "output_type": "stream",
     "text": [
      "[('16', 0.9776545763015747), ('14', 0.9762073755264282), ('13', 0.9723331332206726), ('17', 0.9680772423744202), ('19', 0.9613232016563416), ('22', 0.9609626531600952), ('15', 0.9585664868354797), ('21', 0.9549593925476074), ('11', 0.9540944695472717), ('23', 0.9537526965141296)]\n"
     ]
    }
   ],
   "source": [
    "print(model_gigaword.most_similar(positive=['12', '8'], negative=['5']))"
   ]
  },
  {
   "cell_type": "markdown",
   "id": "865649c6-aafc-4bad-ba00-42dba71aa1f8",
   "metadata": {},
   "source": [
    "## End"
   ]
  },
  {
   "cell_type": "code",
   "execution_count": 19,
   "id": "b844dce7-733e-486e-9842-323668999492",
   "metadata": {},
   "outputs": [
    {
     "data": {
      "text/html": [
       "<style>\n",
       "    @font-face {\n",
       "        font-family: \"Computer Modern\";\n",
       "        src: url('http://9dbb143991406a7c655e-aa5fcb0a5a4ec34cff238a2d56ca4144.r56.cf5.rackcdn.com/cmunss.otf');\n",
       "    }\n",
       "    @font-face {\n",
       "        font-family: \"Computer Modern\";\n",
       "        font-weight: bold;\n",
       "        src: url('http://9dbb143991406a7c655e-aa5fcb0a5a4ec34cff238a2d56ca4144.r56.cf5.rackcdn.com/cmunsx.otf');\n",
       "    }\n",
       "    @font-face {\n",
       "        font-family: \"Computer Modern\";\n",
       "        font-style: oblique;\n",
       "        src: url('http://9dbb143991406a7c655e-aa5fcb0a5a4ec34cff238a2d56ca4144.r56.cf5.rackcdn.com/cmunsi.otf');\n",
       "    }\n",
       "    @font-face {\n",
       "        font-family: \"Computer Modern\";\n",
       "        font-weight: bold;\n",
       "        font-style: oblique;\n",
       "        src: url('http://9dbb143991406a7c655e-aa5fcb0a5a4ec34cff238a2d56ca4144.r56.cf5.rackcdn.com/cmunso.otf');\n",
       "    }\n",
       "    div.cell{\n",
       "        width:800px;\n",
       "        font-size: 110%;\n",
       "        margin-left:5% !important;\n",
       "        margin-right:auto;\n",
       "    }\n",
       "    h1 {\n",
       "        font-family: Helvetica, serif;\n",
       "    }\n",
       "    h4{\n",
       "        margin-top:12px;\n",
       "        margin-bottom: 3px;\n",
       "       }\n",
       "    div.text_cell_render{\n",
       "        font-family: Computer Modern, \"Helvetica Neue\", Arial, Helvetica, Geneva, sans-serif;\n",
       "        line-height: 145%;\n",
       "        font-size: 110%;\n",
       "        width:800px;\n",
       "        margin-left:auto;\n",
       "        margin-right:auto;\n",
       "    }\n",
       "    .CodeMirror{\n",
       "            font-family: \"Source Code Pro\", source-code-pro,Consolas, monospace;\n",
       "            font-size: 110%;\n",
       "    }\n",
       "    .prompt{\n",
       "        display: None;\n",
       "    }\n",
       "    .text_cell_render h5 {\n",
       "        font-weight: 300;\n",
       "        font-size: 22pt;\n",
       "        color: #4057A1;\n",
       "        font-style: italic;\n",
       "        margin-bottom: .5em;\n",
       "        margin-top: 0.5em;\n",
       "        display: block;\n",
       "    }\n",
       "    \n",
       "    .warning{\n",
       "        color: rgb( 240, 20, 20 )\n",
       "        }  \n",
       "\n",
       "</style>\n",
       "<script>\n",
       "    MathJax.Hub.Config({\n",
       "                        TeX: {\n",
       "                           extensions: [\"AMSmath.js\"]\n",
       "                           },\n",
       "                tex2jax: {\n",
       "                    inlineMath: [ ['$','$'], [\"\\\\(\",\"\\\\)\"] ],\n",
       "                    displayMath: [ ['$$','$$'], [\"\\\\[\",\"\\\\]\"] ]\n",
       "                },\n",
       "                displayAlign: 'center', // Change this to 'center' to center equations.\n",
       "                \"HTML-CSS\": {\n",
       "                    styles: {'.MathJax_Display': {\"margin\": 4}}\n",
       "                }\n",
       "        });\n",
       "</script>\n"
      ],
      "text/plain": [
       "<IPython.core.display.HTML object>"
      ]
     },
     "execution_count": 19,
     "metadata": {},
     "output_type": "execute_result"
    }
   ],
   "source": [
    "from IPython.core.display import HTML\n",
    "\n",
    "\n",
    "def css_styling():\n",
    "    styles = open(\"../css/notebook.css\", \"r\").read()\n",
    "    return HTML(styles)\n",
    "css_styling()"
   ]
  }
 ],
 "metadata": {
  "kernelspec": {
   "display_name": "Python 3 (ipykernel)",
   "language": "python",
   "name": "python3"
  },
  "language_info": {
   "codemirror_mode": {
    "name": "ipython",
    "version": 3
   },
   "file_extension": ".py",
   "mimetype": "text/x-python",
   "name": "python",
   "nbconvert_exporter": "python",
   "pygments_lexer": "ipython3",
   "version": "3.12.5"
  }
 },
 "nbformat": 4,
 "nbformat_minor": 5
}
